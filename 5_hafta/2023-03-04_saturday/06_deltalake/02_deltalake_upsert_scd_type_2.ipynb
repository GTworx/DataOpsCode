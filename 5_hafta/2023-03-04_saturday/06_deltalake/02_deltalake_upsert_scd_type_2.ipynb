{
 "cells": [
  {
   "cell_type": "code",
   "execution_count": 1,
   "metadata": {},
   "outputs": [],
   "source": [
    "# https://mungingdata.com/delta-lake/type-2-scd-upserts/"
   ]
  },
  {
   "cell_type": "code",
   "execution_count": 2,
   "metadata": {},
   "outputs": [],
   "source": [
    "import pandas as pd"
   ]
  },
  {
   "cell_type": "code",
   "execution_count": 3,
   "metadata": {},
   "outputs": [],
   "source": [
    "import findspark\n",
    "findspark.init(\"/opt/manual/spark\")"
   ]
  },
  {
   "cell_type": "code",
   "execution_count": 4,
   "metadata": {},
   "outputs": [],
   "source": [
    "from pyspark.sql import SparkSession, functions as F"
   ]
  },
  {
   "cell_type": "code",
   "execution_count": 5,
   "metadata": {},
   "outputs": [],
   "source": [
    "# If you are running Spark 2.4, you have to use Delta Lake 0.6.0.\n",
    "spark = (SparkSession.builder\n",
    "         .appName(\"Delta Lake SCD Type2\")\n",
    "         .master(\"yarn\")\n",
    "         .config(\"spark.sql.shuffle.partition\", 4)\n",
    "         .config(\"spark.jars.packages\", \"io.delta:delta-core_2.12:1.0.0\")\n",
    "         .config(\"spark.sql.extensions\", \"io.delta.sql.DeltaSparkSessionExtension\")\n",
    "         .config(\"spark.sql.catalog.spark_catalog\", \"org.apache.spark.sql.delta.catalog.DeltaCatalog\")\n",
    "         .getOrCreate())"
   ]
  },
  {
   "cell_type": "code",
   "execution_count": 6,
   "metadata": {},
   "outputs": [],
   "source": [
    "# You must import delta libs after SparkSession created\n",
    "\n",
    "from delta.tables import *"
   ]
  },
  {
   "cell_type": "markdown",
   "metadata": {},
   "source": [
    "## Create a spark dataframe"
   ]
  },
  {
   "cell_type": "code",
   "execution_count": 7,
   "metadata": {},
   "outputs": [],
   "source": [
    "customers = spark.createDataFrame([(10001504, \"Hasan Şahintepesi\", \"Çankırı\", \"Eldivan\", True, \"1992-09-01\", None),\n",
    "                                    (10001505, \"Tuncay Çadırcı\", \"Ankara\", \"Keçiören\", True, \"1992-10-12\", None),\n",
    "                                  (10001506, \"Melahat Bakır\", \"İstanbul\", \"Beykoz\", True, \"1992-08-26\", None),\n",
    "                                   (10001526, \"Sultan Balcı\", \"Muğla\", \"Bodrum\", True, \"1992-09-26\", None),\n",
    "                                  (10001530, \"Dudu Karagölet\", \"Yozgat\", \"Sorgun\", False, \"1992-08-11\", \"1993-08-25\"),\n",
    "                                  (10001518, \"Burcu Vataneri\", \"Kırşehir\", \"Mucur\", False, \"1992-08-22\", \"1993-06-21\")],\n",
    "                                   [\"Id\", \"personName\", \"state\", \"province\", \"still_here\", \"join_date\", \"leave_date\"])"
   ]
  },
  {
   "cell_type": "code",
   "execution_count": 8,
   "metadata": {
    "scrolled": true
   },
   "outputs": [
    {
     "name": "stdout",
     "output_type": "stream",
     "text": [
      "+--------+-----------------+--------+--------+----------+----------+----------+\n",
      "|      Id|       personName|   state|province|still_here| join_date|leave_date|\n",
      "+--------+-----------------+--------+--------+----------+----------+----------+\n",
      "|10001504|Hasan Şahintepesi| Çankırı| Eldivan|      true|1992-09-01|      null|\n",
      "|10001505|   Tuncay Çadırcı|  Ankara|Keçiören|      true|1992-10-12|      null|\n",
      "|10001506|    Melahat Bakır|İstanbul|  Beykoz|      true|1992-08-26|      null|\n",
      "|10001526|     Sultan Balcı|   Muğla|  Bodrum|      true|1992-09-26|      null|\n",
      "|10001530|   Dudu Karagölet|  Yozgat|  Sorgun|     false|1992-08-11|1993-08-25|\n",
      "|10001518|   Burcu Vataneri|Kırşehir|   Mucur|     false|1992-08-22|1993-06-21|\n",
      "+--------+-----------------+--------+--------+----------+----------+----------+\n",
      "\n"
     ]
    }
   ],
   "source": [
    "customers.show()"
   ]
  },
  {
   "cell_type": "markdown",
   "metadata": {},
   "source": [
    "## Write to deltalake"
   ]
  },
  {
   "cell_type": "code",
   "execution_count": 9,
   "metadata": {},
   "outputs": [],
   "source": [
    "deltaPath = \"hdfs://localhost:9000/user/train/sc2_delta\""
   ]
  },
  {
   "cell_type": "code",
   "execution_count": 10,
   "metadata": {},
   "outputs": [],
   "source": [
    "customers.write \\\n",
    ".mode(\"overwrite\") \\\n",
    ".format(\"delta\") \\\n",
    ".save(deltaPath)"
   ]
  },
  {
   "cell_type": "code",
   "execution_count": 11,
   "metadata": {},
   "outputs": [
    {
     "name": "stdout",
     "output_type": "stream",
     "text": [
      "Found 3 items\r\n",
      "drwxr-xr-x   - train supergroup          0 2022-01-08 14:09 /user/train/sc2_delta/_delta_log\r\n",
      "-rw-r--r--   1 train supergroup       1877 2022-01-08 14:09 /user/train/sc2_delta/part-00000-0718c752-27f5-483d-b87f-24847019d815-c000.snappy.parquet\r\n",
      "-rw-r--r--   1 train supergroup       1911 2022-01-08 14:09 /user/train/sc2_delta/part-00001-6b510b26-bf26-4219-90e1-2ba2975ed5e4-c000.snappy.parquet\r\n"
     ]
    }
   ],
   "source": [
    "! hdfs dfs -ls /user/train/sc2_delta"
   ]
  },
  {
   "cell_type": "code",
   "execution_count": 12,
   "metadata": {},
   "outputs": [
    {
     "name": "stdout",
     "output_type": "stream",
     "text": [
      "Found 1 items\r\n",
      "-rw-r--r--   1 train supergroup       1394 2022-01-08 14:09 /user/train/sc2_delta/_delta_log/00000000000000000000.json\r\n"
     ]
    }
   ],
   "source": [
    "! hdfs dfs -ls /user/train/sc2_delta/_delta_log"
   ]
  },
  {
   "cell_type": "markdown",
   "metadata": {},
   "source": [
    "## Read From Deltalake as DeltaTable"
   ]
  },
  {
   "cell_type": "code",
   "execution_count": 13,
   "metadata": {},
   "outputs": [],
   "source": [
    "customers_delta = DeltaTable.forPath(spark, deltaPath)"
   ]
  },
  {
   "cell_type": "code",
   "execution_count": 14,
   "metadata": {},
   "outputs": [
    {
     "data": {
      "text/plain": [
       "delta.tables.DeltaTable"
      ]
     },
     "execution_count": 14,
     "metadata": {},
     "output_type": "execute_result"
    }
   ],
   "source": [
    "type(customers_delta)"
   ]
  },
  {
   "cell_type": "code",
   "execution_count": 15,
   "metadata": {},
   "outputs": [
    {
     "name": "stdout",
     "output_type": "stream",
     "text": [
      "+--------+-----------------+--------+--------+----------+----------+----------+\n",
      "|      Id|       personName|   state|province|still_here| join_date|leave_date|\n",
      "+--------+-----------------+--------+--------+----------+----------+----------+\n",
      "|10001526|     Sultan Balcı|   Muğla|  Bodrum|      true|1992-09-26|      null|\n",
      "|10001530|   Dudu Karagölet|  Yozgat|  Sorgun|     false|1992-08-11|1993-08-25|\n",
      "|10001518|   Burcu Vataneri|Kırşehir|   Mucur|     false|1992-08-22|1993-06-21|\n",
      "|10001504|Hasan Şahintepesi| Çankırı| Eldivan|      true|1992-09-01|      null|\n",
      "|10001505|   Tuncay Çadırcı|  Ankara|Keçiören|      true|1992-10-12|      null|\n",
      "|10001506|    Melahat Bakır|İstanbul|  Beykoz|      true|1992-08-26|      null|\n",
      "+--------+-----------------+--------+--------+----------+----------+----------+\n",
      "\n"
     ]
    }
   ],
   "source": [
    "customers_delta.toDF().show()"
   ]
  },
  {
   "cell_type": "markdown",
   "metadata": {},
   "source": [
    "## New Customers"
   ]
  },
  {
   "cell_type": "code",
   "execution_count": 16,
   "metadata": {},
   "outputs": [],
   "source": [
    "customers_new = spark.createDataFrame([(10001417, \"Tuncay Kavcı\", \"Kütahya\", \"Merkez\", \"1994-09-01\"),\n",
    "                                       (10001418, \"Tülay İçtiyar\", \"Ankara\", \"Sincan\", \"1994-09-01\"),\n",
    "                                       (10004055, \"Arzu Taksici\", \"Çankırı\", \"Merkez\", \"1994-11-07\"),\n",
    "                                       (10001505, \"Tuncay Çadırcı\", \"İstanbul\", \"Küçükyalı\", \"1995-01-09\"),\n",
    "                                      (10001526, \"Sultan Balcı\", \"İstanbul\", \"Tuzla\", \"1995-01-09\")],\n",
    "                                       [\"Id\", \"personName\", \"state\", \"province\", \"join_date\"])"
   ]
  },
  {
   "cell_type": "code",
   "execution_count": 17,
   "metadata": {},
   "outputs": [
    {
     "name": "stdout",
     "output_type": "stream",
     "text": [
      "+--------+--------------+--------+---------+----------+\n",
      "|      Id|    personName|   state| province| join_date|\n",
      "+--------+--------------+--------+---------+----------+\n",
      "|10001417|  Tuncay Kavcı| Kütahya|   Merkez|1994-09-01|\n",
      "|10001418| Tülay İçtiyar|  Ankara|   Sincan|1994-09-01|\n",
      "|10004055|  Arzu Taksici| Çankırı|   Merkez|1994-11-07|\n",
      "|10001505|Tuncay Çadırcı|İstanbul|Küçükyalı|1995-01-09|\n",
      "|10001526|  Sultan Balcı|İstanbul|    Tuzla|1995-01-09|\n",
      "+--------+--------------+--------+---------+----------+\n",
      "\n"
     ]
    }
   ],
   "source": [
    "customers_new.show()"
   ]
  },
  {
   "cell_type": "markdown",
   "metadata": {},
   "source": [
    "# Adım-1: Yeni Kayıtlarla Boyut Tablosundaki Mevcut Kayıtları Karşılaştırma"
   ]
  },
  {
   "cell_type": "code",
   "execution_count": 18,
   "metadata": {},
   "outputs": [],
   "source": [
    "stagedPart1 = customers_new.alias(\"updates\") \\\n",
    "  .join(customers_delta.toDF().alias(\"customers\"), \"Id\") \\\n",
    "  .where(\"customers.still_here = true AND (updates.state <> customers.state OR updates.province <> customers.province)\") \\\n",
    "  .selectExpr(\"NULL as mergeKey\", \"updates.*\")"
   ]
  },
  {
   "cell_type": "code",
   "execution_count": 19,
   "metadata": {},
   "outputs": [
    {
     "name": "stdout",
     "output_type": "stream",
     "text": [
      "+--------+--------+--------------+--------+---------+----------+\n",
      "|mergeKey|      Id|    personName|   state| province| join_date|\n",
      "+--------+--------+--------------+--------+---------+----------+\n",
      "|    null|10001505|Tuncay Çadırcı|İstanbul|Küçükyalı|1995-01-09|\n",
      "|    null|10001526|  Sultan Balcı|İstanbul|    Tuzla|1995-01-09|\n",
      "+--------+--------+--------------+--------+---------+----------+\n",
      "\n"
     ]
    }
   ],
   "source": [
    "stagedPart1.show()"
   ]
  },
  {
   "cell_type": "markdown",
   "metadata": {},
   "source": [
    "# Adım-2: Mevcut Kayıtlara MergeKey Ekleme"
   ]
  },
  {
   "cell_type": "code",
   "execution_count": 20,
   "metadata": {},
   "outputs": [],
   "source": [
    "stagedPart2 = customers_new.selectExpr(\"Id as merge_key\", *customers_new.columns)"
   ]
  },
  {
   "cell_type": "code",
   "execution_count": 21,
   "metadata": {},
   "outputs": [
    {
     "name": "stdout",
     "output_type": "stream",
     "text": [
      "+---------+--------+--------------+--------+---------+----------+\n",
      "|merge_key|      Id|    personName|   state| province| join_date|\n",
      "+---------+--------+--------------+--------+---------+----------+\n",
      "| 10001417|10001417|  Tuncay Kavcı| Kütahya|   Merkez|1994-09-01|\n",
      "| 10001418|10001418| Tülay İçtiyar|  Ankara|   Sincan|1994-09-01|\n",
      "| 10004055|10004055|  Arzu Taksici| Çankırı|   Merkez|1994-11-07|\n",
      "| 10001505|10001505|Tuncay Çadırcı|İstanbul|Küçükyalı|1995-01-09|\n",
      "| 10001526|10001526|  Sultan Balcı|İstanbul|    Tuzla|1995-01-09|\n",
      "+---------+--------+--------------+--------+---------+----------+\n",
      "\n"
     ]
    }
   ],
   "source": [
    "stagedPart2.show()"
   ]
  },
  {
   "cell_type": "markdown",
   "metadata": {},
   "source": [
    "# Adım-3: Adım-1 ve Adım-2’deki Kayıtların Birbirine Eklenmesi (union)"
   ]
  },
  {
   "cell_type": "code",
   "execution_count": 22,
   "metadata": {},
   "outputs": [
    {
     "name": "stdout",
     "output_type": "stream",
     "text": [
      "+--------+--------+--------------+--------+---------+----------+\n",
      "|mergeKey|      Id|    personName|   state| province| join_date|\n",
      "+--------+--------+--------------+--------+---------+----------+\n",
      "|    null|10001505|Tuncay Çadırcı|İstanbul|Küçükyalı|1995-01-09|\n",
      "|    null|10001526|  Sultan Balcı|İstanbul|    Tuzla|1995-01-09|\n",
      "|10001417|10001417|  Tuncay Kavcı| Kütahya|   Merkez|1994-09-01|\n",
      "|10001418|10001418| Tülay İçtiyar|  Ankara|   Sincan|1994-09-01|\n",
      "|10004055|10004055|  Arzu Taksici| Çankırı|   Merkez|1994-11-07|\n",
      "|10001505|10001505|Tuncay Çadırcı|İstanbul|Küçükyalı|1995-01-09|\n",
      "|10001526|10001526|  Sultan Balcı|İstanbul|    Tuzla|1995-01-09|\n",
      "+--------+--------+--------------+--------+---------+----------+\n",
      "\n"
     ]
    }
   ],
   "source": [
    "stagedUpdates = stagedPart1.union(stagedPart2)\n",
    "stagedUpdates.show()"
   ]
  },
  {
   "cell_type": "code",
   "execution_count": 23,
   "metadata": {},
   "outputs": [
    {
     "data": {
      "text/plain": [
       "pyspark.sql.dataframe.DataFrame"
      ]
     },
     "execution_count": 23,
     "metadata": {},
     "output_type": "execute_result"
    }
   ],
   "source": [
    "type(stagedUpdates)"
   ]
  },
  {
   "cell_type": "markdown",
   "metadata": {},
   "source": [
    "# Adım-4: Boyut Tablosu (DeltaTable) Üzerinde Değişikliklerin İşlenmesim"
   ]
  },
  {
   "cell_type": "code",
   "execution_count": 24,
   "metadata": {},
   "outputs": [],
   "source": [
    "customers_delta \\\n",
    "  .alias(\"customers\") \\\n",
    "  .merge(stagedUpdates.alias(\"staged_updates\"), \"customers.Id = mergeKey\") \\\n",
    "  .whenMatchedUpdate(condition=\"customers.still_here = true AND (staged_updates.state <> customers.state OR staged_updates.province <> customers.province)\", \\\n",
    "  set={\"still_here\": \"false\", \"leave_date\": \"staged_updates.join_date\"}) \\\n",
    "  .whenNotMatchedInsert(values={\n",
    "    \"Id\": \"staged_updates.Id\",\n",
    "    \"personName\": \"staged_updates.personName\",\n",
    "    \"state\": \"staged_updates.state\",\n",
    "    \"province\": \"staged_updates.province\",\n",
    "    \"still_here\": \"true\",\n",
    "    \"join_date\": \"staged_updates.join_date\",\n",
    "    \"leave_date\": \"null\"}) \\\n",
    "  .execute()"
   ]
  },
  {
   "cell_type": "code",
   "execution_count": null,
   "metadata": {},
   "outputs": [],
   "source": []
  },
  {
   "cell_type": "code",
   "execution_count": 25,
   "metadata": {},
   "outputs": [
    {
     "name": "stdout",
     "output_type": "stream",
     "text": [
      "+--------+-----------------+--------+---------+----------+----------+----------+\n",
      "|      Id|       personName|   state| province|still_here| join_date|leave_date|\n",
      "+--------+-----------------+--------+---------+----------+----------+----------+\n",
      "|10001418|    Tülay İçtiyar|  Ankara|   Sincan|      true|1994-09-01|      null|\n",
      "|10001505|   Tuncay Çadırcı|  Ankara| Keçiören|     false|1992-10-12|1995-01-09|\n",
      "|10001505|   Tuncay Çadırcı|İstanbul|Küçükyalı|      true|1995-01-09|      null|\n",
      "|10001417|     Tuncay Kavcı| Kütahya|   Merkez|      true|1994-09-01|      null|\n",
      "|10001526|     Sultan Balcı|İstanbul|    Tuzla|      true|1995-01-09|      null|\n",
      "|10001526|     Sultan Balcı|   Muğla|   Bodrum|     false|1992-09-26|1995-01-09|\n",
      "|10001506|    Melahat Bakır|İstanbul|   Beykoz|      true|1992-08-26|      null|\n",
      "|10001504|Hasan Şahintepesi| Çankırı|  Eldivan|      true|1992-09-01|      null|\n",
      "|10001530|   Dudu Karagölet|  Yozgat|   Sorgun|     false|1992-08-11|1993-08-25|\n",
      "|10001518|   Burcu Vataneri|Kırşehir|    Mucur|     false|1992-08-22|1993-06-21|\n",
      "|10004055|     Arzu Taksici| Çankırı|   Merkez|      true|1994-11-07|      null|\n",
      "+--------+-----------------+--------+---------+----------+----------+----------+\n",
      "\n"
     ]
    }
   ],
   "source": [
    "customers_delta.toDF().orderBy(F.desc(\"personName\")).show()"
   ]
  },
  {
   "cell_type": "code",
   "execution_count": 26,
   "metadata": {},
   "outputs": [],
   "source": [
    "spark.stop()"
   ]
  },
  {
   "cell_type": "code",
   "execution_count": null,
   "metadata": {},
   "outputs": [],
   "source": []
  }
 ],
 "metadata": {
  "kernelspec": {
   "display_name": "venvspark",
   "language": "python",
   "name": "venvspark"
  },
  "language_info": {
   "codemirror_mode": {
    "name": "ipython",
    "version": 3
   },
   "file_extension": ".py",
   "mimetype": "text/x-python",
   "name": "python",
   "nbconvert_exporter": "python",
   "pygments_lexer": "ipython3",
   "version": "3.8.12"
  }
 },
 "nbformat": 4,
 "nbformat_minor": 4
}
