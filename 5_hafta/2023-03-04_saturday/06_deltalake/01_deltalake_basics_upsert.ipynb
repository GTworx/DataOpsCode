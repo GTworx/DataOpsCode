{
 "cells": [
  {
   "cell_type": "code",
   "execution_count": 1,
   "metadata": {},
   "outputs": [],
   "source": [
    "import pandas as pd"
   ]
  },
  {
   "cell_type": "code",
   "execution_count": 2,
   "metadata": {},
   "outputs": [],
   "source": [
    "import findspark\n",
    "findspark.init(\"/opt/manual/spark\")"
   ]
  },
  {
   "cell_type": "code",
   "execution_count": 3,
   "metadata": {},
   "outputs": [],
   "source": [
    "from pyspark.sql import SparkSession, functions as F"
   ]
  },
  {
   "cell_type": "code",
   "execution_count": 4,
   "metadata": {},
   "outputs": [
    {
     "name": "stderr",
     "output_type": "stream",
     "text": [
      "WARNING: An illegal reflective access operation has occurred\n",
      "WARNING: Illegal reflective access by org.apache.spark.unsafe.Platform (file:/opt/manual/spark-3.1.1-bin-hadoop3.2/jars/spark-unsafe_2.12-3.1.1.jar) to constructor java.nio.DirectByteBuffer(long,int)\n",
      "WARNING: Please consider reporting this to the maintainers of org.apache.spark.unsafe.Platform\n",
      "WARNING: Use --illegal-access=warn to enable warnings of further illegal reflective access operations\n",
      "WARNING: All illegal access operations will be denied in a future release\n"
     ]
    },
    {
     "name": "stdout",
     "output_type": "stream",
     "text": [
      ":: loading settings :: url = jar:file:/opt/manual/spark-3.1.1-bin-hadoop3.2/jars/ivy-2.4.0.jar!/org/apache/ivy/core/settings/ivysettings.xml\n"
     ]
    },
    {
     "name": "stderr",
     "output_type": "stream",
     "text": [
      "Ivy Default Cache set to: /home/train/.ivy2/cache\n",
      "The jars for the packages stored in: /home/train/.ivy2/jars\n",
      "io.delta#delta-core_2.12 added as a dependency\n",
      ":: resolving dependencies :: org.apache.spark#spark-submit-parent-4a8ff5e6-3e40-4580-9ce2-60d91c5f30d2;1.0\n",
      "\tconfs: [default]\n",
      "\tfound io.delta#delta-core_2.12;1.0.0 in central\n",
      "\tfound org.antlr#antlr4;4.7 in central\n",
      "\tfound org.antlr#antlr4-runtime;4.7 in central\n",
      "\tfound org.antlr#antlr-runtime;3.5.2 in central\n",
      "\tfound org.antlr#ST4;4.0.8 in central\n",
      "\tfound org.abego.treelayout#org.abego.treelayout.core;1.0.3 in central\n",
      "\tfound org.glassfish#javax.json;1.0.4 in central\n",
      "\tfound com.ibm.icu#icu4j;58.2 in central\n",
      "downloading https://repo1.maven.org/maven2/io/delta/delta-core_2.12/1.0.0/delta-core_2.12-1.0.0.jar ...\n",
      "\t[SUCCESSFUL ] io.delta#delta-core_2.12;1.0.0!delta-core_2.12.jar (706ms)\n",
      ":: resolution report :: resolve 3412ms :: artifacts dl 748ms\n",
      "\t:: modules in use:\n",
      "\tcom.ibm.icu#icu4j;58.2 from central in [default]\n",
      "\tio.delta#delta-core_2.12;1.0.0 from central in [default]\n",
      "\torg.abego.treelayout#org.abego.treelayout.core;1.0.3 from central in [default]\n",
      "\torg.antlr#ST4;4.0.8 from central in [default]\n",
      "\torg.antlr#antlr-runtime;3.5.2 from central in [default]\n",
      "\torg.antlr#antlr4;4.7 from central in [default]\n",
      "\torg.antlr#antlr4-runtime;4.7 from central in [default]\n",
      "\torg.glassfish#javax.json;1.0.4 from central in [default]\n",
      "\t---------------------------------------------------------------------\n",
      "\t|                  |            modules            ||   artifacts   |\n",
      "\t|       conf       | number| search|dwnlded|evicted|| number|dwnlded|\n",
      "\t---------------------------------------------------------------------\n",
      "\t|      default     |   8   |   1   |   1   |   0   ||   8   |   1   |\n",
      "\t---------------------------------------------------------------------\n",
      ":: retrieving :: org.apache.spark#spark-submit-parent-4a8ff5e6-3e40-4580-9ce2-60d91c5f30d2\n",
      "\tconfs: [default]\n",
      "\t1 artifacts copied, 7 already retrieved (2059kB/34ms)\n",
      "2022-07-22 12:24:31,303 WARN util.NativeCodeLoader: Unable to load native-hadoop library for your platform... using builtin-java classes where applicable\n",
      "Setting default log level to \"WARN\".\n",
      "To adjust logging level use sc.setLogLevel(newLevel). For SparkR, use setLogLevel(newLevel).\n",
      "2022-07-22 12:24:37,737 WARN yarn.Client: Neither spark.yarn.jars nor spark.yarn.archive is set, falling back to uploading libraries under SPARK_HOME.\n",
      "2022-07-22 12:24:53,003 WARN yarn.Client: Same path resource file:///home/train/.ivy2/jars/io.delta_delta-core_2.12-1.0.0.jar added multiple times to distributed cache.\n",
      "2022-07-22 12:24:53,003 WARN yarn.Client: Same path resource file:///home/train/.ivy2/jars/org.antlr_antlr4-4.7.jar added multiple times to distributed cache.\n",
      "2022-07-22 12:24:53,003 WARN yarn.Client: Same path resource file:///home/train/.ivy2/jars/org.antlr_antlr4-runtime-4.7.jar added multiple times to distributed cache.\n",
      "2022-07-22 12:24:53,003 WARN yarn.Client: Same path resource file:///home/train/.ivy2/jars/org.antlr_antlr-runtime-3.5.2.jar added multiple times to distributed cache.\n",
      "2022-07-22 12:24:53,004 WARN yarn.Client: Same path resource file:///home/train/.ivy2/jars/org.antlr_ST4-4.0.8.jar added multiple times to distributed cache.\n",
      "2022-07-22 12:24:53,004 WARN yarn.Client: Same path resource file:///home/train/.ivy2/jars/org.abego.treelayout_org.abego.treelayout.core-1.0.3.jar added multiple times to distributed cache.\n",
      "2022-07-22 12:24:53,004 WARN yarn.Client: Same path resource file:///home/train/.ivy2/jars/org.glassfish_javax.json-1.0.4.jar added multiple times to distributed cache.\n",
      "2022-07-22 12:24:53,004 WARN yarn.Client: Same path resource file:///home/train/.ivy2/jars/com.ibm.icu_icu4j-58.2.jar added multiple times to distributed cache.\n"
     ]
    }
   ],
   "source": [
    "# If you are running Spark 2.4, you have to use Delta Lake 0.6.0.\n",
    "# 1.1.0 sadece Spark >= 3.2.0 ile \n",
    "spark = (SparkSession.builder\n",
    "         .appName(\"Delta Lake Basics\")\n",
    "         .master(\"yarn\")\n",
    "         .config(\"spark.jars.packages\", \"io.delta:delta-core_2.12:1.0.0\")\n",
    "         .config(\"spark.sql.extensions\", \"io.delta.sql.DeltaSparkSessionExtension\")\n",
    "         .config(\"spark.sql.catalog.spark_catalog\", \"org.apache.spark.sql.delta.catalog.DeltaCatalog\")\n",
    "         .getOrCreate())"
   ]
  },
  {
   "cell_type": "code",
   "execution_count": 5,
   "metadata": {},
   "outputs": [],
   "source": [
    "# We must import delta libs after SparkSession created\n",
    "\n",
    "from delta.tables import *"
   ]
  },
  {
   "cell_type": "markdown",
   "metadata": {},
   "source": [
    "## Create a spark dataframe"
   ]
  },
  {
   "cell_type": "code",
   "execution_count": 6,
   "metadata": {},
   "outputs": [],
   "source": [
    "customers = spark.createDataFrame([(1416, \"Tuncay Avcı\", \"İnsan Kaynakları\"), \n",
    "                                   (1417, \"İsmail İçtüzer\", \"Üretim Planlama\"),\n",
    "                                   (1506, \"Mustafa Aslan\", \"Halkla İlişkiler\"),\n",
    "                                   (1527, \"Buket Durmuş\", \"Pazarlama\"),\n",
    "                                   (1525, \"Saadet Yılmaz\", \"Teknik Koordinasyon\")],\n",
    "                                   [\"Id\",\"Name\",\"Branch\"])"
   ]
  },
  {
   "cell_type": "code",
   "execution_count": 7,
   "metadata": {
    "scrolled": true
   },
   "outputs": [
    {
     "name": "stderr",
     "output_type": "stream",
     "text": [
      "                                                                                \r"
     ]
    },
    {
     "name": "stdout",
     "output_type": "stream",
     "text": [
      "+----+--------------+-------------------+\n",
      "|  Id|          Name|             Branch|\n",
      "+----+--------------+-------------------+\n",
      "|1416|   Tuncay Avcı|   İnsan Kaynakları|\n",
      "|1417|İsmail İçtüzer|    Üretim Planlama|\n",
      "|1506| Mustafa Aslan|   Halkla İlişkiler|\n",
      "|1527|  Buket Durmuş|          Pazarlama|\n",
      "|1525| Saadet Yılmaz|Teknik Koordinasyon|\n",
      "+----+--------------+-------------------+\n",
      "\n"
     ]
    }
   ],
   "source": [
    "customers.show()"
   ]
  },
  {
   "cell_type": "markdown",
   "metadata": {},
   "source": [
    "## Write dataframe to deltalake"
   ]
  },
  {
   "cell_type": "code",
   "execution_count": 8,
   "metadata": {},
   "outputs": [
    {
     "name": "stdout",
     "output_type": "stream",
     "text": [
      "rm: `/user/train/ik_delta': No such file or directory\r\n"
     ]
    }
   ],
   "source": [
    "! hdfs dfs -rm -R -skipTrash /user/train/ik_delta"
   ]
  },
  {
   "cell_type": "code",
   "execution_count": 9,
   "metadata": {},
   "outputs": [],
   "source": [
    "deltaPath = \"hdfs://localhost:9000/user/train/delta/ik_delta\""
   ]
  },
  {
   "cell_type": "code",
   "execution_count": 10,
   "metadata": {},
   "outputs": [
    {
     "name": "stderr",
     "output_type": "stream",
     "text": [
      "                                                                                \r"
     ]
    }
   ],
   "source": [
    "customers.write \\\n",
    ".mode(\"overwrite\") \\\n",
    ".format(\"delta\") \\\n",
    ".save(deltaPath)"
   ]
  },
  {
   "cell_type": "code",
   "execution_count": 11,
   "metadata": {},
   "outputs": [
    {
     "name": "stdout",
     "output_type": "stream",
     "text": [
      "Found 3 items\r\n",
      "drwxr-xr-x   - train supergroup          0 2022-07-22 12:27 /user/train/delta/ik_delta/_delta_log\r\n",
      "-rw-r--r--   1 train supergroup       1008 2022-07-22 12:27 /user/train/delta/ik_delta/part-00000-c4598889-4e44-42e9-8780-07ceb9d56648-c000.snappy.parquet\r\n",
      "-rw-r--r--   1 train supergroup       1046 2022-07-22 12:27 /user/train/delta/ik_delta/part-00001-40d43340-babe-42ae-8690-503a9eaa5fec-c000.snappy.parquet\r\n"
     ]
    }
   ],
   "source": [
    "! hdfs dfs -ls /user/train/delta/ik_delta"
   ]
  },
  {
   "cell_type": "code",
   "execution_count": 15,
   "metadata": {},
   "outputs": [
    {
     "name": "stdout",
     "output_type": "stream",
     "text": [
      "Found 1 items\r\n",
      "-rw-r--r--   1 train supergroup       1071 2022-01-09 11:17 /user/train/delta/ik_delta/_delta_log/00000000000000000000.json\r\n"
     ]
    }
   ],
   "source": [
    "! hdfs dfs -ls /user/train/delta/ik_delta/_delta_log"
   ]
  },
  {
   "cell_type": "code",
   "execution_count": 16,
   "metadata": {},
   "outputs": [
    {
     "name": "stdout",
     "output_type": "stream",
     "text": [
      "{\"commitInfo\":{\"timestamp\":1641716266274,\"operation\":\"WRITE\",\"operationParameters\":{\"mode\":\"Overwrite\",\"partitionBy\":\"[]\"},\"isBlindAppend\":false,\"operationMetrics\":{\"numFiles\":\"2\",\"numOutputBytes\":\"2054\",\"numOutputRows\":\"5\"}}}\r\n",
      "{\"protocol\":{\"minReaderVersion\":1,\"minWriterVersion\":2}}\r\n",
      "{\"metaData\":{\"id\":\"e127eff0-511f-4055-9b71-766ec552ca77\",\"format\":{\"provider\":\"parquet\",\"options\":{}},\"schemaString\":\"{\\\"type\\\":\\\"struct\\\",\\\"fields\\\":[{\\\"name\\\":\\\"Id\\\",\\\"type\\\":\\\"long\\\",\\\"nullable\\\":true,\\\"metadata\\\":{}},{\\\"name\\\":\\\"Name\\\",\\\"type\\\":\\\"string\\\",\\\"nullable\\\":true,\\\"metadata\\\":{}},{\\\"name\\\":\\\"Branch\\\",\\\"type\\\":\\\"string\\\",\\\"nullable\\\":true,\\\"metadata\\\":{}}]}\",\"partitionColumns\":[],\"configuration\":{},\"createdTime\":1641716244601}}\r\n",
      "{\"add\":{\"path\":\"part-00000-810f23d4-912e-4838-b1ed-0434c4f69231-c000.snappy.parquet\",\"partitionValues\":{},\"size\":1008,\"modificationTime\":1641716252022,\"dataChange\":true}}\r\n",
      "{\"add\":{\"path\":\"part-00001-b1b9647a-3f00-46bb-8954-6dfdb06f6b32-c000.snappy.parquet\",\"partitionValues\":{},\"size\":1046,\"modificationTime\":1641716258691,\"dataChange\":true}}\r\n"
     ]
    }
   ],
   "source": [
    "! hdfs dfs -cat /user/train/delta/ik_delta/_delta_log/00000000000000000000.json"
   ]
  },
  {
   "cell_type": "markdown",
   "metadata": {},
   "source": [
    "## Read From Deltalake as DeltaTable"
   ]
  },
  {
   "cell_type": "code",
   "execution_count": 12,
   "metadata": {},
   "outputs": [],
   "source": [
    "customers_delta = DeltaTable.forPath(spark, deltaPath)"
   ]
  },
  {
   "cell_type": "code",
   "execution_count": 13,
   "metadata": {},
   "outputs": [
    {
     "data": {
      "text/plain": [
       "delta.tables.DeltaTable"
      ]
     },
     "execution_count": 13,
     "metadata": {},
     "output_type": "execute_result"
    }
   ],
   "source": [
    "type(customers_delta)"
   ]
  },
  {
   "cell_type": "code",
   "execution_count": 14,
   "metadata": {},
   "outputs": [
    {
     "name": "stderr",
     "output_type": "stream",
     "text": [
      "                                                                                \r"
     ]
    },
    {
     "name": "stdout",
     "output_type": "stream",
     "text": [
      "+----+--------------+-------------------+\n",
      "|  Id|          Name|             Branch|\n",
      "+----+--------------+-------------------+\n",
      "|1506| Mustafa Aslan|   Halkla İlişkiler|\n",
      "|1527|  Buket Durmuş|          Pazarlama|\n",
      "|1525| Saadet Yılmaz|Teknik Koordinasyon|\n",
      "|1416|   Tuncay Avcı|   İnsan Kaynakları|\n",
      "|1417|İsmail İçtüzer|    Üretim Planlama|\n",
      "+----+--------------+-------------------+\n",
      "\n"
     ]
    }
   ],
   "source": [
    "customers_delta.toDF().show()"
   ]
  },
  {
   "cell_type": "code",
   "execution_count": 17,
   "metadata": {},
   "outputs": [
    {
     "name": "stdout",
     "output_type": "stream",
     "text": [
      "Found 1 items\r\n",
      "-rw-r--r--   1 train supergroup       1071 2022-01-08 13:52 /user/train/ik_delta/_delta_log/00000000000000000000.json\r\n"
     ]
    }
   ],
   "source": [
    "! hdfs dfs -ls /user/train/ik_delta/_delta_log"
   ]
  },
  {
   "cell_type": "markdown",
   "metadata": {},
   "source": [
    "## New persons"
   ]
  },
  {
   "cell_type": "code",
   "execution_count": null,
   "metadata": {},
   "outputs": [],
   "source": [
    "                                    ([(1416, \"Tuncay Avcı\", \"İnsan Kaynakları\"), u\n",
    "                                   (1417, \"İsmail İçtüzer\", \"Üretim Planlama\"), u\n",
    "                                   (1506, \"Mustafa Aslan\", \"Halkla İlişkiler\"),\n",
    "                                   (1527, \"Buket Durmuş\", \"Pazarlama\"),\n",
    "                                   (1525, \"Saadet Yılmaz\", \"Teknik Koordinasyon\")], u\n",
    "                                   [\"Id\",\"Name\",\"Branch\"])"
   ]
  },
  {
   "cell_type": "code",
   "execution_count": 15,
   "metadata": {},
   "outputs": [],
   "source": [
    "customers_new = spark.createDataFrame([(1416, \"Tuncay Avcı\", \"Genel Koordinasyon\"), \n",
    "                                   (1417, \"İsmail İçtüzer\", \"Genel Koordinasyon\"),\n",
    "                                   (1508, \"Mustafa Bankur\", \"Üretim\"),\n",
    "                                   (1522, \"Meliha Kaya\", \"Pazarlama\"),\n",
    "                                   (1525, \"Saadet Yılmaz Kaya\", \"Teknik Koordinasyon\")],\n",
    "                                   [\"Id\",\"Name\",\"Branch\"])"
   ]
  },
  {
   "cell_type": "code",
   "execution_count": 16,
   "metadata": {},
   "outputs": [
    {
     "name": "stdout",
     "output_type": "stream",
     "text": [
      "+----+------------------+-------------------+\n",
      "|  Id|              Name|             Branch|\n",
      "+----+------------------+-------------------+\n",
      "|1416|       Tuncay Avcı| Genel Koordinasyon|\n",
      "|1417|    İsmail İçtüzer| Genel Koordinasyon|\n",
      "|1508|    Mustafa Bankur|             Üretim|\n",
      "|1522|       Meliha Kaya|          Pazarlama|\n",
      "|1525|Saadet Yılmaz Kaya|Teknik Koordinasyon|\n",
      "+----+------------------+-------------------+\n",
      "\n"
     ]
    }
   ],
   "source": [
    "customers_new.show()"
   ]
  },
  {
   "cell_type": "markdown",
   "metadata": {},
   "source": [
    "## Upsert new customers into delta table"
   ]
  },
  {
   "cell_type": "code",
   "execution_count": 17,
   "metadata": {},
   "outputs": [
    {
     "name": "stderr",
     "output_type": "stream",
     "text": [
      "                                                                                \r"
     ]
    }
   ],
   "source": [
    "customers_delta.alias(\"cust\") \\\n",
    ".merge(customers_new.alias(\"cust_new\"), \"cust.Id = cust_new.Id\") \\\n",
    ".whenMatchedUpdateAll() \\\n",
    ".whenNotMatchedInsertAll() \\\n",
    ".execute()"
   ]
  },
  {
   "cell_type": "code",
   "execution_count": 18,
   "metadata": {},
   "outputs": [
    {
     "name": "stderr",
     "output_type": "stream",
     "text": [
      "[Stage 26:>                                                         (0 + 2) / 2]\r"
     ]
    },
    {
     "name": "stdout",
     "output_type": "stream",
     "text": [
      "+----+------------------+-------------------+\n",
      "|  Id|              Name|             Branch|\n",
      "+----+------------------+-------------------+\n",
      "|1416|       Tuncay Avcı| Genel Koordinasyon|\n",
      "|1417|    İsmail İçtüzer| Genel Koordinasyon|\n",
      "|1506|     Mustafa Aslan|   Halkla İlişkiler|\n",
      "|1508|    Mustafa Bankur|             Üretim|\n",
      "|1522|       Meliha Kaya|          Pazarlama|\n",
      "|1525|Saadet Yılmaz Kaya|Teknik Koordinasyon|\n",
      "|1527|      Buket Durmuş|          Pazarlama|\n",
      "+----+------------------+-------------------+\n",
      "\n"
     ]
    },
    {
     "name": "stderr",
     "output_type": "stream",
     "text": [
      "\r",
      "                                                                                \r"
     ]
    }
   ],
   "source": [
    "customers_delta.toDF().orderBy(\"Id\").show()"
   ]
  },
  {
   "cell_type": "code",
   "execution_count": 25,
   "metadata": {},
   "outputs": [
    {
     "name": "stdout",
     "output_type": "stream",
     "text": [
      "Found 2 items\r\n",
      "-rw-r--r--   1 train supergroup       1071 2022-01-09 11:17 /user/train/delta/ik_delta/_delta_log/00000000000000000000.json\r\n",
      "-rw-r--r--   1 train supergroup       2340 2022-01-09 11:28 /user/train/delta/ik_delta/_delta_log/00000000000000000001.json\r\n"
     ]
    }
   ],
   "source": [
    "! hdfs dfs -ls /user/train/delta/ik_delta/_delta_log"
   ]
  },
  {
   "cell_type": "code",
   "execution_count": 26,
   "metadata": {},
   "outputs": [
    {
     "name": "stdout",
     "output_type": "stream",
     "text": [
      "{\"commitInfo\":{\"timestamp\":1641716885657,\"operation\":\"MERGE\",\"operationParameters\":{\"predicate\":\"(cust.`Id` = cust_new.`Id`)\",\"matchedPredicates\":\"[{\\\"actionType\\\":\\\"update\\\"}]\",\"notMatchedPredicates\":\"[{\\\"actionType\\\":\\\"insert\\\"}]\"},\"readVersion\":0,\"isBlindAppend\":false,\"operationMetrics\":{\"numTargetRowsCopied\":\"2\",\"numTargetRowsDeleted\":\"0\",\"numTargetFilesAdded\":\"8\",\"executionTimeMs\":\"31969\",\"numTargetRowsInserted\":\"2\",\"scanTimeMs\":\"13340\",\"numTargetRowsUpdated\":\"3\",\"numOutputRows\":\"7\",\"numSourceRows\":\"5\",\"numTargetFilesRemoved\":\"2\",\"rewriteTimeMs\":\"18574\"}}}\r\n",
      "{\"remove\":{\"path\":\"part-00001-b1b9647a-3f00-46bb-8954-6dfdb06f6b32-c000.snappy.parquet\",\"deletionTimestamp\":1641716885560,\"dataChange\":true,\"extendedFileMetadata\":true,\"partitionValues\":{},\"size\":1046}}\r\n",
      "{\"remove\":{\"path\":\"part-00000-810f23d4-912e-4838-b1ed-0434c4f69231-c000.snappy.parquet\",\"deletionTimestamp\":1641716885657,\"dataChange\":true,\"extendedFileMetadata\":true,\"partitionValues\":{},\"size\":1008}}\r\n",
      "{\"add\":{\"path\":\"part-00000-7870bd59-d987-4488-a68e-ad5bb6b398e5-c000.snappy.parquet\",\"partitionValues\":{},\"size\":457,\"modificationTime\":1641716872326,\"dataChange\":true}}\r\n",
      "{\"add\":{\"path\":\"part-00011-8009f07a-bc8e-4ffc-9d55-75a3414285bb-c000.snappy.parquet\",\"partitionValues\":{},\"size\":1014,\"modificationTime\":1641716871233,\"dataChange\":true}}\r\n",
      "{\"add\":{\"path\":\"part-00017-52e47a24-e602-4bf9-9804-ced40a48731a-c000.snappy.parquet\",\"partitionValues\":{},\"size\":1005,\"modificationTime\":1641716871283,\"dataChange\":true}}\r\n",
      "{\"add\":{\"path\":\"part-00116-47e49f2e-f480-4a4d-85fa-f50bcb6a030e-c000.snappy.parquet\",\"partitionValues\":{},\"size\":1095,\"modificationTime\":1641716871983,\"dataChange\":true}}\r\n",
      "{\"add\":{\"path\":\"part-00119-39b5206b-3aac-4ec6-96ee-3aecc4cb5aae-c000.snappy.parquet\",\"partitionValues\":{},\"size\":996,\"modificationTime\":1641716871705,\"dataChange\":true}}\r\n",
      "{\"add\":{\"path\":\"part-00150-a79c2c6c-2f93-4b73-9274-eb4d3297241a-c000.snappy.parquet\",\"partitionValues\":{},\"size\":1086,\"modificationTime\":1641716871906,\"dataChange\":true}}\r\n",
      "{\"add\":{\"path\":\"part-00165-2ebee478-97e8-4220-b992-56aaf15ceb3c-c000.snappy.parquet\",\"partitionValues\":{},\"size\":1140,\"modificationTime\":1641716872545,\"dataChange\":true}}\r\n",
      "{\"add\":{\"path\":\"part-00175-eeaa992e-e4dd-40d8-8206-6917e202dc37-c000.snappy.parquet\",\"partitionValues\":{},\"size\":1158,\"modificationTime\":1641716872207,\"dataChange\":true}}\r\n"
     ]
    }
   ],
   "source": [
    "! hdfs dfs -cat /user/train/delta/ik_delta/_delta_log/00000000000000000001.json"
   ]
  },
  {
   "cell_type": "markdown",
   "metadata": {},
   "source": [
    "# Upsert with Multiple Conditions"
   ]
  },
  {
   "cell_type": "code",
   "execution_count": 27,
   "metadata": {},
   "outputs": [],
   "source": [
    "customers_new2 = spark.createDataFrame([(1520, \"Mustafa Gökçe\", \"Genel Koordinasyon\"), \n",
    "                                       (1522, \"Meliha Kaya\", \"Satış\"),\n",
    "                                        (1525, \"Saadet Yılmaz\", \"Genel Koordinasyon\"),\n",
    "                                        (1416, \"Tuncay Döner\", \"Genel Koordinasyon\")],\n",
    "                                   [\"Id\",\"Name\",\"Branch\"])"
   ]
  },
  {
   "cell_type": "code",
   "execution_count": 28,
   "metadata": {},
   "outputs": [],
   "source": [
    "customers_delta.alias(\"cust\") \\\n",
    ".merge(customers_new2.alias(\"cust_new2\"), (\"cust.Id = cust_new2.Id AND cust_new2.Branch = 'Genel Koordinasyon'\") ) \\\n",
    ".whenMatchedUpdateAll() \\\n",
    ".whenNotMatchedInsertAll() \\\n",
    ".execute()"
   ]
  },
  {
   "cell_type": "code",
   "execution_count": 30,
   "metadata": {},
   "outputs": [
    {
     "name": "stdout",
     "output_type": "stream",
     "text": [
      "+----+--------------+------------------+\n",
      "|  Id|          Name|            Branch|\n",
      "+----+--------------+------------------+\n",
      "|1417|İsmail İçtüzer|Genel Koordinasyon|\n",
      "|1520| Mustafa Gökçe|Genel Koordinasyon|\n",
      "|1525| Saadet Yılmaz|Genel Koordinasyon|\n",
      "|1506| Mustafa Aslan|  Halkla İlişkiler|\n",
      "|1416|  Tuncay Döner|Genel Koordinasyon|\n",
      "|1527|  Buket Durmuş|         Pazarlama|\n",
      "|1508|Mustafa Bankur|            Üretim|\n",
      "|1522|   Meliha Kaya|         Pazarlama|\n",
      "|1522|   Meliha Kaya|             Satış|\n",
      "+----+--------------+------------------+\n",
      "\n"
     ]
    }
   ],
   "source": [
    "customers_delta.toDF().show()"
   ]
  },
  {
   "cell_type": "code",
   "execution_count": 31,
   "metadata": {},
   "outputs": [
    {
     "name": "stdout",
     "output_type": "stream",
     "text": [
      "ls: `/user/train/ik_delta/_delta_log': No such file or directory\r\n"
     ]
    }
   ],
   "source": [
    "! hdfs dfs -ls /user/train/ik_delta/_delta_log"
   ]
  },
  {
   "cell_type": "markdown",
   "metadata": {},
   "source": [
    "# Update"
   ]
  },
  {
   "cell_type": "code",
   "execution_count": 32,
   "metadata": {},
   "outputs": [],
   "source": [
    "customers_delta.update(\n",
    "condition=F.expr(\"Id == 1527\"),\n",
    "    set={\"Name\": F.expr(\"'Buket Durmuş Çetinkaya'\"), \"Branch\": F.expr(\"'Teknoloji'\")}\n",
    ")"
   ]
  },
  {
   "cell_type": "code",
   "execution_count": 33,
   "metadata": {},
   "outputs": [
    {
     "name": "stdout",
     "output_type": "stream",
     "text": [
      "+----+----------------------+------------------+\n",
      "|Id  |Name                  |Branch            |\n",
      "+----+----------------------+------------------+\n",
      "|1417|İsmail İçtüzer        |Genel Koordinasyon|\n",
      "|1520|Mustafa Gökçe         |Genel Koordinasyon|\n",
      "|1527|Buket Durmuş Çetinkaya|Teknoloji         |\n",
      "|1525|Saadet Yılmaz         |Genel Koordinasyon|\n",
      "|1506|Mustafa Aslan         |Halkla İlişkiler  |\n",
      "|1416|Tuncay Döner          |Genel Koordinasyon|\n",
      "|1508|Mustafa Bankur        |Üretim            |\n",
      "|1522|Meliha Kaya           |Pazarlama         |\n",
      "|1522|Meliha Kaya           |Satış             |\n",
      "+----+----------------------+------------------+\n",
      "\n"
     ]
    }
   ],
   "source": [
    "customers_delta.toDF().show(truncate=False)"
   ]
  },
  {
   "cell_type": "code",
   "execution_count": 34,
   "metadata": {},
   "outputs": [
    {
     "name": "stdout",
     "output_type": "stream",
     "text": [
      "Found 4 items\r\n",
      "-rw-r--r--   1 train supergroup       1071 2022-01-09 11:17 /user/train/delta/ik_delta/_delta_log/00000000000000000000.json\r\n",
      "-rw-r--r--   1 train supergroup       2340 2022-01-09 11:28 /user/train/delta/ik_delta/_delta_log/00000000000000000001.json\r\n",
      "-rw-r--r--   1 train supergroup       1877 2022-01-09 11:30 /user/train/delta/ik_delta/_delta_log/00000000000000000002.json\r\n",
      "-rw-r--r--   1 train supergroup        703 2022-01-09 11:34 /user/train/delta/ik_delta/_delta_log/00000000000000000003.json\r\n"
     ]
    }
   ],
   "source": [
    "! hdfs dfs -ls /user/train/delta/ik_delta/_delta_log"
   ]
  },
  {
   "cell_type": "markdown",
   "metadata": {},
   "source": [
    "# Delete"
   ]
  },
  {
   "cell_type": "code",
   "execution_count": 35,
   "metadata": {},
   "outputs": [],
   "source": [
    "customers_delta.delete(F.col(\"Id\") == 1506)"
   ]
  },
  {
   "cell_type": "code",
   "execution_count": 36,
   "metadata": {},
   "outputs": [
    {
     "name": "stdout",
     "output_type": "stream",
     "text": [
      "+----+----------------------+------------------+\n",
      "|Id  |Name                  |Branch            |\n",
      "+----+----------------------+------------------+\n",
      "|1417|İsmail İçtüzer        |Genel Koordinasyon|\n",
      "|1520|Mustafa Gökçe         |Genel Koordinasyon|\n",
      "|1527|Buket Durmuş Çetinkaya|Teknoloji         |\n",
      "|1525|Saadet Yılmaz         |Genel Koordinasyon|\n",
      "|1416|Tuncay Döner          |Genel Koordinasyon|\n",
      "|1508|Mustafa Bankur        |Üretim            |\n",
      "|1522|Meliha Kaya           |Pazarlama         |\n",
      "|1522|Meliha Kaya           |Satış             |\n",
      "+----+----------------------+------------------+\n",
      "\n"
     ]
    }
   ],
   "source": [
    "customers_delta.toDF().show(truncate=False)"
   ]
  },
  {
   "cell_type": "code",
   "execution_count": 37,
   "metadata": {},
   "outputs": [
    {
     "name": "stdout",
     "output_type": "stream",
     "text": [
      "Found 5 items\r\n",
      "-rw-r--r--   1 train supergroup       1071 2022-01-09 11:17 /user/train/delta/ik_delta/_delta_log/00000000000000000000.json\r\n",
      "-rw-r--r--   1 train supergroup       2340 2022-01-09 11:28 /user/train/delta/ik_delta/_delta_log/00000000000000000001.json\r\n",
      "-rw-r--r--   1 train supergroup       1877 2022-01-09 11:30 /user/train/delta/ik_delta/_delta_log/00000000000000000002.json\r\n",
      "-rw-r--r--   1 train supergroup        703 2022-01-09 11:34 /user/train/delta/ik_delta/_delta_log/00000000000000000003.json\r\n",
      "-rw-r--r--   1 train supergroup        705 2022-01-09 11:35 /user/train/delta/ik_delta/_delta_log/00000000000000000004.json\r\n"
     ]
    }
   ],
   "source": [
    "! hdfs dfs -ls /user/train/delta/ik_delta/_delta_log"
   ]
  },
  {
   "cell_type": "code",
   "execution_count": 38,
   "metadata": {},
   "outputs": [],
   "source": [
    "spark.stop()"
   ]
  },
  {
   "cell_type": "code",
   "execution_count": null,
   "metadata": {},
   "outputs": [],
   "source": []
  }
 ],
 "metadata": {
  "kernelspec": {
   "display_name": "venvspark",
   "language": "python",
   "name": "venvspark"
  },
  "language_info": {
   "codemirror_mode": {
    "name": "ipython",
    "version": 3
   },
   "file_extension": ".py",
   "mimetype": "text/x-python",
   "name": "python",
   "nbconvert_exporter": "python",
   "pygments_lexer": "ipython3",
   "version": "3.8.12"
  }
 },
 "nbformat": 4,
 "nbformat_minor": 4
}
