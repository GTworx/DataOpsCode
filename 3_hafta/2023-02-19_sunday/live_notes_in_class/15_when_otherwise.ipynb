{
 "cells": [
  {
   "cell_type": "code",
   "execution_count": 1,
   "id": "7766cb7d-d5af-478c-b199-970c60352a41",
   "metadata": {
    "tags": []
   },
   "outputs": [],
   "source": [
    "from pyspark.sql import SparkSession, functions as F"
   ]
  },
  {
   "cell_type": "code",
   "execution_count": 2,
   "id": "924d25e0-1af7-48ad-aae2-d1a2f5d25aa7",
   "metadata": {
    "tags": []
   },
   "outputs": [
    {
     "name": "stderr",
     "output_type": "stream",
     "text": [
      "WARNING: An illegal reflective access operation has occurred\n",
      "WARNING: Illegal reflective access by org.apache.spark.unsafe.Platform (file:/opt/manual/spark-3.1.1-bin-hadoop3.2/jars/spark-unsafe_2.12-3.1.1.jar) to constructor java.nio.DirectByteBuffer(long,int)\n",
      "WARNING: Please consider reporting this to the maintainers of org.apache.spark.unsafe.Platform\n",
      "WARNING: Use --illegal-access=warn to enable warnings of further illegal reflective access operations\n",
      "WARNING: All illegal access operations will be denied in a future release\n",
      "2023-02-19 11:01:10,054 WARN util.NativeCodeLoader: Unable to load native-hadoop library for your platform... using builtin-java classes where applicable\n",
      "Setting default log level to \"WARN\".\n",
      "To adjust logging level use sc.setLogLevel(newLevel). For SparkR, use setLogLevel(newLevel).\n"
     ]
    }
   ],
   "source": [
    "spark = SparkSession.builder \\\n",
    ".appName(\"When Otherwise\") \\\n",
    ".master(\"local[2]\") \\\n",
    ".getOrCreate()"
   ]
  },
  {
   "cell_type": "code",
   "execution_count": 3,
   "id": "6e169d5d-4cdd-4c48-aae9-a9e0ba21adf1",
   "metadata": {
    "tags": []
   },
   "outputs": [],
   "source": [
    "data =[(\"James\",\"\",\"Smith\",\"36636\",\"M\",60000),\n",
    "        (\"Michael\",\"Rose\",\"\",\"40288\",\"M\",70000),\n",
    "        (\"Robert\",\"\",\"Williams\",\"42114\",\"\",400000),\n",
    "        (\"Maria\",\"Anne\",\"Jones\",\"39192\",\"F\",500000),\n",
    "        (\"Jen\",\"Mary\",\"Brown\",\"\",\"F\",0)]\n",
    "\n",
    "cols = [\"first_name\",\"middle_name\",\"last_name\",\"dob\",\"gender\",\"salary\"]"
   ]
  },
  {
   "cell_type": "code",
   "execution_count": 4,
   "id": "5800e5b3-af19-4b13-adde-00cb8ae4dd02",
   "metadata": {
    "tags": []
   },
   "outputs": [],
   "source": [
    "df = spark.createDataFrame(data, cols)"
   ]
  },
  {
   "cell_type": "code",
   "execution_count": 5,
   "id": "502a3243-acf3-4438-9f71-edf4f39f8dd7",
   "metadata": {
    "tags": []
   },
   "outputs": [
    {
     "name": "stderr",
     "output_type": "stream",
     "text": [
      "                                                                                \r"
     ]
    },
    {
     "name": "stdout",
     "output_type": "stream",
     "text": [
      "+----------+-----------+---------+-----+------+------+\n",
      "|first_name|middle_name|last_name|  dob|gender|salary|\n",
      "+----------+-----------+---------+-----+------+------+\n",
      "|     James|           |    Smith|36636|     M| 60000|\n",
      "|   Michael|       Rose|         |40288|     M| 70000|\n",
      "|    Robert|           | Williams|42114|      |400000|\n",
      "|     Maria|       Anne|    Jones|39192|     F|500000|\n",
      "|       Jen|       Mary|    Brown|     |     F|     0|\n",
      "+----------+-----------+---------+-----+------+------+\n",
      "\n"
     ]
    }
   ],
   "source": [
    "df.show()"
   ]
  },
  {
   "cell_type": "code",
   "execution_count": 7,
   "id": "e5c1da8a-9c97-41e9-9291-4ecc3861dc5c",
   "metadata": {
    "tags": []
   },
   "outputs": [
    {
     "name": "stdout",
     "output_type": "stream",
     "text": [
      "+----------+-----------+---------+-----+------+------+-------+\n",
      "|first_name|middle_name|last_name|  dob|gender|salary|gender2|\n",
      "+----------+-----------+---------+-----+------+------+-------+\n",
      "|     James|           |    Smith|36636|     M| 60000|   Male|\n",
      "|   Michael|       Rose|         |40288|     M| 70000|   Male|\n",
      "|    Robert|           | Williams|42114|      |400000|Unknown|\n",
      "|     Maria|       Anne|    Jones|39192|     F|500000| Female|\n",
      "|       Jen|       Mary|    Brown|     |     F|     0| Female|\n",
      "+----------+-----------+---------+-----+------+------+-------+\n",
      "\n"
     ]
    }
   ],
   "source": [
    "df.withColumn(\"gender2\", F.when(F.col(\"gender\") == \"M\", \"Male\") \\\n",
    "              .when(F.col(\"gender\") == \"F\", \"Female\") \\\n",
    "              .otherwise(\"Unknown\")).show()"
   ]
  },
  {
   "cell_type": "code",
   "execution_count": 8,
   "id": "8720695d-6838-4496-a49d-42396ede0de2",
   "metadata": {
    "tags": []
   },
   "outputs": [],
   "source": [
    "df.createTempView(\"staff\")"
   ]
  },
  {
   "cell_type": "code",
   "execution_count": 9,
   "id": "b3ecd34d-2797-498e-87a7-e0c27ae8bcc7",
   "metadata": {
    "tags": []
   },
   "outputs": [
    {
     "name": "stdout",
     "output_type": "stream",
     "text": [
      "+----------+-----------+---------+-----+------+------+-------+\n",
      "|first_name|middle_name|last_name|  dob|gender|salary|gender2|\n",
      "+----------+-----------+---------+-----+------+------+-------+\n",
      "|     James|           |    Smith|36636|     M| 60000|   Male|\n",
      "|   Michael|       Rose|         |40288|     M| 70000|   Male|\n",
      "|    Robert|           | Williams|42114|      |400000|Unknown|\n",
      "|     Maria|       Anne|    Jones|39192|     F|500000| Female|\n",
      "|       Jen|       Mary|    Brown|     |     F|     0| Female|\n",
      "+----------+-----------+---------+-----+------+------+-------+\n",
      "\n"
     ]
    }
   ],
   "source": [
    "spark.sql(\"\"\"\n",
    "\n",
    "SELECT \n",
    "a.*, \n",
    "CASE WHEN gender = 'M' THEN 'Male'\n",
    "WHEN gender = 'F' THEN 'Female'\n",
    "ELSE 'Unknown' END AS gender2\n",
    "\n",
    "FROM staff a\n",
    "\n",
    "\"\"\").show()"
   ]
  },
  {
   "cell_type": "code",
   "execution_count": null,
   "id": "de1e32a2-9468-402f-9ad2-c6018948f1eb",
   "metadata": {},
   "outputs": [],
   "source": []
  }
 ],
 "metadata": {
  "kernelspec": {
   "display_name": "venvspark",
   "language": "python",
   "name": "venvspark"
  },
  "language_info": {
   "codemirror_mode": {
    "name": "ipython",
    "version": 3
   },
   "file_extension": ".py",
   "mimetype": "text/x-python",
   "name": "python",
   "nbconvert_exporter": "python",
   "pygments_lexer": "ipython3",
   "version": "3.8.12"
  }
 },
 "nbformat": 4,
 "nbformat_minor": 5
}
