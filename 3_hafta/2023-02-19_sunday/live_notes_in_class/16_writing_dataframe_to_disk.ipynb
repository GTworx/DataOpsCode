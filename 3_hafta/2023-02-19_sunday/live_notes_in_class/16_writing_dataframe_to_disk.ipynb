{
 "cells": [
  {
   "cell_type": "code",
   "execution_count": 1,
   "id": "25509a3e-09d9-428f-9b96-c1e9d4718091",
   "metadata": {
    "tags": []
   },
   "outputs": [],
   "source": [
    "from pyspark.sql import SparkSession, functions as F\n",
    "from pyspark.sql.types import StructType, StructField, DoubleType, StringType, IntegerType, DateType, ArrayType, FloatType"
   ]
  },
  {
   "cell_type": "code",
   "execution_count": 2,
   "id": "c29e0d68-39fb-4c37-9b2e-1a5d184dc3eb",
   "metadata": {
    "tags": []
   },
   "outputs": [
    {
     "name": "stderr",
     "output_type": "stream",
     "text": [
      "WARNING: An illegal reflective access operation has occurred\n",
      "WARNING: Illegal reflective access by org.apache.spark.unsafe.Platform (file:/opt/manual/spark-3.1.1-bin-hadoop3.2/jars/spark-unsafe_2.12-3.1.1.jar) to constructor java.nio.DirectByteBuffer(long,int)\n",
      "WARNING: Please consider reporting this to the maintainers of org.apache.spark.unsafe.Platform\n",
      "WARNING: Use --illegal-access=warn to enable warnings of further illegal reflective access operations\n",
      "WARNING: All illegal access operations will be denied in a future release\n"
     ]
    },
    {
     "name": "stdout",
     "output_type": "stream",
     "text": [
      ":: loading settings :: url = jar:file:/opt/manual/spark-3.1.1-bin-hadoop3.2/jars/ivy-2.4.0.jar!/org/apache/ivy/core/settings/ivysettings.xml\n"
     ]
    },
    {
     "name": "stderr",
     "output_type": "stream",
     "text": [
      "Ivy Default Cache set to: /home/train/.ivy2/cache\n",
      "The jars for the packages stored in: /home/train/.ivy2/jars\n",
      "org.apache.spark#spark-avro_2.12 added as a dependency\n",
      ":: resolving dependencies :: org.apache.spark#spark-submit-parent-42d6f5a2-665e-4116-84a6-e665523d6f26;1.0\n",
      "\tconfs: [default]\n",
      "\tfound org.apache.spark#spark-avro_2.12;3.1.1 in central\n",
      "\tfound org.spark-project.spark#unused;1.0.0 in central\n",
      "downloading https://repo1.maven.org/maven2/org/apache/spark/spark-avro_2.12/3.1.1/spark-avro_2.12-3.1.1.jar ...\n",
      "\t[SUCCESSFUL ] org.apache.spark#spark-avro_2.12;3.1.1!spark-avro_2.12.jar (165ms)\n",
      ":: resolution report :: resolve 4908ms :: artifacts dl 178ms\n",
      "\t:: modules in use:\n",
      "\torg.apache.spark#spark-avro_2.12;3.1.1 from central in [default]\n",
      "\torg.spark-project.spark#unused;1.0.0 from central in [default]\n",
      "\t---------------------------------------------------------------------\n",
      "\t|                  |            modules            ||   artifacts   |\n",
      "\t|       conf       | number| search|dwnlded|evicted|| number|dwnlded|\n",
      "\t---------------------------------------------------------------------\n",
      "\t|      default     |   2   |   1   |   1   |   0   ||   2   |   1   |\n",
      "\t---------------------------------------------------------------------\n",
      ":: retrieving :: org.apache.spark#spark-submit-parent-42d6f5a2-665e-4116-84a6-e665523d6f26\n",
      "\tconfs: [default]\n",
      "\t1 artifacts copied, 1 already retrieved (168kB/18ms)\n",
      "2023-02-19 11:50:34,433 WARN util.NativeCodeLoader: Unable to load native-hadoop library for your platform... using builtin-java classes where applicable\n",
      "Setting default log level to \"WARN\".\n",
      "To adjust logging level use sc.setLogLevel(newLevel). For SparkR, use setLogLevel(newLevel).\n",
      "2023-02-19 11:50:38,921 WARN util.Utils: Service 'SparkUI' could not bind on port 4040. Attempting port 4041.\n"
     ]
    }
   ],
   "source": [
    "spark = SparkSession.builder \\\n",
    ".master(\"local[2]\") \\\n",
    ".appName(\"Write to disk\") \\\n",
    ".config(\"spark.jars.packages\", \"org.apache.spark:spark-avro_2.12:3.1.1\") \\\n",
    ".getOrCreate()"
   ]
  },
  {
   "cell_type": "code",
   "execution_count": 3,
   "id": "7cc80989-3fbf-4a28-ad4b-903a61309a41",
   "metadata": {},
   "outputs": [],
   "source": [
    "# ! wget -O /home/train/datasets/Hotel_Reviews.csv.gz \\\n",
    "# https://github.com/erkansirin78/datasets/raw/master/Hotel_Reviews.csv.gz"
   ]
  },
  {
   "cell_type": "markdown",
   "id": "6f657e15-6487-407b-9b80-d8d1016ad65a",
   "metadata": {},
   "source": [
    "# Read Data"
   ]
  },
  {
   "cell_type": "code",
   "execution_count": 3,
   "id": "23c88d5c-d48a-4e29-9ccb-e928a5d279aa",
   "metadata": {},
   "outputs": [
    {
     "name": "stderr",
     "output_type": "stream",
     "text": [
      "                                                                                \r"
     ]
    }
   ],
   "source": [
    "df = spark.read \\\n",
    ".format(\"csv\") \\\n",
    ".option(\"header\", True) \\\n",
    ".option(\"sep\", \",\") \\\n",
    ".option(\"inferSchema\", True) \\\n",
    ".load(\"file:///home/train/datasets/Hotel_Reviews.csv.gz\") \\\n",
    ".withColumn(\"Review_Date\", F.to_date(\"Review_Date\", \"M/d/y\")) \\\n",
    ".withColumn(\"Tags\", F.split(F.col(\"Tags\"), \",\").cast(ArrayType(StringType())))"
   ]
  },
  {
   "cell_type": "code",
   "execution_count": 4,
   "id": "e0ffce71-59ae-4547-b349-9676dad160da",
   "metadata": {},
   "outputs": [
    {
     "data": {
      "text/html": [
       "<div>\n",
       "<style scoped>\n",
       "    .dataframe tbody tr th:only-of-type {\n",
       "        vertical-align: middle;\n",
       "    }\n",
       "\n",
       "    .dataframe tbody tr th {\n",
       "        vertical-align: top;\n",
       "    }\n",
       "\n",
       "    .dataframe thead th {\n",
       "        text-align: right;\n",
       "    }\n",
       "</style>\n",
       "<table border=\"1\" class=\"dataframe\">\n",
       "  <thead>\n",
       "    <tr style=\"text-align: right;\">\n",
       "      <th></th>\n",
       "      <th>Hotel_Address</th>\n",
       "      <th>Additional_Number_of_Scoring</th>\n",
       "      <th>Review_Date</th>\n",
       "      <th>Average_Score</th>\n",
       "      <th>Hotel_Name</th>\n",
       "      <th>Reviewer_Nationality</th>\n",
       "      <th>Negative_Review</th>\n",
       "      <th>Review_Total_Negative_Word_Counts</th>\n",
       "      <th>Total_Number_of_Reviews</th>\n",
       "      <th>Positive_Review</th>\n",
       "      <th>Review_Total_Positive_Word_Counts</th>\n",
       "      <th>Total_Number_of_Reviews_Reviewer_Has_Given</th>\n",
       "      <th>Reviewer_Score</th>\n",
       "      <th>Tags</th>\n",
       "      <th>days_since_review</th>\n",
       "      <th>lat</th>\n",
       "      <th>lng</th>\n",
       "    </tr>\n",
       "  </thead>\n",
       "  <tbody>\n",
       "    <tr>\n",
       "      <th>0</th>\n",
       "      <td>s Gravesandestraat 55 Oost 1092 AA Amsterdam ...</td>\n",
       "      <td>194</td>\n",
       "      <td>2017-08-03</td>\n",
       "      <td>7.7</td>\n",
       "      <td>Hotel Arena</td>\n",
       "      <td>Russia</td>\n",
       "      <td>I am so angry that i made this post available...</td>\n",
       "      <td>397</td>\n",
       "      <td>1403</td>\n",
       "      <td>Only the park outside of the hotel was beauti...</td>\n",
       "      <td>11</td>\n",
       "      <td>7</td>\n",
       "      <td>2.9</td>\n",
       "      <td>[[' Leisure trip ',  ' Couple ',  ' Duplex Dou...</td>\n",
       "      <td>0 days</td>\n",
       "      <td>52.3605759</td>\n",
       "      <td>4.9159683</td>\n",
       "    </tr>\n",
       "    <tr>\n",
       "      <th>1</th>\n",
       "      <td>s Gravesandestraat 55 Oost 1092 AA Amsterdam ...</td>\n",
       "      <td>194</td>\n",
       "      <td>2017-08-03</td>\n",
       "      <td>7.7</td>\n",
       "      <td>Hotel Arena</td>\n",
       "      <td>Ireland</td>\n",
       "      <td>No Negative</td>\n",
       "      <td>0</td>\n",
       "      <td>1403</td>\n",
       "      <td>No real complaints the hotel was great great ...</td>\n",
       "      <td>105</td>\n",
       "      <td>7</td>\n",
       "      <td>7.5</td>\n",
       "      <td>[[' Leisure trip ',  ' Couple ',  ' Duplex Dou...</td>\n",
       "      <td>0 days</td>\n",
       "      <td>52.3605759</td>\n",
       "      <td>4.9159683</td>\n",
       "    </tr>\n",
       "  </tbody>\n",
       "</table>\n",
       "</div>"
      ],
      "text/plain": [
       "                                       Hotel_Address  \\\n",
       "0   s Gravesandestraat 55 Oost 1092 AA Amsterdam ...   \n",
       "1   s Gravesandestraat 55 Oost 1092 AA Amsterdam ...   \n",
       "\n",
       "   Additional_Number_of_Scoring Review_Date  Average_Score   Hotel_Name  \\\n",
       "0                           194  2017-08-03            7.7  Hotel Arena   \n",
       "1                           194  2017-08-03            7.7  Hotel Arena   \n",
       "\n",
       "  Reviewer_Nationality                                    Negative_Review  \\\n",
       "0              Russia    I am so angry that i made this post available...   \n",
       "1             Ireland                                         No Negative   \n",
       "\n",
       "   Review_Total_Negative_Word_Counts  Total_Number_of_Reviews  \\\n",
       "0                                397                     1403   \n",
       "1                                  0                     1403   \n",
       "\n",
       "                                     Positive_Review  \\\n",
       "0   Only the park outside of the hotel was beauti...   \n",
       "1   No real complaints the hotel was great great ...   \n",
       "\n",
       "   Review_Total_Positive_Word_Counts  \\\n",
       "0                                 11   \n",
       "1                                105   \n",
       "\n",
       "   Total_Number_of_Reviews_Reviewer_Has_Given  Reviewer_Score  \\\n",
       "0                                           7             2.9   \n",
       "1                                           7             7.5   \n",
       "\n",
       "                                                Tags days_since_review  \\\n",
       "0  [[' Leisure trip ',  ' Couple ',  ' Duplex Dou...            0 days   \n",
       "1  [[' Leisure trip ',  ' Couple ',  ' Duplex Dou...            0 days   \n",
       "\n",
       "          lat        lng  \n",
       "0  52.3605759  4.9159683  \n",
       "1  52.3605759  4.9159683  "
      ]
     },
     "execution_count": 4,
     "metadata": {},
     "output_type": "execute_result"
    }
   ],
   "source": [
    "df.limit(2).toPandas()"
   ]
  },
  {
   "cell_type": "markdown",
   "id": "1e336ffc-8ce9-41d2-8ddc-04cd4a9f0f28",
   "metadata": {},
   "source": [
    "# Write to local disk csv format"
   ]
  },
  {
   "cell_type": "code",
   "execution_count": 21,
   "id": "08857fd0-96b8-4e2d-bcfb-0bb0d8f0609f",
   "metadata": {},
   "outputs": [
    {
     "name": "stderr",
     "output_type": "stream",
     "text": [
      "                                                                                \r"
     ]
    }
   ],
   "source": [
    "df.withColumn(\"Tags\", F.col(\"Tags\").cast(StringType())) \\\n",
    ".repartition(2) \\\n",
    ".write.format(\"csv\") \\\n",
    ".option(\"header\", True) \\\n",
    ".option(\"sep\", \",\") \\\n",
    ".mode(\"overwrite\") \\\n",
    ".save(\"file:///home/train/spark_out/hotel_csv\")"
   ]
  },
  {
   "cell_type": "code",
   "execution_count": null,
   "id": "8d6aea61-edcd-4299-af49-ab20e59ad8dd",
   "metadata": {},
   "outputs": [],
   "source": []
  },
  {
   "cell_type": "code",
   "execution_count": 22,
   "id": "451b4f5c-ce98-491f-982a-cd94c20f9a8a",
   "metadata": {},
   "outputs": [
    {
     "name": "stderr",
     "output_type": "stream",
     "text": [
      "                                                                                \r"
     ]
    }
   ],
   "source": [
    "df_source = spark.read \\\n",
    ".format(\"csv\") \\\n",
    ".option(\"header\", True) \\\n",
    ".option(\"sep\", \",\") \\\n",
    ".option(\"inferSchema\", True) \\\n",
    ".load(\"file:///home/train/spark_out/hotel_csv\") \\\n",
    ".withColumn(\"Review_Date\", F.to_date(\"Review_Date\", \"y-M-d\")) \\\n",
    ".withColumn(\"Tags\", F.split(F.col(\"Tags\"), \",\").cast(ArrayType(StringType())))"
   ]
  },
  {
   "cell_type": "code",
   "execution_count": 23,
   "id": "6cecddd0-74d4-4fb5-9eb6-847593efdab7",
   "metadata": {
    "tags": []
   },
   "outputs": [
    {
     "data": {
      "text/html": [
       "<div>\n",
       "<style scoped>\n",
       "    .dataframe tbody tr th:only-of-type {\n",
       "        vertical-align: middle;\n",
       "    }\n",
       "\n",
       "    .dataframe tbody tr th {\n",
       "        vertical-align: top;\n",
       "    }\n",
       "\n",
       "    .dataframe thead th {\n",
       "        text-align: right;\n",
       "    }\n",
       "</style>\n",
       "<table border=\"1\" class=\"dataframe\">\n",
       "  <thead>\n",
       "    <tr style=\"text-align: right;\">\n",
       "      <th></th>\n",
       "      <th>Hotel_Address</th>\n",
       "      <th>Additional_Number_of_Scoring</th>\n",
       "      <th>Review_Date</th>\n",
       "      <th>Average_Score</th>\n",
       "      <th>Hotel_Name</th>\n",
       "      <th>Reviewer_Nationality</th>\n",
       "      <th>Negative_Review</th>\n",
       "      <th>Review_Total_Negative_Word_Counts</th>\n",
       "      <th>Total_Number_of_Reviews</th>\n",
       "      <th>Positive_Review</th>\n",
       "      <th>Review_Total_Positive_Word_Counts</th>\n",
       "      <th>Total_Number_of_Reviews_Reviewer_Has_Given</th>\n",
       "      <th>Reviewer_Score</th>\n",
       "      <th>Tags</th>\n",
       "      <th>days_since_review</th>\n",
       "      <th>lat</th>\n",
       "      <th>lng</th>\n",
       "    </tr>\n",
       "  </thead>\n",
       "  <tbody>\n",
       "    <tr>\n",
       "      <th>0</th>\n",
       "      <td>163 Marsh Wall Docklands Tower Hamlets London ...</td>\n",
       "      <td>2682</td>\n",
       "      <td>2017-07-03</td>\n",
       "      <td>7.1</td>\n",
       "      <td>Britannia International Hotel Canary Wharf</td>\n",
       "      <td>Israel</td>\n",
       "      <td>Room wifi should be provided for free And TV s...</td>\n",
       "      <td>17</td>\n",
       "      <td>9086</td>\n",
       "      <td>The room interior decoration was nice and was ...</td>\n",
       "      <td>16</td>\n",
       "      <td>3</td>\n",
       "      <td>10.0</td>\n",
       "      <td>[[[' Leisure trip ',   ' Couple ',   ' Standar...</td>\n",
       "      <td>31 days</td>\n",
       "      <td>51.5019097</td>\n",
       "      <td>-0.0232208</td>\n",
       "    </tr>\n",
       "    <tr>\n",
       "      <th>1</th>\n",
       "      <td>Wilton Place Knightsbridge Westminster Borough...</td>\n",
       "      <td>70</td>\n",
       "      <td>2016-08-12</td>\n",
       "      <td>9.1</td>\n",
       "      <td>The Berkeley</td>\n",
       "      <td>Jersey</td>\n",
       "      <td>My room was on the 6th floor at the end of the...</td>\n",
       "      <td>123</td>\n",
       "      <td>232</td>\n",
       "      <td>The room and staff were nice</td>\n",
       "      <td>7</td>\n",
       "      <td>40</td>\n",
       "      <td>6.3</td>\n",
       "      <td>[[[' Business trip ',   ' Solo traveler ',   '...</td>\n",
       "      <td>356 day</td>\n",
       "      <td>51.5020912</td>\n",
       "      <td>-0.1577795</td>\n",
       "    </tr>\n",
       "  </tbody>\n",
       "</table>\n",
       "</div>"
      ],
      "text/plain": [
       "                                       Hotel_Address  \\\n",
       "0  163 Marsh Wall Docklands Tower Hamlets London ...   \n",
       "1  Wilton Place Knightsbridge Westminster Borough...   \n",
       "\n",
       "   Additional_Number_of_Scoring Review_Date  Average_Score  \\\n",
       "0                          2682  2017-07-03            7.1   \n",
       "1                            70  2016-08-12            9.1   \n",
       "\n",
       "                                   Hotel_Name Reviewer_Nationality  \\\n",
       "0  Britannia International Hotel Canary Wharf               Israel   \n",
       "1                                The Berkeley               Jersey   \n",
       "\n",
       "                                     Negative_Review  \\\n",
       "0  Room wifi should be provided for free And TV s...   \n",
       "1  My room was on the 6th floor at the end of the...   \n",
       "\n",
       "   Review_Total_Negative_Word_Counts  Total_Number_of_Reviews  \\\n",
       "0                                 17                     9086   \n",
       "1                                123                      232   \n",
       "\n",
       "                                     Positive_Review  \\\n",
       "0  The room interior decoration was nice and was ...   \n",
       "1                       The room and staff were nice   \n",
       "\n",
       "   Review_Total_Positive_Word_Counts  \\\n",
       "0                                 16   \n",
       "1                                  7   \n",
       "\n",
       "   Total_Number_of_Reviews_Reviewer_Has_Given  Reviewer_Score  \\\n",
       "0                                           3            10.0   \n",
       "1                                          40             6.3   \n",
       "\n",
       "                                                Tags days_since_review  \\\n",
       "0  [[[' Leisure trip ',   ' Couple ',   ' Standar...           31 days   \n",
       "1  [[[' Business trip ',   ' Solo traveler ',   '...           356 day   \n",
       "\n",
       "          lat         lng  \n",
       "0  51.5019097  -0.0232208  \n",
       "1  51.5020912  -0.1577795  "
      ]
     },
     "execution_count": 23,
     "metadata": {},
     "output_type": "execute_result"
    }
   ],
   "source": [
    "df_source.limit(2).toPandas()"
   ]
  },
  {
   "cell_type": "markdown",
   "id": "cc757489-18c7-47b6-9b02-f6096a244300",
   "metadata": {},
   "source": [
    "# parquet"
   ]
  },
  {
   "cell_type": "code",
   "execution_count": 24,
   "id": "e552a2dc-206b-4df6-bf42-40991dd64589",
   "metadata": {
    "tags": []
   },
   "outputs": [
    {
     "name": "stderr",
     "output_type": "stream",
     "text": [
      "                                                                                \r"
     ]
    }
   ],
   "source": [
    "df \\\n",
    ".repartition(2) \\\n",
    ".write \\\n",
    ".mode(\"overwrite\") \\\n",
    ".save(\"file:///home/train/spark_out/hotel_parquet\")"
   ]
  },
  {
   "cell_type": "code",
   "execution_count": null,
   "id": "ff9f747f-2594-4762-9d27-47a86dd0f19f",
   "metadata": {},
   "outputs": [],
   "source": []
  },
  {
   "cell_type": "code",
   "execution_count": 25,
   "id": "11741673-f2c6-4a5d-99ef-cd9f5ef364aa",
   "metadata": {
    "tags": []
   },
   "outputs": [],
   "source": [
    "df_from_parquet = spark.read.load(\"file:///home/train/spark_out/hotel_parquet\")"
   ]
  },
  {
   "cell_type": "code",
   "execution_count": 26,
   "id": "e600ec48-38b0-4b2a-972f-8b277e296f4f",
   "metadata": {
    "tags": []
   },
   "outputs": [
    {
     "name": "stderr",
     "output_type": "stream",
     "text": [
      "                                                                                \r"
     ]
    },
    {
     "data": {
      "text/html": [
       "<div>\n",
       "<style scoped>\n",
       "    .dataframe tbody tr th:only-of-type {\n",
       "        vertical-align: middle;\n",
       "    }\n",
       "\n",
       "    .dataframe tbody tr th {\n",
       "        vertical-align: top;\n",
       "    }\n",
       "\n",
       "    .dataframe thead th {\n",
       "        text-align: right;\n",
       "    }\n",
       "</style>\n",
       "<table border=\"1\" class=\"dataframe\">\n",
       "  <thead>\n",
       "    <tr style=\"text-align: right;\">\n",
       "      <th></th>\n",
       "      <th>Hotel_Address</th>\n",
       "      <th>Additional_Number_of_Scoring</th>\n",
       "      <th>Review_Date</th>\n",
       "      <th>Average_Score</th>\n",
       "      <th>Hotel_Name</th>\n",
       "      <th>Reviewer_Nationality</th>\n",
       "      <th>Negative_Review</th>\n",
       "      <th>Review_Total_Negative_Word_Counts</th>\n",
       "      <th>Total_Number_of_Reviews</th>\n",
       "      <th>Positive_Review</th>\n",
       "      <th>Review_Total_Positive_Word_Counts</th>\n",
       "      <th>Total_Number_of_Reviews_Reviewer_Has_Given</th>\n",
       "      <th>Reviewer_Score</th>\n",
       "      <th>Tags</th>\n",
       "      <th>days_since_review</th>\n",
       "      <th>lat</th>\n",
       "      <th>lng</th>\n",
       "    </tr>\n",
       "  </thead>\n",
       "  <tbody>\n",
       "    <tr>\n",
       "      <th>0</th>\n",
       "      <td>Plaza Paisos Catalans s n Sants Montju c 08014...</td>\n",
       "      <td>420</td>\n",
       "      <td>2016-05-26</td>\n",
       "      <td>8.6</td>\n",
       "      <td>Barcel Sants</td>\n",
       "      <td>Australia</td>\n",
       "      <td>Poor design of bathroom and toilet area</td>\n",
       "      <td>8</td>\n",
       "      <td>4379</td>\n",
       "      <td>Great location Loved the space theme</td>\n",
       "      <td>7</td>\n",
       "      <td>38</td>\n",
       "      <td>7.1</td>\n",
       "      <td>[[' Leisure trip ',  ' Couple ',  ' Deluxe Dou...</td>\n",
       "      <td>434 day</td>\n",
       "      <td>41.3798964</td>\n",
       "      <td>2.1412433</td>\n",
       "    </tr>\n",
       "    <tr>\n",
       "      <th>1</th>\n",
       "      <td>1 Addington Street Lambeth London SE1 7RY Unit...</td>\n",
       "      <td>1322</td>\n",
       "      <td>2016-12-31</td>\n",
       "      <td>8.4</td>\n",
       "      <td>Park Plaza County Hall London</td>\n",
       "      <td>United Kingdom</td>\n",
       "      <td>Could of got a better price booking direct</td>\n",
       "      <td>9</td>\n",
       "      <td>6117</td>\n",
       "      <td>Location</td>\n",
       "      <td>2</td>\n",
       "      <td>2</td>\n",
       "      <td>9.2</td>\n",
       "      <td>[[' Leisure trip ',  ' Family with young child...</td>\n",
       "      <td>215 day</td>\n",
       "      <td>51.5014001</td>\n",
       "      <td>-0.1160092</td>\n",
       "    </tr>\n",
       "  </tbody>\n",
       "</table>\n",
       "</div>"
      ],
      "text/plain": [
       "                                       Hotel_Address  \\\n",
       "0  Plaza Paisos Catalans s n Sants Montju c 08014...   \n",
       "1  1 Addington Street Lambeth London SE1 7RY Unit...   \n",
       "\n",
       "   Additional_Number_of_Scoring Review_Date  Average_Score  \\\n",
       "0                           420  2016-05-26            8.6   \n",
       "1                          1322  2016-12-31            8.4   \n",
       "\n",
       "                      Hotel_Name Reviewer_Nationality  \\\n",
       "0                   Barcel Sants           Australia    \n",
       "1  Park Plaza County Hall London      United Kingdom    \n",
       "\n",
       "                               Negative_Review  \\\n",
       "0      Poor design of bathroom and toilet area   \n",
       "1   Could of got a better price booking direct   \n",
       "\n",
       "   Review_Total_Negative_Word_Counts  Total_Number_of_Reviews  \\\n",
       "0                                  8                     4379   \n",
       "1                                  9                     6117   \n",
       "\n",
       "                         Positive_Review  Review_Total_Positive_Word_Counts  \\\n",
       "0   Great location Loved the space theme                                  7   \n",
       "1                               Location                                  2   \n",
       "\n",
       "   Total_Number_of_Reviews_Reviewer_Has_Given  Reviewer_Score  \\\n",
       "0                                          38             7.1   \n",
       "1                                           2             9.2   \n",
       "\n",
       "                                                Tags days_since_review  \\\n",
       "0  [[' Leisure trip ',  ' Couple ',  ' Deluxe Dou...           434 day   \n",
       "1  [[' Leisure trip ',  ' Family with young child...           215 day   \n",
       "\n",
       "          lat         lng  \n",
       "0  41.3798964   2.1412433  \n",
       "1  51.5014001  -0.1160092  "
      ]
     },
     "execution_count": 26,
     "metadata": {},
     "output_type": "execute_result"
    }
   ],
   "source": [
    "df_from_parquet.limit(2).toPandas()"
   ]
  },
  {
   "cell_type": "code",
   "execution_count": 27,
   "id": "ca6af3df-ee49-47b1-a3e5-b0f36dbc41a8",
   "metadata": {
    "tags": []
   },
   "outputs": [
    {
     "name": "stdout",
     "output_type": "stream",
     "text": [
      "root\n",
      " |-- Hotel_Address: string (nullable = true)\n",
      " |-- Additional_Number_of_Scoring: integer (nullable = true)\n",
      " |-- Review_Date: date (nullable = true)\n",
      " |-- Average_Score: double (nullable = true)\n",
      " |-- Hotel_Name: string (nullable = true)\n",
      " |-- Reviewer_Nationality: string (nullable = true)\n",
      " |-- Negative_Review: string (nullable = true)\n",
      " |-- Review_Total_Negative_Word_Counts: integer (nullable = true)\n",
      " |-- Total_Number_of_Reviews: integer (nullable = true)\n",
      " |-- Positive_Review: string (nullable = true)\n",
      " |-- Review_Total_Positive_Word_Counts: integer (nullable = true)\n",
      " |-- Total_Number_of_Reviews_Reviewer_Has_Given: integer (nullable = true)\n",
      " |-- Reviewer_Score: double (nullable = true)\n",
      " |-- Tags: array (nullable = true)\n",
      " |    |-- element: string (containsNull = true)\n",
      " |-- days_since_review: string (nullable = true)\n",
      " |-- lat: string (nullable = true)\n",
      " |-- lng: string (nullable = true)\n",
      "\n"
     ]
    }
   ],
   "source": [
    "df_from_parquet.printSchema()"
   ]
  },
  {
   "cell_type": "markdown",
   "id": "aa58e2a4-2175-4030-8b1a-46ec9865af7a",
   "metadata": {},
   "source": [
    "# ORC"
   ]
  },
  {
   "cell_type": "code",
   "execution_count": 28,
   "id": "e9188f74-7e33-40ab-ad1d-df2d1994ce16",
   "metadata": {
    "tags": []
   },
   "outputs": [
    {
     "name": "stderr",
     "output_type": "stream",
     "text": [
      "                                                                                \r"
     ]
    }
   ],
   "source": [
    "df \\\n",
    ".repartition(2) \\\n",
    ".write \\\n",
    ".mode(\"overwrite\") \\\n",
    ".orc(\"file:///home/train/spark_out/hotel_orc\")"
   ]
  },
  {
   "cell_type": "code",
   "execution_count": null,
   "id": "a40bfb5b-4d3c-4258-87fa-69ddbaf6af6b",
   "metadata": {},
   "outputs": [],
   "source": []
  },
  {
   "cell_type": "code",
   "execution_count": 29,
   "id": "16a8985b-4353-415d-bb40-e0859142fe69",
   "metadata": {
    "tags": []
   },
   "outputs": [],
   "source": [
    "df_from_orc = spark.read.orc(\"file:///home/train/spark_out/hotel_orc\")"
   ]
  },
  {
   "cell_type": "code",
   "execution_count": 30,
   "id": "f8a0f131-4bbc-4d56-8bdd-d48c443a59b2",
   "metadata": {
    "tags": []
   },
   "outputs": [
    {
     "name": "stderr",
     "output_type": "stream",
     "text": [
      "                                                                                \r"
     ]
    },
    {
     "data": {
      "text/html": [
       "<div>\n",
       "<style scoped>\n",
       "    .dataframe tbody tr th:only-of-type {\n",
       "        vertical-align: middle;\n",
       "    }\n",
       "\n",
       "    .dataframe tbody tr th {\n",
       "        vertical-align: top;\n",
       "    }\n",
       "\n",
       "    .dataframe thead th {\n",
       "        text-align: right;\n",
       "    }\n",
       "</style>\n",
       "<table border=\"1\" class=\"dataframe\">\n",
       "  <thead>\n",
       "    <tr style=\"text-align: right;\">\n",
       "      <th></th>\n",
       "      <th>Hotel_Address</th>\n",
       "      <th>Additional_Number_of_Scoring</th>\n",
       "      <th>Review_Date</th>\n",
       "      <th>Average_Score</th>\n",
       "      <th>Hotel_Name</th>\n",
       "      <th>Reviewer_Nationality</th>\n",
       "      <th>Negative_Review</th>\n",
       "      <th>Review_Total_Negative_Word_Counts</th>\n",
       "      <th>Total_Number_of_Reviews</th>\n",
       "      <th>Positive_Review</th>\n",
       "      <th>Review_Total_Positive_Word_Counts</th>\n",
       "      <th>Total_Number_of_Reviews_Reviewer_Has_Given</th>\n",
       "      <th>Reviewer_Score</th>\n",
       "      <th>Tags</th>\n",
       "      <th>days_since_review</th>\n",
       "      <th>lat</th>\n",
       "      <th>lng</th>\n",
       "    </tr>\n",
       "  </thead>\n",
       "  <tbody>\n",
       "    <tr>\n",
       "      <th>0</th>\n",
       "      <td>Plaza Paisos Catalans s n Sants Montju c 08014...</td>\n",
       "      <td>420</td>\n",
       "      <td>2016-05-26</td>\n",
       "      <td>8.6</td>\n",
       "      <td>Barcel Sants</td>\n",
       "      <td>Australia</td>\n",
       "      <td>Poor design of bathroom and toilet area</td>\n",
       "      <td>8</td>\n",
       "      <td>4379</td>\n",
       "      <td>Great location Loved the space theme</td>\n",
       "      <td>7</td>\n",
       "      <td>38</td>\n",
       "      <td>7.1</td>\n",
       "      <td>[[' Leisure trip ',  ' Couple ',  ' Deluxe Dou...</td>\n",
       "      <td>434 day</td>\n",
       "      <td>41.3798964</td>\n",
       "      <td>2.1412433</td>\n",
       "    </tr>\n",
       "    <tr>\n",
       "      <th>1</th>\n",
       "      <td>1 Addington Street Lambeth London SE1 7RY Unit...</td>\n",
       "      <td>1322</td>\n",
       "      <td>2016-12-31</td>\n",
       "      <td>8.4</td>\n",
       "      <td>Park Plaza County Hall London</td>\n",
       "      <td>United Kingdom</td>\n",
       "      <td>Could of got a better price booking direct</td>\n",
       "      <td>9</td>\n",
       "      <td>6117</td>\n",
       "      <td>Location</td>\n",
       "      <td>2</td>\n",
       "      <td>2</td>\n",
       "      <td>9.2</td>\n",
       "      <td>[[' Leisure trip ',  ' Family with young child...</td>\n",
       "      <td>215 day</td>\n",
       "      <td>51.5014001</td>\n",
       "      <td>-0.1160092</td>\n",
       "    </tr>\n",
       "  </tbody>\n",
       "</table>\n",
       "</div>"
      ],
      "text/plain": [
       "                                       Hotel_Address  \\\n",
       "0  Plaza Paisos Catalans s n Sants Montju c 08014...   \n",
       "1  1 Addington Street Lambeth London SE1 7RY Unit...   \n",
       "\n",
       "   Additional_Number_of_Scoring Review_Date  Average_Score  \\\n",
       "0                           420  2016-05-26            8.6   \n",
       "1                          1322  2016-12-31            8.4   \n",
       "\n",
       "                      Hotel_Name Reviewer_Nationality  \\\n",
       "0                   Barcel Sants           Australia    \n",
       "1  Park Plaza County Hall London      United Kingdom    \n",
       "\n",
       "                               Negative_Review  \\\n",
       "0      Poor design of bathroom and toilet area   \n",
       "1   Could of got a better price booking direct   \n",
       "\n",
       "   Review_Total_Negative_Word_Counts  Total_Number_of_Reviews  \\\n",
       "0                                  8                     4379   \n",
       "1                                  9                     6117   \n",
       "\n",
       "                         Positive_Review  Review_Total_Positive_Word_Counts  \\\n",
       "0   Great location Loved the space theme                                  7   \n",
       "1                               Location                                  2   \n",
       "\n",
       "   Total_Number_of_Reviews_Reviewer_Has_Given  Reviewer_Score  \\\n",
       "0                                          38             7.1   \n",
       "1                                           2             9.2   \n",
       "\n",
       "                                                Tags days_since_review  \\\n",
       "0  [[' Leisure trip ',  ' Couple ',  ' Deluxe Dou...           434 day   \n",
       "1  [[' Leisure trip ',  ' Family with young child...           215 day   \n",
       "\n",
       "          lat         lng  \n",
       "0  41.3798964   2.1412433  \n",
       "1  51.5014001  -0.1160092  "
      ]
     },
     "execution_count": 30,
     "metadata": {},
     "output_type": "execute_result"
    }
   ],
   "source": [
    "df_from_orc.limit(2).toPandas()"
   ]
  },
  {
   "cell_type": "code",
   "execution_count": 31,
   "id": "15fccc92-fbaf-49b2-a5c2-3e0039d2dd1f",
   "metadata": {
    "tags": []
   },
   "outputs": [
    {
     "name": "stdout",
     "output_type": "stream",
     "text": [
      "root\n",
      " |-- Hotel_Address: string (nullable = true)\n",
      " |-- Additional_Number_of_Scoring: integer (nullable = true)\n",
      " |-- Review_Date: date (nullable = true)\n",
      " |-- Average_Score: double (nullable = true)\n",
      " |-- Hotel_Name: string (nullable = true)\n",
      " |-- Reviewer_Nationality: string (nullable = true)\n",
      " |-- Negative_Review: string (nullable = true)\n",
      " |-- Review_Total_Negative_Word_Counts: integer (nullable = true)\n",
      " |-- Total_Number_of_Reviews: integer (nullable = true)\n",
      " |-- Positive_Review: string (nullable = true)\n",
      " |-- Review_Total_Positive_Word_Counts: integer (nullable = true)\n",
      " |-- Total_Number_of_Reviews_Reviewer_Has_Given: integer (nullable = true)\n",
      " |-- Reviewer_Score: double (nullable = true)\n",
      " |-- Tags: array (nullable = true)\n",
      " |    |-- element: string (containsNull = true)\n",
      " |-- days_since_review: string (nullable = true)\n",
      " |-- lat: string (nullable = true)\n",
      " |-- lng: string (nullable = true)\n",
      "\n"
     ]
    }
   ],
   "source": [
    "df_from_orc.printSchema()"
   ]
  },
  {
   "cell_type": "markdown",
   "id": "f72a6e96-38a5-40c2-90a9-155e37a3f96f",
   "metadata": {},
   "source": [
    "# JSON"
   ]
  },
  {
   "cell_type": "code",
   "execution_count": 32,
   "id": "d47a6629-0cd3-4d0e-b562-ec4fefee120a",
   "metadata": {
    "tags": []
   },
   "outputs": [
    {
     "name": "stderr",
     "output_type": "stream",
     "text": [
      "                                                                                \r"
     ]
    }
   ],
   "source": [
    "df \\\n",
    ".repartition(2) \\\n",
    ".write.format(\"json\") \\\n",
    ".mode(\"overwrite\") \\\n",
    ".save(\"file:///home/train/spark_out/hotel_json\")"
   ]
  },
  {
   "cell_type": "code",
   "execution_count": 33,
   "id": "5519c050-ee73-4fd0-8654-e8cc8b01f439",
   "metadata": {
    "tags": []
   },
   "outputs": [
    {
     "name": "stderr",
     "output_type": "stream",
     "text": [
      "                                                                                \r"
     ]
    }
   ],
   "source": [
    "df_from_json = spark.read.json(\"file:///home/train/spark_out/hotel_json\")"
   ]
  },
  {
   "cell_type": "code",
   "execution_count": 34,
   "id": "6e056f1b-92b9-46fc-956c-d651a5075c08",
   "metadata": {
    "tags": []
   },
   "outputs": [
    {
     "data": {
      "text/html": [
       "<div>\n",
       "<style scoped>\n",
       "    .dataframe tbody tr th:only-of-type {\n",
       "        vertical-align: middle;\n",
       "    }\n",
       "\n",
       "    .dataframe tbody tr th {\n",
       "        vertical-align: top;\n",
       "    }\n",
       "\n",
       "    .dataframe thead th {\n",
       "        text-align: right;\n",
       "    }\n",
       "</style>\n",
       "<table border=\"1\" class=\"dataframe\">\n",
       "  <thead>\n",
       "    <tr style=\"text-align: right;\">\n",
       "      <th></th>\n",
       "      <th>Additional_Number_of_Scoring</th>\n",
       "      <th>Average_Score</th>\n",
       "      <th>Hotel_Address</th>\n",
       "      <th>Hotel_Name</th>\n",
       "      <th>Negative_Review</th>\n",
       "      <th>Positive_Review</th>\n",
       "      <th>Review_Date</th>\n",
       "      <th>Review_Total_Negative_Word_Counts</th>\n",
       "      <th>Review_Total_Positive_Word_Counts</th>\n",
       "      <th>Reviewer_Nationality</th>\n",
       "      <th>Reviewer_Score</th>\n",
       "      <th>Tags</th>\n",
       "      <th>Total_Number_of_Reviews</th>\n",
       "      <th>Total_Number_of_Reviews_Reviewer_Has_Given</th>\n",
       "      <th>days_since_review</th>\n",
       "      <th>lat</th>\n",
       "      <th>lng</th>\n",
       "    </tr>\n",
       "  </thead>\n",
       "  <tbody>\n",
       "    <tr>\n",
       "      <th>0</th>\n",
       "      <td>420</td>\n",
       "      <td>8.6</td>\n",
       "      <td>Plaza Paisos Catalans s n Sants Montju c 08014...</td>\n",
       "      <td>Barcel Sants</td>\n",
       "      <td>Poor design of bathroom and toilet area</td>\n",
       "      <td>Great location Loved the space theme</td>\n",
       "      <td>2016-05-26</td>\n",
       "      <td>8</td>\n",
       "      <td>7</td>\n",
       "      <td>Australia</td>\n",
       "      <td>7.1</td>\n",
       "      <td>[[' Leisure trip ',  ' Couple ',  ' Deluxe Dou...</td>\n",
       "      <td>4379</td>\n",
       "      <td>38</td>\n",
       "      <td>434 day</td>\n",
       "      <td>41.3798964</td>\n",
       "      <td>2.1412433</td>\n",
       "    </tr>\n",
       "    <tr>\n",
       "      <th>1</th>\n",
       "      <td>1322</td>\n",
       "      <td>8.4</td>\n",
       "      <td>1 Addington Street Lambeth London SE1 7RY Unit...</td>\n",
       "      <td>Park Plaza County Hall London</td>\n",
       "      <td>Could of got a better price booking direct</td>\n",
       "      <td>Location</td>\n",
       "      <td>2016-12-31</td>\n",
       "      <td>9</td>\n",
       "      <td>2</td>\n",
       "      <td>United Kingdom</td>\n",
       "      <td>9.2</td>\n",
       "      <td>[[' Leisure trip ',  ' Family with young child...</td>\n",
       "      <td>6117</td>\n",
       "      <td>2</td>\n",
       "      <td>215 day</td>\n",
       "      <td>51.5014001</td>\n",
       "      <td>-0.1160092</td>\n",
       "    </tr>\n",
       "  </tbody>\n",
       "</table>\n",
       "</div>"
      ],
      "text/plain": [
       "   Additional_Number_of_Scoring  Average_Score  \\\n",
       "0                           420            8.6   \n",
       "1                          1322            8.4   \n",
       "\n",
       "                                       Hotel_Address  \\\n",
       "0  Plaza Paisos Catalans s n Sants Montju c 08014...   \n",
       "1  1 Addington Street Lambeth London SE1 7RY Unit...   \n",
       "\n",
       "                      Hotel_Name                              Negative_Review  \\\n",
       "0                   Barcel Sants      Poor design of bathroom and toilet area   \n",
       "1  Park Plaza County Hall London   Could of got a better price booking direct   \n",
       "\n",
       "                         Positive_Review Review_Date  \\\n",
       "0   Great location Loved the space theme  2016-05-26   \n",
       "1                               Location  2016-12-31   \n",
       "\n",
       "   Review_Total_Negative_Word_Counts  Review_Total_Positive_Word_Counts  \\\n",
       "0                                  8                                  7   \n",
       "1                                  9                                  2   \n",
       "\n",
       "  Reviewer_Nationality  Reviewer_Score  \\\n",
       "0           Australia              7.1   \n",
       "1      United Kingdom              9.2   \n",
       "\n",
       "                                                Tags  Total_Number_of_Reviews  \\\n",
       "0  [[' Leisure trip ',  ' Couple ',  ' Deluxe Dou...                     4379   \n",
       "1  [[' Leisure trip ',  ' Family with young child...                     6117   \n",
       "\n",
       "   Total_Number_of_Reviews_Reviewer_Has_Given days_since_review         lat  \\\n",
       "0                                          38           434 day  41.3798964   \n",
       "1                                           2           215 day  51.5014001   \n",
       "\n",
       "          lng  \n",
       "0   2.1412433  \n",
       "1  -0.1160092  "
      ]
     },
     "execution_count": 34,
     "metadata": {},
     "output_type": "execute_result"
    }
   ],
   "source": [
    "df_from_json.limit(2).toPandas()"
   ]
  },
  {
   "cell_type": "code",
   "execution_count": 35,
   "id": "983dc04c-a6ad-4460-9bf5-964c50c62358",
   "metadata": {
    "tags": []
   },
   "outputs": [
    {
     "name": "stdout",
     "output_type": "stream",
     "text": [
      "root\n",
      " |-- Additional_Number_of_Scoring: long (nullable = true)\n",
      " |-- Average_Score: double (nullable = true)\n",
      " |-- Hotel_Address: string (nullable = true)\n",
      " |-- Hotel_Name: string (nullable = true)\n",
      " |-- Negative_Review: string (nullable = true)\n",
      " |-- Positive_Review: string (nullable = true)\n",
      " |-- Review_Date: string (nullable = true)\n",
      " |-- Review_Total_Negative_Word_Counts: long (nullable = true)\n",
      " |-- Review_Total_Positive_Word_Counts: long (nullable = true)\n",
      " |-- Reviewer_Nationality: string (nullable = true)\n",
      " |-- Reviewer_Score: double (nullable = true)\n",
      " |-- Tags: array (nullable = true)\n",
      " |    |-- element: string (containsNull = true)\n",
      " |-- Total_Number_of_Reviews: long (nullable = true)\n",
      " |-- Total_Number_of_Reviews_Reviewer_Has_Given: long (nullable = true)\n",
      " |-- days_since_review: string (nullable = true)\n",
      " |-- lat: string (nullable = true)\n",
      " |-- lng: string (nullable = true)\n",
      "\n"
     ]
    }
   ],
   "source": [
    "df_from_json.printSchema()"
   ]
  },
  {
   "cell_type": "markdown",
   "id": "fb1afd7c-6ff5-4771-a78a-d6ddeb6e8f43",
   "metadata": {},
   "source": [
    "# Avro"
   ]
  },
  {
   "cell_type": "code",
   "execution_count": 4,
   "id": "c5e356e8-a70d-45b1-a160-8d4d088f025f",
   "metadata": {
    "tags": []
   },
   "outputs": [
    {
     "name": "stderr",
     "output_type": "stream",
     "text": [
      "                                                                                \r"
     ]
    }
   ],
   "source": [
    "df \\\n",
    ".repartition(2) \\\n",
    ".write.format(\"avro\") \\\n",
    ".mode(\"overwrite\") \\\n",
    ".save(\"file:///home/train/spark_out/hotel_avro\")"
   ]
  },
  {
   "cell_type": "code",
   "execution_count": null,
   "id": "4b04e1cd-b25e-43cd-92b5-32a98395d00d",
   "metadata": {},
   "outputs": [],
   "source": []
  },
  {
   "cell_type": "code",
   "execution_count": 6,
   "id": "0a61b75a-e790-4e9e-a020-fccc9dac29cd",
   "metadata": {
    "tags": []
   },
   "outputs": [],
   "source": [
    "df_from_avro = spark.read.format(\"avro\").load(\"file:///home/train/spark_out/hotel_avro\")"
   ]
  },
  {
   "cell_type": "code",
   "execution_count": 7,
   "id": "a5b65778-1d18-42df-a50a-c7c81ef36910",
   "metadata": {
    "tags": []
   },
   "outputs": [
    {
     "data": {
      "text/html": [
       "<div>\n",
       "<style scoped>\n",
       "    .dataframe tbody tr th:only-of-type {\n",
       "        vertical-align: middle;\n",
       "    }\n",
       "\n",
       "    .dataframe tbody tr th {\n",
       "        vertical-align: top;\n",
       "    }\n",
       "\n",
       "    .dataframe thead th {\n",
       "        text-align: right;\n",
       "    }\n",
       "</style>\n",
       "<table border=\"1\" class=\"dataframe\">\n",
       "  <thead>\n",
       "    <tr style=\"text-align: right;\">\n",
       "      <th></th>\n",
       "      <th>Hotel_Address</th>\n",
       "      <th>Additional_Number_of_Scoring</th>\n",
       "      <th>Review_Date</th>\n",
       "      <th>Average_Score</th>\n",
       "      <th>Hotel_Name</th>\n",
       "      <th>Reviewer_Nationality</th>\n",
       "      <th>Negative_Review</th>\n",
       "      <th>Review_Total_Negative_Word_Counts</th>\n",
       "      <th>Total_Number_of_Reviews</th>\n",
       "      <th>Positive_Review</th>\n",
       "      <th>Review_Total_Positive_Word_Counts</th>\n",
       "      <th>Total_Number_of_Reviews_Reviewer_Has_Given</th>\n",
       "      <th>Reviewer_Score</th>\n",
       "      <th>Tags</th>\n",
       "      <th>days_since_review</th>\n",
       "      <th>lat</th>\n",
       "      <th>lng</th>\n",
       "    </tr>\n",
       "  </thead>\n",
       "  <tbody>\n",
       "    <tr>\n",
       "      <th>0</th>\n",
       "      <td>Plaza Paisos Catalans s n Sants Montju c 08014...</td>\n",
       "      <td>420</td>\n",
       "      <td>2016-05-26</td>\n",
       "      <td>8.6</td>\n",
       "      <td>Barcel Sants</td>\n",
       "      <td>Australia</td>\n",
       "      <td>Poor design of bathroom and toilet area</td>\n",
       "      <td>8</td>\n",
       "      <td>4379</td>\n",
       "      <td>Great location Loved the space theme</td>\n",
       "      <td>7</td>\n",
       "      <td>38</td>\n",
       "      <td>7.1</td>\n",
       "      <td>[[' Leisure trip ',  ' Couple ',  ' Deluxe Dou...</td>\n",
       "      <td>434 day</td>\n",
       "      <td>41.3798964</td>\n",
       "      <td>2.1412433</td>\n",
       "    </tr>\n",
       "    <tr>\n",
       "      <th>1</th>\n",
       "      <td>1 Addington Street Lambeth London SE1 7RY Unit...</td>\n",
       "      <td>1322</td>\n",
       "      <td>2016-12-31</td>\n",
       "      <td>8.4</td>\n",
       "      <td>Park Plaza County Hall London</td>\n",
       "      <td>United Kingdom</td>\n",
       "      <td>Could of got a better price booking direct</td>\n",
       "      <td>9</td>\n",
       "      <td>6117</td>\n",
       "      <td>Location</td>\n",
       "      <td>2</td>\n",
       "      <td>2</td>\n",
       "      <td>9.2</td>\n",
       "      <td>[[' Leisure trip ',  ' Family with young child...</td>\n",
       "      <td>215 day</td>\n",
       "      <td>51.5014001</td>\n",
       "      <td>-0.1160092</td>\n",
       "    </tr>\n",
       "  </tbody>\n",
       "</table>\n",
       "</div>"
      ],
      "text/plain": [
       "                                       Hotel_Address  \\\n",
       "0  Plaza Paisos Catalans s n Sants Montju c 08014...   \n",
       "1  1 Addington Street Lambeth London SE1 7RY Unit...   \n",
       "\n",
       "   Additional_Number_of_Scoring Review_Date  Average_Score  \\\n",
       "0                           420  2016-05-26            8.6   \n",
       "1                          1322  2016-12-31            8.4   \n",
       "\n",
       "                      Hotel_Name Reviewer_Nationality  \\\n",
       "0                   Barcel Sants           Australia    \n",
       "1  Park Plaza County Hall London      United Kingdom    \n",
       "\n",
       "                               Negative_Review  \\\n",
       "0      Poor design of bathroom and toilet area   \n",
       "1   Could of got a better price booking direct   \n",
       "\n",
       "   Review_Total_Negative_Word_Counts  Total_Number_of_Reviews  \\\n",
       "0                                  8                     4379   \n",
       "1                                  9                     6117   \n",
       "\n",
       "                         Positive_Review  Review_Total_Positive_Word_Counts  \\\n",
       "0   Great location Loved the space theme                                  7   \n",
       "1                               Location                                  2   \n",
       "\n",
       "   Total_Number_of_Reviews_Reviewer_Has_Given  Reviewer_Score  \\\n",
       "0                                          38             7.1   \n",
       "1                                           2             9.2   \n",
       "\n",
       "                                                Tags days_since_review  \\\n",
       "0  [[' Leisure trip ',  ' Couple ',  ' Deluxe Dou...           434 day   \n",
       "1  [[' Leisure trip ',  ' Family with young child...           215 day   \n",
       "\n",
       "          lat         lng  \n",
       "0  41.3798964   2.1412433  \n",
       "1  51.5014001  -0.1160092  "
      ]
     },
     "execution_count": 7,
     "metadata": {},
     "output_type": "execute_result"
    }
   ],
   "source": [
    "df_from_avro.limit(2).toPandas()"
   ]
  },
  {
   "cell_type": "code",
   "execution_count": 8,
   "id": "85ee1e70-e12c-48f8-8287-39981b0be5b9",
   "metadata": {
    "tags": []
   },
   "outputs": [
    {
     "name": "stdout",
     "output_type": "stream",
     "text": [
      "root\n",
      " |-- Hotel_Address: string (nullable = true)\n",
      " |-- Additional_Number_of_Scoring: integer (nullable = true)\n",
      " |-- Review_Date: date (nullable = true)\n",
      " |-- Average_Score: double (nullable = true)\n",
      " |-- Hotel_Name: string (nullable = true)\n",
      " |-- Reviewer_Nationality: string (nullable = true)\n",
      " |-- Negative_Review: string (nullable = true)\n",
      " |-- Review_Total_Negative_Word_Counts: integer (nullable = true)\n",
      " |-- Total_Number_of_Reviews: integer (nullable = true)\n",
      " |-- Positive_Review: string (nullable = true)\n",
      " |-- Review_Total_Positive_Word_Counts: integer (nullable = true)\n",
      " |-- Total_Number_of_Reviews_Reviewer_Has_Given: integer (nullable = true)\n",
      " |-- Reviewer_Score: double (nullable = true)\n",
      " |-- Tags: array (nullable = true)\n",
      " |    |-- element: string (containsNull = true)\n",
      " |-- days_since_review: string (nullable = true)\n",
      " |-- lat: string (nullable = true)\n",
      " |-- lng: string (nullable = true)\n",
      "\n"
     ]
    }
   ],
   "source": [
    "df_from_avro.printSchema()"
   ]
  },
  {
   "cell_type": "code",
   "execution_count": 15,
   "id": "3e00b580-6a43-4189-b9f7-8cfb55f754cd",
   "metadata": {
    "tags": []
   },
   "outputs": [],
   "source": [
    "spark.stop()"
   ]
  },
  {
   "cell_type": "code",
   "execution_count": null,
   "id": "6a9e4234-ad29-4591-8d1c-90e8507e368a",
   "metadata": {},
   "outputs": [],
   "source": []
  }
 ],
 "metadata": {
  "kernelspec": {
   "display_name": "venvspark",
   "language": "python",
   "name": "venvspark"
  },
  "language_info": {
   "codemirror_mode": {
    "name": "ipython",
    "version": 3
   },
   "file_extension": ".py",
   "mimetype": "text/x-python",
   "name": "python",
   "nbconvert_exporter": "python",
   "pygments_lexer": "ipython3",
   "version": "3.8.12"
  }
 },
 "nbformat": 4,
 "nbformat_minor": 5
}
