{
 "cells": [
  {
   "cell_type": "code",
   "execution_count": 1,
   "id": "25509a3e-09d9-428f-9b96-c1e9d4718091",
   "metadata": {
    "tags": []
   },
   "outputs": [],
   "source": [
    "from pyspark.sql import SparkSession, functions as F\n",
    "from pyspark.sql.types import StructType, StructField, DoubleType, StringType, IntegerType, DateType, ArrayType, FloatType"
   ]
  },
  {
   "cell_type": "code",
   "execution_count": 2,
   "id": "c29e0d68-39fb-4c37-9b2e-1a5d184dc3eb",
   "metadata": {
    "tags": []
   },
   "outputs": [
    {
     "name": "stderr",
     "output_type": "stream",
     "text": [
      "WARNING: An illegal reflective access operation has occurred\n",
      "WARNING: Illegal reflective access by org.apache.spark.unsafe.Platform (file:/opt/manual/spark-3.1.1-bin-hadoop3.2/jars/spark-unsafe_2.12-3.1.1.jar) to constructor java.nio.DirectByteBuffer(long,int)\n",
      "WARNING: Please consider reporting this to the maintainers of org.apache.spark.unsafe.Platform\n",
      "WARNING: Use --illegal-access=warn to enable warnings of further illegal reflective access operations\n",
      "WARNING: All illegal access operations will be denied in a future release\n",
      "2023-02-19 10:03:51,445 WARN util.NativeCodeLoader: Unable to load native-hadoop library for your platform... using builtin-java classes where applicable\n",
      "Setting default log level to \"WARN\".\n",
      "To adjust logging level use sc.setLogLevel(newLevel). For SparkR, use setLogLevel(newLevel).\n"
     ]
    }
   ],
   "source": [
    "spark = SparkSession.builder \\\n",
    ".master(\"local[2]\") \\\n",
    ".appName(\"Datetime Ops\") \\\n",
    ".getOrCreate()"
   ]
  },
  {
   "cell_type": "code",
   "execution_count": 3,
   "id": "7cc80989-3fbf-4a28-ad4b-903a61309a41",
   "metadata": {},
   "outputs": [
    {
     "name": "stdout",
     "output_type": "stream",
     "text": [
      "--2023-02-19 10:04:07--  https://github.com/erkansirin78/datasets/raw/master/Fire_Incidents.csv.gz\n",
      "Resolving github.com (github.com)... 140.82.121.3\n",
      "Connecting to github.com (github.com)|140.82.121.3|:443... connected.\n",
      "HTTP request sent, awaiting response... 302 Found\n",
      "Location: https://raw.githubusercontent.com/erkansirin78/datasets/master/Fire_Incidents.csv.gz [following]\n",
      "--2023-02-19 10:04:07--  https://raw.githubusercontent.com/erkansirin78/datasets/master/Fire_Incidents.csv.gz\n",
      "Resolving raw.githubusercontent.com (raw.githubusercontent.com)... 185.199.111.133, 185.199.110.133, 185.199.108.133, ...\n",
      "Connecting to raw.githubusercontent.com (raw.githubusercontent.com)|185.199.111.133|:443... connected.\n",
      "HTTP request sent, awaiting response... 200 OK\n",
      "Length: 41002480 (39M) [application/octet-stream]\n",
      "Saving to: ‘/home/train/datasets/Fire_Incidents.csv.gz’\n",
      "\n",
      "100%[======================================>] 41,002,480  6.93MB/s   in 6.5s   \n",
      "\n",
      "2023-02-19 10:04:16 (6.02 MB/s) - ‘/home/train/datasets/Fire_Incidents.csv.gz’ saved [41002480/41002480]\n",
      "\n"
     ]
    }
   ],
   "source": [
    "! wget -O ~/datasets/Fire_Incidents.csv.gz \\\n",
    "https://github.com/erkansirin78/datasets/raw/master/Fire_Incidents.csv.gz"
   ]
  },
  {
   "cell_type": "markdown",
   "id": "6f657e15-6487-407b-9b80-d8d1016ad65a",
   "metadata": {},
   "source": [
    "# Read Data"
   ]
  },
  {
   "cell_type": "code",
   "execution_count": 4,
   "id": "23c88d5c-d48a-4e29-9ccb-e928a5d279aa",
   "metadata": {},
   "outputs": [
    {
     "name": "stderr",
     "output_type": "stream",
     "text": [
      "                                                                                \r"
     ]
    }
   ],
   "source": [
    "df = spark.read \\\n",
    ".format(\"csv\") \\\n",
    ".option(\"header\", True) \\\n",
    ".option(\"sep\", \",\") \\\n",
    ".option(\"inferSchema\", True) \\\n",
    ".load(\"file:///home/train/datasets/Fire_Incidents.csv.gz\")"
   ]
  },
  {
   "cell_type": "code",
   "execution_count": 5,
   "id": "50c2e863-58d8-451f-9b16-e60d058d7cdb",
   "metadata": {
    "tags": []
   },
   "outputs": [],
   "source": [
    "spark.conf.set(\"spark.sql.repl.eagerEval.enabled\", True)"
   ]
  },
  {
   "cell_type": "code",
   "execution_count": 6,
   "id": "e0ffce71-59ae-4547-b349-9676dad160da",
   "metadata": {},
   "outputs": [
    {
     "name": "stderr",
     "output_type": "stream",
     "text": [
      "2023-02-19 10:05:22,808 WARN util.package: Truncated the string representation of a plan since it was too large. This behavior can be adjusted by setting 'spark.sql.debug.maxToStringFields'.\n"
     ]
    },
    {
     "data": {
      "text/html": [
       "<table border='1'>\n",
       "<tr><th>Incident Number</th><th>Exposure Number</th><th>ID</th><th>Address</th><th>Incident Date</th><th>Call Number</th><th>Alarm DtTm</th><th>Arrival DtTm</th><th>Close DtTm</th><th>City</th><th>ZIP Code</th><th>Battalion</th><th>Station Area</th><th>Box</th><th>Suppression Units</th><th>Suppression Personnel</th><th>EMS Units</th><th>EMS Personnel</th><th>Other Units</th><th>Other Personnel</th><th>First Unit On Scene</th><th>Estimated Property Loss</th><th>Estimated Contents Loss</th><th>Fire Fatalities</th><th>Fire Injuries</th><th>Civilian Fatalities</th><th>Civilian Injuries</th><th>Number of Alarms</th><th>Primary Situation</th><th>Mutual Aid</th><th>Action Taken Primary</th><th>Action Taken Secondary</th><th>Action Taken Other</th><th>Detector Alerted Occupants</th><th>Property Use</th><th>Area of Fire Origin</th><th>Ignition Cause</th><th>Ignition Factor Primary</th><th>Ignition Factor Secondary</th><th>Heat Source</th><th>Item First Ignited</th><th>Human Factors Associated with Ignition</th><th>Structure Type</th><th>Structure Status</th><th>Floor of Fire Origin</th><th>Fire Spread</th><th>No Flame Spead</th><th>Number of floors with minimum damage</th><th>Number of floors with significant damage</th><th>Number of floors with heavy damage</th><th>Number of floors with extreme damage</th><th>Detectors Present</th><th>Detector Type</th><th>Detector Operation</th><th>Detector Effectiveness</th><th>Detector Failure Reason</th><th>Automatic Extinguishing System Present</th><th>Automatic Extinguishing Sytem Type</th><th>Automatic Extinguishing Sytem Perfomance</th><th>Automatic Extinguishing Sytem Failure Reason</th><th>Number of Sprinkler Heads Operating</th><th>Supervisor District</th><th>Analysis Neighborhood</th><th>point</th><th>Neighborhoods (old)</th><th>Zip Codes</th><th>Fire Prevention Districts</th><th>Police Districts</th><th>Supervisor Districts</th><th>Civic Center Harm Reduction Project Boundary</th><th>2017 Fix It Zones</th><th>HSOC Zones</th><th>Central Market/Tenderloin Boundary</th><th>Central Market/Tenderloin Boundary Polygon - Updated</th><th>HSOC Zones as of 2018-06-05</th><th>Neighborhoods</th><th>SF Find Neighborhoods</th><th>Current Police Districts</th><th>Current Supervisor Districts</th><th>Analysis Neighborhoods</th></tr>\n",
       "<tr><td>18066225</td><td>0</td><td>180662250</td><td>Gateview/bayside</td><td>06/05/2018</td><td>181563203</td><td>06/05/2018 06:38:...</td><td>06/05/2018 06:41:...</td><td>06/05/2018 06:42:...</td><td>null</td><td>null</td><td>B03</td><td>48</td><td>2931</td><td>2</td><td>9</td><td>0</td><td>0</td><td>0</td><td>0</td><td>null</td><td>null</td><td>null</td><td>0</td><td>0</td><td>0</td><td>0</td><td>null</td><td>500 service call,...</td><td>n none</td><td>86 investigate</td><td>null</td><td>null</td><td>null</td><td>000 property use,...</td><td>null</td><td>null</td><td>null</td><td>null</td><td>null</td><td>null</td><td>null</td><td>null</td><td>null</td><td>null</td><td>null</td><td>na</td><td>null</td><td>null</td><td>null</td><td>null</td><td>null</td><td>null</td><td>null</td><td>null</td><td>null</td><td>null</td><td>null</td><td>null</td><td>null</td><td>null</td><td>null</td><td>null</td><td>null</td><td>null</td><td>null</td><td>null</td><td>null</td><td>null</td><td>null</td><td>null</td><td>null</td><td>null</td><td>null</td><td>null</td><td>null</td><td>null</td><td>null</td><td>null</td><td>null</td></tr>\n",
       "<tr><td>19102786</td><td>0</td><td>191027860</td><td>Bayside Drive</td><td>08/29/2019</td><td>192413977</td><td>08/29/2019 08:09:...</td><td>08/29/2019 08:11:...</td><td>08/29/2019 08:12:...</td><td>null</td><td>null</td><td>B03</td><td>48</td><td>2931</td><td>2</td><td>9</td><td>0</td><td>0</td><td>0</td><td>0</td><td>null</td><td>null</td><td>null</td><td>0</td><td>0</td><td>0</td><td>0</td><td>null</td><td>700 false alarm o...</td><td>n none</td><td>00 action taken, ...</td><td>null</td><td>null</td><td>null</td><td>nnn none</td><td>null</td><td>null</td><td>null</td><td>null</td><td>null</td><td>null</td><td>null</td><td>null</td><td>null</td><td>null</td><td>null</td><td>na</td><td>null</td><td>null</td><td>null</td><td>null</td><td>null</td><td>null</td><td>null</td><td>null</td><td>null</td><td>null</td><td>null</td><td>null</td><td>null</td><td>null</td><td>null</td><td>null</td><td>null</td><td>null</td><td>null</td><td>null</td><td>null</td><td>null</td><td>null</td><td>null</td><td>null</td><td>null</td><td>null</td><td>null</td><td>null</td><td>null</td><td>null</td><td>null</td><td>null</td></tr>\n",
       "</table>\n"
      ],
      "text/plain": [
       "+---------------+---------------+---------+----------------+-------------+-----------+--------------------+--------------------+--------------------+----+--------+---------+------------+----+-----------------+---------------------+---------+-------------+-----------+---------------+-------------------+-----------------------+-----------------------+---------------+-------------+-------------------+-----------------+----------------+--------------------+----------+--------------------+----------------------+------------------+--------------------------+--------------------+-------------------+--------------+-----------------------+-------------------------+-----------+------------------+--------------------------------------+--------------+----------------+--------------------+-----------+--------------+------------------------------------+----------------------------------------+----------------------------------+------------------------------------+-----------------+-------------+------------------+----------------------+-----------------------+--------------------------------------+----------------------------------+----------------------------------------+--------------------------------------------+-----------------------------------+-------------------+---------------------+-----+-------------------+---------+-------------------------+----------------+--------------------+--------------------------------------------+-----------------+----------+----------------------------------+----------------------------------------------------+---------------------------+-------------+---------------------+------------------------+----------------------------+----------------------+\n",
       "|Incident Number|Exposure Number|       ID|         Address|Incident Date|Call Number|          Alarm DtTm|        Arrival DtTm|          Close DtTm|City|ZIP Code|Battalion|Station Area| Box|Suppression Units|Suppression Personnel|EMS Units|EMS Personnel|Other Units|Other Personnel|First Unit On Scene|Estimated Property Loss|Estimated Contents Loss|Fire Fatalities|Fire Injuries|Civilian Fatalities|Civilian Injuries|Number of Alarms|   Primary Situation|Mutual Aid|Action Taken Primary|Action Taken Secondary|Action Taken Other|Detector Alerted Occupants|        Property Use|Area of Fire Origin|Ignition Cause|Ignition Factor Primary|Ignition Factor Secondary|Heat Source|Item First Ignited|Human Factors Associated with Ignition|Structure Type|Structure Status|Floor of Fire Origin|Fire Spread|No Flame Spead|Number of floors with minimum damage|Number of floors with significant damage|Number of floors with heavy damage|Number of floors with extreme damage|Detectors Present|Detector Type|Detector Operation|Detector Effectiveness|Detector Failure Reason|Automatic Extinguishing System Present|Automatic Extinguishing Sytem Type|Automatic Extinguishing Sytem Perfomance|Automatic Extinguishing Sytem Failure Reason|Number of Sprinkler Heads Operating|Supervisor District|Analysis Neighborhood|point|Neighborhoods (old)|Zip Codes|Fire Prevention Districts|Police Districts|Supervisor Districts|Civic Center Harm Reduction Project Boundary|2017 Fix It Zones|HSOC Zones|Central Market/Tenderloin Boundary|Central Market/Tenderloin Boundary Polygon - Updated|HSOC Zones as of 2018-06-05|Neighborhoods|SF Find Neighborhoods|Current Police Districts|Current Supervisor Districts|Analysis Neighborhoods|\n",
       "+---------------+---------------+---------+----------------+-------------+-----------+--------------------+--------------------+--------------------+----+--------+---------+------------+----+-----------------+---------------------+---------+-------------+-----------+---------------+-------------------+-----------------------+-----------------------+---------------+-------------+-------------------+-----------------+----------------+--------------------+----------+--------------------+----------------------+------------------+--------------------------+--------------------+-------------------+--------------+-----------------------+-------------------------+-----------+------------------+--------------------------------------+--------------+----------------+--------------------+-----------+--------------+------------------------------------+----------------------------------------+----------------------------------+------------------------------------+-----------------+-------------+------------------+----------------------+-----------------------+--------------------------------------+----------------------------------+----------------------------------------+--------------------------------------------+-----------------------------------+-------------------+---------------------+-----+-------------------+---------+-------------------------+----------------+--------------------+--------------------------------------------+-----------------+----------+----------------------------------+----------------------------------------------------+---------------------------+-------------+---------------------+------------------------+----------------------------+----------------------+\n",
       "|       18066225|              0|180662250|Gateview/bayside|   06/05/2018|  181563203|06/05/2018 06:38:...|06/05/2018 06:41:...|06/05/2018 06:42:...|null|    null|      B03|          48|2931|                2|                    9|        0|            0|          0|              0|               null|                   null|                   null|              0|            0|                  0|                0|            null|500 service call,...|    n none|      86 investigate|                  null|              null|                      null|000 property use,...|               null|          null|                   null|                     null|       null|              null|                                  null|          null|            null|                null|       null|            na|                                null|                                    null|                              null|                                null|             null|         null|              null|                  null|                   null|                                  null|                              null|                                    null|                                        null|                               null|               null|                 null| null|               null|     null|                     null|            null|                null|                                        null|             null|      null|                              null|                                                null|                       null|         null|                 null|                    null|                        null|                  null|\n",
       "|       19102786|              0|191027860|   Bayside Drive|   08/29/2019|  192413977|08/29/2019 08:09:...|08/29/2019 08:11:...|08/29/2019 08:12:...|null|    null|      B03|          48|2931|                2|                    9|        0|            0|          0|              0|               null|                   null|                   null|              0|            0|                  0|                0|            null|700 false alarm o...|    n none|00 action taken, ...|                  null|              null|                      null|            nnn none|               null|          null|                   null|                     null|       null|              null|                                  null|          null|            null|                null|       null|            na|                                null|                                    null|                              null|                                null|             null|         null|              null|                  null|                   null|                                  null|                              null|                                    null|                                        null|                               null|               null|                 null| null|               null|     null|                     null|            null|                null|                                        null|             null|      null|                              null|                                                null|                       null|         null|                 null|                    null|                        null|                  null|\n",
       "+---------------+---------------+---------+----------------+-------------+-----------+--------------------+--------------------+--------------------+----+--------+---------+------------+----+-----------------+---------------------+---------+-------------+-----------+---------------+-------------------+-----------------------+-----------------------+---------------+-------------+-------------------+-----------------+----------------+--------------------+----------+--------------------+----------------------+------------------+--------------------------+--------------------+-------------------+--------------+-----------------------+-------------------------+-----------+------------------+--------------------------------------+--------------+----------------+--------------------+-----------+--------------+------------------------------------+----------------------------------------+----------------------------------+------------------------------------+-----------------+-------------+------------------+----------------------+-----------------------+--------------------------------------+----------------------------------+----------------------------------------+--------------------------------------------+-----------------------------------+-------------------+---------------------+-----+-------------------+---------+-------------------------+----------------+--------------------+--------------------------------------------+-----------------+----------+----------------------------------+----------------------------------------------------+---------------------------+-------------+---------------------+------------------------+----------------------------+----------------------+"
      ]
     },
     "execution_count": 6,
     "metadata": {},
     "output_type": "execute_result"
    }
   ],
   "source": [
    "df.limit(2)"
   ]
  },
  {
   "cell_type": "code",
   "execution_count": 7,
   "id": "639ed679-2c8d-4b4e-a14d-e16df2047961",
   "metadata": {
    "tags": []
   },
   "outputs": [],
   "source": [
    "ts_cols = ['Incident Date','Alarm DtTm']"
   ]
  },
  {
   "cell_type": "code",
   "execution_count": 8,
   "id": "6a9e4234-ad29-4591-8d1c-90e8507e368a",
   "metadata": {},
   "outputs": [
    {
     "name": "stdout",
     "output_type": "stream",
     "text": [
      "+-------------+----------------------+\n",
      "|Incident Date|Alarm DtTm            |\n",
      "+-------------+----------------------+\n",
      "|06/05/2018   |06/05/2018 06:38:01 PM|\n",
      "|08/29/2019   |08/29/2019 08:09:25 PM|\n",
      "|06/14/2018   |06/14/2018 08:37:56 PM|\n",
      "|12/30/2005   |12/30/2005 10:40:27 PM|\n",
      "+-------------+----------------------+\n",
      "only showing top 4 rows\n",
      "\n"
     ]
    }
   ],
   "source": [
    "df.select(ts_cols).show(n=4, truncate=False)"
   ]
  },
  {
   "cell_type": "code",
   "execution_count": 9,
   "id": "bee87370-0265-474d-9766-334637d4bd05",
   "metadata": {},
   "outputs": [],
   "source": [
    "df2 = df.select(ts_cols)"
   ]
  },
  {
   "cell_type": "code",
   "execution_count": 10,
   "id": "0556f0fb-16ef-4573-bfc1-9fff8967db9d",
   "metadata": {
    "tags": []
   },
   "outputs": [
    {
     "name": "stdout",
     "output_type": "stream",
     "text": [
      "root\n",
      " |-- Incident Date: string (nullable = true)\n",
      " |-- Alarm DtTm: string (nullable = true)\n",
      "\n"
     ]
    }
   ],
   "source": [
    "df2.printSchema()"
   ]
  },
  {
   "cell_type": "markdown",
   "id": "927b031a-c217-4115-a8fa-9bae61a0f14a",
   "metadata": {},
   "source": [
    "# From String to Date Time Conversion"
   ]
  },
  {
   "cell_type": "code",
   "execution_count": 31,
   "id": "ffff7097-9cf8-4309-addb-2860a68e53ae",
   "metadata": {
    "tags": []
   },
   "outputs": [],
   "source": [
    "Incident_Date_Format = \"M/d/y\"\n",
    "Alarm_DtTm_Format = \"M/d/y h:m:s a\""
   ]
  },
  {
   "cell_type": "code",
   "execution_count": 32,
   "id": "797d6261-8138-46a9-8d50-62b6dc9563b7",
   "metadata": {
    "tags": []
   },
   "outputs": [],
   "source": [
    "df3 = df2.withColumn(\"Incident Date\", F.to_date(F.col(\"Incident Date\"), Incident_Date_Format)) \\\n",
    ".withColumn(\"Alarm DtTm\", F.to_timestamp(F.col(\"Alarm DtTm\"), Alarm_DtTm_Format))"
   ]
  },
  {
   "cell_type": "code",
   "execution_count": 33,
   "id": "e663988c-cd72-4fea-a1c6-2e1e550fff6f",
   "metadata": {
    "tags": []
   },
   "outputs": [
    {
     "name": "stdout",
     "output_type": "stream",
     "text": [
      "+-------------+-------------------+\n",
      "|Incident Date|Alarm DtTm         |\n",
      "+-------------+-------------------+\n",
      "|2018-06-05   |2018-06-05 18:38:01|\n",
      "|2019-08-29   |2019-08-29 20:09:25|\n",
      "|2018-06-14   |2018-06-14 20:37:56|\n",
      "|2005-12-30   |2005-12-30 22:40:27|\n",
      "|2018-09-13   |2018-09-13 20:30:38|\n",
      "|2018-12-02   |2018-12-02 10:52:18|\n",
      "|2018-12-24   |2018-12-24 14:03:57|\n",
      "|2019-02-12   |2019-02-12 17:56:22|\n",
      "|2019-05-14   |2019-05-14 12:52:45|\n",
      "|2006-01-10   |2006-01-10 19:46:06|\n",
      "|2005-10-15   |2005-10-15 22:06:25|\n",
      "|2017-12-12   |2017-12-12 08:14:47|\n",
      "|2007-03-12   |2007-03-12 13:47:40|\n",
      "|2005-12-04   |2005-12-04 19:23:44|\n",
      "+-------------+-------------------+\n",
      "only showing top 14 rows\n",
      "\n"
     ]
    }
   ],
   "source": [
    "df3.show(n=14, truncate=False)"
   ]
  },
  {
   "cell_type": "code",
   "execution_count": 27,
   "id": "2bbf825e-7efd-4625-8fba-047b00c7c609",
   "metadata": {
    "tags": []
   },
   "outputs": [
    {
     "name": "stdout",
     "output_type": "stream",
     "text": [
      "root\n",
      " |-- Incident Date: date (nullable = true)\n",
      " |-- Alarm DtTm: timestamp (nullable = true)\n",
      "\n"
     ]
    }
   ],
   "source": [
    "df3.printSchema()"
   ]
  },
  {
   "cell_type": "markdown",
   "id": "db3f3a4e-f05d-46c1-aa49-bcf712895a0b",
   "metadata": {},
   "source": [
    "# Date and Time Operations - unix_timestamp and from_unixtime"
   ]
  },
  {
   "cell_type": "code",
   "execution_count": 35,
   "id": "d805fb04-afdf-400e-842d-6cea1139e029",
   "metadata": {
    "tags": []
   },
   "outputs": [],
   "source": [
    "df4 = df3.withColumn(\"Alarm DtTm_Linux\", F.unix_timestamp(F.col(\"Alarm DtTm\")))"
   ]
  },
  {
   "cell_type": "code",
   "execution_count": 36,
   "id": "93b9c6fb-d237-4bbf-bad0-5eee8e2b25bc",
   "metadata": {
    "tags": []
   },
   "outputs": [
    {
     "name": "stdout",
     "output_type": "stream",
     "text": [
      "+-------------+-------------------+----------------+\n",
      "|Incident Date|Alarm DtTm         |Alarm DtTm_Linux|\n",
      "+-------------+-------------------+----------------+\n",
      "|2018-06-05   |2018-06-05 18:38:01|1528213081      |\n",
      "|2019-08-29   |2019-08-29 20:09:25|1567098565      |\n",
      "|2018-06-14   |2018-06-14 20:37:56|1528997876      |\n",
      "|2005-12-30   |2005-12-30 22:40:27|1135975227      |\n",
      "|2018-09-13   |2018-09-13 20:30:38|1536859838      |\n",
      "|2018-12-02   |2018-12-02 10:52:18|1543737138      |\n",
      "|2018-12-24   |2018-12-24 14:03:57|1545649437      |\n",
      "|2019-02-12   |2019-02-12 17:56:22|1549983382      |\n",
      "|2019-05-14   |2019-05-14 12:52:45|1557827565      |\n",
      "|2006-01-10   |2006-01-10 19:46:06|1136915166      |\n",
      "|2005-10-15   |2005-10-15 22:06:25|1129403185      |\n",
      "|2017-12-12   |2017-12-12 08:14:47|1513055687      |\n",
      "|2007-03-12   |2007-03-12 13:47:40|1173700060      |\n",
      "|2005-12-04   |2005-12-04 19:23:44|1133717024      |\n",
      "+-------------+-------------------+----------------+\n",
      "only showing top 14 rows\n",
      "\n"
     ]
    }
   ],
   "source": [
    "df4.show(n=14, truncate=False)"
   ]
  },
  {
   "cell_type": "code",
   "execution_count": 39,
   "id": "22cd6652-67ca-4ded-9977-56c706e743fe",
   "metadata": {
    "tags": []
   },
   "outputs": [],
   "source": [
    "df5 = df4.withColumn(\"From_Linux_DtTm\", F.to_timestamp(F.col(\"Alarm DtTm_Linux\")))"
   ]
  },
  {
   "cell_type": "code",
   "execution_count": 40,
   "id": "0d81a77a-7611-4da6-aa20-128170c26e21",
   "metadata": {
    "tags": []
   },
   "outputs": [
    {
     "name": "stdout",
     "output_type": "stream",
     "text": [
      "+-------------+-------------------+----------------+-------------------+\n",
      "|Incident Date|Alarm DtTm         |Alarm DtTm_Linux|From_Linux_DtTm    |\n",
      "+-------------+-------------------+----------------+-------------------+\n",
      "|2018-06-05   |2018-06-05 18:38:01|1528213081      |2018-06-05 18:38:01|\n",
      "|2019-08-29   |2019-08-29 20:09:25|1567098565      |2019-08-29 20:09:25|\n",
      "|2018-06-14   |2018-06-14 20:37:56|1528997876      |2018-06-14 20:37:56|\n",
      "|2005-12-30   |2005-12-30 22:40:27|1135975227      |2005-12-30 22:40:27|\n",
      "|2018-09-13   |2018-09-13 20:30:38|1536859838      |2018-09-13 20:30:38|\n",
      "|2018-12-02   |2018-12-02 10:52:18|1543737138      |2018-12-02 10:52:18|\n",
      "|2018-12-24   |2018-12-24 14:03:57|1545649437      |2018-12-24 14:03:57|\n",
      "|2019-02-12   |2019-02-12 17:56:22|1549983382      |2019-02-12 17:56:22|\n",
      "|2019-05-14   |2019-05-14 12:52:45|1557827565      |2019-05-14 12:52:45|\n",
      "|2006-01-10   |2006-01-10 19:46:06|1136915166      |2006-01-10 19:46:06|\n",
      "|2005-10-15   |2005-10-15 22:06:25|1129403185      |2005-10-15 22:06:25|\n",
      "|2017-12-12   |2017-12-12 08:14:47|1513055687      |2017-12-12 08:14:47|\n",
      "|2007-03-12   |2007-03-12 13:47:40|1173700060      |2007-03-12 13:47:40|\n",
      "|2005-12-04   |2005-12-04 19:23:44|1133717024      |2005-12-04 19:23:44|\n",
      "+-------------+-------------------+----------------+-------------------+\n",
      "only showing top 14 rows\n",
      "\n"
     ]
    }
   ],
   "source": [
    "df5.show(n=14, truncate=False)"
   ]
  },
  {
   "cell_type": "markdown",
   "id": "f0ab3190-9744-4f47-82de-6a6a84b6b79e",
   "metadata": {},
   "source": [
    "# From Date Time to String Conversion"
   ]
  },
  {
   "cell_type": "code",
   "execution_count": 50,
   "id": "fda60427-2c7b-4dd1-92ee-1c5cc1cb3e12",
   "metadata": {
    "tags": []
   },
   "outputs": [],
   "source": [
    "df6 = df5.withColumn(\"BI_Format_of_Alarm\", F.date_format(F.col(\"Alarm DtTm\"), \"y--M--d E\"))"
   ]
  },
  {
   "cell_type": "code",
   "execution_count": 51,
   "id": "c941d99f-5279-43ed-bdf9-0c1ce65cc61c",
   "metadata": {
    "tags": []
   },
   "outputs": [
    {
     "name": "stdout",
     "output_type": "stream",
     "text": [
      "+-------------+-------------------+----------------+-------------------+------------------+\n",
      "|Incident Date|Alarm DtTm         |Alarm DtTm_Linux|From_Linux_DtTm    |BI_Format_of_Alarm|\n",
      "+-------------+-------------------+----------------+-------------------+------------------+\n",
      "|2018-06-05   |2018-06-05 18:38:01|1528213081      |2018-06-05 18:38:01|2018--6--5 Tue    |\n",
      "|2019-08-29   |2019-08-29 20:09:25|1567098565      |2019-08-29 20:09:25|2019--8--29 Thu   |\n",
      "|2018-06-14   |2018-06-14 20:37:56|1528997876      |2018-06-14 20:37:56|2018--6--14 Thu   |\n",
      "|2005-12-30   |2005-12-30 22:40:27|1135975227      |2005-12-30 22:40:27|2005--12--30 Fri  |\n",
      "|2018-09-13   |2018-09-13 20:30:38|1536859838      |2018-09-13 20:30:38|2018--9--13 Thu   |\n",
      "|2018-12-02   |2018-12-02 10:52:18|1543737138      |2018-12-02 10:52:18|2018--12--2 Sun   |\n",
      "|2018-12-24   |2018-12-24 14:03:57|1545649437      |2018-12-24 14:03:57|2018--12--24 Mon  |\n",
      "|2019-02-12   |2019-02-12 17:56:22|1549983382      |2019-02-12 17:56:22|2019--2--12 Tue   |\n",
      "|2019-05-14   |2019-05-14 12:52:45|1557827565      |2019-05-14 12:52:45|2019--5--14 Tue   |\n",
      "|2006-01-10   |2006-01-10 19:46:06|1136915166      |2006-01-10 19:46:06|2006--1--10 Tue   |\n",
      "|2005-10-15   |2005-10-15 22:06:25|1129403185      |2005-10-15 22:06:25|2005--10--15 Sat  |\n",
      "|2017-12-12   |2017-12-12 08:14:47|1513055687      |2017-12-12 08:14:47|2017--12--12 Tue  |\n",
      "|2007-03-12   |2007-03-12 13:47:40|1173700060      |2007-03-12 13:47:40|2007--3--12 Mon   |\n",
      "|2005-12-04   |2005-12-04 19:23:44|1133717024      |2005-12-04 19:23:44|2005--12--4 Sun   |\n",
      "+-------------+-------------------+----------------+-------------------+------------------+\n",
      "only showing top 14 rows\n",
      "\n"
     ]
    }
   ],
   "source": [
    "df6.show(n=14, truncate=False)"
   ]
  },
  {
   "cell_type": "markdown",
   "id": "ec0ca8d9-a660-481c-8928-dbea96546e09",
   "metadata": {},
   "source": [
    "# Year"
   ]
  },
  {
   "cell_type": "code",
   "execution_count": 61,
   "id": "6a2df273-1ddc-4d3a-822b-68cd1c1f1dbc",
   "metadata": {
    "tags": []
   },
   "outputs": [],
   "source": [
    "df7 = df6.withColumn(\"Incident_Year\", F.weekofyear(F.to_timestamp(F.col(\"Alarm DtTm_Linux\"))))"
   ]
  },
  {
   "cell_type": "code",
   "execution_count": 62,
   "id": "88316aef-1f1f-4733-81b2-796501c6cbca",
   "metadata": {
    "tags": []
   },
   "outputs": [
    {
     "name": "stdout",
     "output_type": "stream",
     "text": [
      "+-------------+-------------------+----------------+-------------------+------------------+-------------+\n",
      "|Incident Date|Alarm DtTm         |Alarm DtTm_Linux|From_Linux_DtTm    |BI_Format_of_Alarm|Incident_Year|\n",
      "+-------------+-------------------+----------------+-------------------+------------------+-------------+\n",
      "|2018-06-05   |2018-06-05 18:38:01|1528213081      |2018-06-05 18:38:01|2018--6--5 Tue    |23           |\n",
      "|2019-08-29   |2019-08-29 20:09:25|1567098565      |2019-08-29 20:09:25|2019--8--29 Thu   |35           |\n",
      "|2018-06-14   |2018-06-14 20:37:56|1528997876      |2018-06-14 20:37:56|2018--6--14 Thu   |24           |\n",
      "|2005-12-30   |2005-12-30 22:40:27|1135975227      |2005-12-30 22:40:27|2005--12--30 Fri  |52           |\n",
      "|2018-09-13   |2018-09-13 20:30:38|1536859838      |2018-09-13 20:30:38|2018--9--13 Thu   |37           |\n",
      "|2018-12-02   |2018-12-02 10:52:18|1543737138      |2018-12-02 10:52:18|2018--12--2 Sun   |48           |\n",
      "|2018-12-24   |2018-12-24 14:03:57|1545649437      |2018-12-24 14:03:57|2018--12--24 Mon  |52           |\n",
      "|2019-02-12   |2019-02-12 17:56:22|1549983382      |2019-02-12 17:56:22|2019--2--12 Tue   |7            |\n",
      "|2019-05-14   |2019-05-14 12:52:45|1557827565      |2019-05-14 12:52:45|2019--5--14 Tue   |20           |\n",
      "|2006-01-10   |2006-01-10 19:46:06|1136915166      |2006-01-10 19:46:06|2006--1--10 Tue   |2            |\n",
      "|2005-10-15   |2005-10-15 22:06:25|1129403185      |2005-10-15 22:06:25|2005--10--15 Sat  |41           |\n",
      "|2017-12-12   |2017-12-12 08:14:47|1513055687      |2017-12-12 08:14:47|2017--12--12 Tue  |50           |\n",
      "|2007-03-12   |2007-03-12 13:47:40|1173700060      |2007-03-12 13:47:40|2007--3--12 Mon   |11           |\n",
      "|2005-12-04   |2005-12-04 19:23:44|1133717024      |2005-12-04 19:23:44|2005--12--4 Sun   |48           |\n",
      "+-------------+-------------------+----------------+-------------------+------------------+-------------+\n",
      "only showing top 14 rows\n",
      "\n"
     ]
    }
   ],
   "source": [
    "df7.show(n=14, truncate=False)"
   ]
  },
  {
   "cell_type": "code",
   "execution_count": null,
   "id": "3e1e74bf-0f14-40bf-bdfd-3a0f0e5c4121",
   "metadata": {},
   "outputs": [],
   "source": []
  },
  {
   "cell_type": "code",
   "execution_count": null,
   "id": "7a9cad30-374b-48d3-be12-06001108b0da",
   "metadata": {},
   "outputs": [],
   "source": []
  },
  {
   "cell_type": "code",
   "execution_count": null,
   "id": "f76cb199-954c-428e-828f-3a943dc5e190",
   "metadata": {},
   "outputs": [],
   "source": []
  },
  {
   "cell_type": "code",
   "execution_count": null,
   "id": "6fab6007-e38f-41d2-a204-a46f2efa052e",
   "metadata": {},
   "outputs": [],
   "source": []
  },
  {
   "cell_type": "code",
   "execution_count": null,
   "id": "cf60e575-c64d-45d6-9a1a-a7272e1f4d47",
   "metadata": {},
   "outputs": [],
   "source": []
  },
  {
   "cell_type": "code",
   "execution_count": null,
   "id": "a643a8b2-8681-45fb-be97-390cc047206c",
   "metadata": {},
   "outputs": [],
   "source": []
  },
  {
   "cell_type": "code",
   "execution_count": null,
   "id": "cdcc5eae-7a46-4711-95ba-346afef070a6",
   "metadata": {},
   "outputs": [],
   "source": []
  }
 ],
 "metadata": {
  "kernelspec": {
   "display_name": "venvspark",
   "language": "python",
   "name": "venvspark"
  },
  "language_info": {
   "codemirror_mode": {
    "name": "ipython",
    "version": 3
   },
   "file_extension": ".py",
   "mimetype": "text/x-python",
   "name": "python",
   "nbconvert_exporter": "python",
   "pygments_lexer": "ipython3",
   "version": "3.8.12"
  }
 },
 "nbformat": 4,
 "nbformat_minor": 5
}
