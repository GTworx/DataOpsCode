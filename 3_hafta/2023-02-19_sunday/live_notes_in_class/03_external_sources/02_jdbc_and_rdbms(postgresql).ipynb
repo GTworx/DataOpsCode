{
 "cells": [
  {
   "cell_type": "code",
   "execution_count": 24,
   "id": "abc7eb57-7eec-44d9-93e6-1c305a785fd6",
   "metadata": {
    "tags": []
   },
   "outputs": [],
   "source": [
    "from pyspark.sql import SparkSession, functions as F\n",
    "from pyspark.sql.types import *"
   ]
  },
  {
   "cell_type": "code",
   "execution_count": 2,
   "id": "bd3f3df9-72ac-4de4-88c5-f334873fff42",
   "metadata": {
    "tags": []
   },
   "outputs": [
    {
     "name": "stderr",
     "output_type": "stream",
     "text": [
      "WARNING: An illegal reflective access operation has occurred\n",
      "WARNING: Illegal reflective access by org.apache.spark.unsafe.Platform (file:/opt/manual/spark-3.1.1-bin-hadoop3.2/jars/spark-unsafe_2.12-3.1.1.jar) to constructor java.nio.DirectByteBuffer(long,int)\n",
      "WARNING: Please consider reporting this to the maintainers of org.apache.spark.unsafe.Platform\n",
      "WARNING: Use --illegal-access=warn to enable warnings of further illegal reflective access operations\n",
      "WARNING: All illegal access operations will be denied in a future release\n",
      "2023-02-19 12:20:12,413 WARN util.NativeCodeLoader: Unable to load native-hadoop library for your platform... using builtin-java classes where applicable\n",
      "Setting default log level to \"WARN\".\n",
      "To adjust logging level use sc.setLogLevel(newLevel). For SparkR, use setLogLevel(newLevel).\n",
      "2023-02-19 12:20:19,089 WARN yarn.Client: Neither spark.yarn.jars nor spark.yarn.archive is set, falling back to uploading libraries under SPARK_HOME.\n"
     ]
    }
   ],
   "source": [
    "spark = (SparkSession.builder\n",
    "         .appName(\"JDBC source\")\n",
    "         .master(\"yarn\")\n",
    "         .enableHiveSupport()\n",
    "         .getOrCreate()\n",
    "        )"
   ]
  },
  {
   "cell_type": "code",
   "execution_count": 10,
   "id": "e2534011-e762-4bdb-a4e5-6f9c2f2b841a",
   "metadata": {
    "tags": []
   },
   "outputs": [],
   "source": [
    "import configparser"
   ]
  },
  {
   "cell_type": "code",
   "execution_count": 17,
   "id": "2b420d6a-bdf7-4426-9c4e-1a568259f0d8",
   "metadata": {
    "tags": []
   },
   "outputs": [],
   "source": [
    "config = configparser.RawConfigParser()\n",
    "\n",
    "config.read('/opt/db_conn')\n",
    "user_name = config.get('DB', 'user_name')\n",
    "password = config.get('DB', 'password')\n",
    "db_ip = config.get('DB', 'db_ip')"
   ]
  },
  {
   "cell_type": "code",
   "execution_count": null,
   "id": "4bed1c1f-b452-479a-95d4-1bda56672478",
   "metadata": {
    "tags": []
   },
   "outputs": [],
   "source": []
  },
  {
   "cell_type": "code",
   "execution_count": null,
   "id": "b427c4e6-0681-4c42-9e7e-5adaad839a87",
   "metadata": {},
   "outputs": [],
   "source": []
  },
  {
   "cell_type": "markdown",
   "id": "d788258d-be89-4165-988a-cc09f5300077",
   "metadata": {},
   "source": [
    "# Read from Postgresql"
   ]
  },
  {
   "cell_type": "code",
   "execution_count": 18,
   "id": "429c3368-5f2f-4d33-8e99-95b8d762cd22",
   "metadata": {
    "tags": []
   },
   "outputs": [],
   "source": [
    "df_books = (spark.read.format(\"jdbc\")\n",
    ".option(\"driver\", \"org.postgresql.Driver\")\n",
    ".option(\"url\", f\"jdbc:postgresql://{db_ip}:5432/traindb\")\n",
    ".option(\"dbtable\", \"books\")\n",
    ".option(\"user\", user_name)\n",
    ".option(\"password\", password)\n",
    ".load())"
   ]
  },
  {
   "cell_type": "code",
   "execution_count": 19,
   "id": "f3b02db1-a6a8-4f41-8871-9afb7594919f",
   "metadata": {
    "tags": []
   },
   "outputs": [
    {
     "name": "stdout",
     "output_type": "stream",
     "text": [
      "+---+--------------------+----------+---------+---------+--------------+------------+---------+------------+\n",
      "| id|           book_name|      isbn|  book_id|    price|price_currency|rating_count|author_id|publisher_id|\n",
      "+---+--------------------+----------+---------+---------+--------------+------------+---------+------------+\n",
      "| 13|Madam Bovary (Cil...|6050948752|489127179|25.115735|           TRY|           5|  4098249|       46868|\n",
      "| 22|Mai ve Siyah (Ele...|9750523533|492625951|    25.34|           TRY|          17|  3066057|       63217|\n",
      "| 27|               Nutuk|9759914288|  9927355| 11.48147|           TRY|          23|  9705003|       46868|\n",
      "| 34|              Devlet|9754734263|395307782|  27.9994|           TRY|           0|  8978000|       20709|\n",
      "+---+--------------------+----------+---------+---------+--------------+------------+---------+------------+\n",
      "\n"
     ]
    }
   ],
   "source": [
    "df_books.show()"
   ]
  },
  {
   "cell_type": "code",
   "execution_count": 6,
   "id": "432a52e9-5852-492f-90f6-22533de39e80",
   "metadata": {
    "tags": []
   },
   "outputs": [],
   "source": [
    "df_books_query = (spark.read.format(\"jdbc\")\n",
    ".option(\"driver\", \"org.postgresql.Driver\")\n",
    ".option(\"url\", \"jdbc:postgresql://127.0.0.1:5432/traindb\")\n",
    ".option(\"query\", \"select * from books\")\n",
    ".option(\"user\", \"train\")\n",
    ".option(\"password\", \"Ankara06\")\n",
    ".load())"
   ]
  },
  {
   "cell_type": "code",
   "execution_count": 7,
   "id": "0645574e-eb38-41ed-98a2-26ac6fc53081",
   "metadata": {
    "tags": []
   },
   "outputs": [
    {
     "name": "stdout",
     "output_type": "stream",
     "text": [
      "+---+--------------------+----------+---------+---------+--------------+------------+---------+------------+\n",
      "| id|           book_name|      isbn|  book_id|    price|price_currency|rating_count|author_id|publisher_id|\n",
      "+---+--------------------+----------+---------+---------+--------------+------------+---------+------------+\n",
      "| 13|Madam Bovary (Cil...|6050948752|489127179|25.115735|           TRY|           5|  4098249|       46868|\n",
      "| 22|Mai ve Siyah (Ele...|9750523533|492625951|    25.34|           TRY|          17|  3066057|       63217|\n",
      "| 27|               Nutuk|9759914288|  9927355| 11.48147|           TRY|          23|  9705003|       46868|\n",
      "| 34|              Devlet|9754734263|395307782|  27.9994|           TRY|           0|  8978000|       20709|\n",
      "+---+--------------------+----------+---------+---------+--------------+------------+---------+------------+\n",
      "\n"
     ]
    }
   ],
   "source": [
    "df_books_query.show()"
   ]
  },
  {
   "cell_type": "code",
   "execution_count": 21,
   "id": "f57eb020-1674-4c7d-8c9f-ff0a169311f5",
   "metadata": {
    "tags": []
   },
   "outputs": [
    {
     "name": "stdout",
     "output_type": "stream",
     "text": [
      "root\n",
      " |-- id: integer (nullable = true)\n",
      " |-- book_name: string (nullable = true)\n",
      " |-- isbn: long (nullable = true)\n",
      " |-- book_id: long (nullable = true)\n",
      " |-- price: double (nullable = true)\n",
      " |-- price_currency: string (nullable = true)\n",
      " |-- rating_count: integer (nullable = true)\n",
      " |-- author_id: integer (nullable = true)\n",
      " |-- publisher_id: integer (nullable = true)\n",
      "\n"
     ]
    }
   ],
   "source": [
    "df_books_query.printSchema()"
   ]
  },
  {
   "cell_type": "markdown",
   "id": "ed6f8d50-c14e-4192-8491-50e84c9e5514",
   "metadata": {},
   "source": [
    "# Write to Postgresql"
   ]
  },
  {
   "cell_type": "code",
   "execution_count": 28,
   "id": "aea6e9d1-e7c0-4632-bda1-e174f5972300",
   "metadata": {
    "tags": []
   },
   "outputs": [],
   "source": [
    "(df_books_query.withColumn(\"book_id\", F.col(\"book_id\").cast(StringType()))\n",
    " .write.format(\"jdbc\")\n",
    ".mode(\"append\")\n",
    ".option(\"driver\", \"org.postgresql.Driver\")\n",
    ".option(\"url\", f\"jdbc:postgresql://{db_ip}:5432/traindb\")\n",
    ".option(\"dbtable\", \"books_spark\")\n",
    ".option(\"user\", user_name)\n",
    ".option(\"password\", password)\n",
    ".save())\n"
   ]
  },
  {
   "cell_type": "code",
   "execution_count": 26,
   "id": "c43c9e88-62d2-4030-aece-5c20a02d9cea",
   "metadata": {
    "tags": []
   },
   "outputs": [
    {
     "name": "stdout",
     "output_type": "stream",
     "text": [
      "root\n",
      " |-- id: integer (nullable = true)\n",
      " |-- book_name: string (nullable = true)\n",
      " |-- isbn: long (nullable = true)\n",
      " |-- book_id: string (nullable = true)\n",
      " |-- price: double (nullable = true)\n",
      " |-- price_currency: string (nullable = true)\n",
      " |-- rating_count: integer (nullable = true)\n",
      " |-- author_id: integer (nullable = true)\n",
      " |-- publisher_id: integer (nullable = true)\n",
      "\n"
     ]
    }
   ],
   "source": [
    "(spark.read.format(\"jdbc\")\n",
    ".option(\"driver\", \"org.postgresql.Driver\")\n",
    ".option(\"url\", \"jdbc:postgresql://127.0.0.1:5432/traindb\")\n",
    ".option(\"query\", \"select * from books_spark\")\n",
    ".option(\"user\", \"train\")\n",
    ".option(\"password\", \"Ankara06\")\n",
    ".load()).printSchema()"
   ]
  },
  {
   "cell_type": "code",
   "execution_count": null,
   "id": "65083de1-6d42-459a-8b07-ac52350d5dc8",
   "metadata": {},
   "outputs": [],
   "source": []
  }
 ],
 "metadata": {
  "kernelspec": {
   "display_name": "venvspark",
   "language": "python",
   "name": "venvspark"
  },
  "language_info": {
   "codemirror_mode": {
    "name": "ipython",
    "version": 3
   },
   "file_extension": ".py",
   "mimetype": "text/x-python",
   "name": "python",
   "nbconvert_exporter": "python",
   "pygments_lexer": "ipython3",
   "version": "3.8.12"
  }
 },
 "nbformat": 4,
 "nbformat_minor": 5
}
