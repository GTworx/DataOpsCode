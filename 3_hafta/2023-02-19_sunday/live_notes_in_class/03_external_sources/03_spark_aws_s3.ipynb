{
 "cells": [
  {
   "cell_type": "code",
   "execution_count": 1,
   "id": "caafe3a9-c960-4502-bb90-0f3094f3749d",
   "metadata": {
    "tags": []
   },
   "outputs": [],
   "source": [
    "from pyspark.sql import SparkSession, functions as F"
   ]
  },
  {
   "cell_type": "code",
   "execution_count": null,
   "id": "92c680f7-efdf-42da-a28c-5730736485a8",
   "metadata": {},
   "outputs": [],
   "source": []
  },
  {
   "cell_type": "code",
   "execution_count": 3,
   "id": "c242f38f-9d56-484f-bba1-20cd7b5a8278",
   "metadata": {
    "tags": []
   },
   "outputs": [
    {
     "name": "stderr",
     "output_type": "stream",
     "text": [
      "Warning: Ignoring non-Spark config property: fs.s3a.endpoint\n",
      "Warning: Ignoring non-Spark config property: fs.s3a.impl\n",
      "Warning: Ignoring non-Spark config property: fs.s3a.access.key\n",
      "Warning: Ignoring non-Spark config property: fs.s3a.path.style.access\n",
      "Warning: Ignoring non-Spark config property: fs.s3a.secret.key\n",
      "WARNING: An illegal reflective access operation has occurred\n",
      "WARNING: Illegal reflective access by org.apache.spark.unsafe.Platform (file:/opt/manual/spark-3.1.1-bin-hadoop3.2/jars/spark-unsafe_2.12-3.1.1.jar) to constructor java.nio.DirectByteBuffer(long,int)\n",
      "WARNING: Please consider reporting this to the maintainers of org.apache.spark.unsafe.Platform\n",
      "WARNING: Use --illegal-access=warn to enable warnings of further illegal reflective access operations\n",
      "WARNING: All illegal access operations will be denied in a future release\n",
      "2023-02-19 13:01:13,249 WARN util.NativeCodeLoader: Unable to load native-hadoop library for your platform... using builtin-java classes where applicable\n",
      "Setting default log level to \"WARN\".\n",
      "To adjust logging level use sc.setLogLevel(newLevel). For SparkR, use setLogLevel(newLevel).\n"
     ]
    }
   ],
   "source": [
    "spark = (SparkSession.builder\n",
    ".master(\"local[2]\")\n",
    ".appName(\"Spark AWS S3\")\n",
    ".config('fs.s3a.access.key', \"\")\n",
    ".config('fs.s3a.secret.key', \"\")\n",
    ".config('fs.s3a.path.style.access', 'true')\n",
    ".config('fs.s3a.impl', 'org.apache.hadoop.fs.s3a.S3AFileSystem')\n",
    ".config('fs.s3a.endpoint', 's3.amazonaws.com')\n",
    ".getOrCreate())"
   ]
  },
  {
   "cell_type": "code",
   "execution_count": 7,
   "id": "bc2a00e1-63ff-450d-8b99-12c20c87e976",
   "metadata": {
    "tags": []
   },
   "outputs": [],
   "source": [
    "df_from_s3 = spark.read.format(\"csv\") \\\n",
    ".option(\"header\", True) \\\n",
    ".load(\"s3a://vbo-de-bootcamp/simple_data\")"
   ]
  },
  {
   "cell_type": "code",
   "execution_count": 8,
   "id": "d5f80f46-bcd2-4244-96ff-f8751a0e13fe",
   "metadata": {
    "tags": []
   },
   "outputs": [
    {
     "name": "stdout",
     "output_type": "stream",
     "text": [
      "+------+--------+---+-----------+--------+-----------+\n",
      "|sirano|    isim|yas|     meslek|   sehir|aylik_gelir|\n",
      "+------+--------+---+-----------+--------+-----------+\n",
      "|     1|   Cemal| 35|       Isci|  Ankara|       3500|\n",
      "|     2|   Ceyda| 42|      Memur| Kayseri|       4200|\n",
      "|     3|   Timur| 30|   Müzisyen|Istanbul|       9000|\n",
      "|     4|   Burcu| 29|Pazarlamaci|  Ankara|       4200|\n",
      "|     5| Yasemin| 23|       null|   Bursa|       4800|\n",
      "|     6|     Ali| 33|      Memur|  Ankara|       4250|\n",
      "|     7|   Dilek| 29|Pazarlamaci|Istanbul|       7300|\n",
      "|     8|   Murat| 31|   Müzisyen|Istanbul|      12000|\n",
      "|     9|   Ahmet| 33|     Doktor|  Ankara|      18000|\n",
      "|    10|Muhittin| 46|     Berber|Istanbul|      12000|\n",
      "|    11|Hicaziye| 47| Tuhafiyeci|  Ankara|       4800|\n",
      "|    12|   Harun| 43|    Tornacı|  Ankara|       4200|\n",
      "|    13|   Hakkı| 33|      Memur|   Çorum|       3750|\n",
      "|    14| Gülizar| 37|     Doktor|   İzmir|      14250|\n",
      "|    15|  Şehmuz| 41|       null|  Ankara|       8700|\n",
      "|    16|  Gençay| 46|     Berber|  Ankara|       8800|\n",
      "|    16|  Gençay| 46|     Berber|  Ankara|       8800|\n",
      "+------+--------+---+-----------+--------+-----------+\n",
      "\n"
     ]
    }
   ],
   "source": [
    "df_from_s3.show()"
   ]
  },
  {
   "cell_type": "code",
   "execution_count": 9,
   "id": "c82fc155-5824-4920-a6aa-e94797661d6b",
   "metadata": {
    "tags": []
   },
   "outputs": [
    {
     "name": "stderr",
     "output_type": "stream",
     "text": [
      "2023-02-19 13:04:32,321 WARN commit.AbstractS3ACommitterFactory: Using standard FileOutputCommitter to commit work. This is slow and potentially unsafe.\n",
      "2023-02-19 13:04:34,121 WARN commit.AbstractS3ACommitterFactory: Using standard FileOutputCommitter to commit work. This is slow and potentially unsafe.\n",
      "                                                                                \r"
     ]
    }
   ],
   "source": [
    "df_from_s3.write.format(\"csv\") \\\n",
    ".mode(\"overwrite\") \\\n",
    ".option(\"header\", True) \\\n",
    ".save(\"s3a://vbo-de-bootcamp/simple_data/from_local_spark\")"
   ]
  },
  {
   "cell_type": "code",
   "execution_count": null,
   "id": "5a08ae05-8d12-4988-8b32-8da89cda331f",
   "metadata": {},
   "outputs": [],
   "source": [
    "file://"
   ]
  }
 ],
 "metadata": {
  "kernelspec": {
   "display_name": "venvspark",
   "language": "python",
   "name": "venvspark"
  },
  "language_info": {
   "codemirror_mode": {
    "name": "ipython",
    "version": 3
   },
   "file_extension": ".py",
   "mimetype": "text/x-python",
   "name": "python",
   "nbconvert_exporter": "python",
   "pygments_lexer": "ipython3",
   "version": "3.8.12"
  }
 },
 "nbformat": 4,
 "nbformat_minor": 5
}
