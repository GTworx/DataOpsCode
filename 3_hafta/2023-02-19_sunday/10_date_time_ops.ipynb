{
 "cells": [
  {
   "cell_type": "code",
   "execution_count": 1,
   "metadata": {},
   "outputs": [],
   "source": [
    "# https://spark.apache.org/docs/latest/sql-ref-datetime-pattern.html"
   ]
  },
  {
   "cell_type": "code",
   "execution_count": 2,
   "metadata": {},
   "outputs": [],
   "source": [
    "import findspark"
   ]
  },
  {
   "cell_type": "code",
   "execution_count": 3,
   "metadata": {},
   "outputs": [],
   "source": [
    "# /opt/manual/spark: this is SPARK_HOME path\n",
    "findspark.init(\"/opt/manual/spark\")"
   ]
  },
  {
   "cell_type": "code",
   "execution_count": 4,
   "metadata": {},
   "outputs": [],
   "source": [
    "from pyspark.sql import SparkSession, functions as F"
   ]
  },
  {
   "cell_type": "code",
   "execution_count": 5,
   "metadata": {},
   "outputs": [
    {
     "name": "stderr",
     "output_type": "stream",
     "text": [
      "WARNING: An illegal reflective access operation has occurred\n",
      "WARNING: Illegal reflective access by org.apache.spark.unsafe.Platform (file:/opt/manual/spark-3.1.1-bin-hadoop3.2/jars/spark-unsafe_2.12-3.1.1.jar) to constructor java.nio.DirectByteBuffer(long,int)\n",
      "WARNING: Please consider reporting this to the maintainers of org.apache.spark.unsafe.Platform\n",
      "WARNING: Use --illegal-access=warn to enable warnings of further illegal reflective access operations\n",
      "WARNING: All illegal access operations will be denied in a future release\n",
      "2022-08-27 19:45:03,953 WARN util.NativeCodeLoader: Unable to load native-hadoop library for your platform... using builtin-java classes where applicable\n",
      "Setting default log level to \"WARN\".\n",
      "To adjust logging level use sc.setLogLevel(newLevel). For SparkR, use setLogLevel(newLevel).\n"
     ]
    }
   ],
   "source": [
    "spark = SparkSession.builder \\\n",
    ".appName(\"Datetime Ops\") \\\n",
    ".master(\"local[2]\") \\\n",
    ".getOrCreate()"
   ]
  },
  {
   "cell_type": "code",
   "execution_count": 6,
   "metadata": {},
   "outputs": [],
   "source": [
    "# Data source: https://data.sfgov.org/Public-Safety/Fire-Incidents/wr8u-xric/data"
   ]
  },
  {
   "cell_type": "code",
   "execution_count": 7,
   "metadata": {},
   "outputs": [
    {
     "name": "stdout",
     "output_type": "stream",
     "text": [
      "--2022-08-27 19:45:11--  https://github.com/erkansirin78/datasets/raw/master/Fire_Incidents.csv.gz\n",
      "Resolving github.com (github.com)... 140.82.121.3\n",
      "Connecting to github.com (github.com)|140.82.121.3|:443... connected.\n",
      "HTTP request sent, awaiting response... 302 Found\n",
      "Location: https://raw.githubusercontent.com/erkansirin78/datasets/master/Fire_Incidents.csv.gz [following]\n",
      "--2022-08-27 19:45:11--  https://raw.githubusercontent.com/erkansirin78/datasets/master/Fire_Incidents.csv.gz\n",
      "Resolving raw.githubusercontent.com (raw.githubusercontent.com)... 185.199.108.133, 185.199.111.133, 185.199.109.133, ...\n",
      "Connecting to raw.githubusercontent.com (raw.githubusercontent.com)|185.199.108.133|:443... connected.\n",
      "HTTP request sent, awaiting response... 200 OK\n",
      "Length: 41002480 (39M) [application/octet-stream]\n",
      "Saving to: ‘/home/train/datasets/Fire_Incidents.csv.gz’\n",
      "\n",
      "100%[======================================>] 41,002,480  2.82MB/s   in 14s    \n",
      "\n",
      "2022-08-27 19:45:28 (2.78 MB/s) - ‘/home/train/datasets/Fire_Incidents.csv.gz’ saved [41002480/41002480]\n",
      "\n"
     ]
    }
   ],
   "source": [
    "! wget -O ~/datasets/Fire_Incidents.csv.gz \\\n",
    "https://github.com/erkansirin78/datasets/raw/master/Fire_Incidents.csv.gz"
   ]
  },
  {
   "cell_type": "code",
   "execution_count": 8,
   "metadata": {},
   "outputs": [
    {
     "name": "stdout",
     "output_type": "stream",
     "text": [
      "-rw-rw-r--. 1 train train 41002480 Aug 27 19:45 Fire_Incidents.csv.gz\n"
     ]
    }
   ],
   "source": [
    "! ls -l ~/datasets | grep Fire"
   ]
  },
  {
   "cell_type": "code",
   "execution_count": 9,
   "metadata": {},
   "outputs": [
    {
     "name": "stderr",
     "output_type": "stream",
     "text": [
      "                                                                                \r"
     ]
    }
   ],
   "source": [
    "df = spark.read \\\n",
    ".format(\"csv\") \\\n",
    ".option(\"header\", True) \\\n",
    ".option(\"inferSchema\", True) \\\n",
    ".option(\"compression\",\"gzip\") \\\n",
    ".load(\"file:///home/train/datasets/Fire_Incidents.csv.gz\")"
   ]
  },
  {
   "cell_type": "code",
   "execution_count": 10,
   "metadata": {},
   "outputs": [
    {
     "name": "stderr",
     "output_type": "stream",
     "text": [
      "                                                                                \r"
     ]
    },
    {
     "data": {
      "text/plain": [
       "533598"
      ]
     },
     "execution_count": 10,
     "metadata": {},
     "output_type": "execute_result"
    }
   ],
   "source": [
    "df.count()"
   ]
  },
  {
   "cell_type": "code",
   "execution_count": 11,
   "metadata": {},
   "outputs": [
    {
     "data": {
      "text/plain": [
       "80"
      ]
     },
     "execution_count": 11,
     "metadata": {},
     "output_type": "execute_result"
    }
   ],
   "source": [
    "len(df.columns)"
   ]
  },
  {
   "cell_type": "code",
   "execution_count": 12,
   "metadata": {},
   "outputs": [
    {
     "data": {
      "text/plain": [
       "['Incident Number',\n",
       " 'Exposure Number',\n",
       " 'ID',\n",
       " 'Address',\n",
       " 'Incident Date',\n",
       " 'Call Number',\n",
       " 'Alarm DtTm',\n",
       " 'Arrival DtTm',\n",
       " 'Close DtTm',\n",
       " 'City',\n",
       " 'ZIP Code',\n",
       " 'Battalion',\n",
       " 'Station Area',\n",
       " 'Box',\n",
       " 'Suppression Units',\n",
       " 'Suppression Personnel',\n",
       " 'EMS Units',\n",
       " 'EMS Personnel',\n",
       " 'Other Units',\n",
       " 'Other Personnel',\n",
       " 'First Unit On Scene',\n",
       " 'Estimated Property Loss',\n",
       " 'Estimated Contents Loss',\n",
       " 'Fire Fatalities',\n",
       " 'Fire Injuries',\n",
       " 'Civilian Fatalities',\n",
       " 'Civilian Injuries',\n",
       " 'Number of Alarms',\n",
       " 'Primary Situation',\n",
       " 'Mutual Aid',\n",
       " 'Action Taken Primary',\n",
       " 'Action Taken Secondary',\n",
       " 'Action Taken Other',\n",
       " 'Detector Alerted Occupants',\n",
       " 'Property Use',\n",
       " 'Area of Fire Origin',\n",
       " 'Ignition Cause',\n",
       " 'Ignition Factor Primary',\n",
       " 'Ignition Factor Secondary',\n",
       " 'Heat Source',\n",
       " 'Item First Ignited',\n",
       " 'Human Factors Associated with Ignition',\n",
       " 'Structure Type',\n",
       " 'Structure Status',\n",
       " 'Floor of Fire Origin',\n",
       " 'Fire Spread',\n",
       " 'No Flame Spead',\n",
       " 'Number of floors with minimum damage',\n",
       " 'Number of floors with significant damage',\n",
       " 'Number of floors with heavy damage',\n",
       " 'Number of floors with extreme damage',\n",
       " 'Detectors Present',\n",
       " 'Detector Type',\n",
       " 'Detector Operation',\n",
       " 'Detector Effectiveness',\n",
       " 'Detector Failure Reason',\n",
       " 'Automatic Extinguishing System Present',\n",
       " 'Automatic Extinguishing Sytem Type',\n",
       " 'Automatic Extinguishing Sytem Perfomance',\n",
       " 'Automatic Extinguishing Sytem Failure Reason',\n",
       " 'Number of Sprinkler Heads Operating',\n",
       " 'Supervisor District',\n",
       " 'Analysis Neighborhood',\n",
       " 'point',\n",
       " 'Neighborhoods (old)',\n",
       " 'Zip Codes',\n",
       " 'Fire Prevention Districts',\n",
       " 'Police Districts',\n",
       " 'Supervisor Districts',\n",
       " 'Civic Center Harm Reduction Project Boundary',\n",
       " '2017 Fix It Zones',\n",
       " 'HSOC Zones',\n",
       " 'Central Market/Tenderloin Boundary',\n",
       " 'Central Market/Tenderloin Boundary Polygon - Updated',\n",
       " 'HSOC Zones as of 2018-06-05',\n",
       " 'Neighborhoods',\n",
       " 'SF Find Neighborhoods',\n",
       " 'Current Police Districts',\n",
       " 'Current Supervisor Districts',\n",
       " 'Analysis Neighborhoods']"
      ]
     },
     "execution_count": 12,
     "metadata": {},
     "output_type": "execute_result"
    }
   ],
   "source": [
    "df.columns"
   ]
  },
  {
   "cell_type": "code",
   "execution_count": 13,
   "metadata": {},
   "outputs": [],
   "source": [
    "ts_cols = ['Incident Date','Alarm DtTm']"
   ]
  },
  {
   "cell_type": "code",
   "execution_count": 14,
   "metadata": {},
   "outputs": [
    {
     "name": "stdout",
     "output_type": "stream",
     "text": [
      "+-------------+----------------------+\n",
      "|Incident Date|Alarm DtTm            |\n",
      "+-------------+----------------------+\n",
      "|06/05/2018   |06/05/2018 06:38:01 PM|\n",
      "|08/29/2019   |08/29/2019 08:09:25 PM|\n",
      "|06/14/2018   |06/14/2018 08:37:56 PM|\n",
      "|12/30/2005   |12/30/2005 10:40:27 PM|\n",
      "+-------------+----------------------+\n",
      "only showing top 4 rows\n",
      "\n"
     ]
    }
   ],
   "source": [
    "df.select(ts_cols).show(n=4, truncate=False)"
   ]
  },
  {
   "cell_type": "code",
   "execution_count": 15,
   "metadata": {},
   "outputs": [],
   "source": [
    "# Create new dataframe which includes only date time columns\n",
    "\n",
    "df2 = df.select(ts_cols)"
   ]
  },
  {
   "cell_type": "code",
   "execution_count": 16,
   "metadata": {},
   "outputs": [
    {
     "data": {
      "text/plain": [
       "[('Incident Date', 'string'), ('Alarm DtTm', 'string')]"
      ]
     },
     "execution_count": 16,
     "metadata": {},
     "output_type": "execute_result"
    }
   ],
   "source": [
    "df2.dtypes"
   ]
  },
  {
   "cell_type": "markdown",
   "metadata": {},
   "source": [
    "<h1 style=\"color:blue;\">From String to Date Time Conversion</h1>"
   ]
  },
  {
   "cell_type": "markdown",
   "metadata": {},
   "source": [
    "# Date and Time Operations - to_timestamp"
   ]
  },
  {
   "cell_type": "code",
   "execution_count": 17,
   "metadata": {},
   "outputs": [],
   "source": [
    "# When spark reads text or csv schema it accepts every column as string type.\n",
    "# When we tell spark to inferSchema it takes sample and infers datatype.\n",
    "# Most of time it infers as we expected but in case date and time things get complicated due to datetime formats\n",
    "# If datetime format is out of standard spark considers it as string\n",
    "# Therefore most of the strugle is just convert string into datetime types\n",
    "# To convert properly you have to define existing format according to this:\n",
    "# https://spark.apache.org/docs/latest/sql-ref-datetime-pattern.html\n",
    "# Otherwise your conversion results in None or null\n",
    "\n",
    "\n",
    "# In our practice dataset;\n",
    "# ('Incident Date', 'string'),\n",
    "# ('Alarm DtTm', 'string'),\n",
    "# ('Arrival DtTm', 'string'),\n",
    "# ('Close DtTm', 'string'),\n",
    "# These columns ts but spark inferred them as string due out of standard ts format\n",
    "# We have to handle manually and modify schema by casting/converting them into ts type"
   ]
  },
  {
   "cell_type": "code",
   "execution_count": 18,
   "metadata": {},
   "outputs": [
    {
     "data": {
      "text/html": [
       "<div>\n",
       "<style scoped>\n",
       "    .dataframe tbody tr th:only-of-type {\n",
       "        vertical-align: middle;\n",
       "    }\n",
       "\n",
       "    .dataframe tbody tr th {\n",
       "        vertical-align: top;\n",
       "    }\n",
       "\n",
       "    .dataframe thead th {\n",
       "        text-align: right;\n",
       "    }\n",
       "</style>\n",
       "<table border=\"1\" class=\"dataframe\">\n",
       "  <thead>\n",
       "    <tr style=\"text-align: right;\">\n",
       "      <th></th>\n",
       "      <th>Incident Date</th>\n",
       "      <th>Alarm DtTm</th>\n",
       "    </tr>\n",
       "  </thead>\n",
       "  <tbody>\n",
       "    <tr>\n",
       "      <th>0</th>\n",
       "      <td>06/05/2018</td>\n",
       "      <td>06/05/2018 06:38:01 PM</td>\n",
       "    </tr>\n",
       "    <tr>\n",
       "      <th>1</th>\n",
       "      <td>08/29/2019</td>\n",
       "      <td>08/29/2019 08:09:25 PM</td>\n",
       "    </tr>\n",
       "    <tr>\n",
       "      <th>2</th>\n",
       "      <td>06/14/2018</td>\n",
       "      <td>06/14/2018 08:37:56 PM</td>\n",
       "    </tr>\n",
       "    <tr>\n",
       "      <th>3</th>\n",
       "      <td>12/30/2005</td>\n",
       "      <td>12/30/2005 10:40:27 PM</td>\n",
       "    </tr>\n",
       "    <tr>\n",
       "      <th>4</th>\n",
       "      <td>09/13/2018</td>\n",
       "      <td>09/13/2018 08:30:38 PM</td>\n",
       "    </tr>\n",
       "  </tbody>\n",
       "</table>\n",
       "</div>"
      ],
      "text/plain": [
       "  Incident Date              Alarm DtTm\n",
       "0    06/05/2018  06/05/2018 06:38:01 PM\n",
       "1    08/29/2019  08/29/2019 08:09:25 PM\n",
       "2    06/14/2018  06/14/2018 08:37:56 PM\n",
       "3    12/30/2005  12/30/2005 10:40:27 PM\n",
       "4    09/13/2018  09/13/2018 08:30:38 PM"
      ]
     },
     "execution_count": 18,
     "metadata": {},
     "output_type": "execute_result"
    }
   ],
   "source": [
    "df2.limit(5).toPandas()"
   ]
  },
  {
   "cell_type": "markdown",
   "metadata": {},
   "source": [
    "## Wrong definition of format"
   ]
  },
  {
   "cell_type": "code",
   "execution_count": 20,
   "metadata": {},
   "outputs": [],
   "source": [
    "# MM/dd/yyyy hh:mm:ss a"
   ]
  },
  {
   "cell_type": "code",
   "execution_count": 21,
   "metadata": {},
   "outputs": [
    {
     "data": {
      "text/html": [
       "<div>\n",
       "<style scoped>\n",
       "    .dataframe tbody tr th:only-of-type {\n",
       "        vertical-align: middle;\n",
       "    }\n",
       "\n",
       "    .dataframe tbody tr th {\n",
       "        vertical-align: top;\n",
       "    }\n",
       "\n",
       "    .dataframe thead th {\n",
       "        text-align: right;\n",
       "    }\n",
       "</style>\n",
       "<table border=\"1\" class=\"dataframe\">\n",
       "  <thead>\n",
       "    <tr style=\"text-align: right;\">\n",
       "      <th></th>\n",
       "      <th>Incident Date</th>\n",
       "      <th>Alarm DtTm</th>\n",
       "      <th>Alarm_DtTm_New</th>\n",
       "    </tr>\n",
       "  </thead>\n",
       "  <tbody>\n",
       "    <tr>\n",
       "      <th>0</th>\n",
       "      <td>06/05/2018</td>\n",
       "      <td>06/05/2018 06:38:01 PM</td>\n",
       "      <td>NaT</td>\n",
       "    </tr>\n",
       "    <tr>\n",
       "      <th>1</th>\n",
       "      <td>08/29/2019</td>\n",
       "      <td>08/29/2019 08:09:25 PM</td>\n",
       "      <td>NaT</td>\n",
       "    </tr>\n",
       "  </tbody>\n",
       "</table>\n",
       "</div>"
      ],
      "text/plain": [
       "  Incident Date              Alarm DtTm Alarm_DtTm_New\n",
       "0    06/05/2018  06/05/2018 06:38:01 PM            NaT\n",
       "1    08/29/2019  08/29/2019 08:09:25 PM            NaT"
      ]
     },
     "execution_count": 21,
     "metadata": {},
     "output_type": "execute_result"
    }
   ],
   "source": [
    "df3 = df2.withColumn(\"Alarm_DtTm_New\", \n",
    "                     F.to_timestamp(F.col(\"Alarm DtTm\"), 'MM/dd/yyyy HH:mm:ss a'))\n",
    "df3.limit(2).toPandas()"
   ]
  },
  {
   "cell_type": "code",
   "execution_count": 22,
   "metadata": {},
   "outputs": [],
   "source": [
    "# Time is AM-PM not 24 hour so the hour should be hh not HH\n",
    "# As you see even slight mistake results in None"
   ]
  },
  {
   "cell_type": "markdown",
   "metadata": {},
   "source": [
    "## Correct definition of format"
   ]
  },
  {
   "cell_type": "code",
   "execution_count": 23,
   "metadata": {},
   "outputs": [],
   "source": [
    "\n",
    "df3 = df2.withColumn(\"Alarm_DtTm\", \n",
    "                     F.to_timestamp(F.col(\"Alarm DtTm\"), 'MM/dd/yyyy hh:mm:ss a'))"
   ]
  },
  {
   "cell_type": "code",
   "execution_count": 24,
   "metadata": {},
   "outputs": [
    {
     "data": {
      "text/html": [
       "<div>\n",
       "<style scoped>\n",
       "    .dataframe tbody tr th:only-of-type {\n",
       "        vertical-align: middle;\n",
       "    }\n",
       "\n",
       "    .dataframe tbody tr th {\n",
       "        vertical-align: top;\n",
       "    }\n",
       "\n",
       "    .dataframe thead th {\n",
       "        text-align: right;\n",
       "    }\n",
       "</style>\n",
       "<table border=\"1\" class=\"dataframe\">\n",
       "  <thead>\n",
       "    <tr style=\"text-align: right;\">\n",
       "      <th></th>\n",
       "      <th>Incident Date</th>\n",
       "      <th>Alarm DtTm</th>\n",
       "      <th>Alarm_DtTm</th>\n",
       "    </tr>\n",
       "  </thead>\n",
       "  <tbody>\n",
       "    <tr>\n",
       "      <th>0</th>\n",
       "      <td>06/05/2018</td>\n",
       "      <td>06/05/2018 06:38:01 PM</td>\n",
       "      <td>2018-06-05 18:38:01</td>\n",
       "    </tr>\n",
       "    <tr>\n",
       "      <th>1</th>\n",
       "      <td>08/29/2019</td>\n",
       "      <td>08/29/2019 08:09:25 PM</td>\n",
       "      <td>2019-08-29 20:09:25</td>\n",
       "    </tr>\n",
       "  </tbody>\n",
       "</table>\n",
       "</div>"
      ],
      "text/plain": [
       "  Incident Date              Alarm DtTm          Alarm_DtTm\n",
       "0    06/05/2018  06/05/2018 06:38:01 PM 2018-06-05 18:38:01\n",
       "1    08/29/2019  08/29/2019 08:09:25 PM 2019-08-29 20:09:25"
      ]
     },
     "execution_count": 24,
     "metadata": {},
     "output_type": "execute_result"
    }
   ],
   "source": [
    "df3.limit(2).toPandas()"
   ]
  },
  {
   "cell_type": "code",
   "execution_count": 25,
   "metadata": {},
   "outputs": [
    {
     "name": "stdout",
     "output_type": "stream",
     "text": [
      "root\n",
      " |-- Incident Date: string (nullable = true)\n",
      " |-- Alarm DtTm: string (nullable = true)\n",
      " |-- Alarm_DtTm: timestamp (nullable = true)\n",
      "\n"
     ]
    }
   ],
   "source": [
    "df3.printSchema()"
   ]
  },
  {
   "cell_type": "markdown",
   "metadata": {},
   "source": [
    "# Date and Time Operations - unix_timestamp and from_unixtime "
   ]
  },
  {
   "cell_type": "code",
   "execution_count": 26,
   "metadata": {},
   "outputs": [
    {
     "data": {
      "text/html": [
       "<div>\n",
       "<style scoped>\n",
       "    .dataframe tbody tr th:only-of-type {\n",
       "        vertical-align: middle;\n",
       "    }\n",
       "\n",
       "    .dataframe tbody tr th {\n",
       "        vertical-align: top;\n",
       "    }\n",
       "\n",
       "    .dataframe thead th {\n",
       "        text-align: right;\n",
       "    }\n",
       "</style>\n",
       "<table border=\"1\" class=\"dataframe\">\n",
       "  <thead>\n",
       "    <tr style=\"text-align: right;\">\n",
       "      <th></th>\n",
       "      <th>Incident Date</th>\n",
       "      <th>Alarm DtTm</th>\n",
       "      <th>Alarm_DtTm</th>\n",
       "    </tr>\n",
       "  </thead>\n",
       "  <tbody>\n",
       "    <tr>\n",
       "      <th>0</th>\n",
       "      <td>06/05/2018</td>\n",
       "      <td>06/05/2018 06:38:01 PM</td>\n",
       "      <td>1528213081</td>\n",
       "    </tr>\n",
       "    <tr>\n",
       "      <th>1</th>\n",
       "      <td>08/29/2019</td>\n",
       "      <td>08/29/2019 08:09:25 PM</td>\n",
       "      <td>1567098565</td>\n",
       "    </tr>\n",
       "    <tr>\n",
       "      <th>2</th>\n",
       "      <td>06/14/2018</td>\n",
       "      <td>06/14/2018 08:37:56 PM</td>\n",
       "      <td>1528997876</td>\n",
       "    </tr>\n",
       "  </tbody>\n",
       "</table>\n",
       "</div>"
      ],
      "text/plain": [
       "  Incident Date              Alarm DtTm  Alarm_DtTm\n",
       "0    06/05/2018  06/05/2018 06:38:01 PM  1528213081\n",
       "1    08/29/2019  08/29/2019 08:09:25 PM  1567098565\n",
       "2    06/14/2018  06/14/2018 08:37:56 PM  1528997876"
      ]
     },
     "execution_count": 26,
     "metadata": {},
     "output_type": "execute_result"
    }
   ],
   "source": [
    "df3 = df2.withColumn(\"Alarm_DtTm\", \n",
    "                     F.unix_timestamp(F.col(\"Alarm DtTm\"), 'MM/dd/yyyy hh:mm:ss a'))\n",
    "df3.limit(3).toPandas()"
   ]
  },
  {
   "cell_type": "code",
   "execution_count": 27,
   "metadata": {},
   "outputs": [
    {
     "name": "stdout",
     "output_type": "stream",
     "text": [
      "root\n",
      " |-- Incident Date: string (nullable = true)\n",
      " |-- Alarm DtTm: string (nullable = true)\n",
      " |-- Alarm_DtTm: long (nullable = true)\n",
      "\n"
     ]
    }
   ],
   "source": [
    "df3.printSchema()"
   ]
  },
  {
   "cell_type": "code",
   "execution_count": 28,
   "metadata": {},
   "outputs": [
    {
     "data": {
      "text/html": [
       "<div>\n",
       "<style scoped>\n",
       "    .dataframe tbody tr th:only-of-type {\n",
       "        vertical-align: middle;\n",
       "    }\n",
       "\n",
       "    .dataframe tbody tr th {\n",
       "        vertical-align: top;\n",
       "    }\n",
       "\n",
       "    .dataframe thead th {\n",
       "        text-align: right;\n",
       "    }\n",
       "</style>\n",
       "<table border=\"1\" class=\"dataframe\">\n",
       "  <thead>\n",
       "    <tr style=\"text-align: right;\">\n",
       "      <th></th>\n",
       "      <th>Incident Date</th>\n",
       "      <th>Alarm DtTm</th>\n",
       "      <th>Alarm_UnixTS</th>\n",
       "      <th>Alarm_DtTm</th>\n",
       "    </tr>\n",
       "  </thead>\n",
       "  <tbody>\n",
       "    <tr>\n",
       "      <th>0</th>\n",
       "      <td>06/05/2018</td>\n",
       "      <td>06/05/2018 06:38:01 PM</td>\n",
       "      <td>1528213081</td>\n",
       "      <td>2018-06-05 18:38:01</td>\n",
       "    </tr>\n",
       "    <tr>\n",
       "      <th>1</th>\n",
       "      <td>08/29/2019</td>\n",
       "      <td>08/29/2019 08:09:25 PM</td>\n",
       "      <td>1567098565</td>\n",
       "      <td>2019-08-29 20:09:25</td>\n",
       "    </tr>\n",
       "    <tr>\n",
       "      <th>2</th>\n",
       "      <td>06/14/2018</td>\n",
       "      <td>06/14/2018 08:37:56 PM</td>\n",
       "      <td>1528997876</td>\n",
       "      <td>2018-06-14 20:37:56</td>\n",
       "    </tr>\n",
       "  </tbody>\n",
       "</table>\n",
       "</div>"
      ],
      "text/plain": [
       "  Incident Date              Alarm DtTm  Alarm_UnixTS          Alarm_DtTm\n",
       "0    06/05/2018  06/05/2018 06:38:01 PM    1528213081 2018-06-05 18:38:01\n",
       "1    08/29/2019  08/29/2019 08:09:25 PM    1567098565 2019-08-29 20:09:25\n",
       "2    06/14/2018  06/14/2018 08:37:56 PM    1528997876 2018-06-14 20:37:56"
      ]
     },
     "execution_count": 28,
     "metadata": {},
     "output_type": "execute_result"
    }
   ],
   "source": [
    "df3 = df2.withColumn(\"Alarm_UnixTS\", \n",
    "                     F.unix_timestamp(F.col(\"Alarm DtTm\"), 'MM/dd/yyyy hh:mm:ss a')) \\\n",
    ".withColumn(\"Alarm_DtTm\", F.to_timestamp(F.col(\"Alarm_UnixTS\")))\n",
    "\n",
    "df3.limit(3).toPandas()"
   ]
  },
  {
   "cell_type": "code",
   "execution_count": 29,
   "metadata": {},
   "outputs": [
    {
     "name": "stdout",
     "output_type": "stream",
     "text": [
      "root\n",
      " |-- Incident Date: string (nullable = true)\n",
      " |-- Alarm DtTm: string (nullable = true)\n",
      " |-- Alarm_UnixTS: long (nullable = true)\n",
      " |-- Alarm_DtTm: timestamp (nullable = true)\n",
      "\n"
     ]
    }
   ],
   "source": [
    "df3.printSchema()"
   ]
  },
  {
   "cell_type": "markdown",
   "metadata": {},
   "source": [
    "# Date and Time Operations - to_date"
   ]
  },
  {
   "cell_type": "code",
   "execution_count": 30,
   "metadata": {},
   "outputs": [
    {
     "data": {
      "text/html": [
       "<div>\n",
       "<style scoped>\n",
       "    .dataframe tbody tr th:only-of-type {\n",
       "        vertical-align: middle;\n",
       "    }\n",
       "\n",
       "    .dataframe tbody tr th {\n",
       "        vertical-align: top;\n",
       "    }\n",
       "\n",
       "    .dataframe thead th {\n",
       "        text-align: right;\n",
       "    }\n",
       "</style>\n",
       "<table border=\"1\" class=\"dataframe\">\n",
       "  <thead>\n",
       "    <tr style=\"text-align: right;\">\n",
       "      <th></th>\n",
       "      <th>Incident Date</th>\n",
       "      <th>Alarm DtTm</th>\n",
       "      <th>Alarm_UnixTS</th>\n",
       "      <th>Alarm_DtTm</th>\n",
       "      <th>Incident_Date</th>\n",
       "    </tr>\n",
       "  </thead>\n",
       "  <tbody>\n",
       "    <tr>\n",
       "      <th>0</th>\n",
       "      <td>06/05/2018</td>\n",
       "      <td>06/05/2018 06:38:01 PM</td>\n",
       "      <td>1528213081</td>\n",
       "      <td>2018-06-05 18:38:01</td>\n",
       "      <td>2018-06-05</td>\n",
       "    </tr>\n",
       "    <tr>\n",
       "      <th>1</th>\n",
       "      <td>08/29/2019</td>\n",
       "      <td>08/29/2019 08:09:25 PM</td>\n",
       "      <td>1567098565</td>\n",
       "      <td>2019-08-29 20:09:25</td>\n",
       "      <td>2019-08-29</td>\n",
       "    </tr>\n",
       "    <tr>\n",
       "      <th>2</th>\n",
       "      <td>06/14/2018</td>\n",
       "      <td>06/14/2018 08:37:56 PM</td>\n",
       "      <td>1528997876</td>\n",
       "      <td>2018-06-14 20:37:56</td>\n",
       "      <td>2018-06-14</td>\n",
       "    </tr>\n",
       "  </tbody>\n",
       "</table>\n",
       "</div>"
      ],
      "text/plain": [
       "  Incident Date              Alarm DtTm  Alarm_UnixTS          Alarm_DtTm  \\\n",
       "0    06/05/2018  06/05/2018 06:38:01 PM    1528213081 2018-06-05 18:38:01   \n",
       "1    08/29/2019  08/29/2019 08:09:25 PM    1567098565 2019-08-29 20:09:25   \n",
       "2    06/14/2018  06/14/2018 08:37:56 PM    1528997876 2018-06-14 20:37:56   \n",
       "\n",
       "  Incident_Date  \n",
       "0    2018-06-05  \n",
       "1    2019-08-29  \n",
       "2    2018-06-14  "
      ]
     },
     "execution_count": 30,
     "metadata": {},
     "output_type": "execute_result"
    }
   ],
   "source": [
    "df4 = df3.withColumn(\"Incident_Date\", \n",
    "                     F.to_date(F.col(\"Incident Date\"), 'MM/dd/yyyy'))\n",
    "df4.limit(3).toPandas()"
   ]
  },
  {
   "cell_type": "code",
   "execution_count": 31,
   "metadata": {},
   "outputs": [
    {
     "name": "stdout",
     "output_type": "stream",
     "text": [
      "root\n",
      " |-- Incident Date: string (nullable = true)\n",
      " |-- Alarm DtTm: string (nullable = true)\n",
      " |-- Alarm_UnixTS: long (nullable = true)\n",
      " |-- Alarm_DtTm: timestamp (nullable = true)\n",
      " |-- Incident_Date: date (nullable = true)\n",
      "\n"
     ]
    }
   ],
   "source": [
    "df4.printSchema()"
   ]
  },
  {
   "cell_type": "markdown",
   "metadata": {},
   "source": [
    "<h1 style=\"color:blue;\">From Date Time to String  Conversion</h1>"
   ]
  },
  {
   "cell_type": "markdown",
   "metadata": {},
   "source": [
    "## Convert date and timestamp columns to string in a desired format"
   ]
  },
  {
   "cell_type": "code",
   "execution_count": 32,
   "metadata": {},
   "outputs": [
    {
     "data": {
      "text/html": [
       "<div>\n",
       "<style scoped>\n",
       "    .dataframe tbody tr th:only-of-type {\n",
       "        vertical-align: middle;\n",
       "    }\n",
       "\n",
       "    .dataframe tbody tr th {\n",
       "        vertical-align: top;\n",
       "    }\n",
       "\n",
       "    .dataframe thead th {\n",
       "        text-align: right;\n",
       "    }\n",
       "</style>\n",
       "<table border=\"1\" class=\"dataframe\">\n",
       "  <thead>\n",
       "    <tr style=\"text-align: right;\">\n",
       "      <th></th>\n",
       "      <th>Incident Date</th>\n",
       "      <th>Alarm DtTm</th>\n",
       "      <th>Alarm_UnixTS</th>\n",
       "      <th>Alarm_DtTm</th>\n",
       "      <th>Incident_Date</th>\n",
       "      <th>Incident_Date_Str</th>\n",
       "    </tr>\n",
       "  </thead>\n",
       "  <tbody>\n",
       "    <tr>\n",
       "      <th>0</th>\n",
       "      <td>06/05/2018</td>\n",
       "      <td>06/05/2018 06:38:01 PM</td>\n",
       "      <td>1528213081</td>\n",
       "      <td>2018-06-05 18:38:01</td>\n",
       "      <td>2018-06-05</td>\n",
       "      <td>06--05--2018</td>\n",
       "    </tr>\n",
       "    <tr>\n",
       "      <th>1</th>\n",
       "      <td>08/29/2019</td>\n",
       "      <td>08/29/2019 08:09:25 PM</td>\n",
       "      <td>1567098565</td>\n",
       "      <td>2019-08-29 20:09:25</td>\n",
       "      <td>2019-08-29</td>\n",
       "      <td>08--29--2019</td>\n",
       "    </tr>\n",
       "    <tr>\n",
       "      <th>2</th>\n",
       "      <td>06/14/2018</td>\n",
       "      <td>06/14/2018 08:37:56 PM</td>\n",
       "      <td>1528997876</td>\n",
       "      <td>2018-06-14 20:37:56</td>\n",
       "      <td>2018-06-14</td>\n",
       "      <td>06--14--2018</td>\n",
       "    </tr>\n",
       "  </tbody>\n",
       "</table>\n",
       "</div>"
      ],
      "text/plain": [
       "  Incident Date              Alarm DtTm  Alarm_UnixTS          Alarm_DtTm  \\\n",
       "0    06/05/2018  06/05/2018 06:38:01 PM    1528213081 2018-06-05 18:38:01   \n",
       "1    08/29/2019  08/29/2019 08:09:25 PM    1567098565 2019-08-29 20:09:25   \n",
       "2    06/14/2018  06/14/2018 08:37:56 PM    1528997876 2018-06-14 20:37:56   \n",
       "\n",
       "  Incident_Date Incident_Date_Str  \n",
       "0    2018-06-05      06--05--2018  \n",
       "1    2019-08-29      08--29--2019  \n",
       "2    2018-06-14      06--14--2018  "
      ]
     },
     "execution_count": 32,
     "metadata": {},
     "output_type": "execute_result"
    }
   ],
   "source": [
    "df5 = df4.withColumn(\"Incident_Date_Str\", \n",
    "                     F.date_format(F.col(\"Incident_Date\"), 'MM--dd--yyyy'))\n",
    "\n",
    "\n",
    "df5.limit(3).toPandas()"
   ]
  },
  {
   "cell_type": "code",
   "execution_count": 33,
   "metadata": {},
   "outputs": [
    {
     "data": {
      "text/html": [
       "<div>\n",
       "<style scoped>\n",
       "    .dataframe tbody tr th:only-of-type {\n",
       "        vertical-align: middle;\n",
       "    }\n",
       "\n",
       "    .dataframe tbody tr th {\n",
       "        vertical-align: top;\n",
       "    }\n",
       "\n",
       "    .dataframe thead th {\n",
       "        text-align: right;\n",
       "    }\n",
       "</style>\n",
       "<table border=\"1\" class=\"dataframe\">\n",
       "  <thead>\n",
       "    <tr style=\"text-align: right;\">\n",
       "      <th></th>\n",
       "      <th>Incident Date</th>\n",
       "      <th>Alarm DtTm</th>\n",
       "      <th>Alarm_UnixTS</th>\n",
       "      <th>Alarm_DtTm</th>\n",
       "      <th>Incident_Date</th>\n",
       "      <th>Incident_Date_Str</th>\n",
       "    </tr>\n",
       "  </thead>\n",
       "  <tbody>\n",
       "    <tr>\n",
       "      <th>0</th>\n",
       "      <td>06/05/2018</td>\n",
       "      <td>06/05/2018 06:38:01 PM</td>\n",
       "      <td>1528213081</td>\n",
       "      <td>2018-06-05 18:38:01</td>\n",
       "      <td>2018-06-05</td>\n",
       "      <td>2018:06:05</td>\n",
       "    </tr>\n",
       "    <tr>\n",
       "      <th>1</th>\n",
       "      <td>08/29/2019</td>\n",
       "      <td>08/29/2019 08:09:25 PM</td>\n",
       "      <td>1567098565</td>\n",
       "      <td>2019-08-29 20:09:25</td>\n",
       "      <td>2019-08-29</td>\n",
       "      <td>2019:08:29</td>\n",
       "    </tr>\n",
       "    <tr>\n",
       "      <th>2</th>\n",
       "      <td>06/14/2018</td>\n",
       "      <td>06/14/2018 08:37:56 PM</td>\n",
       "      <td>1528997876</td>\n",
       "      <td>2018-06-14 20:37:56</td>\n",
       "      <td>2018-06-14</td>\n",
       "      <td>2018:06:14</td>\n",
       "    </tr>\n",
       "  </tbody>\n",
       "</table>\n",
       "</div>"
      ],
      "text/plain": [
       "  Incident Date              Alarm DtTm  Alarm_UnixTS          Alarm_DtTm  \\\n",
       "0    06/05/2018  06/05/2018 06:38:01 PM    1528213081 2018-06-05 18:38:01   \n",
       "1    08/29/2019  08/29/2019 08:09:25 PM    1567098565 2019-08-29 20:09:25   \n",
       "2    06/14/2018  06/14/2018 08:37:56 PM    1528997876 2018-06-14 20:37:56   \n",
       "\n",
       "  Incident_Date Incident_Date_Str  \n",
       "0    2018-06-05        2018:06:05  \n",
       "1    2019-08-29        2019:08:29  \n",
       "2    2018-06-14        2018:06:14  "
      ]
     },
     "execution_count": 33,
     "metadata": {},
     "output_type": "execute_result"
    }
   ],
   "source": [
    "df5 = df4.withColumn(\"Incident_Date_Str\", \n",
    "                     F.date_format(F.col(\"Incident_Date\"), 'yyyy:MM:dd'))\n",
    "df5.limit(3).toPandas()"
   ]
  },
  {
   "cell_type": "code",
   "execution_count": 34,
   "metadata": {},
   "outputs": [
    {
     "data": {
      "text/html": [
       "<div>\n",
       "<style scoped>\n",
       "    .dataframe tbody tr th:only-of-type {\n",
       "        vertical-align: middle;\n",
       "    }\n",
       "\n",
       "    .dataframe tbody tr th {\n",
       "        vertical-align: top;\n",
       "    }\n",
       "\n",
       "    .dataframe thead th {\n",
       "        text-align: right;\n",
       "    }\n",
       "</style>\n",
       "<table border=\"1\" class=\"dataframe\">\n",
       "  <thead>\n",
       "    <tr style=\"text-align: right;\">\n",
       "      <th></th>\n",
       "      <th>Incident Date</th>\n",
       "      <th>Alarm DtTm</th>\n",
       "      <th>Alarm_UnixTS</th>\n",
       "      <th>Alarm_DtTm</th>\n",
       "      <th>Incident_Date</th>\n",
       "      <th>Alarm_DtTm_Str</th>\n",
       "    </tr>\n",
       "  </thead>\n",
       "  <tbody>\n",
       "    <tr>\n",
       "      <th>0</th>\n",
       "      <td>06/05/2018</td>\n",
       "      <td>06/05/2018 06:38:01 PM</td>\n",
       "      <td>1528213081</td>\n",
       "      <td>2018-06-05 18:38:01</td>\n",
       "      <td>2018-06-05</td>\n",
       "      <td>2018-06-05 06:01 PM</td>\n",
       "    </tr>\n",
       "    <tr>\n",
       "      <th>1</th>\n",
       "      <td>08/29/2019</td>\n",
       "      <td>08/29/2019 08:09:25 PM</td>\n",
       "      <td>1567098565</td>\n",
       "      <td>2019-08-29 20:09:25</td>\n",
       "      <td>2019-08-29</td>\n",
       "      <td>2019-08-29 08:25 PM</td>\n",
       "    </tr>\n",
       "    <tr>\n",
       "      <th>2</th>\n",
       "      <td>06/14/2018</td>\n",
       "      <td>06/14/2018 08:37:56 PM</td>\n",
       "      <td>1528997876</td>\n",
       "      <td>2018-06-14 20:37:56</td>\n",
       "      <td>2018-06-14</td>\n",
       "      <td>2018-06-14 08:56 PM</td>\n",
       "    </tr>\n",
       "  </tbody>\n",
       "</table>\n",
       "</div>"
      ],
      "text/plain": [
       "  Incident Date              Alarm DtTm  Alarm_UnixTS          Alarm_DtTm  \\\n",
       "0    06/05/2018  06/05/2018 06:38:01 PM    1528213081 2018-06-05 18:38:01   \n",
       "1    08/29/2019  08/29/2019 08:09:25 PM    1567098565 2019-08-29 20:09:25   \n",
       "2    06/14/2018  06/14/2018 08:37:56 PM    1528997876 2018-06-14 20:37:56   \n",
       "\n",
       "  Incident_Date       Alarm_DtTm_Str  \n",
       "0    2018-06-05  2018-06-05 06:01 PM  \n",
       "1    2019-08-29  2019-08-29 08:25 PM  \n",
       "2    2018-06-14  2018-06-14 08:56 PM  "
      ]
     },
     "execution_count": 34,
     "metadata": {},
     "output_type": "execute_result"
    }
   ],
   "source": [
    "df5 = df4.withColumn(\"Alarm_DtTm_Str\", \n",
    "                     F.date_format(F.col(\"Alarm_DtTm\"), 'yyyy-MM-dd hh:ss a'))\n",
    "df5.limit(3).toPandas()"
   ]
  },
  {
   "cell_type": "code",
   "execution_count": 35,
   "metadata": {},
   "outputs": [
    {
     "data": {
      "text/html": [
       "<div>\n",
       "<style scoped>\n",
       "    .dataframe tbody tr th:only-of-type {\n",
       "        vertical-align: middle;\n",
       "    }\n",
       "\n",
       "    .dataframe tbody tr th {\n",
       "        vertical-align: top;\n",
       "    }\n",
       "\n",
       "    .dataframe thead th {\n",
       "        text-align: right;\n",
       "    }\n",
       "</style>\n",
       "<table border=\"1\" class=\"dataframe\">\n",
       "  <thead>\n",
       "    <tr style=\"text-align: right;\">\n",
       "      <th></th>\n",
       "      <th>Incident Date</th>\n",
       "      <th>Alarm DtTm</th>\n",
       "      <th>Alarm_UnixTS</th>\n",
       "      <th>Alarm_DtTm</th>\n",
       "      <th>Incident_Date</th>\n",
       "      <th>Alarm_DtTm_Str</th>\n",
       "    </tr>\n",
       "  </thead>\n",
       "  <tbody>\n",
       "    <tr>\n",
       "      <th>0</th>\n",
       "      <td>06/05/2018</td>\n",
       "      <td>06/05/2018 06:38:01 PM</td>\n",
       "      <td>1528213081</td>\n",
       "      <td>2018-06-05 18:38:01</td>\n",
       "      <td>2018-06-05</td>\n",
       "      <td>2018 June 05 Tue</td>\n",
       "    </tr>\n",
       "    <tr>\n",
       "      <th>1</th>\n",
       "      <td>08/29/2019</td>\n",
       "      <td>08/29/2019 08:09:25 PM</td>\n",
       "      <td>1567098565</td>\n",
       "      <td>2019-08-29 20:09:25</td>\n",
       "      <td>2019-08-29</td>\n",
       "      <td>2019 August 29 Thu</td>\n",
       "    </tr>\n",
       "    <tr>\n",
       "      <th>2</th>\n",
       "      <td>06/14/2018</td>\n",
       "      <td>06/14/2018 08:37:56 PM</td>\n",
       "      <td>1528997876</td>\n",
       "      <td>2018-06-14 20:37:56</td>\n",
       "      <td>2018-06-14</td>\n",
       "      <td>2018 June 14 Thu</td>\n",
       "    </tr>\n",
       "  </tbody>\n",
       "</table>\n",
       "</div>"
      ],
      "text/plain": [
       "  Incident Date              Alarm DtTm  Alarm_UnixTS          Alarm_DtTm  \\\n",
       "0    06/05/2018  06/05/2018 06:38:01 PM    1528213081 2018-06-05 18:38:01   \n",
       "1    08/29/2019  08/29/2019 08:09:25 PM    1567098565 2019-08-29 20:09:25   \n",
       "2    06/14/2018  06/14/2018 08:37:56 PM    1528997876 2018-06-14 20:37:56   \n",
       "\n",
       "  Incident_Date      Alarm_DtTm_Str  \n",
       "0    2018-06-05    2018 June 05 Tue  \n",
       "1    2019-08-29  2019 August 29 Thu  \n",
       "2    2018-06-14    2018 June 14 Thu  "
      ]
     },
     "execution_count": 35,
     "metadata": {},
     "output_type": "execute_result"
    }
   ],
   "source": [
    "df5 = df4.withColumn(\"Alarm_DtTm_Str\", \n",
    "                     F.date_format(F.col(\"Alarm_DtTm\"), 'yyyy MMMM dd E'))\n",
    "df5.limit(3).toPandas()"
   ]
  },
  {
   "cell_type": "code",
   "execution_count": 36,
   "metadata": {},
   "outputs": [
    {
     "data": {
      "text/html": [
       "<div>\n",
       "<style scoped>\n",
       "    .dataframe tbody tr th:only-of-type {\n",
       "        vertical-align: middle;\n",
       "    }\n",
       "\n",
       "    .dataframe tbody tr th {\n",
       "        vertical-align: top;\n",
       "    }\n",
       "\n",
       "    .dataframe thead th {\n",
       "        text-align: right;\n",
       "    }\n",
       "</style>\n",
       "<table border=\"1\" class=\"dataframe\">\n",
       "  <thead>\n",
       "    <tr style=\"text-align: right;\">\n",
       "      <th></th>\n",
       "      <th>Incident Date</th>\n",
       "      <th>Alarm DtTm</th>\n",
       "      <th>Alarm_UnixTS</th>\n",
       "      <th>Alarm_DtTm</th>\n",
       "      <th>Incident_Date</th>\n",
       "      <th>Alarm_DtTm_Str</th>\n",
       "    </tr>\n",
       "  </thead>\n",
       "  <tbody>\n",
       "    <tr>\n",
       "      <th>0</th>\n",
       "      <td>06/05/2018</td>\n",
       "      <td>06/05/2018 06:38:01 PM</td>\n",
       "      <td>1528213081</td>\n",
       "      <td>2018-06-05 18:38:01</td>\n",
       "      <td>2018-06-05</td>\n",
       "      <td>2018 June 05 Europe/Istanbul</td>\n",
       "    </tr>\n",
       "    <tr>\n",
       "      <th>1</th>\n",
       "      <td>08/29/2019</td>\n",
       "      <td>08/29/2019 08:09:25 PM</td>\n",
       "      <td>1567098565</td>\n",
       "      <td>2019-08-29 20:09:25</td>\n",
       "      <td>2019-08-29</td>\n",
       "      <td>2019 August 29 Europe/Istanbul</td>\n",
       "    </tr>\n",
       "    <tr>\n",
       "      <th>2</th>\n",
       "      <td>06/14/2018</td>\n",
       "      <td>06/14/2018 08:37:56 PM</td>\n",
       "      <td>1528997876</td>\n",
       "      <td>2018-06-14 20:37:56</td>\n",
       "      <td>2018-06-14</td>\n",
       "      <td>2018 June 14 Europe/Istanbul</td>\n",
       "    </tr>\n",
       "  </tbody>\n",
       "</table>\n",
       "</div>"
      ],
      "text/plain": [
       "  Incident Date              Alarm DtTm  Alarm_UnixTS          Alarm_DtTm  \\\n",
       "0    06/05/2018  06/05/2018 06:38:01 PM    1528213081 2018-06-05 18:38:01   \n",
       "1    08/29/2019  08/29/2019 08:09:25 PM    1567098565 2019-08-29 20:09:25   \n",
       "2    06/14/2018  06/14/2018 08:37:56 PM    1528997876 2018-06-14 20:37:56   \n",
       "\n",
       "  Incident_Date                  Alarm_DtTm_Str  \n",
       "0    2018-06-05    2018 June 05 Europe/Istanbul  \n",
       "1    2019-08-29  2019 August 29 Europe/Istanbul  \n",
       "2    2018-06-14    2018 June 14 Europe/Istanbul  "
      ]
     },
     "execution_count": 36,
     "metadata": {},
     "output_type": "execute_result"
    }
   ],
   "source": [
    "df5 = df4.withColumn(\"Alarm_DtTm_Str\", \n",
    "                     F.date_format(F.col(\"Alarm_DtTm\"), 'yyyy MMMM dd VV'))\n",
    "df5.limit(3).toPandas()"
   ]
  },
  {
   "cell_type": "code",
   "execution_count": 37,
   "metadata": {},
   "outputs": [
    {
     "data": {
      "text/html": [
       "<div>\n",
       "<style scoped>\n",
       "    .dataframe tbody tr th:only-of-type {\n",
       "        vertical-align: middle;\n",
       "    }\n",
       "\n",
       "    .dataframe tbody tr th {\n",
       "        vertical-align: top;\n",
       "    }\n",
       "\n",
       "    .dataframe thead th {\n",
       "        text-align: right;\n",
       "    }\n",
       "</style>\n",
       "<table border=\"1\" class=\"dataframe\">\n",
       "  <thead>\n",
       "    <tr style=\"text-align: right;\">\n",
       "      <th></th>\n",
       "      <th>Incident Date</th>\n",
       "      <th>Alarm DtTm</th>\n",
       "      <th>Alarm_UnixTS</th>\n",
       "      <th>Alarm_DtTm</th>\n",
       "      <th>Incident_Date</th>\n",
       "      <th>Alarm_DtTm_Str</th>\n",
       "    </tr>\n",
       "  </thead>\n",
       "  <tbody>\n",
       "    <tr>\n",
       "      <th>0</th>\n",
       "      <td>06/05/2018</td>\n",
       "      <td>06/05/2018 06:38:01 PM</td>\n",
       "      <td>1528213081</td>\n",
       "      <td>2018-06-05 18:38:01</td>\n",
       "      <td>2018-06-05</td>\n",
       "      <td>2018 June 05 GMT+03:00</td>\n",
       "    </tr>\n",
       "    <tr>\n",
       "      <th>1</th>\n",
       "      <td>08/29/2019</td>\n",
       "      <td>08/29/2019 08:09:25 PM</td>\n",
       "      <td>1567098565</td>\n",
       "      <td>2019-08-29 20:09:25</td>\n",
       "      <td>2019-08-29</td>\n",
       "      <td>2019 August 29 GMT+03:00</td>\n",
       "    </tr>\n",
       "    <tr>\n",
       "      <th>2</th>\n",
       "      <td>06/14/2018</td>\n",
       "      <td>06/14/2018 08:37:56 PM</td>\n",
       "      <td>1528997876</td>\n",
       "      <td>2018-06-14 20:37:56</td>\n",
       "      <td>2018-06-14</td>\n",
       "      <td>2018 June 14 GMT+03:00</td>\n",
       "    </tr>\n",
       "  </tbody>\n",
       "</table>\n",
       "</div>"
      ],
      "text/plain": [
       "  Incident Date              Alarm DtTm  Alarm_UnixTS          Alarm_DtTm  \\\n",
       "0    06/05/2018  06/05/2018 06:38:01 PM    1528213081 2018-06-05 18:38:01   \n",
       "1    08/29/2019  08/29/2019 08:09:25 PM    1567098565 2019-08-29 20:09:25   \n",
       "2    06/14/2018  06/14/2018 08:37:56 PM    1528997876 2018-06-14 20:37:56   \n",
       "\n",
       "  Incident_Date            Alarm_DtTm_Str  \n",
       "0    2018-06-05    2018 June 05 GMT+03:00  \n",
       "1    2019-08-29  2019 August 29 GMT+03:00  \n",
       "2    2018-06-14    2018 June 14 GMT+03:00  "
      ]
     },
     "execution_count": 37,
     "metadata": {},
     "output_type": "execute_result"
    }
   ],
   "source": [
    "df5 = df4.withColumn(\"Alarm_DtTm_Str\", \n",
    "                     F.date_format(F.col(\"Alarm_DtTm\"), 'yyyy MMMM dd OOOO'))\n",
    "df5.limit(3).toPandas()"
   ]
  },
  {
   "cell_type": "code",
   "execution_count": 38,
   "metadata": {},
   "outputs": [],
   "source": [
    "spark.stop()"
   ]
  },
  {
   "cell_type": "code",
   "execution_count": null,
   "metadata": {},
   "outputs": [],
   "source": []
  },
  {
   "cell_type": "code",
   "execution_count": null,
   "metadata": {},
   "outputs": [],
   "source": []
  },
  {
   "cell_type": "code",
   "execution_count": null,
   "metadata": {},
   "outputs": [],
   "source": []
  }
 ],
 "metadata": {
  "kernelspec": {
   "display_name": "venvspark",
   "language": "python",
   "name": "venvspark"
  },
  "language_info": {
   "codemirror_mode": {
    "name": "ipython",
    "version": 3
   },
   "file_extension": ".py",
   "mimetype": "text/x-python",
   "name": "python",
   "nbconvert_exporter": "python",
   "pygments_lexer": "ipython3",
   "version": "3.8.12"
  }
 },
 "nbformat": 4,
 "nbformat_minor": 4
}
