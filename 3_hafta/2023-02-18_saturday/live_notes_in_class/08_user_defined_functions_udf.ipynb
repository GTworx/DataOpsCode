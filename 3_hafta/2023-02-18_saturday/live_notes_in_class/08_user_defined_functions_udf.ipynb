{
 "cells": [
  {
   "cell_type": "code",
   "execution_count": 37,
   "id": "25509a3e-09d9-428f-9b96-c1e9d4718091",
   "metadata": {
    "tags": []
   },
   "outputs": [],
   "source": [
    "from pyspark.sql import SparkSession, functions as F\n",
    "from pyspark.sql.types import StructType, StructField, DoubleType, StringType, IntegerType, DateType, ArrayType, FloatType"
   ]
  },
  {
   "cell_type": "code",
   "execution_count": 38,
   "id": "c29e0d68-39fb-4c37-9b2e-1a5d184dc3eb",
   "metadata": {
    "tags": []
   },
   "outputs": [],
   "source": [
    "spark = SparkSession.builder \\\n",
    ".master(\"local[2]\") \\\n",
    ".appName(\"UDF\") \\\n",
    ".getOrCreate()"
   ]
  },
  {
   "cell_type": "code",
   "execution_count": 39,
   "id": "7cc80989-3fbf-4a28-ad4b-903a61309a41",
   "metadata": {},
   "outputs": [],
   "source": [
    "# ! wget -O /home/train/datasets/Hotel_Reviews.csv.gz \\\n",
    "# https://github.com/erkansirin78/datasets/raw/master/Hotel_Reviews.csv.gz"
   ]
  },
  {
   "cell_type": "markdown",
   "id": "6f657e15-6487-407b-9b80-d8d1016ad65a",
   "metadata": {},
   "source": [
    "# Read Data"
   ]
  },
  {
   "cell_type": "code",
   "execution_count": 40,
   "id": "23c88d5c-d48a-4e29-9ccb-e928a5d279aa",
   "metadata": {},
   "outputs": [
    {
     "name": "stderr",
     "output_type": "stream",
     "text": [
      "                                                                                \r"
     ]
    }
   ],
   "source": [
    "df = spark.read \\\n",
    ".format(\"csv\") \\\n",
    ".option(\"header\", True) \\\n",
    ".option(\"sep\", \",\") \\\n",
    ".option(\"inferSchema\", True) \\\n",
    ".load(\"file:///home/train/datasets/Hotel_Reviews.csv.gz\") \\\n",
    ".withColumn(\"Review_Date\", F.to_date(\"Review_Date\", \"M/d/y\")) \\\n",
    ".withColumn(\"Tags\", F.split(F.col(\"Tags\"), \",\").cast(ArrayType(StringType())))"
   ]
  },
  {
   "cell_type": "code",
   "execution_count": 41,
   "id": "50c2e863-58d8-451f-9b16-e60d058d7cdb",
   "metadata": {
    "tags": []
   },
   "outputs": [],
   "source": [
    "spark.conf.set(\"spark.sql.repl.eagerEval.enabled\", True)"
   ]
  },
  {
   "cell_type": "code",
   "execution_count": 42,
   "id": "e0ffce71-59ae-4547-b349-9676dad160da",
   "metadata": {},
   "outputs": [
    {
     "data": {
      "text/html": [
       "<table border='1'>\n",
       "<tr><th>Hotel_Address</th><th>Additional_Number_of_Scoring</th><th>Review_Date</th><th>Average_Score</th><th>Hotel_Name</th><th>Reviewer_Nationality</th><th>Negative_Review</th><th>Review_Total_Negative_Word_Counts</th><th>Total_Number_of_Reviews</th><th>Positive_Review</th><th>Review_Total_Positive_Word_Counts</th><th>Total_Number_of_Reviews_Reviewer_Has_Given</th><th>Reviewer_Score</th><th>Tags</th><th>days_since_review</th><th>lat</th><th>lng</th></tr>\n",
       "<tr><td> s Gravesandestra...</td><td>194</td><td>2017-08-03</td><td>7.7</td><td>Hotel Arena</td><td> Russia </td><td> I am so angry th...</td><td>397</td><td>1403</td><td> Only the park ou...</td><td>11</td><td>7</td><td>2.9</td><td>[[&#x27; Leisure trip ...</td><td>0 days</td><td>52.3605759</td><td>4.9159683</td></tr>\n",
       "<tr><td> s Gravesandestra...</td><td>194</td><td>2017-08-03</td><td>7.7</td><td>Hotel Arena</td><td> Ireland </td><td>No Negative</td><td>0</td><td>1403</td><td> No real complain...</td><td>105</td><td>7</td><td>7.5</td><td>[[&#x27; Leisure trip ...</td><td>0 days</td><td>52.3605759</td><td>4.9159683</td></tr>\n",
       "</table>\n"
      ],
      "text/plain": [
       "+--------------------+----------------------------+-----------+-------------+-----------+--------------------+--------------------+---------------------------------+-----------------------+--------------------+---------------------------------+------------------------------------------+--------------+--------------------+-----------------+----------+---------+\n",
       "|       Hotel_Address|Additional_Number_of_Scoring|Review_Date|Average_Score| Hotel_Name|Reviewer_Nationality|     Negative_Review|Review_Total_Negative_Word_Counts|Total_Number_of_Reviews|     Positive_Review|Review_Total_Positive_Word_Counts|Total_Number_of_Reviews_Reviewer_Has_Given|Reviewer_Score|                Tags|days_since_review|       lat|      lng|\n",
       "+--------------------+----------------------------+-----------+-------------+-----------+--------------------+--------------------+---------------------------------+-----------------------+--------------------+---------------------------------+------------------------------------------+--------------+--------------------+-----------------+----------+---------+\n",
       "| s Gravesandestra...|                         194| 2017-08-03|          7.7|Hotel Arena|             Russia | I am so angry th...|                              397|                   1403| Only the park ou...|                               11|                                         7|           2.9|[[' Leisure trip ...|           0 days|52.3605759|4.9159683|\n",
       "| s Gravesandestra...|                         194| 2017-08-03|          7.7|Hotel Arena|            Ireland |         No Negative|                                0|                   1403| No real complain...|                              105|                                         7|           7.5|[[' Leisure trip ...|           0 days|52.3605759|4.9159683|\n",
       "+--------------------+----------------------------+-----------+-------------+-----------+--------------------+--------------------+---------------------------------+-----------------------+--------------------+---------------------------------+------------------------------------------+--------------+--------------------+-----------------+----------+---------+"
      ]
     },
     "execution_count": 42,
     "metadata": {},
     "output_type": "execute_result"
    }
   ],
   "source": [
    "df.limit(2)"
   ]
  },
  {
   "cell_type": "code",
   "execution_count": 43,
   "id": "639ed679-2c8d-4b4e-a14d-e16df2047961",
   "metadata": {
    "tags": []
   },
   "outputs": [
    {
     "data": {
      "text/plain": [
       "pyspark.sql.dataframe.DataFrame"
      ]
     },
     "execution_count": 43,
     "metadata": {},
     "output_type": "execute_result"
    }
   ],
   "source": [
    "type(df2)"
   ]
  },
  {
   "cell_type": "code",
   "execution_count": 44,
   "id": "6a9e4234-ad29-4591-8d1c-90e8507e368a",
   "metadata": {},
   "outputs": [],
   "source": [
    "def upper_case(x):\n",
    "    return x.upper()"
   ]
  },
  {
   "cell_type": "code",
   "execution_count": 45,
   "id": "099d7b2b-88ac-49e6-bf91-d8636af3be09",
   "metadata": {
    "tags": []
   },
   "outputs": [
    {
     "data": {
      "text/plain": [
       "'ALI GEL'"
      ]
     },
     "execution_count": 45,
     "metadata": {},
     "output_type": "execute_result"
    }
   ],
   "source": [
    "upper_case('Ali Gel')"
   ]
  },
  {
   "cell_type": "code",
   "execution_count": 46,
   "id": "d498a2ed-fe6b-4830-a3c3-2b80babf0cf2",
   "metadata": {
    "tags": []
   },
   "outputs": [],
   "source": [
    "upper_case_udf = F.udf(upper_case, StringType())"
   ]
  },
  {
   "cell_type": "code",
   "execution_count": 47,
   "id": "d0dc4ca1-589c-497e-9f9c-8fda4ed0612e",
   "metadata": {
    "tags": []
   },
   "outputs": [
    {
     "name": "stderr",
     "output_type": "stream",
     "text": [
      "Traceback (most recent call last):                                  (0 + 1) / 1]\n",
      "  File \"/opt/manual/spark/python/lib/pyspark.zip/pyspark/daemon.py\", line 186, in manager\n",
      "  File \"/opt/manual/spark/python/lib/pyspark.zip/pyspark/daemon.py\", line 74, in worker\n",
      "  File \"/opt/manual/spark/python/lib/pyspark.zip/pyspark/worker.py\", line 643, in main\n",
      "    if read_int(infile) == SpecialLengths.END_OF_STREAM:\n",
      "  File \"/opt/manual/spark/python/lib/pyspark.zip/pyspark/serializers.py\", line 564, in read_int\n",
      "    raise EOFError\n",
      "EOFError\n",
      "Traceback (most recent call last):                                              \n",
      "  File \"/opt/manual/spark/python/lib/pyspark.zip/pyspark/daemon.py\", line 186, in manager\n",
      "  File \"/opt/manual/spark/python/lib/pyspark.zip/pyspark/daemon.py\", line 74, in worker\n",
      "  File \"/opt/manual/spark/python/lib/pyspark.zip/pyspark/worker.py\", line 643, in main\n",
      "    if read_int(infile) == SpecialLengths.END_OF_STREAM:\n",
      "  File \"/opt/manual/spark/python/lib/pyspark.zip/pyspark/serializers.py\", line 564, in read_int\n",
      "    raise EOFError\n",
      "EOFError\n"
     ]
    },
    {
     "data": {
      "text/html": [
       "<table border='1'>\n",
       "<tr><th>Hotel_Address</th><th>Additional_Number_of_Scoring</th><th>Review_Date</th><th>Average_Score</th><th>Hotel_Name</th><th>Reviewer_Nationality</th><th>Negative_Review</th><th>Review_Total_Negative_Word_Counts</th><th>Total_Number_of_Reviews</th><th>Positive_Review</th><th>Review_Total_Positive_Word_Counts</th><th>Total_Number_of_Reviews_Reviewer_Has_Given</th><th>Reviewer_Score</th><th>Tags</th><th>days_since_review</th><th>lat</th><th>lng</th></tr>\n",
       "<tr><td> s Gravesandestra...</td><td>194</td><td>2017-08-03</td><td>7.7</td><td>HOTEL ARENA</td><td> Russia </td><td> I am so angry th...</td><td>397</td><td>1403</td><td> Only the park ou...</td><td>11</td><td>7</td><td>2.9</td><td>[[&#x27; Leisure trip ...</td><td>0 days</td><td>52.3605759</td><td>4.9159683</td></tr>\n",
       "<tr><td> s Gravesandestra...</td><td>194</td><td>2017-08-03</td><td>7.7</td><td>HOTEL ARENA</td><td> Ireland </td><td>No Negative</td><td>0</td><td>1403</td><td> No real complain...</td><td>105</td><td>7</td><td>7.5</td><td>[[&#x27; Leisure trip ...</td><td>0 days</td><td>52.3605759</td><td>4.9159683</td></tr>\n",
       "<tr><td> s Gravesandestra...</td><td>194</td><td>2017-07-31</td><td>7.7</td><td>HOTEL ARENA</td><td> Australia </td><td> Rooms are nice b...</td><td>42</td><td>1403</td><td> Location was goo...</td><td>21</td><td>9</td><td>7.1</td><td>[[&#x27; Leisure trip ...</td><td>3 days</td><td>52.3605759</td><td>4.9159683</td></tr>\n",
       "</table>\n"
      ],
      "text/plain": [
       "+--------------------+----------------------------+-----------+-------------+-----------+--------------------+--------------------+---------------------------------+-----------------------+--------------------+---------------------------------+------------------------------------------+--------------+--------------------+-----------------+----------+---------+\n",
       "|       Hotel_Address|Additional_Number_of_Scoring|Review_Date|Average_Score| Hotel_Name|Reviewer_Nationality|     Negative_Review|Review_Total_Negative_Word_Counts|Total_Number_of_Reviews|     Positive_Review|Review_Total_Positive_Word_Counts|Total_Number_of_Reviews_Reviewer_Has_Given|Reviewer_Score|                Tags|days_since_review|       lat|      lng|\n",
       "+--------------------+----------------------------+-----------+-------------+-----------+--------------------+--------------------+---------------------------------+-----------------------+--------------------+---------------------------------+------------------------------------------+--------------+--------------------+-----------------+----------+---------+\n",
       "| s Gravesandestra...|                         194| 2017-08-03|          7.7|HOTEL ARENA|             Russia | I am so angry th...|                              397|                   1403| Only the park ou...|                               11|                                         7|           2.9|[[' Leisure trip ...|           0 days|52.3605759|4.9159683|\n",
       "| s Gravesandestra...|                         194| 2017-08-03|          7.7|HOTEL ARENA|            Ireland |         No Negative|                                0|                   1403| No real complain...|                              105|                                         7|           7.5|[[' Leisure trip ...|           0 days|52.3605759|4.9159683|\n",
       "| s Gravesandestra...|                         194| 2017-07-31|          7.7|HOTEL ARENA|          Australia | Rooms are nice b...|                               42|                   1403| Location was goo...|                               21|                                         9|           7.1|[[' Leisure trip ...|           3 days|52.3605759|4.9159683|\n",
       "+--------------------+----------------------------+-----------+-------------+-----------+--------------------+--------------------+---------------------------------+-----------------------+--------------------+---------------------------------+------------------------------------------+--------------+--------------------+-----------------+----------+---------+"
      ]
     },
     "execution_count": 47,
     "metadata": {},
     "output_type": "execute_result"
    }
   ],
   "source": [
    "df.withColumn(\"Hotel_Name\", upper_case_udf(F.col(\"Hotel_Name\"))).limit(3)"
   ]
  },
  {
   "cell_type": "code",
   "execution_count": 48,
   "id": "e4af45cd-eedc-461b-b043-6a13ae4188b7",
   "metadata": {
    "tags": []
   },
   "outputs": [],
   "source": [
    "def hotel_and_country(hotel, country):\n",
    "    return \"{} - {}\".format(hotel, country.strip())"
   ]
  },
  {
   "cell_type": "code",
   "execution_count": 49,
   "id": "5468fc40-175f-4f39-a8e0-160af023e357",
   "metadata": {
    "tags": []
   },
   "outputs": [],
   "source": [
    "hotel_and_country_udf = F.udf(hotel_and_country, StringType())"
   ]
  },
  {
   "cell_type": "code",
   "execution_count": 50,
   "id": "36f4c8bb-6e70-4647-b192-8e714b96d05d",
   "metadata": {
    "tags": []
   },
   "outputs": [
    {
     "name": "stdout",
     "output_type": "stream",
     "text": [
      "+----------------------------+\n",
      "|Hotel_Country               |\n",
      "+----------------------------+\n",
      "|Hotel Arena - Russia        |\n",
      "|Hotel Arena - Ireland       |\n",
      "|Hotel Arena - Australia     |\n",
      "|Hotel Arena - United Kingdom|\n",
      "|Hotel Arena - New Zealand   |\n",
      "|Hotel Arena - Poland        |\n",
      "|Hotel Arena - United Kingdom|\n",
      "|Hotel Arena - United Kingdom|\n",
      "|Hotel Arena - Belgium       |\n",
      "|Hotel Arena - Norway        |\n",
      "|Hotel Arena - United Kingdom|\n",
      "|Hotel Arena - France        |\n",
      "|Hotel Arena - United Kingdom|\n",
      "|Hotel Arena - Italy         |\n",
      "|Hotel Arena - Canada        |\n",
      "|Hotel Arena - Italy         |\n",
      "|Hotel Arena - United Kingdom|\n",
      "|Hotel Arena - Ireland       |\n",
      "|Hotel Arena - Netherlands   |\n",
      "|Hotel Arena - Australia     |\n",
      "+----------------------------+\n",
      "only showing top 20 rows\n",
      "\n"
     ]
    },
    {
     "name": "stderr",
     "output_type": "stream",
     "text": [
      "Traceback (most recent call last):\n",
      "  File \"/opt/manual/spark/python/lib/pyspark.zip/pyspark/daemon.py\", line 186, in manager\n",
      "  File \"/opt/manual/spark/python/lib/pyspark.zip/pyspark/daemon.py\", line 74, in worker\n",
      "  File \"/opt/manual/spark/python/lib/pyspark.zip/pyspark/worker.py\", line 643, in main\n",
      "    if read_int(infile) == SpecialLengths.END_OF_STREAM:\n",
      "  File \"/opt/manual/spark/python/lib/pyspark.zip/pyspark/serializers.py\", line 564, in read_int\n",
      "    raise EOFError\n",
      "EOFError\n"
     ]
    }
   ],
   "source": [
    "df.select(hotel_and_country_udf(\"Hotel_Name\",\"Reviewer_Nationality\") \\\n",
    "          .alias(\"Hotel_Country\")).show(truncate=False)"
   ]
  },
  {
   "cell_type": "code",
   "execution_count": 51,
   "id": "1835ccac-a868-4fa2-be20-04b117985ef5",
   "metadata": {
    "tags": []
   },
   "outputs": [],
   "source": [
    "import pandas as pd"
   ]
  },
  {
   "cell_type": "code",
   "execution_count": 52,
   "id": "17f3e3f8-1025-4075-a364-8b8a1a0e27cd",
   "metadata": {
    "tags": []
   },
   "outputs": [],
   "source": [
    "def upper_case(col: pd.Series) -> pd.Series:\n",
    "    return col.transform(lambda x: x.upper())"
   ]
  },
  {
   "cell_type": "code",
   "execution_count": 53,
   "id": "18757b29-cc02-449f-81b2-e0338581e409",
   "metadata": {
    "tags": []
   },
   "outputs": [],
   "source": [
    "upper_case_pdudf = F.pandas_udf(upper_case, returnType=StringType())"
   ]
  },
  {
   "cell_type": "code",
   "execution_count": 54,
   "id": "fe995a4c-4aa6-458b-beb5-b37c0eda9542",
   "metadata": {
    "tags": []
   },
   "outputs": [],
   "source": [
    "# ! pip install pyarrow"
   ]
  },
  {
   "cell_type": "code",
   "execution_count": 55,
   "id": "4c626fd1-391f-41eb-813b-6e1dd61244e3",
   "metadata": {
    "tags": []
   },
   "outputs": [
    {
     "name": "stderr",
     "output_type": "stream",
     "text": [
      "[Stage 13:>                                                         (0 + 1) / 1]\r"
     ]
    },
    {
     "name": "stdout",
     "output_type": "stream",
     "text": [
      "+-----------+----------------+\n",
      "| Hotel_Name|Hotel_Name_Upper|\n",
      "+-----------+----------------+\n",
      "|Hotel Arena|     HOTEL ARENA|\n",
      "|Hotel Arena|     HOTEL ARENA|\n",
      "|Hotel Arena|     HOTEL ARENA|\n",
      "|Hotel Arena|     HOTEL ARENA|\n",
      "|Hotel Arena|     HOTEL ARENA|\n",
      "+-----------+----------------+\n",
      "only showing top 5 rows\n",
      "\n"
     ]
    },
    {
     "name": "stderr",
     "output_type": "stream",
     "text": [
      "                                                                                \r"
     ]
    }
   ],
   "source": [
    "df.select(\"Hotel_Name\",upper_case_pdudf(\"Hotel_Name\").alias(\"Hotel_Name_Upper\")).show(5)"
   ]
  },
  {
   "cell_type": "code",
   "execution_count": 56,
   "id": "7a78faf4-eec6-435d-b0f2-e599d0b229cd",
   "metadata": {
    "tags": []
   },
   "outputs": [],
   "source": [
    "df2 = df.withColumnRenamed(\"Review_Total_Negative_Word_Counts\",\"TN_Counts\")"
   ]
  },
  {
   "cell_type": "code",
   "execution_count": 60,
   "id": "76f3f36b-aa83-497d-a6cf-43e04cd27bdd",
   "metadata": {
    "tags": []
   },
   "outputs": [
    {
     "name": "stderr",
     "output_type": "stream",
     "text": [
      "                                                                                \r"
     ]
    },
    {
     "data": {
      "text/html": [
       "<table border='1'>\n",
       "<tr><th>Hotel_Address</th><th>Additional_Number_of_Scoring</th><th>Review_Date</th><th>Average_Score</th><th>Hotel_Name</th><th>Reviewer_Nationality</th><th>Negative_Review</th><th>TN_Counts</th><th>Total_Number_of_Reviews</th><th>Positive_Review</th><th>Review_Total_Positive_Word_Counts</th><th>Total_Number_of_Reviews_Reviewer_Has_Given</th><th>Reviewer_Score</th><th>Tags</th><th>days_since_review</th><th>lat</th><th>lng</th></tr>\n",
       "<tr><td> s Gravesandestra...</td><td>194</td><td>2017-08-03</td><td>7.7</td><td>Hotel Arena</td><td> Russia </td><td> I am so angry th...</td><td>397</td><td>1403</td><td> Only the park ou...</td><td>11</td><td>7</td><td>2.9</td><td>[[&#x27; Leisure trip ...</td><td>0 days</td><td>52.3605759</td><td>4.9159683</td></tr>\n",
       "<tr><td> s Gravesandestra...</td><td>194</td><td>2017-08-03</td><td>7.7</td><td>Hotel Arena</td><td> Ireland </td><td>No Negative</td><td>0</td><td>1403</td><td> No real complain...</td><td>105</td><td>7</td><td>7.5</td><td>[[&#x27; Leisure trip ...</td><td>0 days</td><td>52.3605759</td><td>4.9159683</td></tr>\n",
       "<tr><td> s Gravesandestra...</td><td>194</td><td>2017-07-31</td><td>7.7</td><td>Hotel Arena</td><td> Australia </td><td> Rooms are nice b...</td><td>42</td><td>1403</td><td> Location was goo...</td><td>21</td><td>9</td><td>7.1</td><td>[[&#x27; Leisure trip ...</td><td>3 days</td><td>52.3605759</td><td>4.9159683</td></tr>\n",
       "</table>\n"
      ],
      "text/plain": [
       "+--------------------+----------------------------+-----------+-------------+-----------+--------------------+--------------------+---------+-----------------------+--------------------+---------------------------------+------------------------------------------+--------------+--------------------+-----------------+----------+---------+\n",
       "|       Hotel_Address|Additional_Number_of_Scoring|Review_Date|Average_Score| Hotel_Name|Reviewer_Nationality|     Negative_Review|TN_Counts|Total_Number_of_Reviews|     Positive_Review|Review_Total_Positive_Word_Counts|Total_Number_of_Reviews_Reviewer_Has_Given|Reviewer_Score|                Tags|days_since_review|       lat|      lng|\n",
       "+--------------------+----------------------------+-----------+-------------+-----------+--------------------+--------------------+---------+-----------------------+--------------------+---------------------------------+------------------------------------------+--------------+--------------------+-----------------+----------+---------+\n",
       "| s Gravesandestra...|                         194| 2017-08-03|          7.7|Hotel Arena|             Russia | I am so angry th...|      397|                   1403| Only the park ou...|                               11|                                         7|           2.9|[[' Leisure trip ...|           0 days|52.3605759|4.9159683|\n",
       "| s Gravesandestra...|                         194| 2017-08-03|          7.7|Hotel Arena|            Ireland |         No Negative|        0|                   1403| No real complain...|                              105|                                         7|           7.5|[[' Leisure trip ...|           0 days|52.3605759|4.9159683|\n",
       "| s Gravesandestra...|                         194| 2017-07-31|          7.7|Hotel Arena|          Australia | Rooms are nice b...|       42|                   1403| Location was goo...|                               21|                                         9|           7.1|[[' Leisure trip ...|           3 days|52.3605759|4.9159683|\n",
       "+--------------------+----------------------------+-----------+-------------+-----------+--------------------+--------------------+---------+-----------------------+--------------------+---------------------------------+------------------------------------------+--------------+--------------------+-----------------+----------+---------+"
      ]
     },
     "execution_count": 60,
     "metadata": {},
     "output_type": "execute_result"
    }
   ],
   "source": [
    "df2.limit(3)"
   ]
  },
  {
   "cell_type": "code",
   "execution_count": 58,
   "id": "f280f632-74e5-4103-8c8a-80a7740b1376",
   "metadata": {
    "tags": []
   },
   "outputs": [],
   "source": [
    "df3 = df2.drop(\"TN_Counts\", \"Tags\")"
   ]
  },
  {
   "cell_type": "code",
   "execution_count": 59,
   "id": "c43f1ed0-f190-4901-b340-b97c11ae8266",
   "metadata": {
    "tags": []
   },
   "outputs": [
    {
     "data": {
      "text/html": [
       "<table border='1'>\n",
       "<tr><th>Hotel_Address</th><th>Additional_Number_of_Scoring</th><th>Review_Date</th><th>Average_Score</th><th>Hotel_Name</th><th>Reviewer_Nationality</th><th>Negative_Review</th><th>Total_Number_of_Reviews</th><th>Positive_Review</th><th>Review_Total_Positive_Word_Counts</th><th>Total_Number_of_Reviews_Reviewer_Has_Given</th><th>Reviewer_Score</th><th>days_since_review</th><th>lat</th><th>lng</th></tr>\n",
       "<tr><td> s Gravesandestra...</td><td>194</td><td>2017-08-03</td><td>7.7</td><td>Hotel Arena</td><td> Russia </td><td> I am so angry th...</td><td>1403</td><td> Only the park ou...</td><td>11</td><td>7</td><td>2.9</td><td>0 days</td><td>52.3605759</td><td>4.9159683</td></tr>\n",
       "<tr><td> s Gravesandestra...</td><td>194</td><td>2017-08-03</td><td>7.7</td><td>Hotel Arena</td><td> Ireland </td><td>No Negative</td><td>1403</td><td> No real complain...</td><td>105</td><td>7</td><td>7.5</td><td>0 days</td><td>52.3605759</td><td>4.9159683</td></tr>\n",
       "<tr><td> s Gravesandestra...</td><td>194</td><td>2017-07-31</td><td>7.7</td><td>Hotel Arena</td><td> Australia </td><td> Rooms are nice b...</td><td>1403</td><td> Location was goo...</td><td>21</td><td>9</td><td>7.1</td><td>3 days</td><td>52.3605759</td><td>4.9159683</td></tr>\n",
       "</table>\n"
      ],
      "text/plain": [
       "+--------------------+----------------------------+-----------+-------------+-----------+--------------------+--------------------+-----------------------+--------------------+---------------------------------+------------------------------------------+--------------+-----------------+----------+---------+\n",
       "|       Hotel_Address|Additional_Number_of_Scoring|Review_Date|Average_Score| Hotel_Name|Reviewer_Nationality|     Negative_Review|Total_Number_of_Reviews|     Positive_Review|Review_Total_Positive_Word_Counts|Total_Number_of_Reviews_Reviewer_Has_Given|Reviewer_Score|days_since_review|       lat|      lng|\n",
       "+--------------------+----------------------------+-----------+-------------+-----------+--------------------+--------------------+-----------------------+--------------------+---------------------------------+------------------------------------------+--------------+-----------------+----------+---------+\n",
       "| s Gravesandestra...|                         194| 2017-08-03|          7.7|Hotel Arena|             Russia | I am so angry th...|                   1403| Only the park ou...|                               11|                                         7|           2.9|           0 days|52.3605759|4.9159683|\n",
       "| s Gravesandestra...|                         194| 2017-08-03|          7.7|Hotel Arena|            Ireland |         No Negative|                   1403| No real complain...|                              105|                                         7|           7.5|           0 days|52.3605759|4.9159683|\n",
       "| s Gravesandestra...|                         194| 2017-07-31|          7.7|Hotel Arena|          Australia | Rooms are nice b...|                   1403| Location was goo...|                               21|                                         9|           7.1|           3 days|52.3605759|4.9159683|\n",
       "+--------------------+----------------------------+-----------+-------------+-----------+--------------------+--------------------+-----------------------+--------------------+---------------------------------+------------------------------------------+--------------+-----------------+----------+---------+"
      ]
     },
     "execution_count": 59,
     "metadata": {},
     "output_type": "execute_result"
    }
   ],
   "source": [
    "df3.limit(3)"
   ]
  },
  {
   "cell_type": "code",
   "execution_count": null,
   "id": "bee87370-0265-474d-9766-334637d4bd05",
   "metadata": {},
   "outputs": [],
   "source": []
  }
 ],
 "metadata": {
  "kernelspec": {
   "display_name": "venvspark",
   "language": "python",
   "name": "venvspark"
  },
  "language_info": {
   "codemirror_mode": {
    "name": "ipython",
    "version": 3
   },
   "file_extension": ".py",
   "mimetype": "text/x-python",
   "name": "python",
   "nbconvert_exporter": "python",
   "pygments_lexer": "ipython3",
   "version": "3.8.12"
  }
 },
 "nbformat": 4,
 "nbformat_minor": 5
}
