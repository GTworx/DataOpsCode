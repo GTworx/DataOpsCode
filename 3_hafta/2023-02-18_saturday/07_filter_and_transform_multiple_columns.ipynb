{
 "cells": [
  {
   "cell_type": "code",
   "execution_count": 1,
   "metadata": {},
   "outputs": [],
   "source": [
    "import findspark"
   ]
  },
  {
   "cell_type": "code",
   "execution_count": 2,
   "metadata": {},
   "outputs": [],
   "source": [
    "# /opt/manual/spark: this is SPARK_HOME path\n",
    "findspark.init(\"/opt/manual/spark\")"
   ]
  },
  {
   "cell_type": "code",
   "execution_count": 3,
   "metadata": {},
   "outputs": [],
   "source": [
    "from pyspark.sql import SparkSession, functions as F"
   ]
  },
  {
   "cell_type": "code",
   "execution_count": 4,
   "metadata": {},
   "outputs": [
    {
     "name": "stderr",
     "output_type": "stream",
     "text": [
      "WARNING: An illegal reflective access operation has occurred\n",
      "WARNING: Illegal reflective access by org.apache.spark.unsafe.Platform (file:/opt/manual/spark-3.1.1-bin-hadoop3.2/jars/spark-unsafe_2.12-3.1.1.jar) to constructor java.nio.DirectByteBuffer(long,int)\n",
      "WARNING: Please consider reporting this to the maintainers of org.apache.spark.unsafe.Platform\n",
      "WARNING: Use --illegal-access=warn to enable warnings of further illegal reflective access operations\n",
      "WARNING: All illegal access operations will be denied in a future release\n",
      "2022-08-27 14:36:56,734 WARN util.NativeCodeLoader: Unable to load native-hadoop library for your platform... using builtin-java classes where applicable\n",
      "Setting default log level to \"WARN\".\n",
      "To adjust logging level use sc.setLogLevel(newLevel). For SparkR, use setLogLevel(newLevel).\n"
     ]
    }
   ],
   "source": [
    "spark = SparkSession.builder \\\n",
    ".appName(\"Filter Multiple Columns\") \\\n",
    ".master(\"local[2]\") \\\n",
    ".getOrCreate()"
   ]
  },
  {
   "cell_type": "code",
   "execution_count": 5,
   "metadata": {},
   "outputs": [],
   "source": [
    "# Data source: https://www.kaggle.com/jiashenliu/515k-hotel-reviews-data-in-europe"
   ]
  },
  {
   "cell_type": "code",
   "execution_count": 5,
   "metadata": {},
   "outputs": [],
   "source": [
    "#! wget -O ~/datasets/Hotel_Reviews.csv.gz \\\n",
    "#https://github.com/erkansirin78/datasets/raw/master/Hotel_Reviews.csv.gz"
   ]
  },
  {
   "cell_type": "code",
   "execution_count": 6,
   "metadata": {},
   "outputs": [
    {
     "name": "stdout",
     "output_type": "stream",
     "text": [
      "-rw-rw-r--. 1 train train 46401315 Aug 27 11:25 Hotel_Reviews.csv.gz\n"
     ]
    }
   ],
   "source": [
    "! ls -l ~/datasets | grep Hotel"
   ]
  },
  {
   "cell_type": "code",
   "execution_count": 7,
   "metadata": {},
   "outputs": [],
   "source": [
    "from pyspark.sql.types import *\n",
    "\n",
    "programmatical_schema = StructType([\n",
    "        StructField(\"Hotel_Address\",StringType(),True),\n",
    "        StructField(\"Additional_Number_of_Scoring\",IntegerType(),True),\n",
    "        StructField(\"Review_Date\",StringType(),True),\n",
    "        StructField(\"Average_Score\",FloatType(),True),\n",
    "        StructField(\"Hotel_Name\",StringType(),True),\n",
    "        StructField(\"Reviewer_Nationality\",StringType(),True),\n",
    "        StructField(\"Negative_Review\",StringType(),True),\n",
    "        StructField(\"Review_Total_Negative_Word_Counts\",IntegerType(),True),\n",
    "        StructField(\"Total_Number_of_Reviews\",IntegerType(),True),\n",
    "        StructField(\"Positive_Review\",StringType(),True),\n",
    "        StructField(\"Review_Total_Positive_Word_Counts\",IntegerType(),True),\n",
    "        StructField(\"Total_Number_of_Reviews_Reviewer_Has_Given\",IntegerType(),True),\n",
    "        StructField(\"Reviewer_Score\",FloatType(),True),\n",
    "        StructField(\"Tags\",StringType(),True),\n",
    "        StructField(\"days_since_review\",StringType(),True),\n",
    "        StructField(\"lat\",FloatType(),True),\n",
    "        StructField(\"lng\",FloatType(),True)\n",
    "    ])\n",
    "\n",
    "# StructField(\"Tags\",ArrayType(StringType()),True)\n",
    "# Actually Tags should be array but csv cannot store array type.\n",
    "# So you have to define it as StringType \n",
    "\n",
    "# Review_Date is still StringType() and should be DateType() \n",
    "# But for the moment we intentioally leave it StringType()\n",
    "# As soon as we put schema on data we will modify it."
   ]
  },
  {
   "cell_type": "code",
   "execution_count": 8,
   "metadata": {},
   "outputs": [],
   "source": [
    "df = spark.read.option(\"header\", True) \\\n",
    ".schema(programmatical_schema) \\\n",
    ".option(\"compression\",\"gzip\") \\\n",
    ".csv(\"file:///home/train/datasets/Hotel_Reviews.csv.gz\")"
   ]
  },
  {
   "cell_type": "code",
   "execution_count": 9,
   "metadata": {},
   "outputs": [],
   "source": [
    "# Now we can correct Tags datatype\n",
    "# But we have to do additional preperation before cast with split.\n",
    "# And cast Review_Date to date\n",
    "df2 = df.withColumn(\"Tags\", \n",
    "                     F.split(F.col(\"Tags\"), \",\")\n",
    "                     .cast(ArrayType(StringType()))) \\\n",
    ".withColumn(\"Review_Date\", F.to_date(F.col(\"Review_Date\"),\"M/d/yyyy\"))"
   ]
  },
  {
   "cell_type": "code",
   "execution_count": 10,
   "metadata": {},
   "outputs": [
    {
     "name": "stderr",
     "output_type": "stream",
     "text": [
      "                                                                                \r"
     ]
    },
    {
     "data": {
      "text/html": [
       "<div>\n",
       "<style scoped>\n",
       "    .dataframe tbody tr th:only-of-type {\n",
       "        vertical-align: middle;\n",
       "    }\n",
       "\n",
       "    .dataframe tbody tr th {\n",
       "        vertical-align: top;\n",
       "    }\n",
       "\n",
       "    .dataframe thead th {\n",
       "        text-align: right;\n",
       "    }\n",
       "</style>\n",
       "<table border=\"1\" class=\"dataframe\">\n",
       "  <thead>\n",
       "    <tr style=\"text-align: right;\">\n",
       "      <th></th>\n",
       "      <th>Hotel_Address</th>\n",
       "      <th>Additional_Number_of_Scoring</th>\n",
       "      <th>Review_Date</th>\n",
       "      <th>Average_Score</th>\n",
       "      <th>Hotel_Name</th>\n",
       "      <th>Reviewer_Nationality</th>\n",
       "      <th>Negative_Review</th>\n",
       "      <th>Review_Total_Negative_Word_Counts</th>\n",
       "      <th>Total_Number_of_Reviews</th>\n",
       "      <th>Positive_Review</th>\n",
       "      <th>Review_Total_Positive_Word_Counts</th>\n",
       "      <th>Total_Number_of_Reviews_Reviewer_Has_Given</th>\n",
       "      <th>Reviewer_Score</th>\n",
       "      <th>Tags</th>\n",
       "      <th>days_since_review</th>\n",
       "      <th>lat</th>\n",
       "      <th>lng</th>\n",
       "    </tr>\n",
       "  </thead>\n",
       "  <tbody>\n",
       "    <tr>\n",
       "      <th>0</th>\n",
       "      <td>s Gravesandestraat 55 Oost 1092 AA Amsterdam ...</td>\n",
       "      <td>194</td>\n",
       "      <td>2017-08-03</td>\n",
       "      <td>7.7</td>\n",
       "      <td>Hotel Arena</td>\n",
       "      <td>Russia</td>\n",
       "      <td>I am so angry that i made this post available...</td>\n",
       "      <td>397</td>\n",
       "      <td>1403</td>\n",
       "      <td>Only the park outside of the hotel was beauti...</td>\n",
       "      <td>11</td>\n",
       "      <td>7</td>\n",
       "      <td>2.9</td>\n",
       "      <td>[[' Leisure trip ',  ' Couple ',  ' Duplex Dou...</td>\n",
       "      <td>0 days</td>\n",
       "      <td>52.360577</td>\n",
       "      <td>4.915968</td>\n",
       "    </tr>\n",
       "    <tr>\n",
       "      <th>1</th>\n",
       "      <td>s Gravesandestraat 55 Oost 1092 AA Amsterdam ...</td>\n",
       "      <td>194</td>\n",
       "      <td>2017-08-03</td>\n",
       "      <td>7.7</td>\n",
       "      <td>Hotel Arena</td>\n",
       "      <td>Ireland</td>\n",
       "      <td>No Negative</td>\n",
       "      <td>0</td>\n",
       "      <td>1403</td>\n",
       "      <td>No real complaints the hotel was great great ...</td>\n",
       "      <td>105</td>\n",
       "      <td>7</td>\n",
       "      <td>7.5</td>\n",
       "      <td>[[' Leisure trip ',  ' Couple ',  ' Duplex Dou...</td>\n",
       "      <td>0 days</td>\n",
       "      <td>52.360577</td>\n",
       "      <td>4.915968</td>\n",
       "    </tr>\n",
       "  </tbody>\n",
       "</table>\n",
       "</div>"
      ],
      "text/plain": [
       "                                       Hotel_Address  \\\n",
       "0   s Gravesandestraat 55 Oost 1092 AA Amsterdam ...   \n",
       "1   s Gravesandestraat 55 Oost 1092 AA Amsterdam ...   \n",
       "\n",
       "   Additional_Number_of_Scoring Review_Date  Average_Score   Hotel_Name  \\\n",
       "0                           194  2017-08-03            7.7  Hotel Arena   \n",
       "1                           194  2017-08-03            7.7  Hotel Arena   \n",
       "\n",
       "  Reviewer_Nationality                                    Negative_Review  \\\n",
       "0              Russia    I am so angry that i made this post available...   \n",
       "1             Ireland                                         No Negative   \n",
       "\n",
       "   Review_Total_Negative_Word_Counts  Total_Number_of_Reviews  \\\n",
       "0                                397                     1403   \n",
       "1                                  0                     1403   \n",
       "\n",
       "                                     Positive_Review  \\\n",
       "0   Only the park outside of the hotel was beauti...   \n",
       "1   No real complaints the hotel was great great ...   \n",
       "\n",
       "   Review_Total_Positive_Word_Counts  \\\n",
       "0                                 11   \n",
       "1                                105   \n",
       "\n",
       "   Total_Number_of_Reviews_Reviewer_Has_Given  Reviewer_Score  \\\n",
       "0                                           7             2.9   \n",
       "1                                           7             7.5   \n",
       "\n",
       "                                                Tags days_since_review  \\\n",
       "0  [[' Leisure trip ',  ' Couple ',  ' Duplex Dou...            0 days   \n",
       "1  [[' Leisure trip ',  ' Couple ',  ' Duplex Dou...            0 days   \n",
       "\n",
       "         lat       lng  \n",
       "0  52.360577  4.915968  \n",
       "1  52.360577  4.915968  "
      ]
     },
     "execution_count": 10,
     "metadata": {},
     "output_type": "execute_result"
    }
   ],
   "source": [
    "df2.limit(2).toPandas()"
   ]
  },
  {
   "cell_type": "code",
   "execution_count": 11,
   "metadata": {},
   "outputs": [
    {
     "name": "stdout",
     "output_type": "stream",
     "text": [
      "root\n",
      " |-- Hotel_Address: string (nullable = true)\n",
      " |-- Additional_Number_of_Scoring: integer (nullable = true)\n",
      " |-- Review_Date: date (nullable = true)\n",
      " |-- Average_Score: float (nullable = true)\n",
      " |-- Hotel_Name: string (nullable = true)\n",
      " |-- Reviewer_Nationality: string (nullable = true)\n",
      " |-- Negative_Review: string (nullable = true)\n",
      " |-- Review_Total_Negative_Word_Counts: integer (nullable = true)\n",
      " |-- Total_Number_of_Reviews: integer (nullable = true)\n",
      " |-- Positive_Review: string (nullable = true)\n",
      " |-- Review_Total_Positive_Word_Counts: integer (nullable = true)\n",
      " |-- Total_Number_of_Reviews_Reviewer_Has_Given: integer (nullable = true)\n",
      " |-- Reviewer_Score: float (nullable = true)\n",
      " |-- Tags: array (nullable = true)\n",
      " |    |-- element: string (containsNull = true)\n",
      " |-- days_since_review: string (nullable = true)\n",
      " |-- lat: float (nullable = true)\n",
      " |-- lng: float (nullable = true)\n",
      "\n"
     ]
    }
   ],
   "source": [
    "df2.printSchema()"
   ]
  },
  {
   "cell_type": "markdown",
   "metadata": {},
   "source": [
    "# Method-1: Using reduce and lambda"
   ]
  },
  {
   "cell_type": "code",
   "execution_count": 12,
   "metadata": {},
   "outputs": [],
   "source": [
    "# trim all columns"
   ]
  },
  {
   "cell_type": "code",
   "execution_count": 13,
   "metadata": {},
   "outputs": [
    {
     "data": {
      "text/plain": [
       "[('Hotel_Address', 'string'),\n",
       " ('Additional_Number_of_Scoring', 'int'),\n",
       " ('Review_Date', 'date'),\n",
       " ('Average_Score', 'float'),\n",
       " ('Hotel_Name', 'string'),\n",
       " ('Reviewer_Nationality', 'string'),\n",
       " ('Negative_Review', 'string'),\n",
       " ('Review_Total_Negative_Word_Counts', 'int'),\n",
       " ('Total_Number_of_Reviews', 'int'),\n",
       " ('Positive_Review', 'string'),\n",
       " ('Review_Total_Positive_Word_Counts', 'int'),\n",
       " ('Total_Number_of_Reviews_Reviewer_Has_Given', 'int'),\n",
       " ('Reviewer_Score', 'float'),\n",
       " ('Tags', 'array<string>'),\n",
       " ('days_since_review', 'string'),\n",
       " ('lat', 'float'),\n",
       " ('lng', 'float')]"
      ]
     },
     "execution_count": 13,
     "metadata": {},
     "output_type": "execute_result"
    }
   ],
   "source": [
    "df2.dtypes"
   ]
  },
  {
   "cell_type": "code",
   "execution_count": 14,
   "metadata": {},
   "outputs": [
    {
     "name": "stdout",
     "output_type": "stream",
     "text": [
      "('Hotel_Address', 'string')\n",
      "('Additional_Number_of_Scoring', 'int')\n",
      "('Review_Date', 'date')\n",
      "('Average_Score', 'float')\n",
      "('Hotel_Name', 'string')\n",
      "('Reviewer_Nationality', 'string')\n",
      "('Negative_Review', 'string')\n",
      "('Review_Total_Negative_Word_Counts', 'int')\n",
      "('Total_Number_of_Reviews', 'int')\n",
      "('Positive_Review', 'string')\n",
      "('Review_Total_Positive_Word_Counts', 'int')\n",
      "('Total_Number_of_Reviews_Reviewer_Has_Given', 'int')\n",
      "('Reviewer_Score', 'float')\n",
      "('Tags', 'array<string>')\n",
      "('days_since_review', 'string')\n",
      "('lat', 'float')\n",
      "('lng', 'float')\n"
     ]
    }
   ],
   "source": [
    "for col in df2.dtypes:\n",
    "    print(col)"
   ]
  },
  {
   "cell_type": "code",
   "execution_count": 15,
   "metadata": {},
   "outputs": [
    {
     "name": "stdout",
     "output_type": "stream",
     "text": [
      "['Hotel_Address', 'Hotel_Name', 'Reviewer_Nationality', 'Negative_Review', 'Positive_Review', 'days_since_review']\n"
     ]
    }
   ],
   "source": [
    "# filter string columns, because trim function can only be applied to string cols.\n",
    "str_cols = [col[0] for col in df2.dtypes if col[1] == 'string']\n",
    "print(str_cols)"
   ]
  },
  {
   "cell_type": "markdown",
   "metadata": {},
   "source": [
    "    # inline for loop with if \n",
    "    # [iterator for iterator in collection if]\n",
    "    # inline for loop with if else\n",
    "    # [iterator if else for iterator in collection ]"
   ]
  },
  {
   "cell_type": "markdown",
   "metadata": {},
   "source": [
    "# Method-1"
   ]
  },
  {
   "cell_type": "code",
   "execution_count": 16,
   "metadata": {},
   "outputs": [],
   "source": [
    "# We will use the reduce to transform multiple columns\n",
    "from functools import reduce"
   ]
  },
  {
   "cell_type": "code",
   "execution_count": 17,
   "metadata": {},
   "outputs": [],
   "source": [
    "# format\n",
    "# reduce(lambda df, col: df.withColumn(col, trim(col)), [col1, col2, .., coln], df_to_trim)\n",
    "# returns a dataframe"
   ]
  },
  {
   "cell_type": "code",
   "execution_count": 18,
   "metadata": {},
   "outputs": [],
   "source": [
    "df3 = (reduce(\n",
    "    lambda memo_df, col_name: memo_df.withColumn(col_name, F.trim(F.col(col_name))),\n",
    "    str_cols,\n",
    "    df2\n",
    "))"
   ]
  },
  {
   "cell_type": "code",
   "execution_count": 19,
   "metadata": {},
   "outputs": [
    {
     "data": {
      "text/html": [
       "<div>\n",
       "<style scoped>\n",
       "    .dataframe tbody tr th:only-of-type {\n",
       "        vertical-align: middle;\n",
       "    }\n",
       "\n",
       "    .dataframe tbody tr th {\n",
       "        vertical-align: top;\n",
       "    }\n",
       "\n",
       "    .dataframe thead th {\n",
       "        text-align: right;\n",
       "    }\n",
       "</style>\n",
       "<table border=\"1\" class=\"dataframe\">\n",
       "  <thead>\n",
       "    <tr style=\"text-align: right;\">\n",
       "      <th></th>\n",
       "      <th>Hotel_Address</th>\n",
       "      <th>Additional_Number_of_Scoring</th>\n",
       "      <th>Review_Date</th>\n",
       "      <th>Average_Score</th>\n",
       "      <th>Hotel_Name</th>\n",
       "      <th>Reviewer_Nationality</th>\n",
       "      <th>Negative_Review</th>\n",
       "      <th>Review_Total_Negative_Word_Counts</th>\n",
       "      <th>Total_Number_of_Reviews</th>\n",
       "      <th>Positive_Review</th>\n",
       "      <th>Review_Total_Positive_Word_Counts</th>\n",
       "      <th>Total_Number_of_Reviews_Reviewer_Has_Given</th>\n",
       "      <th>Reviewer_Score</th>\n",
       "      <th>Tags</th>\n",
       "      <th>days_since_review</th>\n",
       "      <th>lat</th>\n",
       "      <th>lng</th>\n",
       "    </tr>\n",
       "  </thead>\n",
       "  <tbody>\n",
       "    <tr>\n",
       "      <th>0</th>\n",
       "      <td>s Gravesandestraat 55 Oost 1092 AA Amsterdam N...</td>\n",
       "      <td>194</td>\n",
       "      <td>2017-07-31</td>\n",
       "      <td>7.7</td>\n",
       "      <td>Hotel Arena</td>\n",
       "      <td>United Kingdom</td>\n",
       "      <td>My room was dirty and I was afraid to walk bar...</td>\n",
       "      <td>210</td>\n",
       "      <td>1403</td>\n",
       "      <td>Great location in nice surroundings the bar an...</td>\n",
       "      <td>26</td>\n",
       "      <td>1</td>\n",
       "      <td>3.8</td>\n",
       "      <td>[[' Leisure trip ',  ' Solo traveler ',  ' Dup...</td>\n",
       "      <td>3 days</td>\n",
       "      <td>52.360577</td>\n",
       "      <td>4.915968</td>\n",
       "    </tr>\n",
       "    <tr>\n",
       "      <th>1</th>\n",
       "      <td>s Gravesandestraat 55 Oost 1092 AA Amsterdam N...</td>\n",
       "      <td>194</td>\n",
       "      <td>2017-07-17</td>\n",
       "      <td>7.7</td>\n",
       "      <td>Hotel Arena</td>\n",
       "      <td>United Kingdom</td>\n",
       "      <td>Cleaner did not change our sheet and duvet eve...</td>\n",
       "      <td>33</td>\n",
       "      <td>1403</td>\n",
       "      <td>The room is spacious and bright The hotel is l...</td>\n",
       "      <td>18</td>\n",
       "      <td>6</td>\n",
       "      <td>4.6</td>\n",
       "      <td>[[' Leisure trip ',  ' Group ',  ' Duplex Twin...</td>\n",
       "      <td>17 days</td>\n",
       "      <td>52.360577</td>\n",
       "      <td>4.915968</td>\n",
       "    </tr>\n",
       "    <tr>\n",
       "      <th>2</th>\n",
       "      <td>s Gravesandestraat 55 Oost 1092 AA Amsterdam N...</td>\n",
       "      <td>194</td>\n",
       "      <td>2017-07-17</td>\n",
       "      <td>7.7</td>\n",
       "      <td>Hotel Arena</td>\n",
       "      <td>United Kingdom</td>\n",
       "      <td>Apart from the price for the brekfast Everythi...</td>\n",
       "      <td>11</td>\n",
       "      <td>1403</td>\n",
       "      <td>Good location Set in a lovely park friendly st...</td>\n",
       "      <td>19</td>\n",
       "      <td>1</td>\n",
       "      <td>10.0</td>\n",
       "      <td>[[' Leisure trip ',  ' Couple ',  ' Duplex Dou...</td>\n",
       "      <td>17 days</td>\n",
       "      <td>52.360577</td>\n",
       "      <td>4.915968</td>\n",
       "    </tr>\n",
       "    <tr>\n",
       "      <th>3</th>\n",
       "      <td>s Gravesandestraat 55 Oost 1092 AA Amsterdam N...</td>\n",
       "      <td>194</td>\n",
       "      <td>2017-07-07</td>\n",
       "      <td>7.7</td>\n",
       "      <td>Hotel Arena</td>\n",
       "      <td>United Kingdom</td>\n",
       "      <td>Nothing all great</td>\n",
       "      <td>5</td>\n",
       "      <td>1403</td>\n",
       "      <td>Rooms were stunningly decorated and really spa...</td>\n",
       "      <td>101</td>\n",
       "      <td>2</td>\n",
       "      <td>10.0</td>\n",
       "      <td>[[' Leisure trip ',  ' Group ',  ' Duplex Doub...</td>\n",
       "      <td>27 days</td>\n",
       "      <td>52.360577</td>\n",
       "      <td>4.915968</td>\n",
       "    </tr>\n",
       "    <tr>\n",
       "      <th>4</th>\n",
       "      <td>s Gravesandestraat 55 Oost 1092 AA Amsterdam N...</td>\n",
       "      <td>194</td>\n",
       "      <td>2017-07-06</td>\n",
       "      <td>7.7</td>\n",
       "      <td>Hotel Arena</td>\n",
       "      <td>United Kingdom</td>\n",
       "      <td>The floor in my room was filfy dirty Very basi...</td>\n",
       "      <td>28</td>\n",
       "      <td>1403</td>\n",
       "      <td>Comfy bed good location</td>\n",
       "      <td>6</td>\n",
       "      <td>7</td>\n",
       "      <td>4.6</td>\n",
       "      <td>[[' Leisure trip ',  ' Solo traveler ',  ' Dup...</td>\n",
       "      <td>28 days</td>\n",
       "      <td>52.360577</td>\n",
       "      <td>4.915968</td>\n",
       "    </tr>\n",
       "  </tbody>\n",
       "</table>\n",
       "</div>"
      ],
      "text/plain": [
       "                                       Hotel_Address  \\\n",
       "0  s Gravesandestraat 55 Oost 1092 AA Amsterdam N...   \n",
       "1  s Gravesandestraat 55 Oost 1092 AA Amsterdam N...   \n",
       "2  s Gravesandestraat 55 Oost 1092 AA Amsterdam N...   \n",
       "3  s Gravesandestraat 55 Oost 1092 AA Amsterdam N...   \n",
       "4  s Gravesandestraat 55 Oost 1092 AA Amsterdam N...   \n",
       "\n",
       "   Additional_Number_of_Scoring Review_Date  Average_Score   Hotel_Name  \\\n",
       "0                           194  2017-07-31            7.7  Hotel Arena   \n",
       "1                           194  2017-07-17            7.7  Hotel Arena   \n",
       "2                           194  2017-07-17            7.7  Hotel Arena   \n",
       "3                           194  2017-07-07            7.7  Hotel Arena   \n",
       "4                           194  2017-07-06            7.7  Hotel Arena   \n",
       "\n",
       "  Reviewer_Nationality                                    Negative_Review  \\\n",
       "0       United Kingdom  My room was dirty and I was afraid to walk bar...   \n",
       "1       United Kingdom  Cleaner did not change our sheet and duvet eve...   \n",
       "2       United Kingdom  Apart from the price for the brekfast Everythi...   \n",
       "3       United Kingdom                                  Nothing all great   \n",
       "4       United Kingdom  The floor in my room was filfy dirty Very basi...   \n",
       "\n",
       "   Review_Total_Negative_Word_Counts  Total_Number_of_Reviews  \\\n",
       "0                                210                     1403   \n",
       "1                                 33                     1403   \n",
       "2                                 11                     1403   \n",
       "3                                  5                     1403   \n",
       "4                                 28                     1403   \n",
       "\n",
       "                                     Positive_Review  \\\n",
       "0  Great location in nice surroundings the bar an...   \n",
       "1  The room is spacious and bright The hotel is l...   \n",
       "2  Good location Set in a lovely park friendly st...   \n",
       "3  Rooms were stunningly decorated and really spa...   \n",
       "4                            Comfy bed good location   \n",
       "\n",
       "   Review_Total_Positive_Word_Counts  \\\n",
       "0                                 26   \n",
       "1                                 18   \n",
       "2                                 19   \n",
       "3                                101   \n",
       "4                                  6   \n",
       "\n",
       "   Total_Number_of_Reviews_Reviewer_Has_Given  Reviewer_Score  \\\n",
       "0                                           1             3.8   \n",
       "1                                           6             4.6   \n",
       "2                                           1            10.0   \n",
       "3                                           2            10.0   \n",
       "4                                           7             4.6   \n",
       "\n",
       "                                                Tags days_since_review  \\\n",
       "0  [[' Leisure trip ',  ' Solo traveler ',  ' Dup...            3 days   \n",
       "1  [[' Leisure trip ',  ' Group ',  ' Duplex Twin...           17 days   \n",
       "2  [[' Leisure trip ',  ' Couple ',  ' Duplex Dou...           17 days   \n",
       "3  [[' Leisure trip ',  ' Group ',  ' Duplex Doub...           27 days   \n",
       "4  [[' Leisure trip ',  ' Solo traveler ',  ' Dup...           28 days   \n",
       "\n",
       "         lat       lng  \n",
       "0  52.360577  4.915968  \n",
       "1  52.360577  4.915968  \n",
       "2  52.360577  4.915968  \n",
       "3  52.360577  4.915968  \n",
       "4  52.360577  4.915968  "
      ]
     },
     "execution_count": 19,
     "metadata": {},
     "output_type": "execute_result"
    }
   ],
   "source": [
    "df3.filter(\" Reviewer_Nationality == 'United Kingdom' \").limit(5).toPandas()"
   ]
  },
  {
   "cell_type": "code",
   "execution_count": null,
   "metadata": {},
   "outputs": [],
   "source": []
  },
  {
   "cell_type": "markdown",
   "metadata": {},
   "source": [
    "# Method-2: Using for loop"
   ]
  },
  {
   "cell_type": "code",
   "execution_count": 25,
   "metadata": {},
   "outputs": [
    {
     "data": {
      "text/plain": [
       "['Hotel_Address',\n",
       " 'Hotel_Name',\n",
       " 'Reviewer_Nationality',\n",
       " 'Negative_Review',\n",
       " 'Positive_Review',\n",
       " 'days_since_review']"
      ]
     },
     "execution_count": 25,
     "metadata": {},
     "output_type": "execute_result"
    }
   ],
   "source": [
    "str_cols"
   ]
  },
  {
   "cell_type": "code",
   "execution_count": 26,
   "metadata": {},
   "outputs": [],
   "source": [
    "df4 = df2\n",
    "for col in str_cols:\n",
    "    df4 = df4.withColumn(col, F.trim(col))"
   ]
  },
  {
   "cell_type": "code",
   "execution_count": 27,
   "metadata": {},
   "outputs": [
    {
     "data": {
      "text/html": [
       "<div>\n",
       "<style scoped>\n",
       "    .dataframe tbody tr th:only-of-type {\n",
       "        vertical-align: middle;\n",
       "    }\n",
       "\n",
       "    .dataframe tbody tr th {\n",
       "        vertical-align: top;\n",
       "    }\n",
       "\n",
       "    .dataframe thead th {\n",
       "        text-align: right;\n",
       "    }\n",
       "</style>\n",
       "<table border=\"1\" class=\"dataframe\">\n",
       "  <thead>\n",
       "    <tr style=\"text-align: right;\">\n",
       "      <th></th>\n",
       "      <th>Hotel_Address</th>\n",
       "      <th>Additional_Number_of_Scoring</th>\n",
       "      <th>Review_Date</th>\n",
       "      <th>Average_Score</th>\n",
       "      <th>Hotel_Name</th>\n",
       "      <th>Reviewer_Nationality</th>\n",
       "      <th>Negative_Review</th>\n",
       "      <th>Review_Total_Negative_Word_Counts</th>\n",
       "      <th>Total_Number_of_Reviews</th>\n",
       "      <th>Positive_Review</th>\n",
       "      <th>Review_Total_Positive_Word_Counts</th>\n",
       "      <th>Total_Number_of_Reviews_Reviewer_Has_Given</th>\n",
       "      <th>Reviewer_Score</th>\n",
       "      <th>Tags</th>\n",
       "      <th>days_since_review</th>\n",
       "      <th>lat</th>\n",
       "      <th>lng</th>\n",
       "    </tr>\n",
       "  </thead>\n",
       "  <tbody>\n",
       "    <tr>\n",
       "      <th>0</th>\n",
       "      <td>s Gravesandestraat 55 Oost 1092 AA Amsterdam N...</td>\n",
       "      <td>194</td>\n",
       "      <td>2017-07-31</td>\n",
       "      <td>7.7</td>\n",
       "      <td>Hotel Arena</td>\n",
       "      <td>United Kingdom</td>\n",
       "      <td>My room was dirty and I was afraid to walk bar...</td>\n",
       "      <td>210</td>\n",
       "      <td>1403</td>\n",
       "      <td>Great location in nice surroundings the bar an...</td>\n",
       "      <td>26</td>\n",
       "      <td>1</td>\n",
       "      <td>3.8</td>\n",
       "      <td>[[' Leisure trip ',  ' Solo traveler ',  ' Dup...</td>\n",
       "      <td>3 days</td>\n",
       "      <td>52.360577</td>\n",
       "      <td>4.915968</td>\n",
       "    </tr>\n",
       "    <tr>\n",
       "      <th>1</th>\n",
       "      <td>s Gravesandestraat 55 Oost 1092 AA Amsterdam N...</td>\n",
       "      <td>194</td>\n",
       "      <td>2017-07-17</td>\n",
       "      <td>7.7</td>\n",
       "      <td>Hotel Arena</td>\n",
       "      <td>United Kingdom</td>\n",
       "      <td>Cleaner did not change our sheet and duvet eve...</td>\n",
       "      <td>33</td>\n",
       "      <td>1403</td>\n",
       "      <td>The room is spacious and bright The hotel is l...</td>\n",
       "      <td>18</td>\n",
       "      <td>6</td>\n",
       "      <td>4.6</td>\n",
       "      <td>[[' Leisure trip ',  ' Group ',  ' Duplex Twin...</td>\n",
       "      <td>17 days</td>\n",
       "      <td>52.360577</td>\n",
       "      <td>4.915968</td>\n",
       "    </tr>\n",
       "    <tr>\n",
       "      <th>2</th>\n",
       "      <td>s Gravesandestraat 55 Oost 1092 AA Amsterdam N...</td>\n",
       "      <td>194</td>\n",
       "      <td>2017-07-17</td>\n",
       "      <td>7.7</td>\n",
       "      <td>Hotel Arena</td>\n",
       "      <td>United Kingdom</td>\n",
       "      <td>Apart from the price for the brekfast Everythi...</td>\n",
       "      <td>11</td>\n",
       "      <td>1403</td>\n",
       "      <td>Good location Set in a lovely park friendly st...</td>\n",
       "      <td>19</td>\n",
       "      <td>1</td>\n",
       "      <td>10.0</td>\n",
       "      <td>[[' Leisure trip ',  ' Couple ',  ' Duplex Dou...</td>\n",
       "      <td>17 days</td>\n",
       "      <td>52.360577</td>\n",
       "      <td>4.915968</td>\n",
       "    </tr>\n",
       "    <tr>\n",
       "      <th>3</th>\n",
       "      <td>s Gravesandestraat 55 Oost 1092 AA Amsterdam N...</td>\n",
       "      <td>194</td>\n",
       "      <td>2017-07-07</td>\n",
       "      <td>7.7</td>\n",
       "      <td>Hotel Arena</td>\n",
       "      <td>United Kingdom</td>\n",
       "      <td>Nothing all great</td>\n",
       "      <td>5</td>\n",
       "      <td>1403</td>\n",
       "      <td>Rooms were stunningly decorated and really spa...</td>\n",
       "      <td>101</td>\n",
       "      <td>2</td>\n",
       "      <td>10.0</td>\n",
       "      <td>[[' Leisure trip ',  ' Group ',  ' Duplex Doub...</td>\n",
       "      <td>27 days</td>\n",
       "      <td>52.360577</td>\n",
       "      <td>4.915968</td>\n",
       "    </tr>\n",
       "    <tr>\n",
       "      <th>4</th>\n",
       "      <td>s Gravesandestraat 55 Oost 1092 AA Amsterdam N...</td>\n",
       "      <td>194</td>\n",
       "      <td>2017-07-06</td>\n",
       "      <td>7.7</td>\n",
       "      <td>Hotel Arena</td>\n",
       "      <td>United Kingdom</td>\n",
       "      <td>The floor in my room was filfy dirty Very basi...</td>\n",
       "      <td>28</td>\n",
       "      <td>1403</td>\n",
       "      <td>Comfy bed good location</td>\n",
       "      <td>6</td>\n",
       "      <td>7</td>\n",
       "      <td>4.6</td>\n",
       "      <td>[[' Leisure trip ',  ' Solo traveler ',  ' Dup...</td>\n",
       "      <td>28 days</td>\n",
       "      <td>52.360577</td>\n",
       "      <td>4.915968</td>\n",
       "    </tr>\n",
       "  </tbody>\n",
       "</table>\n",
       "</div>"
      ],
      "text/plain": [
       "                                       Hotel_Address  \\\n",
       "0  s Gravesandestraat 55 Oost 1092 AA Amsterdam N...   \n",
       "1  s Gravesandestraat 55 Oost 1092 AA Amsterdam N...   \n",
       "2  s Gravesandestraat 55 Oost 1092 AA Amsterdam N...   \n",
       "3  s Gravesandestraat 55 Oost 1092 AA Amsterdam N...   \n",
       "4  s Gravesandestraat 55 Oost 1092 AA Amsterdam N...   \n",
       "\n",
       "   Additional_Number_of_Scoring Review_Date  Average_Score   Hotel_Name  \\\n",
       "0                           194  2017-07-31            7.7  Hotel Arena   \n",
       "1                           194  2017-07-17            7.7  Hotel Arena   \n",
       "2                           194  2017-07-17            7.7  Hotel Arena   \n",
       "3                           194  2017-07-07            7.7  Hotel Arena   \n",
       "4                           194  2017-07-06            7.7  Hotel Arena   \n",
       "\n",
       "  Reviewer_Nationality                                    Negative_Review  \\\n",
       "0       United Kingdom  My room was dirty and I was afraid to walk bar...   \n",
       "1       United Kingdom  Cleaner did not change our sheet and duvet eve...   \n",
       "2       United Kingdom  Apart from the price for the brekfast Everythi...   \n",
       "3       United Kingdom                                  Nothing all great   \n",
       "4       United Kingdom  The floor in my room was filfy dirty Very basi...   \n",
       "\n",
       "   Review_Total_Negative_Word_Counts  Total_Number_of_Reviews  \\\n",
       "0                                210                     1403   \n",
       "1                                 33                     1403   \n",
       "2                                 11                     1403   \n",
       "3                                  5                     1403   \n",
       "4                                 28                     1403   \n",
       "\n",
       "                                     Positive_Review  \\\n",
       "0  Great location in nice surroundings the bar an...   \n",
       "1  The room is spacious and bright The hotel is l...   \n",
       "2  Good location Set in a lovely park friendly st...   \n",
       "3  Rooms were stunningly decorated and really spa...   \n",
       "4                            Comfy bed good location   \n",
       "\n",
       "   Review_Total_Positive_Word_Counts  \\\n",
       "0                                 26   \n",
       "1                                 18   \n",
       "2                                 19   \n",
       "3                                101   \n",
       "4                                  6   \n",
       "\n",
       "   Total_Number_of_Reviews_Reviewer_Has_Given  Reviewer_Score  \\\n",
       "0                                           1             3.8   \n",
       "1                                           6             4.6   \n",
       "2                                           1            10.0   \n",
       "3                                           2            10.0   \n",
       "4                                           7             4.6   \n",
       "\n",
       "                                                Tags days_since_review  \\\n",
       "0  [[' Leisure trip ',  ' Solo traveler ',  ' Dup...            3 days   \n",
       "1  [[' Leisure trip ',  ' Group ',  ' Duplex Twin...           17 days   \n",
       "2  [[' Leisure trip ',  ' Couple ',  ' Duplex Dou...           17 days   \n",
       "3  [[' Leisure trip ',  ' Group ',  ' Duplex Doub...           27 days   \n",
       "4  [[' Leisure trip ',  ' Solo traveler ',  ' Dup...           28 days   \n",
       "\n",
       "         lat       lng  \n",
       "0  52.360577  4.915968  \n",
       "1  52.360577  4.915968  \n",
       "2  52.360577  4.915968  \n",
       "3  52.360577  4.915968  \n",
       "4  52.360577  4.915968  "
      ]
     },
     "execution_count": 27,
     "metadata": {},
     "output_type": "execute_result"
    }
   ],
   "source": [
    "df4.filter(\" Reviewer_Nationality == 'United Kingdom' \").limit(5).toPandas()"
   ]
  },
  {
   "cell_type": "markdown",
   "metadata": {},
   "source": [
    "## List columns that include null"
   ]
  },
  {
   "cell_type": "code",
   "execution_count": 31,
   "metadata": {},
   "outputs": [
    {
     "data": {
      "text/plain": [
       "['Hotel_Address',\n",
       " 'Additional_Number_of_Scoring',\n",
       " 'Review_Date',\n",
       " 'Average_Score',\n",
       " 'Hotel_Name',\n",
       " 'Reviewer_Nationality',\n",
       " 'Negative_Review',\n",
       " 'Review_Total_Negative_Word_Counts',\n",
       " 'Total_Number_of_Reviews',\n",
       " 'Positive_Review',\n",
       " 'Review_Total_Positive_Word_Counts',\n",
       " 'Total_Number_of_Reviews_Reviewer_Has_Given',\n",
       " 'Reviewer_Score',\n",
       " 'Tags',\n",
       " 'days_since_review',\n",
       " 'lat',\n",
       " 'lng']"
      ]
     },
     "execution_count": 31,
     "metadata": {},
     "output_type": "execute_result"
    }
   ],
   "source": [
    "df4.columns"
   ]
  },
  {
   "cell_type": "code",
   "execution_count": 32,
   "metadata": {},
   "outputs": [
    {
     "name": "stderr",
     "output_type": "stream",
     "text": [
      "                                                                                \r"
     ]
    },
    {
     "name": "stdout",
     "output_type": "stream",
     "text": [
      "lat has 3268 null values.\n"
     ]
    },
    {
     "name": "stderr",
     "output_type": "stream",
     "text": [
      "[Stage 35:>                                                         (0 + 1) / 1]\r"
     ]
    },
    {
     "name": "stdout",
     "output_type": "stream",
     "text": [
      "lng has 3268 null values.\n"
     ]
    },
    {
     "name": "stderr",
     "output_type": "stream",
     "text": [
      "                                                                                \r"
     ]
    }
   ],
   "source": [
    "for col in df4.columns:\n",
    "    col_count = df4.filter( F.col(col).isNull() ).count()\n",
    "    if ( col_count > 0):\n",
    "        print(\"{} has {} null values.\".format(col, col_count))"
   ]
  },
  {
   "cell_type": "markdown",
   "metadata": {},
   "source": [
    "## List \"\" (hidden null), it is only possible for string columns."
   ]
  },
  {
   "cell_type": "code",
   "execution_count": 33,
   "metadata": {},
   "outputs": [
    {
     "name": "stderr",
     "output_type": "stream",
     "text": [
      "                                                                                \r"
     ]
    },
    {
     "name": "stdout",
     "output_type": "stream",
     "text": [
      "Reviewer_Nationality has 523 hidden null values.\n"
     ]
    },
    {
     "name": "stderr",
     "output_type": "stream",
     "text": [
      "[Stage 43:>                                                         (0 + 1) / 1]\r"
     ]
    },
    {
     "name": "stdout",
     "output_type": "stream",
     "text": [
      "Negative_Review has 849 hidden null values.\n"
     ]
    },
    {
     "name": "stderr",
     "output_type": "stream",
     "text": [
      "                                                                                \r"
     ]
    },
    {
     "name": "stdout",
     "output_type": "stream",
     "text": [
      "Positive_Review has 183 hidden null values.\n"
     ]
    },
    {
     "name": "stderr",
     "output_type": "stream",
     "text": [
      "                                                                                \r"
     ]
    }
   ],
   "source": [
    "for col in str_cols:\n",
    "    col_count = df4.filter(F.col(col) == \"\").count()\n",
    "    if ( col_count > 0):\n",
    "        print(\"{} has {} hidden null values.\".format(col, col_count))"
   ]
  },
  {
   "cell_type": "code",
   "execution_count": 34,
   "metadata": {},
   "outputs": [],
   "source": [
    "spark.stop()"
   ]
  },
  {
   "cell_type": "code",
   "execution_count": null,
   "metadata": {},
   "outputs": [],
   "source": []
  }
 ],
 "metadata": {
  "kernelspec": {
   "display_name": "Python 3",
   "language": "python",
   "name": "python3"
  },
  "language_info": {
   "codemirror_mode": {
    "name": "ipython",
    "version": 3
   },
   "file_extension": ".py",
   "mimetype": "text/x-python",
   "name": "python",
   "nbconvert_exporter": "python",
   "pygments_lexer": "ipython3",
   "version": "3.7.8"
  },
  "toc-autonumbering": true,
  "vscode": {
   "interpreter": {
    "hash": "0a54084e6b208ee8d1ce3989ffc20924477a5f55f5a43e22e699a6741623861e"
   }
  }
 },
 "nbformat": 4,
 "nbformat_minor": 4
}
