{
 "cells": [
  {
   "cell_type": "code",
   "execution_count": 2,
   "id": "11595e34-7ad9-475d-9d8a-9649fb4173a5",
   "metadata": {
    "tags": []
   },
   "outputs": [],
   "source": [
    "from pyspark.sql.functions import *\n",
    "from pyspark.sql import Window"
   ]
  },
  {
   "cell_type": "code",
   "execution_count": 3,
   "id": "5cf6aaf8-a998-4a90-9d0f-7f6eca8ed926",
   "metadata": {
    "tags": []
   },
   "outputs": [],
   "source": [
    "from pyspark.sql import SparkSession, functions as F\n",
    "from pyspark.sql.types import StructType, StructField, DoubleType, StringType, IntegerType, DateType, ArrayType, FloatType"
   ]
  },
  {
   "cell_type": "code",
   "execution_count": 4,
   "id": "5d52a3b8-0b8c-4cd3-bb4d-566dc7b422eb",
   "metadata": {
    "tags": []
   },
   "outputs": [
    {
     "name": "stderr",
     "output_type": "stream",
     "text": [
      "WARNING: An illegal reflective access operation has occurred\n",
      "WARNING: Illegal reflective access by org.apache.spark.unsafe.Platform (file:/opt/manual/spark-3.1.1-bin-hadoop3.2/jars/spark-unsafe_2.12-3.1.1.jar) to constructor java.nio.DirectByteBuffer(long,int)\n",
      "WARNING: Please consider reporting this to the maintainers of org.apache.spark.unsafe.Platform\n",
      "WARNING: Use --illegal-access=warn to enable warnings of further illegal reflective access operations\n",
      "WARNING: All illegal access operations will be denied in a future release\n",
      "2023-03-01 21:13:14,173 WARN util.NativeCodeLoader: Unable to load native-hadoop library for your platform... using builtin-java classes where applicable\n",
      "Setting default log level to \"WARN\".\n",
      "To adjust logging level use sc.setLogLevel(newLevel). For SparkR, use setLogLevel(newLevel).\n"
     ]
    }
   ],
   "source": [
    "spark = SparkSession.builder \\\n",
    ".master(\"local[2]\") \\\n",
    ".appName(\"OrderStatusCheck\") \\\n",
    ".getOrCreate()"
   ]
  },
  {
   "cell_type": "code",
   "execution_count": 5,
   "id": "f2a113c1-a090-404b-a5a6-b49062eb69c9",
   "metadata": {
    "tags": []
   },
   "outputs": [],
   "source": [
    "# Read the input file\n",
    "df = spark.read \\\n",
    ".format(\"csv\") \\\n",
    ".option(\"header\", True) \\\n",
    ".option(\"sep\", \",\") \\\n",
    ".option(\"inferSchema\", True) \\\n",
    ".load(\"file:///home/train/dataops7/spark/hw4_OrderStatus/OrderStatusData.csv\")"
   ]
  },
  {
   "cell_type": "code",
   "execution_count": 6,
   "id": "53cce9b8-622c-4237-8359-c50a5f24d4a6",
   "metadata": {
    "tags": []
   },
   "outputs": [
    {
     "name": "stdout",
     "output_type": "stream",
     "text": [
      "+--------+-------------+-----------+-----------+---------+\n",
      "|ORDER_ID|SUBSCRIBER_ID|STATUS_DATE|STATUS_TIME|   STATUS|\n",
      "+--------+-------------+-----------+-----------+---------+\n",
      "|  100159|       200427|   20230223|      83209| ASSIGNED|\n",
      "|  100159|       200427|   20230223|      74232| RETURNED|\n",
      "|  100159|       200427|   20230222|      95056|  CREATED|\n",
      "|  100410|       200366|   20230223|      91017| ASSIGNED|\n",
      "|  100410|       200366|   20230223|      30301| RETURNED|\n",
      "|  100410|       200366|   20230222|      93638|  CREATED|\n",
      "|  100497|       200024|   20230222|     105418|     POOL|\n",
      "|  100497|       200024|   20230222|     105418|  CREATED|\n",
      "|  100539|       200012|   20230222|     112855|COMPLETED|\n",
      "|  100539|       200012|   20230222|      95408|  CREATED|\n",
      "|  100575|       200573|   20230223|      85951| ASSIGNED|\n",
      "|  100575|       200573|   20230223|      41932| RETURNED|\n",
      "|  100575|       200573|   20230222|     105441|  CREATED|\n",
      "|  100259|       200192|   20230223|      83115| ASSIGNED|\n",
      "|  100259|       200192|   20230222|      94751|  CREATED|\n",
      "|  100563|       200421|   20230223|      82133| ASSIGNED|\n",
      "|  100563|       200421|   20230223|      74734| RETURNED|\n",
      "|  100563|       200421|   20230222|      94100|  CREATED|\n",
      "|  100230|       200049|   20230222|     182650|COMPLETED|\n",
      "|  100230|       200049|   20230222|     161234| RETURNED|\n",
      "+--------+-------------+-----------+-----------+---------+\n",
      "only showing top 20 rows\n",
      "\n"
     ]
    }
   ],
   "source": [
    "df.show()"
   ]
  },
  {
   "cell_type": "code",
   "execution_count": 7,
   "id": "74355b7f-ed7e-4941-b7e4-f0e3ffdfa631",
   "metadata": {
    "tags": []
   },
   "outputs": [],
   "source": [
    "# Convert the date and time columns to timestamps\n",
    "df = df.withColumn(\"STATUS_DATETIME\", to_timestamp(concat_ws(\" \", df.STATUS_DATE, df.STATUS_TIME), \"yyyyMMdd Hmmss\"))"
   ]
  },
  {
   "cell_type": "code",
   "execution_count": 8,
   "id": "16bca30f-b873-4ee5-90ca-adbe1483f9be",
   "metadata": {
    "tags": []
   },
   "outputs": [
    {
     "name": "stdout",
     "output_type": "stream",
     "text": [
      "+--------+-------------+-----------+-----------+---------+-------------------+\n",
      "|ORDER_ID|SUBSCRIBER_ID|STATUS_DATE|STATUS_TIME|   STATUS|    STATUS_DATETIME|\n",
      "+--------+-------------+-----------+-----------+---------+-------------------+\n",
      "|  100159|       200427|   20230223|      83209| ASSIGNED|2023-02-23 08:32:09|\n",
      "|  100159|       200427|   20230223|      74232| RETURNED|2023-02-23 07:42:32|\n",
      "|  100159|       200427|   20230222|      95056|  CREATED|2023-02-22 09:50:56|\n",
      "|  100410|       200366|   20230223|      91017| ASSIGNED|2023-02-23 09:10:17|\n",
      "|  100410|       200366|   20230223|      30301| RETURNED|2023-02-23 03:03:01|\n",
      "|  100410|       200366|   20230222|      93638|  CREATED|2023-02-22 09:36:38|\n",
      "|  100497|       200024|   20230222|     105418|     POOL|2023-02-22 10:54:18|\n",
      "|  100497|       200024|   20230222|     105418|  CREATED|2023-02-22 10:54:18|\n",
      "|  100539|       200012|   20230222|     112855|COMPLETED|2023-02-22 11:28:55|\n",
      "|  100539|       200012|   20230222|      95408|  CREATED|2023-02-22 09:54:08|\n",
      "|  100575|       200573|   20230223|      85951| ASSIGNED|2023-02-23 08:59:51|\n",
      "|  100575|       200573|   20230223|      41932| RETURNED|2023-02-23 04:19:32|\n",
      "|  100575|       200573|   20230222|     105441|  CREATED|2023-02-22 10:54:41|\n",
      "|  100259|       200192|   20230223|      83115| ASSIGNED|2023-02-23 08:31:15|\n",
      "|  100259|       200192|   20230222|      94751|  CREATED|2023-02-22 09:47:51|\n",
      "|  100563|       200421|   20230223|      82133| ASSIGNED|2023-02-23 08:21:33|\n",
      "|  100563|       200421|   20230223|      74734| RETURNED|2023-02-23 07:47:34|\n",
      "|  100563|       200421|   20230222|      94100|  CREATED|2023-02-22 09:41:00|\n",
      "|  100230|       200049|   20230222|     182650|COMPLETED|2023-02-22 18:26:50|\n",
      "|  100230|       200049|   20230222|     161234| RETURNED|2023-02-22 16:12:34|\n",
      "+--------+-------------+-----------+-----------+---------+-------------------+\n",
      "only showing top 20 rows\n",
      "\n"
     ]
    }
   ],
   "source": [
    "df.show()"
   ]
  },
  {
   "cell_type": "code",
   "execution_count": 9,
   "id": "fc91f69b-fd6b-49fb-af5c-93e8c4d1eec4",
   "metadata": {
    "tags": []
   },
   "outputs": [],
   "source": [
    "# Create a window partitioned by ORDER_ID and sorted by STATUS_DATETIME\n",
    "window_spec = Window.partitionBy(\"ORDER_ID\").orderBy(F.col(\"STATUS_DATETIME\").desc())"
   ]
  },
  {
   "cell_type": "code",
   "execution_count": 10,
   "id": "6c8be469-2852-4a67-bba8-0156367b40ba",
   "metadata": {
    "tags": []
   },
   "outputs": [],
   "source": [
    "# Create a column for the previous status\n",
    "df = df.withColumn(\"PREV_STATUS\", lag(\"STATUS\", 1).over(window_spec))"
   ]
  },
  {
   "cell_type": "code",
   "execution_count": 11,
   "id": "3f9b6f59-9f70-4a04-9f1e-304343bc29d7",
   "metadata": {
    "tags": []
   },
   "outputs": [],
   "source": [
    "df = df.withColumn('LATEST_STATUS', F.first('STATUS').over(Window.partitionBy('ORDER_ID').orderBy(F.col(\"STATUS_DATETIME\").desc())))"
   ]
  },
  {
   "cell_type": "code",
   "execution_count": 12,
   "id": "306aa396-c5cc-45f5-a4f4-acfa0cae1eb4",
   "metadata": {
    "tags": []
   },
   "outputs": [
    {
     "data": {
      "text/plain": [
       "DataFrame[key: string, value: string]"
      ]
     },
     "execution_count": 12,
     "metadata": {},
     "output_type": "execute_result"
    }
   ],
   "source": [
    "spark.sql(\"set spark.sql.legacy.timeParserPolicy=CORRECTED\")"
   ]
  },
  {
   "cell_type": "code",
   "execution_count": 13,
   "id": "7392da23-03f8-42be-891f-362c4de2e0e8",
   "metadata": {
    "tags": []
   },
   "outputs": [
    {
     "name": "stdout",
     "output_type": "stream",
     "text": [
      "+--------+-------------+-----------+-----------+---------+-------------------+-----------+-------------+\n",
      "|ORDER_ID|SUBSCRIBER_ID|STATUS_DATE|STATUS_TIME|   STATUS|    STATUS_DATETIME|PREV_STATUS|LATEST_STATUS|\n",
      "+--------+-------------+-----------+-----------+---------+-------------------+-----------+-------------+\n",
      "|  100170|       200497|   20230222|     164206|COMPLETED|2023-02-22 16:42:06|       null|    COMPLETED|\n",
      "|  100170|       200497|   20230222|     162938| RETURNED|2023-02-22 16:29:38|  COMPLETED|    COMPLETED|\n",
      "|  100170|       200497|   20230222|      94140|  CREATED|2023-02-22 09:41:40|   RETURNED|    COMPLETED|\n",
      "|  100274|       200242|   20230222|     181513|CANCELLED|2023-02-22 18:15:13|       null|    CANCELLED|\n",
      "|  100274|       200242|   20230222|     181241| RETURNED|2023-02-22 18:12:41|  CANCELLED|    CANCELLED|\n",
      "|  100274|       200242|   20230222|      95309|  CREATED|2023-02-22 09:53:09|   RETURNED|    CANCELLED|\n",
      "|  100446|       200239|   20230222|     142807|COMPLETED|2023-02-22 14:28:07|       null|    COMPLETED|\n",
      "|  100446|       200239|   20230222|      95004|  CREATED|2023-02-22 09:50:04|  COMPLETED|    COMPLETED|\n",
      "|  100068|       200431|   20230222|     154543|COMPLETED|2023-02-22 15:45:43|       null|    COMPLETED|\n",
      "|  100068|       200431|   20230222|     101053| RETURNED|2023-02-22 10:10:53|  COMPLETED|    COMPLETED|\n",
      "|  100068|       200431|   20230222|      93835|  CREATED|2023-02-22 09:38:35|   RETURNED|    COMPLETED|\n",
      "|  100088|       200449|   20230223|      21127|COMPLETED|2023-02-23 02:11:27|       null|    COMPLETED|\n",
      "|  100088|       200449|   20230222|     234157| RETURNED|2023-02-22 23:41:57|  COMPLETED|    COMPLETED|\n",
      "|  100088|       200449|   20230222|      95457|  CREATED|2023-02-22 09:54:57|   RETURNED|    COMPLETED|\n",
      "|  100220|       200100|   20230223|      91346| ASSIGNED|2023-02-23 09:13:46|       null|     ASSIGNED|\n",
      "|  100220|       200100|   20230223|      41932| RETURNED|2023-02-23 04:19:32|   ASSIGNED|     ASSIGNED|\n",
      "|  100220|       200100|   20230222|     105416|  CREATED|2023-02-22 10:54:16|   RETURNED|     ASSIGNED|\n",
      "|  100453|       200419|   20230222|     182056|COMPLETED|2023-02-22 18:20:56|       null|    COMPLETED|\n",
      "|  100453|       200419|   20230222|     162415| RETURNED|2023-02-22 16:24:15|  COMPLETED|    COMPLETED|\n",
      "|  100453|       200419|   20230222|      95312|  CREATED|2023-02-22 09:53:12|   RETURNED|    COMPLETED|\n",
      "+--------+-------------+-----------+-----------+---------+-------------------+-----------+-------------+\n",
      "only showing top 20 rows\n",
      "\n"
     ]
    }
   ],
   "source": [
    "df.show()"
   ]
  },
  {
   "cell_type": "code",
   "execution_count": 21,
   "id": "23908aa0-b24b-44a4-96d3-51ed2b8a4ecf",
   "metadata": {
    "tags": []
   },
   "outputs": [],
   "source": [
    "# Create columns for the start date and end date\n",
    "df = df.withColumn(\"START_DATE\", when((df.STATUS == \"CREATED\") | (df.STATUS == \"POOL\"), df.STATUS_DATETIME))\n",
    "df = df.withColumn(\"END_DATE\", when((df.STATUS == \"COMPLETED\") | (df.STATUS == \"CANCELLED\"), df.STATUS_DATETIME))"
   ]
  },
  {
   "cell_type": "code",
   "execution_count": 22,
   "id": "deee9a6a-4b12-447e-a779-f112040acd70",
   "metadata": {
    "tags": []
   },
   "outputs": [
    {
     "data": {
      "text/html": [
       "<div>\n",
       "<style scoped>\n",
       "    .dataframe tbody tr th:only-of-type {\n",
       "        vertical-align: middle;\n",
       "    }\n",
       "\n",
       "    .dataframe tbody tr th {\n",
       "        vertical-align: top;\n",
       "    }\n",
       "\n",
       "    .dataframe thead th {\n",
       "        text-align: right;\n",
       "    }\n",
       "</style>\n",
       "<table border=\"1\" class=\"dataframe\">\n",
       "  <thead>\n",
       "    <tr style=\"text-align: right;\">\n",
       "      <th></th>\n",
       "      <th>ORDER_ID</th>\n",
       "      <th>SUBSCRIBER_ID</th>\n",
       "      <th>STATUS_DATE</th>\n",
       "      <th>STATUS_TIME</th>\n",
       "      <th>STATUS</th>\n",
       "      <th>STATUS_DATETIME</th>\n",
       "      <th>PREV_STATUS</th>\n",
       "      <th>LATEST_STATUS</th>\n",
       "      <th>START_DATE</th>\n",
       "      <th>END_DATE</th>\n",
       "    </tr>\n",
       "  </thead>\n",
       "  <tbody>\n",
       "    <tr>\n",
       "      <th>0</th>\n",
       "      <td>100170</td>\n",
       "      <td>200497</td>\n",
       "      <td>20230222</td>\n",
       "      <td>164206</td>\n",
       "      <td>COMPLETED</td>\n",
       "      <td>2023-02-22 16:42:06</td>\n",
       "      <td>None</td>\n",
       "      <td>COMPLETED</td>\n",
       "      <td>NaT</td>\n",
       "      <td>2023-02-22 16:42:06</td>\n",
       "    </tr>\n",
       "    <tr>\n",
       "      <th>1</th>\n",
       "      <td>100170</td>\n",
       "      <td>200497</td>\n",
       "      <td>20230222</td>\n",
       "      <td>162938</td>\n",
       "      <td>RETURNED</td>\n",
       "      <td>2023-02-22 16:29:38</td>\n",
       "      <td>COMPLETED</td>\n",
       "      <td>COMPLETED</td>\n",
       "      <td>NaT</td>\n",
       "      <td>NaT</td>\n",
       "    </tr>\n",
       "    <tr>\n",
       "      <th>2</th>\n",
       "      <td>100170</td>\n",
       "      <td>200497</td>\n",
       "      <td>20230222</td>\n",
       "      <td>94140</td>\n",
       "      <td>CREATED</td>\n",
       "      <td>2023-02-22 09:41:40</td>\n",
       "      <td>RETURNED</td>\n",
       "      <td>COMPLETED</td>\n",
       "      <td>2023-02-22 09:41:40</td>\n",
       "      <td>NaT</td>\n",
       "    </tr>\n",
       "    <tr>\n",
       "      <th>3</th>\n",
       "      <td>100274</td>\n",
       "      <td>200242</td>\n",
       "      <td>20230222</td>\n",
       "      <td>181513</td>\n",
       "      <td>CANCELLED</td>\n",
       "      <td>2023-02-22 18:15:13</td>\n",
       "      <td>None</td>\n",
       "      <td>CANCELLED</td>\n",
       "      <td>NaT</td>\n",
       "      <td>2023-02-22 18:15:13</td>\n",
       "    </tr>\n",
       "    <tr>\n",
       "      <th>4</th>\n",
       "      <td>100274</td>\n",
       "      <td>200242</td>\n",
       "      <td>20230222</td>\n",
       "      <td>181241</td>\n",
       "      <td>RETURNED</td>\n",
       "      <td>2023-02-22 18:12:41</td>\n",
       "      <td>CANCELLED</td>\n",
       "      <td>CANCELLED</td>\n",
       "      <td>NaT</td>\n",
       "      <td>NaT</td>\n",
       "    </tr>\n",
       "  </tbody>\n",
       "</table>\n",
       "</div>"
      ],
      "text/plain": [
       "   ORDER_ID  SUBSCRIBER_ID  STATUS_DATE  STATUS_TIME     STATUS  \\\n",
       "0    100170         200497     20230222       164206  COMPLETED   \n",
       "1    100170         200497     20230222       162938   RETURNED   \n",
       "2    100170         200497     20230222        94140    CREATED   \n",
       "3    100274         200242     20230222       181513  CANCELLED   \n",
       "4    100274         200242     20230222       181241   RETURNED   \n",
       "\n",
       "      STATUS_DATETIME PREV_STATUS LATEST_STATUS          START_DATE  \\\n",
       "0 2023-02-22 16:42:06        None     COMPLETED                 NaT   \n",
       "1 2023-02-22 16:29:38   COMPLETED     COMPLETED                 NaT   \n",
       "2 2023-02-22 09:41:40    RETURNED     COMPLETED 2023-02-22 09:41:40   \n",
       "3 2023-02-22 18:15:13        None     CANCELLED                 NaT   \n",
       "4 2023-02-22 18:12:41   CANCELLED     CANCELLED                 NaT   \n",
       "\n",
       "             END_DATE  \n",
       "0 2023-02-22 16:42:06  \n",
       "1                 NaT  \n",
       "2                 NaT  \n",
       "3 2023-02-22 18:15:13  \n",
       "4                 NaT  "
      ]
     },
     "execution_count": 22,
     "metadata": {},
     "output_type": "execute_result"
    }
   ],
   "source": [
    "df.limit(5).toPandas()"
   ]
  },
  {
   "cell_type": "code",
   "execution_count": 36,
   "id": "cfa9f2fd-f0cf-4d7e-a926-7ab6437626a5",
   "metadata": {
    "tags": []
   },
   "outputs": [],
   "source": [
    "# Create a column for the current status\n",
    "#df = df.withColumn(\"CURRENT_STATUS\", when(df.END_DATE.isNotNull(), df.STATUS).otherwise(df.PREV_STATUS))"
   ]
  },
  {
   "cell_type": "code",
   "execution_count": 21,
   "id": "a14190e3-d30c-4633-838b-5e7100e53858",
   "metadata": {
    "tags": []
   },
   "outputs": [
    {
     "name": "stderr",
     "output_type": "stream",
     "text": [
      "                                                                                \r"
     ]
    },
    {
     "data": {
      "text/html": [
       "<div>\n",
       "<style scoped>\n",
       "    .dataframe tbody tr th:only-of-type {\n",
       "        vertical-align: middle;\n",
       "    }\n",
       "\n",
       "    .dataframe tbody tr th {\n",
       "        vertical-align: top;\n",
       "    }\n",
       "\n",
       "    .dataframe thead th {\n",
       "        text-align: right;\n",
       "    }\n",
       "</style>\n",
       "<table border=\"1\" class=\"dataframe\">\n",
       "  <thead>\n",
       "    <tr style=\"text-align: right;\">\n",
       "      <th></th>\n",
       "      <th>ORDER_ID</th>\n",
       "      <th>SUBSCRIBER_ID</th>\n",
       "      <th>STATUS_DATE</th>\n",
       "      <th>STATUS_TIME</th>\n",
       "      <th>STATUS</th>\n",
       "      <th>STATUS_DATETIME</th>\n",
       "      <th>PREV_STATUS</th>\n",
       "      <th>START_DATE</th>\n",
       "      <th>END_DATE</th>\n",
       "      <th>CURRENT_STATUS</th>\n",
       "    </tr>\n",
       "  </thead>\n",
       "  <tbody>\n",
       "    <tr>\n",
       "      <th>0</th>\n",
       "      <td>100170</td>\n",
       "      <td>200497</td>\n",
       "      <td>20230222</td>\n",
       "      <td>94140</td>\n",
       "      <td>CREATED</td>\n",
       "      <td>2023-02-22 09:41:40</td>\n",
       "      <td>None</td>\n",
       "      <td>2023-02-22 09:41:40</td>\n",
       "      <td>NaT</td>\n",
       "      <td>None</td>\n",
       "    </tr>\n",
       "    <tr>\n",
       "      <th>1</th>\n",
       "      <td>100170</td>\n",
       "      <td>200497</td>\n",
       "      <td>20230222</td>\n",
       "      <td>162938</td>\n",
       "      <td>RETURNED</td>\n",
       "      <td>2023-02-22 16:29:38</td>\n",
       "      <td>CREATED</td>\n",
       "      <td>NaT</td>\n",
       "      <td>NaT</td>\n",
       "      <td>CREATED</td>\n",
       "    </tr>\n",
       "    <tr>\n",
       "      <th>2</th>\n",
       "      <td>100170</td>\n",
       "      <td>200497</td>\n",
       "      <td>20230222</td>\n",
       "      <td>164206</td>\n",
       "      <td>COMPLETED</td>\n",
       "      <td>2023-02-22 16:42:06</td>\n",
       "      <td>RETURNED</td>\n",
       "      <td>NaT</td>\n",
       "      <td>2023-02-22 16:42:06</td>\n",
       "      <td>COMPLETED</td>\n",
       "    </tr>\n",
       "    <tr>\n",
       "      <th>3</th>\n",
       "      <td>100274</td>\n",
       "      <td>200242</td>\n",
       "      <td>20230222</td>\n",
       "      <td>95309</td>\n",
       "      <td>CREATED</td>\n",
       "      <td>2023-02-22 09:53:09</td>\n",
       "      <td>None</td>\n",
       "      <td>2023-02-22 09:53:09</td>\n",
       "      <td>NaT</td>\n",
       "      <td>None</td>\n",
       "    </tr>\n",
       "    <tr>\n",
       "      <th>4</th>\n",
       "      <td>100274</td>\n",
       "      <td>200242</td>\n",
       "      <td>20230222</td>\n",
       "      <td>181241</td>\n",
       "      <td>RETURNED</td>\n",
       "      <td>2023-02-22 18:12:41</td>\n",
       "      <td>CREATED</td>\n",
       "      <td>NaT</td>\n",
       "      <td>NaT</td>\n",
       "      <td>CREATED</td>\n",
       "    </tr>\n",
       "    <tr>\n",
       "      <th>5</th>\n",
       "      <td>100274</td>\n",
       "      <td>200242</td>\n",
       "      <td>20230222</td>\n",
       "      <td>181513</td>\n",
       "      <td>CANCELLED</td>\n",
       "      <td>2023-02-22 18:15:13</td>\n",
       "      <td>RETURNED</td>\n",
       "      <td>NaT</td>\n",
       "      <td>2023-02-22 18:15:13</td>\n",
       "      <td>CANCELLED</td>\n",
       "    </tr>\n",
       "    <tr>\n",
       "      <th>6</th>\n",
       "      <td>100446</td>\n",
       "      <td>200239</td>\n",
       "      <td>20230222</td>\n",
       "      <td>95004</td>\n",
       "      <td>CREATED</td>\n",
       "      <td>2023-02-22 09:50:04</td>\n",
       "      <td>None</td>\n",
       "      <td>2023-02-22 09:50:04</td>\n",
       "      <td>NaT</td>\n",
       "      <td>None</td>\n",
       "    </tr>\n",
       "    <tr>\n",
       "      <th>7</th>\n",
       "      <td>100446</td>\n",
       "      <td>200239</td>\n",
       "      <td>20230222</td>\n",
       "      <td>142807</td>\n",
       "      <td>COMPLETED</td>\n",
       "      <td>2023-02-22 14:28:07</td>\n",
       "      <td>CREATED</td>\n",
       "      <td>NaT</td>\n",
       "      <td>2023-02-22 14:28:07</td>\n",
       "      <td>COMPLETED</td>\n",
       "    </tr>\n",
       "    <tr>\n",
       "      <th>8</th>\n",
       "      <td>100068</td>\n",
       "      <td>200431</td>\n",
       "      <td>20230222</td>\n",
       "      <td>93835</td>\n",
       "      <td>CREATED</td>\n",
       "      <td>2023-02-22 09:38:35</td>\n",
       "      <td>None</td>\n",
       "      <td>2023-02-22 09:38:35</td>\n",
       "      <td>NaT</td>\n",
       "      <td>None</td>\n",
       "    </tr>\n",
       "  </tbody>\n",
       "</table>\n",
       "</div>"
      ],
      "text/plain": [
       "   ORDER_ID  SUBSCRIBER_ID  STATUS_DATE  STATUS_TIME     STATUS  \\\n",
       "0    100170         200497     20230222        94140    CREATED   \n",
       "1    100170         200497     20230222       162938   RETURNED   \n",
       "2    100170         200497     20230222       164206  COMPLETED   \n",
       "3    100274         200242     20230222        95309    CREATED   \n",
       "4    100274         200242     20230222       181241   RETURNED   \n",
       "5    100274         200242     20230222       181513  CANCELLED   \n",
       "6    100446         200239     20230222        95004    CREATED   \n",
       "7    100446         200239     20230222       142807  COMPLETED   \n",
       "8    100068         200431     20230222        93835    CREATED   \n",
       "\n",
       "      STATUS_DATETIME PREV_STATUS          START_DATE            END_DATE  \\\n",
       "0 2023-02-22 09:41:40        None 2023-02-22 09:41:40                 NaT   \n",
       "1 2023-02-22 16:29:38     CREATED                 NaT                 NaT   \n",
       "2 2023-02-22 16:42:06    RETURNED                 NaT 2023-02-22 16:42:06   \n",
       "3 2023-02-22 09:53:09        None 2023-02-22 09:53:09                 NaT   \n",
       "4 2023-02-22 18:12:41     CREATED                 NaT                 NaT   \n",
       "5 2023-02-22 18:15:13    RETURNED                 NaT 2023-02-22 18:15:13   \n",
       "6 2023-02-22 09:50:04        None 2023-02-22 09:50:04                 NaT   \n",
       "7 2023-02-22 14:28:07     CREATED                 NaT 2023-02-22 14:28:07   \n",
       "8 2023-02-22 09:38:35        None 2023-02-22 09:38:35                 NaT   \n",
       "\n",
       "  CURRENT_STATUS  \n",
       "0           None  \n",
       "1        CREATED  \n",
       "2      COMPLETED  \n",
       "3           None  \n",
       "4        CREATED  \n",
       "5      CANCELLED  \n",
       "6           None  \n",
       "7      COMPLETED  \n",
       "8           None  "
      ]
     },
     "execution_count": 21,
     "metadata": {},
     "output_type": "execute_result"
    }
   ],
   "source": [
    "#df.limit(9).toPandas()"
   ]
  },
  {
   "cell_type": "code",
   "execution_count": 29,
   "id": "7fa411e1-eed8-4640-9185-0c83a163b51b",
   "metadata": {
    "tags": []
   },
   "outputs": [],
   "source": [
    "df1 = df.select('ORDER_ID','SUBSCRIBER_ID', 'LATEST_STATUS', 'START_DATE', 'END_DATE') \\\n",
    ".groupBy('ORDER_ID','SUBSCRIBER_ID','LATEST_STATUS' ) \\\n",
    ".agg(F.min('START_DATE').alias('START_DATE'), F.min('END_DATE').alias('END_DATE'))"
   ]
  },
  {
   "cell_type": "code",
   "execution_count": 51,
   "id": "48dc6718-79ab-4b92-8066-8aa685985ea1",
   "metadata": {
    "tags": []
   },
   "outputs": [],
   "source": [
    "df2= df1.withColumn(\"DURATION\", when(df1.END_DATE.isNotNull(), (unix_timestamp(df1.END_DATE) - unix_timestamp(df1.START_DATE))/3600).otherwise(0))"
   ]
  },
  {
   "cell_type": "code",
   "execution_count": 53,
   "id": "70510c3c-8925-4912-8f5f-f2d703a66b48",
   "metadata": {
    "tags": []
   },
   "outputs": [
    {
     "name": "stderr",
     "output_type": "stream",
     "text": [
      "[Stage 65:============================================>         (164 + 3) / 200]\r"
     ]
    },
    {
     "name": "stdout",
     "output_type": "stream",
     "text": [
      "+--------+-------------+-------------+-------------------+-------------------+------------------+\n",
      "|ORDER_ID|SUBSCRIBER_ID|LATEST_STATUS|         START_DATE|           END_DATE|          DURATION|\n",
      "+--------+-------------+-------------+-------------------+-------------------+------------------+\n",
      "|  100001|       200574|     ASSIGNED|2023-02-22 09:53:06|               null|               0.0|\n",
      "|  100002|       200121|         POOL|2023-02-22 09:37:12|               null|               0.0|\n",
      "|  100003|       200432|     ASSIGNED|2023-02-22 09:40:01|               null|               0.0|\n",
      "|  100004|       200234|    COMPLETED|2023-02-22 09:37:58|2023-02-22 10:44:26|1.1077777777777778|\n",
      "|  100005|       200546|         POOL|2023-02-22 09:47:27|               null|               0.0|\n",
      "|  100006|       200369|     ASSIGNED|2023-02-22 10:54:13|               null|               0.0|\n",
      "|  100007|       200486|     ASSIGNED|2023-02-22 10:54:48|               null|               0.0|\n",
      "|  100008|       200190|     ASSIGNED|2023-02-22 09:43:31|               null|               0.0|\n",
      "|  100009|       200058|    COMPLETED|2023-02-22 09:49:51|2023-02-22 19:55:48|10.099166666666667|\n",
      "|  100010|       200253|    COMPLETED|2023-02-22 09:43:01|2023-02-22 12:07:25|2.4066666666666667|\n",
      "|  100011|       200207|     ASSIGNED|2023-02-22 10:56:06|               null|               0.0|\n",
      "|  100012|       200534|    COMPLETED|2023-02-22 09:49:27|2023-02-22 16:24:34| 6.585277777777778|\n",
      "|  100013|       200494|    COMPLETED|2023-02-22 09:41:34|2023-02-22 23:35:19|13.895833333333334|\n",
      "|  100014|       200062|    COMPLETED|2023-02-22 09:50:31|2023-02-22 22:58:58|13.140833333333333|\n",
      "|  100015|       200370|    COMPLETED|2023-02-22 09:42:46|2023-02-22 10:41:22|0.9766666666666667|\n",
      "|  100016|       200482|         POOL|2023-02-22 09:44:01|               null|               0.0|\n",
      "|  100017|       200096|    COMPLETED|2023-02-22 09:45:41|2023-02-22 14:11:20|            4.4275|\n",
      "|  100018|       200582|    COMPLETED|2023-02-21 16:37:23|2023-02-22 16:54:04|24.278055555555557|\n",
      "|  100019|       200304|     ASSIGNED|2023-02-22 10:57:02|               null|               0.0|\n",
      "|  100020|       200050|    COMPLETED|2023-02-22 10:52:53|2023-02-22 22:27:41|             11.58|\n",
      "+--------+-------------+-------------+-------------------+-------------------+------------------+\n",
      "only showing top 20 rows\n",
      "\n"
     ]
    },
    {
     "name": "stderr",
     "output_type": "stream",
     "text": [
      "                                                                                \r"
     ]
    }
   ],
   "source": [
    "df2.orderBy(\"ORDER_ID\").show()"
   ]
  },
  {
   "cell_type": "code",
   "execution_count": 54,
   "id": "79630330-4fd4-471d-9bbc-729c54d29638",
   "metadata": {
    "tags": []
   },
   "outputs": [],
   "source": [
    "df3 = df2.repartition(1)"
   ]
  },
  {
   "cell_type": "code",
   "execution_count": 55,
   "id": "52ffe503-d029-4caa-8d74-8e35825ae5d9",
   "metadata": {
    "tags": []
   },
   "outputs": [
    {
     "name": "stderr",
     "output_type": "stream",
     "text": [
      "                                                                                \r"
     ]
    }
   ],
   "source": [
    "# Select the desired columns and write the output to a file\n",
    "# output_df = df.select(\"ORDER_ID\", \"CURRENT_STATUS\", \"START_DATE\", \"END_DATE\", \"DURATION\")\n",
    "df3.write.mode(\"overwrite\").option(\"header\", \"true\").csv(\"file:///home/train/dataops7/spark/hw4_OrderStatus/report\")"
   ]
  },
  {
   "cell_type": "code",
   "execution_count": null,
   "id": "65fbe670-84b7-4a7e-b83f-32325eca843a",
   "metadata": {},
   "outputs": [],
   "source": [
    "spark.stop()"
   ]
  }
 ],
 "metadata": {
  "kernelspec": {
   "display_name": "Python 3",
   "language": "python",
   "name": "python3"
  },
  "language_info": {
   "codemirror_mode": {
    "name": "ipython",
    "version": 3
   },
   "file_extension": ".py",
   "mimetype": "text/x-python",
   "name": "python",
   "nbconvert_exporter": "python",
   "pygments_lexer": "ipython3",
   "version": "3.7.8"
  },
  "vscode": {
   "interpreter": {
    "hash": "0a54084e6b208ee8d1ce3989ffc20924477a5f55f5a43e22e699a6741623861e"
   }
  }
 },
 "nbformat": 4,
 "nbformat_minor": 5
}
