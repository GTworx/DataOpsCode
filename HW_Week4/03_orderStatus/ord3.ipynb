{
 "cells": [
  {
   "cell_type": "code",
   "execution_count": 7,
   "id": "38d6d5a7-1fdb-4cdf-aaf1-51a4ab32c07d",
   "metadata": {
    "tags": []
   },
   "outputs": [],
   "source": [
    "from pyspark.sql.functions import when, min, max, col\n",
    "from pyspark.sql.types import DoubleType\n",
    "from pyspark.sql import SparkSession\n",
    "from pyspark.sql.functions import *"
   ]
  },
  {
   "cell_type": "code",
   "execution_count": 2,
   "id": "901ff0fa-0dbc-4799-8877-43a50e95c1a4",
   "metadata": {
    "tags": []
   },
   "outputs": [
    {
     "name": "stderr",
     "output_type": "stream",
     "text": [
      "WARNING: An illegal reflective access operation has occurred\n",
      "WARNING: Illegal reflective access by org.apache.spark.unsafe.Platform (file:/opt/manual/spark-3.1.1-bin-hadoop3.2/jars/spark-unsafe_2.12-3.1.1.jar) to constructor java.nio.DirectByteBuffer(long,int)\n",
      "WARNING: Please consider reporting this to the maintainers of org.apache.spark.unsafe.Platform\n",
      "WARNING: Use --illegal-access=warn to enable warnings of further illegal reflective access operations\n",
      "WARNING: All illegal access operations will be denied in a future release\n",
      "2023-03-01 02:44:33,135 WARN util.NativeCodeLoader: Unable to load native-hadoop library for your platform... using builtin-java classes where applicable\n",
      "Setting default log level to \"WARN\".\n",
      "To adjust logging level use sc.setLogLevel(newLevel). For SparkR, use setLogLevel(newLevel).\n",
      "2023-03-01 02:44:34,024 WARN util.Utils: Service 'SparkUI' could not bind on port 4040. Attempting port 4041.\n",
      "2023-03-01 02:44:34,025 WARN util.Utils: Service 'SparkUI' could not bind on port 4041. Attempting port 4042.\n"
     ]
    }
   ],
   "source": [
    "# Create a SparkSession\n",
    "spark = SparkSession.builder.appName(\"OrderStatus\").getOrCreate()"
   ]
  },
  {
   "cell_type": "code",
   "execution_count": 3,
   "id": "1b83862a-8466-49cf-b84a-23bf3453df93",
   "metadata": {
    "tags": []
   },
   "outputs": [],
   "source": [
    "# Load the dataset into a Spark dataframe\n",
    "df = spark.read \\\n",
    ".format(\"csv\") \\\n",
    ".option(\"header\", True) \\\n",
    ".option(\"sep\", \",\") \\\n",
    ".option(\"inferSchema\", True) \\\n",
    ".load(\"file:///home/train/dataops7/spark/hw4_03_order_status/orderStatusData.csv\")"
   ]
  },
  {
   "cell_type": "code",
   "execution_count": 4,
   "id": "9561170a-90e8-424c-8c58-31f52694291d",
   "metadata": {
    "tags": []
   },
   "outputs": [
    {
     "name": "stdout",
     "output_type": "stream",
     "text": [
      "+--------+-------------+-----------+-----------+---------+\n",
      "|ORDER_ID|SUBSCRIBER_ID|STATUS_DATE|STATUS_TIME|   STATUS|\n",
      "+--------+-------------+-----------+-----------+---------+\n",
      "|  100159|       200427|   20230223|      83209| ASSIGNED|\n",
      "|  100159|       200427|   20230223|      74232| RETURNED|\n",
      "|  100159|       200427|   20230222|      95056|  CREATED|\n",
      "|  100410|       200366|   20230223|      91017| ASSIGNED|\n",
      "|  100410|       200366|   20230223|      30301| RETURNED|\n",
      "|  100410|       200366|   20230222|      93638|  CREATED|\n",
      "|  100497|       200024|   20230222|     105418|     POOL|\n",
      "|  100497|       200024|   20230222|     105418|  CREATED|\n",
      "|  100539|       200012|   20230222|     112855|COMPLETED|\n",
      "|  100539|       200012|   20230222|      95408|  CREATED|\n",
      "|  100575|       200573|   20230223|      85951| ASSIGNED|\n",
      "|  100575|       200573|   20230223|      41932| RETURNED|\n",
      "|  100575|       200573|   20230222|     105441|  CREATED|\n",
      "|  100259|       200192|   20230223|      83115| ASSIGNED|\n",
      "|  100259|       200192|   20230222|      94751|  CREATED|\n",
      "|  100563|       200421|   20230223|      82133| ASSIGNED|\n",
      "|  100563|       200421|   20230223|      74734| RETURNED|\n",
      "|  100563|       200421|   20230222|      94100|  CREATED|\n",
      "|  100230|       200049|   20230222|     182650|COMPLETED|\n",
      "|  100230|       200049|   20230222|     161234| RETURNED|\n",
      "+--------+-------------+-----------+-----------+---------+\n",
      "only showing top 20 rows\n",
      "\n"
     ]
    }
   ],
   "source": [
    "df.show()"
   ]
  },
  {
   "cell_type": "code",
   "execution_count": 5,
   "id": "9b628b8d-3d60-40bd-9944-c86e41671972",
   "metadata": {
    "tags": []
   },
   "outputs": [
    {
     "name": "stdout",
     "output_type": "stream",
     "text": [
      "root\n",
      " |-- ORDER_ID: integer (nullable = true)\n",
      " |-- SUBSCRIBER_ID: integer (nullable = true)\n",
      " |-- STATUS_DATE: integer (nullable = true)\n",
      " |-- STATUS_TIME: integer (nullable = true)\n",
      " |-- STATUS: string (nullable = true)\n",
      "\n"
     ]
    }
   ],
   "source": [
    "df.printSchema()"
   ]
  },
  {
   "cell_type": "code",
   "execution_count": 8,
   "id": "74286a55-2cd2-4e28-98ec-f6d863a40f07",
   "metadata": {
    "tags": []
   },
   "outputs": [],
   "source": [
    "# Convert the date and time columns to timestamps\n",
    "df = df.withColumn(\"STATUS_DATETIME\", to_timestamp(concat_ws(\" \", df.STATUS_DATE, df.STATUS_TIME), \"yyyyMMdd HHmmss\"))"
   ]
  },
  {
   "cell_type": "code",
   "execution_count": 9,
   "id": "58e11db5-4c68-4902-b501-403ca5102864",
   "metadata": {
    "tags": []
   },
   "outputs": [
    {
     "name": "stdout",
     "output_type": "stream",
     "text": [
      "+--------+-------------+-----------+-----------+---------+-------------------+\n",
      "|ORDER_ID|SUBSCRIBER_ID|STATUS_DATE|STATUS_TIME|   STATUS|    STATUS_DATETIME|\n",
      "+--------+-------------+-----------+-----------+---------+-------------------+\n",
      "|  100159|       200427|   20230223|      83209| ASSIGNED|               null|\n",
      "|  100159|       200427|   20230223|      74232| RETURNED|               null|\n",
      "|  100159|       200427|   20230222|      95056|  CREATED|               null|\n",
      "|  100410|       200366|   20230223|      91017| ASSIGNED|               null|\n",
      "|  100410|       200366|   20230223|      30301| RETURNED|               null|\n",
      "|  100410|       200366|   20230222|      93638|  CREATED|               null|\n",
      "|  100497|       200024|   20230222|     105418|     POOL|2023-02-22 10:54:18|\n",
      "|  100497|       200024|   20230222|     105418|  CREATED|2023-02-22 10:54:18|\n",
      "|  100539|       200012|   20230222|     112855|COMPLETED|2023-02-22 11:28:55|\n",
      "|  100539|       200012|   20230222|      95408|  CREATED|               null|\n",
      "|  100575|       200573|   20230223|      85951| ASSIGNED|               null|\n",
      "|  100575|       200573|   20230223|      41932| RETURNED|               null|\n",
      "|  100575|       200573|   20230222|     105441|  CREATED|2023-02-22 10:54:41|\n",
      "|  100259|       200192|   20230223|      83115| ASSIGNED|               null|\n",
      "|  100259|       200192|   20230222|      94751|  CREATED|               null|\n",
      "|  100563|       200421|   20230223|      82133| ASSIGNED|               null|\n",
      "|  100563|       200421|   20230223|      74734| RETURNED|               null|\n",
      "|  100563|       200421|   20230222|      94100|  CREATED|               null|\n",
      "|  100230|       200049|   20230222|     182650|COMPLETED|2023-02-22 18:26:50|\n",
      "|  100230|       200049|   20230222|     161234| RETURNED|2023-02-22 16:12:34|\n",
      "+--------+-------------+-----------+-----------+---------+-------------------+\n",
      "only showing top 20 rows\n",
      "\n"
     ]
    }
   ],
   "source": [
    "df.show()"
   ]
  },
  {
   "cell_type": "code",
   "execution_count": null,
   "id": "fc9cd141-3cfd-49eb-aa4c-178bc81bdb8f",
   "metadata": {},
   "outputs": [],
   "source": []
  }
 ],
 "metadata": {
  "kernelspec": {
   "display_name": "venvspark",
   "language": "python",
   "name": "venvspark"
  },
  "language_info": {
   "codemirror_mode": {
    "name": "ipython",
    "version": 3
   },
   "file_extension": ".py",
   "mimetype": "text/x-python",
   "name": "python",
   "nbconvert_exporter": "python",
   "pygments_lexer": "ipython3",
   "version": "3.8.12"
  }
 },
 "nbformat": 4,
 "nbformat_minor": 5
}
