{
 "cells": [
  {
   "cell_type": "code",
   "execution_count": 1,
   "id": "11595e34-7ad9-475d-9d8a-9649fb4173a5",
   "metadata": {
    "tags": []
   },
   "outputs": [],
   "source": [
    "from pyspark.sql.functions import *\n",
    "from pyspark.sql import Window"
   ]
  },
  {
   "cell_type": "code",
   "execution_count": 2,
   "id": "5cf6aaf8-a998-4a90-9d0f-7f6eca8ed926",
   "metadata": {
    "tags": []
   },
   "outputs": [],
   "source": [
    "from pyspark.sql import SparkSession, functions as F\n",
    "from pyspark.sql.types import StructType, StructField, DoubleType, StringType, IntegerType, DateType, ArrayType, FloatType"
   ]
  },
  {
   "cell_type": "code",
   "execution_count": 3,
   "id": "5d52a3b8-0b8c-4cd3-bb4d-566dc7b422eb",
   "metadata": {
    "tags": []
   },
   "outputs": [
    {
     "name": "stderr",
     "output_type": "stream",
     "text": [
      "WARNING: An illegal reflective access operation has occurred\n",
      "WARNING: Illegal reflective access by org.apache.spark.unsafe.Platform (file:/opt/manual/spark-3.1.1-bin-hadoop3.2/jars/spark-unsafe_2.12-3.1.1.jar) to constructor java.nio.DirectByteBuffer(long,int)\n",
      "WARNING: Please consider reporting this to the maintainers of org.apache.spark.unsafe.Platform\n",
      "WARNING: Use --illegal-access=warn to enable warnings of further illegal reflective access operations\n",
      "WARNING: All illegal access operations will be denied in a future release\n",
      "2023-03-01 10:35:03,902 WARN util.NativeCodeLoader: Unable to load native-hadoop library for your platform... using builtin-java classes where applicable\n",
      "Setting default log level to \"WARN\".\n",
      "To adjust logging level use sc.setLogLevel(newLevel). For SparkR, use setLogLevel(newLevel).\n"
     ]
    }
   ],
   "source": [
    "spark = SparkSession.builder \\\n",
    ".master(\"local[1]\") \\\n",
    ".appName(\"OrderStatusCheck\") \\\n",
    ".getOrCreate()"
   ]
  },
  {
   "cell_type": "code",
   "execution_count": 24,
   "id": "f2a113c1-a090-404b-a5a6-b49062eb69c9",
   "metadata": {
    "tags": []
   },
   "outputs": [],
   "source": [
    "# Read the input file\n",
    "df = spark.read \\\n",
    ".format(\"csv\") \\\n",
    ".option(\"header\", True) \\\n",
    ".option(\"sep\", \",\") \\\n",
    ".option(\"inferSchema\", True) \\\n",
    ".load(\"file:///home/train/dataops7/spark/hw4_03_order_status/orderStatusData.csv\")"
   ]
  },
  {
   "cell_type": "code",
   "execution_count": 25,
   "id": "53cce9b8-622c-4237-8359-c50a5f24d4a6",
   "metadata": {
    "tags": []
   },
   "outputs": [
    {
     "name": "stdout",
     "output_type": "stream",
     "text": [
      "+--------+-------------+-----------+-----------+---------+\n",
      "|ORDER_ID|SUBSCRIBER_ID|STATUS_DATE|STATUS_TIME|   STATUS|\n",
      "+--------+-------------+-----------+-----------+---------+\n",
      "|  100159|       200427|   20230223|      83209| ASSIGNED|\n",
      "|  100159|       200427|   20230223|      74232| RETURNED|\n",
      "|  100159|       200427|   20230222|      95056|  CREATED|\n",
      "|  100410|       200366|   20230223|      91017| ASSIGNED|\n",
      "|  100410|       200366|   20230223|      30301| RETURNED|\n",
      "|  100410|       200366|   20230222|      93638|  CREATED|\n",
      "|  100497|       200024|   20230222|     105418|     POOL|\n",
      "|  100497|       200024|   20230222|     105418|  CREATED|\n",
      "|  100539|       200012|   20230222|     112855|COMPLETED|\n",
      "|  100539|       200012|   20230222|      95408|  CREATED|\n",
      "|  100575|       200573|   20230223|      85951| ASSIGNED|\n",
      "|  100575|       200573|   20230223|      41932| RETURNED|\n",
      "|  100575|       200573|   20230222|     105441|  CREATED|\n",
      "|  100259|       200192|   20230223|      83115| ASSIGNED|\n",
      "|  100259|       200192|   20230222|      94751|  CREATED|\n",
      "|  100563|       200421|   20230223|      82133| ASSIGNED|\n",
      "|  100563|       200421|   20230223|      74734| RETURNED|\n",
      "|  100563|       200421|   20230222|      94100|  CREATED|\n",
      "|  100230|       200049|   20230222|     182650|COMPLETED|\n",
      "|  100230|       200049|   20230222|     161234| RETURNED|\n",
      "+--------+-------------+-----------+-----------+---------+\n",
      "only showing top 20 rows\n",
      "\n"
     ]
    }
   ],
   "source": [
    "df.show()"
   ]
  },
  {
   "cell_type": "code",
   "execution_count": 26,
   "id": "74355b7f-ed7e-4941-b7e4-f0e3ffdfa631",
   "metadata": {
    "tags": []
   },
   "outputs": [],
   "source": [
    "# Convert the date and time columns to timestamps\n",
    "df = df.withColumn(\"STATUS_DATETIME\", to_timestamp(concat_ws(\" \", df.STATUS_DATE, df.STATUS_TIME), \"yyyyMMdd Hmmss\"))"
   ]
  },
  {
   "cell_type": "code",
   "execution_count": 27,
   "id": "16bca30f-b873-4ee5-90ca-adbe1483f9be",
   "metadata": {
    "tags": []
   },
   "outputs": [
    {
     "name": "stdout",
     "output_type": "stream",
     "text": [
      "+--------+-------------+-----------+-----------+---------+-------------------+\n",
      "|ORDER_ID|SUBSCRIBER_ID|STATUS_DATE|STATUS_TIME|   STATUS|    STATUS_DATETIME|\n",
      "+--------+-------------+-----------+-----------+---------+-------------------+\n",
      "|  100159|       200427|   20230223|      83209| ASSIGNED|2023-02-23 08:32:09|\n",
      "|  100159|       200427|   20230223|      74232| RETURNED|2023-02-23 07:42:32|\n",
      "|  100159|       200427|   20230222|      95056|  CREATED|2023-02-22 09:50:56|\n",
      "|  100410|       200366|   20230223|      91017| ASSIGNED|2023-02-23 09:10:17|\n",
      "|  100410|       200366|   20230223|      30301| RETURNED|2023-02-23 03:03:01|\n",
      "|  100410|       200366|   20230222|      93638|  CREATED|2023-02-22 09:36:38|\n",
      "|  100497|       200024|   20230222|     105418|     POOL|2023-02-22 10:54:18|\n",
      "|  100497|       200024|   20230222|     105418|  CREATED|2023-02-22 10:54:18|\n",
      "|  100539|       200012|   20230222|     112855|COMPLETED|2023-02-22 11:28:55|\n",
      "|  100539|       200012|   20230222|      95408|  CREATED|2023-02-22 09:54:08|\n",
      "|  100575|       200573|   20230223|      85951| ASSIGNED|2023-02-23 08:59:51|\n",
      "|  100575|       200573|   20230223|      41932| RETURNED|2023-02-23 04:19:32|\n",
      "|  100575|       200573|   20230222|     105441|  CREATED|2023-02-22 10:54:41|\n",
      "|  100259|       200192|   20230223|      83115| ASSIGNED|2023-02-23 08:31:15|\n",
      "|  100259|       200192|   20230222|      94751|  CREATED|2023-02-22 09:47:51|\n",
      "|  100563|       200421|   20230223|      82133| ASSIGNED|2023-02-23 08:21:33|\n",
      "|  100563|       200421|   20230223|      74734| RETURNED|2023-02-23 07:47:34|\n",
      "|  100563|       200421|   20230222|      94100|  CREATED|2023-02-22 09:41:00|\n",
      "|  100230|       200049|   20230222|     182650|COMPLETED|2023-02-22 18:26:50|\n",
      "|  100230|       200049|   20230222|     161234| RETURNED|2023-02-22 16:12:34|\n",
      "+--------+-------------+-----------+-----------+---------+-------------------+\n",
      "only showing top 20 rows\n",
      "\n"
     ]
    }
   ],
   "source": [
    "df.show()"
   ]
  },
  {
   "cell_type": "code",
   "execution_count": 28,
   "id": "fc91f69b-fd6b-49fb-af5c-93e8c4d1eec4",
   "metadata": {
    "tags": []
   },
   "outputs": [],
   "source": [
    "# Create a window partitioned by ORDER_ID and sorted by STATUS_DATETIME\n",
    "window_spec = Window.partitionBy(\"ORDER_ID\").orderBy(\"STATUS_DATETIME\")"
   ]
  },
  {
   "cell_type": "code",
   "execution_count": 29,
   "id": "4dd931b9-27f2-4e47-903b-3ce496f8fa89",
   "metadata": {
    "tags": []
   },
   "outputs": [
    {
     "ename": "AttributeError",
     "evalue": "'WindowSpec' object has no attribute 'show'",
     "output_type": "error",
     "traceback": [
      "\u001b[0;31m---------------------------------------------------------------------------\u001b[0m",
      "\u001b[0;31mAttributeError\u001b[0m                            Traceback (most recent call last)",
      "\u001b[0;32m/tmp/ipykernel_3666/4262467236.py\u001b[0m in \u001b[0;36m<module>\u001b[0;34m\u001b[0m\n\u001b[0;32m----> 1\u001b[0;31m \u001b[0mwindow_spec\u001b[0m\u001b[0;34m.\u001b[0m\u001b[0mshow\u001b[0m\u001b[0;34m(\u001b[0m\u001b[0;34m)\u001b[0m\u001b[0;34m\u001b[0m\u001b[0;34m\u001b[0m\u001b[0m\n\u001b[0m",
      "\u001b[0;31mAttributeError\u001b[0m: 'WindowSpec' object has no attribute 'show'"
     ]
    }
   ],
   "source": [
    "window_spec.show()"
   ]
  },
  {
   "cell_type": "code",
   "execution_count": 30,
   "id": "6c8be469-2852-4a67-bba8-0156367b40ba",
   "metadata": {
    "tags": []
   },
   "outputs": [],
   "source": [
    "# Create a column for the previous status\n",
    "df = df.withColumn(\"PREV_STATUS\", lag(\"STATUS\", 1).over(window_spec))"
   ]
  },
  {
   "cell_type": "code",
   "execution_count": 31,
   "id": "306aa396-c5cc-45f5-a4f4-acfa0cae1eb4",
   "metadata": {
    "tags": []
   },
   "outputs": [
    {
     "data": {
      "text/plain": [
       "DataFrame[key: string, value: string]"
      ]
     },
     "execution_count": 31,
     "metadata": {},
     "output_type": "execute_result"
    }
   ],
   "source": [
    "spark.sql(\"set spark.sql.legacy.timeParserPolicy=CORRECTED\")"
   ]
  },
  {
   "cell_type": "code",
   "execution_count": 32,
   "id": "7392da23-03f8-42be-891f-362c4de2e0e8",
   "metadata": {
    "tags": []
   },
   "outputs": [
    {
     "name": "stdout",
     "output_type": "stream",
     "text": [
      "+--------+-------------+-----------+-----------+---------+-------------------+-----------+\n",
      "|ORDER_ID|SUBSCRIBER_ID|STATUS_DATE|STATUS_TIME|   STATUS|    STATUS_DATETIME|PREV_STATUS|\n",
      "+--------+-------------+-----------+-----------+---------+-------------------+-----------+\n",
      "|  100170|       200497|   20230222|      94140|  CREATED|2023-02-22 09:41:40|       null|\n",
      "|  100170|       200497|   20230222|     162938| RETURNED|2023-02-22 16:29:38|    CREATED|\n",
      "|  100170|       200497|   20230222|     164206|COMPLETED|2023-02-22 16:42:06|   RETURNED|\n",
      "|  100274|       200242|   20230222|      95309|  CREATED|2023-02-22 09:53:09|       null|\n",
      "|  100274|       200242|   20230222|     181241| RETURNED|2023-02-22 18:12:41|    CREATED|\n",
      "|  100274|       200242|   20230222|     181513|CANCELLED|2023-02-22 18:15:13|   RETURNED|\n",
      "|  100446|       200239|   20230222|      95004|  CREATED|2023-02-22 09:50:04|       null|\n",
      "|  100446|       200239|   20230222|     142807|COMPLETED|2023-02-22 14:28:07|    CREATED|\n",
      "|  100068|       200431|   20230222|      93835|  CREATED|2023-02-22 09:38:35|       null|\n",
      "|  100068|       200431|   20230222|     101053| RETURNED|2023-02-22 10:10:53|    CREATED|\n",
      "|  100068|       200431|   20230222|     154543|COMPLETED|2023-02-22 15:45:43|   RETURNED|\n",
      "|  100088|       200449|   20230222|      95457|  CREATED|2023-02-22 09:54:57|       null|\n",
      "|  100088|       200449|   20230222|     234157| RETURNED|2023-02-22 23:41:57|    CREATED|\n",
      "|  100088|       200449|   20230223|      21127|COMPLETED|2023-02-23 02:11:27|   RETURNED|\n",
      "|  100220|       200100|   20230222|     105416|  CREATED|2023-02-22 10:54:16|       null|\n",
      "|  100220|       200100|   20230223|      41932| RETURNED|2023-02-23 04:19:32|    CREATED|\n",
      "|  100220|       200100|   20230223|      91346| ASSIGNED|2023-02-23 09:13:46|   RETURNED|\n",
      "|  100453|       200419|   20230222|      95312|  CREATED|2023-02-22 09:53:12|       null|\n",
      "|  100453|       200419|   20230222|     162415| RETURNED|2023-02-22 16:24:15|    CREATED|\n",
      "|  100453|       200419|   20230222|     182056|COMPLETED|2023-02-22 18:20:56|   RETURNED|\n",
      "+--------+-------------+-----------+-----------+---------+-------------------+-----------+\n",
      "only showing top 20 rows\n",
      "\n"
     ]
    }
   ],
   "source": [
    "df.show()"
   ]
  },
  {
   "cell_type": "code",
   "execution_count": 33,
   "id": "23908aa0-b24b-44a4-96d3-51ed2b8a4ecf",
   "metadata": {
    "tags": []
   },
   "outputs": [],
   "source": [
    "# Create columns for the start date and end date\n",
    "df = df.withColumn(\"START_DATE\", when((df.STATUS == \"CREATED\") | (df.STATUS == \"POOL\"), df.STATUS_DATETIME))\n",
    "df = df.withColumn(\"END_DATE\", when((df.STATUS == \"COMPLETED\") | (df.STATUS == \"CANCELLED\"), df.STATUS_DATETIME))"
   ]
  },
  {
   "cell_type": "code",
   "execution_count": 34,
   "id": "deee9a6a-4b12-447e-a779-f112040acd70",
   "metadata": {
    "tags": []
   },
   "outputs": [
    {
     "name": "stdout",
     "output_type": "stream",
     "text": [
      "+--------+-------------+-----------+-----------+---------+-------------------+-----------+-------------------+-------------------+\n",
      "|ORDER_ID|SUBSCRIBER_ID|STATUS_DATE|STATUS_TIME|   STATUS|    STATUS_DATETIME|PREV_STATUS|         START_DATE|           END_DATE|\n",
      "+--------+-------------+-----------+-----------+---------+-------------------+-----------+-------------------+-------------------+\n",
      "|  100170|       200497|   20230222|      94140|  CREATED|2023-02-22 09:41:40|       null|2023-02-22 09:41:40|               null|\n",
      "|  100170|       200497|   20230222|     162938| RETURNED|2023-02-22 16:29:38|    CREATED|               null|               null|\n",
      "|  100170|       200497|   20230222|     164206|COMPLETED|2023-02-22 16:42:06|   RETURNED|               null|2023-02-22 16:42:06|\n",
      "|  100274|       200242|   20230222|      95309|  CREATED|2023-02-22 09:53:09|       null|2023-02-22 09:53:09|               null|\n",
      "|  100274|       200242|   20230222|     181241| RETURNED|2023-02-22 18:12:41|    CREATED|               null|               null|\n",
      "|  100274|       200242|   20230222|     181513|CANCELLED|2023-02-22 18:15:13|   RETURNED|               null|2023-02-22 18:15:13|\n",
      "|  100446|       200239|   20230222|      95004|  CREATED|2023-02-22 09:50:04|       null|2023-02-22 09:50:04|               null|\n",
      "|  100446|       200239|   20230222|     142807|COMPLETED|2023-02-22 14:28:07|    CREATED|               null|2023-02-22 14:28:07|\n",
      "|  100068|       200431|   20230222|      93835|  CREATED|2023-02-22 09:38:35|       null|2023-02-22 09:38:35|               null|\n",
      "|  100068|       200431|   20230222|     101053| RETURNED|2023-02-22 10:10:53|    CREATED|               null|               null|\n",
      "|  100068|       200431|   20230222|     154543|COMPLETED|2023-02-22 15:45:43|   RETURNED|               null|2023-02-22 15:45:43|\n",
      "|  100088|       200449|   20230222|      95457|  CREATED|2023-02-22 09:54:57|       null|2023-02-22 09:54:57|               null|\n",
      "|  100088|       200449|   20230222|     234157| RETURNED|2023-02-22 23:41:57|    CREATED|               null|               null|\n",
      "|  100088|       200449|   20230223|      21127|COMPLETED|2023-02-23 02:11:27|   RETURNED|               null|2023-02-23 02:11:27|\n",
      "|  100220|       200100|   20230222|     105416|  CREATED|2023-02-22 10:54:16|       null|2023-02-22 10:54:16|               null|\n",
      "|  100220|       200100|   20230223|      41932| RETURNED|2023-02-23 04:19:32|    CREATED|               null|               null|\n",
      "|  100220|       200100|   20230223|      91346| ASSIGNED|2023-02-23 09:13:46|   RETURNED|               null|               null|\n",
      "|  100453|       200419|   20230222|      95312|  CREATED|2023-02-22 09:53:12|       null|2023-02-22 09:53:12|               null|\n",
      "|  100453|       200419|   20230222|     162415| RETURNED|2023-02-22 16:24:15|    CREATED|               null|               null|\n",
      "|  100453|       200419|   20230222|     182056|COMPLETED|2023-02-22 18:20:56|   RETURNED|               null|2023-02-22 18:20:56|\n",
      "+--------+-------------+-----------+-----------+---------+-------------------+-----------+-------------------+-------------------+\n",
      "only showing top 20 rows\n",
      "\n"
     ]
    }
   ],
   "source": [
    "df.show()"
   ]
  },
  {
   "cell_type": "code",
   "execution_count": 35,
   "id": "cfa9f2fd-f0cf-4d7e-a926-7ab6437626a5",
   "metadata": {
    "tags": []
   },
   "outputs": [],
   "source": [
    "# Create a column for the current status\n",
    "df = df.withColumn(\"CURRENT_STATUS\", when(df.END_DATE.isNotNull(), df.STATUS).otherwise(df.PREV_STATUS))"
   ]
  },
  {
   "cell_type": "code",
   "execution_count": 51,
   "id": "089c96a3-f5e5-4db6-a97d-b10ea56dc0e9",
   "metadata": {
    "tags": []
   },
   "outputs": [],
   "source": [
    "df1 = df.filter(df.CURRENT_STATUS.isNull())"
   ]
  },
  {
   "cell_type": "code",
   "execution_count": 52,
   "id": "772bb715-16cc-4b38-9db4-ccf0b12b3c1c",
   "metadata": {
    "tags": []
   },
   "outputs": [
    {
     "name": "stdout",
     "output_type": "stream",
     "text": [
      "+--------+-------------+-----------+-----------+-------+-------------------+-----------+-------------------+--------+--------------+--------+\n",
      "|ORDER_ID|SUBSCRIBER_ID|STATUS_DATE|STATUS_TIME| STATUS|    STATUS_DATETIME|PREV_STATUS|         START_DATE|END_DATE|CURRENT_STATUS|DURATION|\n",
      "+--------+-------------+-----------+-----------+-------+-------------------+-----------+-------------------+--------+--------------+--------+\n",
      "|  100170|       200497|   20230222|      94140|CREATED|2023-02-22 09:41:40|       null|2023-02-22 09:41:40|    null|          null|       0|\n",
      "|  100274|       200242|   20230222|      95309|CREATED|2023-02-22 09:53:09|       null|2023-02-22 09:53:09|    null|          null|       0|\n",
      "|  100446|       200239|   20230222|      95004|CREATED|2023-02-22 09:50:04|       null|2023-02-22 09:50:04|    null|          null|       0|\n",
      "|  100068|       200431|   20230222|      93835|CREATED|2023-02-22 09:38:35|       null|2023-02-22 09:38:35|    null|          null|       0|\n",
      "|  100088|       200449|   20230222|      95457|CREATED|2023-02-22 09:54:57|       null|2023-02-22 09:54:57|    null|          null|       0|\n",
      "|  100220|       200100|   20230222|     105416|CREATED|2023-02-22 10:54:16|       null|2023-02-22 10:54:16|    null|          null|       0|\n",
      "|  100453|       200419|   20230222|      95312|CREATED|2023-02-22 09:53:12|       null|2023-02-22 09:53:12|    null|          null|       0|\n",
      "|  100570|       200080|   20230222|      93553|CREATED|2023-02-22 09:35:53|       null|2023-02-22 09:35:53|    null|          null|       0|\n",
      "|  100102|       200041|   20230222|      93652|   POOL|2023-02-22 09:36:52|       null|2023-02-22 09:36:52|    null|          null|       0|\n",
      "|  100110|       200424|   20230222|      93935|CREATED|2023-02-22 09:39:35|       null|2023-02-22 09:39:35|    null|          null|       0|\n",
      "|  100349|       200313|   20230221|     163834|   POOL|2023-02-21 16:38:34|       null|2023-02-21 16:38:34|    null|          null|       0|\n",
      "|  100417|       200150|   20230222|      94513|CREATED|2023-02-22 09:45:13|       null|2023-02-22 09:45:13|    null|          null|       0|\n",
      "|  100447|       200467|   20230222|      94932|CREATED|2023-02-22 09:49:32|       null|2023-02-22 09:49:32|    null|          null|       0|\n",
      "|  100003|       200432|   20230222|      94001|CREATED|2023-02-22 09:40:01|       null|2023-02-22 09:40:01|    null|          null|       0|\n",
      "|  100074|       200063|   20230222|     105511|   POOL|2023-02-22 10:55:11|       null|2023-02-22 10:55:11|    null|          null|       0|\n",
      "|  100206|       200135|   20230222|      94921|CREATED|2023-02-22 09:49:21|       null|2023-02-22 09:49:21|    null|          null|       0|\n",
      "|  100240|       200577|   20230222|      93923|CREATED|2023-02-22 09:39:23|       null|2023-02-22 09:39:23|    null|          null|       0|\n",
      "|  100279|       200509|   20230222|      94201|CREATED|2023-02-22 09:42:01|       null|2023-02-22 09:42:01|    null|          null|       0|\n",
      "|  100007|       200486|   20230222|     105448|CREATED|2023-02-22 10:54:48|       null|2023-02-22 10:54:48|    null|          null|       0|\n",
      "|  100042|       200412|   20230222|     105557|CREATED|2023-02-22 10:55:57|       null|2023-02-22 10:55:57|    null|          null|       0|\n",
      "+--------+-------------+-----------+-----------+-------+-------------------+-----------+-------------------+--------+--------------+--------+\n",
      "only showing top 20 rows\n",
      "\n"
     ]
    }
   ],
   "source": [
    "df1.show()"
   ]
  },
  {
   "cell_type": "code",
   "execution_count": 53,
   "id": "4881bad0-5dbc-482d-8eb8-b52587abc64f",
   "metadata": {
    "tags": []
   },
   "outputs": [
    {
     "name": "stderr",
     "output_type": "stream",
     "text": [
      "                                                                                \r"
     ]
    },
    {
     "data": {
      "text/plain": [
       "584"
      ]
     },
     "execution_count": 53,
     "metadata": {},
     "output_type": "execute_result"
    }
   ],
   "source": [
    "df1.count()"
   ]
  },
  {
   "cell_type": "code",
   "execution_count": 66,
   "id": "9891c0b0-bcfe-43db-9f6c-274ac257f968",
   "metadata": {
    "tags": []
   },
   "outputs": [],
   "source": [
    "df111 = df1.select('ORDER_ID', 'START_DATE')"
   ]
  },
  {
   "cell_type": "code",
   "execution_count": 72,
   "id": "ef35635e-9b19-40dc-8f7e-62fcd7c16185",
   "metadata": {
    "tags": []
   },
   "outputs": [],
   "source": [
    "df111 = df111.withColumnRenamed('ORDER_ID', 'df111_orderid') "
   ]
  },
  {
   "cell_type": "code",
   "execution_count": 74,
   "id": "a9403163-b51f-459e-a7a1-6399a9789285",
   "metadata": {
    "tags": []
   },
   "outputs": [],
   "source": [
    "df111 = df111.withColumnRenamed('START_DATE', 'df111_startdate') "
   ]
  },
  {
   "cell_type": "code",
   "execution_count": null,
   "id": "edd3824c-4a5a-41e3-9402-17395c59dfce",
   "metadata": {},
   "outputs": [],
   "source": []
  },
  {
   "cell_type": "code",
   "execution_count": null,
   "id": "2e346863-aac0-41ee-b2a4-1498089961f8",
   "metadata": {},
   "outputs": [],
   "source": []
  },
  {
   "cell_type": "code",
   "execution_count": 75,
   "id": "04a0fbbc-6837-48b6-a552-8659014a101e",
   "metadata": {
    "tags": []
   },
   "outputs": [
    {
     "name": "stdout",
     "output_type": "stream",
     "text": [
      "+-------------+-------------------+\n",
      "|df111_orderid|    df111_startdate|\n",
      "+-------------+-------------------+\n",
      "|       100170|2023-02-22 09:41:40|\n",
      "|       100274|2023-02-22 09:53:09|\n",
      "|       100446|2023-02-22 09:50:04|\n",
      "|       100068|2023-02-22 09:38:35|\n",
      "|       100088|2023-02-22 09:54:57|\n",
      "|       100220|2023-02-22 10:54:16|\n",
      "|       100453|2023-02-22 09:53:12|\n",
      "|       100570|2023-02-22 09:35:53|\n",
      "|       100102|2023-02-22 09:36:52|\n",
      "|       100110|2023-02-22 09:39:35|\n",
      "|       100349|2023-02-21 16:38:34|\n",
      "|       100417|2023-02-22 09:45:13|\n",
      "|       100447|2023-02-22 09:49:32|\n",
      "|       100003|2023-02-22 09:40:01|\n",
      "|       100074|2023-02-22 10:55:11|\n",
      "|       100206|2023-02-22 09:49:21|\n",
      "|       100240|2023-02-22 09:39:23|\n",
      "|       100279|2023-02-22 09:42:01|\n",
      "|       100007|2023-02-22 10:54:48|\n",
      "|       100042|2023-02-22 10:55:57|\n",
      "+-------------+-------------------+\n",
      "only showing top 20 rows\n",
      "\n"
     ]
    }
   ],
   "source": [
    "df111.show()"
   ]
  },
  {
   "cell_type": "code",
   "execution_count": 76,
   "id": "5e36343a-7387-4896-b8a0-ba5d61d69419",
   "metadata": {
    "tags": []
   },
   "outputs": [],
   "source": [
    "df11 = df.join(df111, df.ORDER_ID == df111.df111_orderid)"
   ]
  },
  {
   "cell_type": "code",
   "execution_count": 77,
   "id": "7a02c8e8-43ba-42b6-aa5f-ae6abdfc2600",
   "metadata": {
    "tags": []
   },
   "outputs": [
    {
     "name": "stdout",
     "output_type": "stream",
     "text": [
      "root\n",
      " |-- ORDER_ID: integer (nullable = true)\n",
      " |-- SUBSCRIBER_ID: integer (nullable = true)\n",
      " |-- STATUS_DATE: integer (nullable = true)\n",
      " |-- STATUS_TIME: integer (nullable = true)\n",
      " |-- STATUS: string (nullable = true)\n",
      " |-- STATUS_DATETIME: timestamp (nullable = true)\n",
      " |-- PREV_STATUS: string (nullable = true)\n",
      " |-- START_DATE: timestamp (nullable = true)\n",
      " |-- END_DATE: timestamp (nullable = true)\n",
      " |-- CURRENT_STATUS: string (nullable = true)\n",
      " |-- DURATION: long (nullable = true)\n",
      " |-- df111_orderid: integer (nullable = true)\n",
      " |-- df111_startdate: timestamp (nullable = true)\n",
      "\n"
     ]
    }
   ],
   "source": [
    "df11.printSchema()"
   ]
  },
  {
   "cell_type": "code",
   "execution_count": 82,
   "id": "ce53b283-4318-4fb5-9517-3bbf8c9f1fa7",
   "metadata": {
    "tags": []
   },
   "outputs": [],
   "source": [
    "# Create a column for the duration\n",
    "df11 = df11.withColumn(\"DURATION\", when(df11.END_DATE.isNotNull(), unix_timestamp(df11.END_DATE) - unix_timestamp(df11.df111_startdate)).otherwise(0))"
   ]
  },
  {
   "cell_type": "code",
   "execution_count": 85,
   "id": "5db30c79-e7df-41cc-8818-93d1fdf51f46",
   "metadata": {
    "tags": []
   },
   "outputs": [
    {
     "name": "stderr",
     "output_type": "stream",
     "text": [
      "[Stage 130:=================================>                   (125 + 1) / 200]\r"
     ]
    },
    {
     "name": "stdout",
     "output_type": "stream",
     "text": [
      "+--------+-------------+---------+-------------------+-------------------+--------+\n",
      "|ORDER_ID|SUBSCRIBER_ID|   STATUS|    df111_startdate|           END_DATE|DURATION|\n",
      "+--------+-------------+---------+-------------------+-------------------+--------+\n",
      "|  100159|       200427| ASSIGNED|2023-02-22 09:50:56|               null|       0|\n",
      "|  100159|       200427| RETURNED|2023-02-22 09:50:56|               null|       0|\n",
      "|  100159|       200427|  CREATED|2023-02-22 09:50:56|               null|       0|\n",
      "|  100410|       200366| ASSIGNED|2023-02-22 09:36:38|               null|       0|\n",
      "|  100410|       200366| RETURNED|2023-02-22 09:36:38|               null|       0|\n",
      "|  100410|       200366|  CREATED|2023-02-22 09:36:38|               null|       0|\n",
      "|  100497|       200024|     POOL|2023-02-22 10:54:18|               null|       0|\n",
      "|  100497|       200024|  CREATED|2023-02-22 10:54:18|               null|       0|\n",
      "|  100539|       200012|COMPLETED|2023-02-22 09:54:08|2023-02-22 11:28:55|    5687|\n",
      "|  100539|       200012|  CREATED|2023-02-22 09:54:08|               null|       0|\n",
      "|  100575|       200573| ASSIGNED|2023-02-22 10:54:41|               null|       0|\n",
      "|  100575|       200573| RETURNED|2023-02-22 10:54:41|               null|       0|\n",
      "|  100575|       200573|  CREATED|2023-02-22 10:54:41|               null|       0|\n",
      "|  100259|       200192| ASSIGNED|2023-02-22 09:47:51|               null|       0|\n",
      "|  100259|       200192|  CREATED|2023-02-22 09:47:51|               null|       0|\n",
      "|  100563|       200421| ASSIGNED|2023-02-22 09:41:00|               null|       0|\n",
      "|  100563|       200421| RETURNED|2023-02-22 09:41:00|               null|       0|\n",
      "|  100563|       200421|  CREATED|2023-02-22 09:41:00|               null|       0|\n",
      "|  100230|       200049|COMPLETED|2023-02-22 10:57:08|2023-02-22 18:26:50|   26982|\n",
      "|  100230|       200049| RETURNED|2023-02-22 10:57:08|               null|       0|\n",
      "+--------+-------------+---------+-------------------+-------------------+--------+\n",
      "only showing top 20 rows\n",
      "\n"
     ]
    },
    {
     "name": "stderr",
     "output_type": "stream",
     "text": [
      "                                                                                \r"
     ]
    }
   ],
   "source": [
    "df11.select(\"ORDER_ID\", \"SUBSCRIBER_ID\", \"STATUS\", \"df111_startdate\", \"END_DATE\", \"DURATION\").show()"
   ]
  },
  {
   "cell_type": "code",
   "execution_count": 36,
   "id": "aedc4f52-abde-4b37-9d6f-191fed026e18",
   "metadata": {
    "tags": []
   },
   "outputs": [
    {
     "name": "stdout",
     "output_type": "stream",
     "text": [
      "+--------+-------------+-----------+-----------+---------+-------------------+-----------+-------------------+-------------------+--------------+\n",
      "|ORDER_ID|SUBSCRIBER_ID|STATUS_DATE|STATUS_TIME|   STATUS|    STATUS_DATETIME|PREV_STATUS|         START_DATE|           END_DATE|CURRENT_STATUS|\n",
      "+--------+-------------+-----------+-----------+---------+-------------------+-----------+-------------------+-------------------+--------------+\n",
      "|  100170|       200497|   20230222|      94140|  CREATED|2023-02-22 09:41:40|       null|2023-02-22 09:41:40|               null|          null|\n",
      "|  100170|       200497|   20230222|     162938| RETURNED|2023-02-22 16:29:38|    CREATED|               null|               null|       CREATED|\n",
      "|  100170|       200497|   20230222|     164206|COMPLETED|2023-02-22 16:42:06|   RETURNED|               null|2023-02-22 16:42:06|     COMPLETED|\n",
      "|  100274|       200242|   20230222|      95309|  CREATED|2023-02-22 09:53:09|       null|2023-02-22 09:53:09|               null|          null|\n",
      "|  100274|       200242|   20230222|     181241| RETURNED|2023-02-22 18:12:41|    CREATED|               null|               null|       CREATED|\n",
      "|  100274|       200242|   20230222|     181513|CANCELLED|2023-02-22 18:15:13|   RETURNED|               null|2023-02-22 18:15:13|     CANCELLED|\n",
      "|  100446|       200239|   20230222|      95004|  CREATED|2023-02-22 09:50:04|       null|2023-02-22 09:50:04|               null|          null|\n",
      "|  100446|       200239|   20230222|     142807|COMPLETED|2023-02-22 14:28:07|    CREATED|               null|2023-02-22 14:28:07|     COMPLETED|\n",
      "|  100068|       200431|   20230222|      93835|  CREATED|2023-02-22 09:38:35|       null|2023-02-22 09:38:35|               null|          null|\n",
      "|  100068|       200431|   20230222|     101053| RETURNED|2023-02-22 10:10:53|    CREATED|               null|               null|       CREATED|\n",
      "|  100068|       200431|   20230222|     154543|COMPLETED|2023-02-22 15:45:43|   RETURNED|               null|2023-02-22 15:45:43|     COMPLETED|\n",
      "|  100088|       200449|   20230222|      95457|  CREATED|2023-02-22 09:54:57|       null|2023-02-22 09:54:57|               null|          null|\n",
      "|  100088|       200449|   20230222|     234157| RETURNED|2023-02-22 23:41:57|    CREATED|               null|               null|       CREATED|\n",
      "|  100088|       200449|   20230223|      21127|COMPLETED|2023-02-23 02:11:27|   RETURNED|               null|2023-02-23 02:11:27|     COMPLETED|\n",
      "|  100220|       200100|   20230222|     105416|  CREATED|2023-02-22 10:54:16|       null|2023-02-22 10:54:16|               null|          null|\n",
      "|  100220|       200100|   20230223|      41932| RETURNED|2023-02-23 04:19:32|    CREATED|               null|               null|       CREATED|\n",
      "|  100220|       200100|   20230223|      91346| ASSIGNED|2023-02-23 09:13:46|   RETURNED|               null|               null|      RETURNED|\n",
      "|  100453|       200419|   20230222|      95312|  CREATED|2023-02-22 09:53:12|       null|2023-02-22 09:53:12|               null|          null|\n",
      "|  100453|       200419|   20230222|     162415| RETURNED|2023-02-22 16:24:15|    CREATED|               null|               null|       CREATED|\n",
      "|  100453|       200419|   20230222|     182056|COMPLETED|2023-02-22 18:20:56|   RETURNED|               null|2023-02-22 18:20:56|     COMPLETED|\n",
      "+--------+-------------+-----------+-----------+---------+-------------------+-----------+-------------------+-------------------+--------------+\n",
      "only showing top 20 rows\n",
      "\n"
     ]
    }
   ],
   "source": [
    "df.show()"
   ]
  },
  {
   "cell_type": "code",
   "execution_count": 37,
   "id": "5ac7a179-8ef5-4e56-83d6-cd37c3c2f189",
   "metadata": {
    "tags": []
   },
   "outputs": [],
   "source": [
    "# Create a column for the duration\n",
    "df = df.withColumn(\"DURATION\", when(df.END_DATE.isNotNull(), unix_timestamp(df.END_DATE) - unix_timestamp(df.START_DATE)).otherwise(0))"
   ]
  },
  {
   "cell_type": "code",
   "execution_count": 38,
   "id": "3e13a402-0bed-48a1-8d23-2333183ac214",
   "metadata": {
    "tags": []
   },
   "outputs": [
    {
     "name": "stdout",
     "output_type": "stream",
     "text": [
      "+--------+-------------+-----------+-----------+---------+-------------------+-----------+-------------------+-------------------+--------------+--------+\n",
      "|ORDER_ID|SUBSCRIBER_ID|STATUS_DATE|STATUS_TIME|   STATUS|    STATUS_DATETIME|PREV_STATUS|         START_DATE|           END_DATE|CURRENT_STATUS|DURATION|\n",
      "+--------+-------------+-----------+-----------+---------+-------------------+-----------+-------------------+-------------------+--------------+--------+\n",
      "|  100170|       200497|   20230222|      94140|  CREATED|2023-02-22 09:41:40|       null|2023-02-22 09:41:40|               null|          null|       0|\n",
      "|  100170|       200497|   20230222|     162938| RETURNED|2023-02-22 16:29:38|    CREATED|               null|               null|       CREATED|       0|\n",
      "|  100170|       200497|   20230222|     164206|COMPLETED|2023-02-22 16:42:06|   RETURNED|               null|2023-02-22 16:42:06|     COMPLETED|    null|\n",
      "|  100274|       200242|   20230222|      95309|  CREATED|2023-02-22 09:53:09|       null|2023-02-22 09:53:09|               null|          null|       0|\n",
      "|  100274|       200242|   20230222|     181241| RETURNED|2023-02-22 18:12:41|    CREATED|               null|               null|       CREATED|       0|\n",
      "|  100274|       200242|   20230222|     181513|CANCELLED|2023-02-22 18:15:13|   RETURNED|               null|2023-02-22 18:15:13|     CANCELLED|    null|\n",
      "|  100446|       200239|   20230222|      95004|  CREATED|2023-02-22 09:50:04|       null|2023-02-22 09:50:04|               null|          null|       0|\n",
      "|  100446|       200239|   20230222|     142807|COMPLETED|2023-02-22 14:28:07|    CREATED|               null|2023-02-22 14:28:07|     COMPLETED|    null|\n",
      "|  100068|       200431|   20230222|      93835|  CREATED|2023-02-22 09:38:35|       null|2023-02-22 09:38:35|               null|          null|       0|\n",
      "|  100068|       200431|   20230222|     101053| RETURNED|2023-02-22 10:10:53|    CREATED|               null|               null|       CREATED|       0|\n",
      "|  100068|       200431|   20230222|     154543|COMPLETED|2023-02-22 15:45:43|   RETURNED|               null|2023-02-22 15:45:43|     COMPLETED|    null|\n",
      "|  100088|       200449|   20230222|      95457|  CREATED|2023-02-22 09:54:57|       null|2023-02-22 09:54:57|               null|          null|       0|\n",
      "|  100088|       200449|   20230222|     234157| RETURNED|2023-02-22 23:41:57|    CREATED|               null|               null|       CREATED|       0|\n",
      "|  100088|       200449|   20230223|      21127|COMPLETED|2023-02-23 02:11:27|   RETURNED|               null|2023-02-23 02:11:27|     COMPLETED|    null|\n",
      "|  100220|       200100|   20230222|     105416|  CREATED|2023-02-22 10:54:16|       null|2023-02-22 10:54:16|               null|          null|       0|\n",
      "|  100220|       200100|   20230223|      41932| RETURNED|2023-02-23 04:19:32|    CREATED|               null|               null|       CREATED|       0|\n",
      "|  100220|       200100|   20230223|      91346| ASSIGNED|2023-02-23 09:13:46|   RETURNED|               null|               null|      RETURNED|       0|\n",
      "|  100453|       200419|   20230222|      95312|  CREATED|2023-02-22 09:53:12|       null|2023-02-22 09:53:12|               null|          null|       0|\n",
      "|  100453|       200419|   20230222|     162415| RETURNED|2023-02-22 16:24:15|    CREATED|               null|               null|       CREATED|       0|\n",
      "|  100453|       200419|   20230222|     182056|COMPLETED|2023-02-22 18:20:56|   RETURNED|               null|2023-02-22 18:20:56|     COMPLETED|    null|\n",
      "+--------+-------------+-----------+-----------+---------+-------------------+-----------+-------------------+-------------------+--------------+--------+\n",
      "only showing top 20 rows\n",
      "\n"
     ]
    }
   ],
   "source": [
    "df.show()"
   ]
  },
  {
   "cell_type": "code",
   "execution_count": 18,
   "id": "bec7d3e3-3d2c-4163-953f-f1ca298c5e1c",
   "metadata": {
    "tags": []
   },
   "outputs": [
    {
     "name": "stdout",
     "output_type": "stream",
     "text": [
      "root\n",
      " |-- ORDER_ID: integer (nullable = true)\n",
      " |-- SUBSCRIBER_ID: integer (nullable = true)\n",
      " |-- STATUS_DATE: integer (nullable = true)\n",
      " |-- STATUS_TIME: integer (nullable = true)\n",
      " |-- STATUS: string (nullable = true)\n",
      " |-- STATUS_DATETIME: timestamp (nullable = true)\n",
      " |-- PREV_STATUS: string (nullable = true)\n",
      " |-- START_DATE: timestamp (nullable = true)\n",
      " |-- END_DATE: timestamp (nullable = true)\n",
      " |-- CURRENT_STATUS: string (nullable = true)\n",
      " |-- DURATION: long (nullable = true)\n",
      "\n"
     ]
    }
   ],
   "source": [
    "df.printSchema()"
   ]
  },
  {
   "cell_type": "code",
   "execution_count": 19,
   "id": "20af355c-535b-45de-9559-4a6f79ad7fce",
   "metadata": {
    "tags": []
   },
   "outputs": [],
   "source": [
    "df2 = df.select(\"ORDER_ID\", \"SUBSCRIBER_ID\", \"STATUS\", \"START_DATE\", \"END_DATE\", \"DURATION\")"
   ]
  },
  {
   "cell_type": "code",
   "execution_count": 20,
   "id": "94b4b8bc-b216-4882-9ec4-6c04960a74c7",
   "metadata": {
    "tags": []
   },
   "outputs": [
    {
     "name": "stdout",
     "output_type": "stream",
     "text": [
      "+--------+-------------+---------+-------------------+-------------------+--------+\n",
      "|ORDER_ID|SUBSCRIBER_ID|   STATUS|         START_DATE|           END_DATE|DURATION|\n",
      "+--------+-------------+---------+-------------------+-------------------+--------+\n",
      "|  100159|       200427| ASSIGNED|               null|               null|       0|\n",
      "|  100159|       200427| RETURNED|               null|               null|       0|\n",
      "|  100159|       200427|  CREATED|               null|               null|       0|\n",
      "|  100410|       200366| ASSIGNED|               null|               null|       0|\n",
      "|  100410|       200366| RETURNED|               null|               null|       0|\n",
      "|  100410|       200366|  CREATED|               null|               null|       0|\n",
      "|  100497|       200024|     POOL|2023-02-22 10:54:18|               null|       0|\n",
      "|  100497|       200024|  CREATED|2023-02-22 10:54:18|               null|       0|\n",
      "|  100539|       200012|COMPLETED|               null|2023-02-22 11:28:55|    null|\n",
      "|  100539|       200012|  CREATED|               null|               null|       0|\n",
      "|  100575|       200573| ASSIGNED|               null|               null|       0|\n",
      "|  100575|       200573| RETURNED|               null|               null|       0|\n",
      "|  100575|       200573|  CREATED|2023-02-22 10:54:41|               null|       0|\n",
      "|  100259|       200192| ASSIGNED|               null|               null|       0|\n",
      "|  100259|       200192|  CREATED|               null|               null|       0|\n",
      "|  100563|       200421| ASSIGNED|               null|               null|       0|\n",
      "|  100563|       200421| RETURNED|               null|               null|       0|\n",
      "|  100563|       200421|  CREATED|               null|               null|       0|\n",
      "|  100230|       200049|COMPLETED|               null|2023-02-22 18:26:50|    null|\n",
      "|  100230|       200049| RETURNED|               null|               null|       0|\n",
      "+--------+-------------+---------+-------------------+-------------------+--------+\n",
      "only showing top 20 rows\n",
      "\n"
     ]
    }
   ],
   "source": [
    "df2.show()"
   ]
  },
  {
   "cell_type": "code",
   "execution_count": 21,
   "id": "df4beffe-67da-4223-b829-dc577b728e3b",
   "metadata": {
    "tags": []
   },
   "outputs": [
    {
     "name": "stdout",
     "output_type": "stream",
     "text": [
      "+--------+-------------+---------+-------------------+-------------------+--------+\n",
      "|ORDER_ID|SUBSCRIBER_ID|   STATUS|         START_DATE|           END_DATE|DURATION|\n",
      "+--------+-------------+---------+-------------------+-------------------+--------+\n",
      "|  100159|       200427| ASSIGNED|               null|               null|       0|\n",
      "|  100159|       200427| RETURNED|               null|               null|       0|\n",
      "|  100159|       200427|  CREATED|               null|               null|       0|\n",
      "|  100410|       200366| ASSIGNED|               null|               null|       0|\n",
      "|  100410|       200366| RETURNED|               null|               null|       0|\n",
      "|  100410|       200366|  CREATED|               null|               null|       0|\n",
      "|  100497|       200024|     POOL|2023-02-22 10:54:18|               null|       0|\n",
      "|  100497|       200024|  CREATED|2023-02-22 10:54:18|               null|       0|\n",
      "|  100539|       200012|COMPLETED|               null|2023-02-22 11:28:55|    null|\n",
      "|  100539|       200012|  CREATED|               null|               null|       0|\n",
      "|  100575|       200573| ASSIGNED|               null|               null|       0|\n",
      "|  100575|       200573| RETURNED|               null|               null|       0|\n",
      "|  100575|       200573|  CREATED|2023-02-22 10:54:41|               null|       0|\n",
      "|  100259|       200192| ASSIGNED|               null|               null|       0|\n",
      "|  100259|       200192|  CREATED|               null|               null|       0|\n",
      "|  100563|       200421| ASSIGNED|               null|               null|       0|\n",
      "|  100563|       200421| RETURNED|               null|               null|       0|\n",
      "|  100563|       200421|  CREATED|               null|               null|       0|\n",
      "|  100230|       200049|COMPLETED|               null|2023-02-22 18:26:50|    null|\n",
      "|  100230|       200049| RETURNED|               null|               null|       0|\n",
      "+--------+-------------+---------+-------------------+-------------------+--------+\n",
      "only showing top 20 rows\n",
      "\n"
     ]
    }
   ],
   "source": [
    "df2.show()"
   ]
  },
  {
   "cell_type": "code",
   "execution_count": 22,
   "id": "9607cea3-a65c-4dbc-8edc-59e3d6b82385",
   "metadata": {
    "tags": []
   },
   "outputs": [],
   "source": [
    "df2 = df2.filter(df2.START_DATE.isNotNull())"
   ]
  },
  {
   "cell_type": "code",
   "execution_count": 23,
   "id": "52ffe503-d029-4caa-8d74-8e35825ae5d9",
   "metadata": {
    "tags": []
   },
   "outputs": [],
   "source": [
    "# Select the desired columns and write the output to a file\n",
    "# output_df = df.select(\"ORDER_ID\", \"CURRENT_STATUS\", \"START_DATE\", \"END_DATE\", \"DURATION\")\n",
    "df2.write.mode(\"overwrite\").option(\"header\", \"true\").csv(\"file:///home/train/dataops7/spark/hw4_03_order_status/report.csv\")"
   ]
  }
 ],
 "metadata": {
  "kernelspec": {
   "display_name": "venvspark",
   "language": "python",
   "name": "venvspark"
  },
  "language_info": {
   "codemirror_mode": {
    "name": "ipython",
    "version": 3
   },
   "file_extension": ".py",
   "mimetype": "text/x-python",
   "name": "python",
   "nbconvert_exporter": "python",
   "pygments_lexer": "ipython3",
   "version": "3.8.12"
  }
 },
 "nbformat": 4,
 "nbformat_minor": 5
}
