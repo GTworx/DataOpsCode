{
 "cells": [
  {
   "cell_type": "code",
   "execution_count": 1,
   "metadata": {},
   "outputs": [],
   "source": [
    "import findspark\n",
    "findspark.init(\"/opt/manual/spark\")\n",
    "from pyspark.sql import SparkSession, functions as F"
   ]
  },
  {
   "cell_type": "code",
   "execution_count": 2,
   "metadata": {},
   "outputs": [],
   "source": [
    "spark = (SparkSession.builder\n",
    "         .master(\"yarn\")\n",
    "         .appName(\"Spark Partitioning\")\n",
    "         .enableHiveSupport()\n",
    "         .getOrCreate())"
   ]
  },
  {
   "cell_type": "markdown",
   "metadata": {},
   "source": [
    "# Read data"
   ]
  },
  {
   "cell_type": "code",
   "execution_count": 3,
   "metadata": {},
   "outputs": [],
   "source": [
    "market5 = spark.read.format(\"parquet\") \\\n",
    ".load(\"/user/train/datasets/market5mil_parquet\") \\\n",
    ".orderBy(F.rand())"
   ]
  },
  {
   "cell_type": "code",
   "execution_count": 4,
   "metadata": {},
   "outputs": [
    {
     "data": {
      "text/html": [
       "<div>\n",
       "<style scoped>\n",
       "    .dataframe tbody tr th:only-of-type {\n",
       "        vertical-align: middle;\n",
       "    }\n",
       "\n",
       "    .dataframe tbody tr th {\n",
       "        vertical-align: top;\n",
       "    }\n",
       "\n",
       "    .dataframe thead th {\n",
       "        text-align: right;\n",
       "    }\n",
       "</style>\n",
       "<table border=\"1\" class=\"dataframe\">\n",
       "  <thead>\n",
       "    <tr style=\"text-align: right;\">\n",
       "      <th></th>\n",
       "      <th>LOGICALREF</th>\n",
       "      <th>COUNT_</th>\n",
       "      <th>ITEMCODE</th>\n",
       "      <th>ITEMNAME</th>\n",
       "      <th>FICHENO</th>\n",
       "      <th>DATE_</th>\n",
       "      <th>AMOUNT</th>\n",
       "      <th>PRICE</th>\n",
       "      <th>LINENETTOTAL</th>\n",
       "      <th>LINENET</th>\n",
       "      <th>...</th>\n",
       "      <th>CLIENTNAME</th>\n",
       "      <th>BRANDCODE</th>\n",
       "      <th>BRAND</th>\n",
       "      <th>CATEGORY_NAME1</th>\n",
       "      <th>CATEGORY_NAME2</th>\n",
       "      <th>CATEGORY_NAME3</th>\n",
       "      <th>STARTDATE</th>\n",
       "      <th>ENDDATE</th>\n",
       "      <th>SPECODE</th>\n",
       "      <th>CAPIBLOCK_CREADEDDATE</th>\n",
       "    </tr>\n",
       "  </thead>\n",
       "  <tbody>\n",
       "    <tr>\n",
       "      <th>0</th>\n",
       "      <td>4423612</td>\n",
       "      <td>1</td>\n",
       "      <td>00000003254</td>\n",
       "      <td>F BAKTAT ELMA SIRKESI 500 ML</td>\n",
       "      <td>0000000000512603</td>\n",
       "      <td>2018-09-17</td>\n",
       "      <td>1</td>\n",
       "      <td>1.90</td>\n",
       "      <td>1.9</td>\n",
       "      <td>1.76</td>\n",
       "      <td>...</td>\n",
       "      <td>Ali Eymen SERDAR</td>\n",
       "      <td>12</td>\n",
       "      <td>F BAKTAT</td>\n",
       "      <td>GIDA</td>\n",
       "      <td>HAZIR YEMEKLER</td>\n",
       "      <td>SİRKE SOS</td>\n",
       "      <td>2018-09-18 18:52:35</td>\n",
       "      <td>2018-09-18 18:54:20</td>\n",
       "      <td>E</td>\n",
       "      <td>2018-07-14 02:19:14</td>\n",
       "    </tr>\n",
       "    <tr>\n",
       "      <th>1</th>\n",
       "      <td>4317047</td>\n",
       "      <td>1</td>\n",
       "      <td>00000000242</td>\n",
       "      <td>ULKER FINGER CIK.BITTER 12 GR</td>\n",
       "      <td>0000000000445655</td>\n",
       "      <td>2018-08-18</td>\n",
       "      <td>4</td>\n",
       "      <td>0.25</td>\n",
       "      <td>1.0</td>\n",
       "      <td>0.93</td>\n",
       "      <td>...</td>\n",
       "      <td>Sedat GÖZÜBERK</td>\n",
       "      <td>146</td>\n",
       "      <td>ÜLKER</td>\n",
       "      <td>GIDA</td>\n",
       "      <td>ÇİKOLATA GOFRET</td>\n",
       "      <td>None</td>\n",
       "      <td>2018-08-19 17:33:30</td>\n",
       "      <td>2018-08-19 17:35:31</td>\n",
       "      <td>E</td>\n",
       "      <td>2018-07-14 02:06:09</td>\n",
       "    </tr>\n",
       "    <tr>\n",
       "      <th>2</th>\n",
       "      <td>2899404</td>\n",
       "      <td>1</td>\n",
       "      <td>00000008222</td>\n",
       "      <td>ETI FORM 45 GR</td>\n",
       "      <td>0000000000044173</td>\n",
       "      <td>2018-01-22</td>\n",
       "      <td>2</td>\n",
       "      <td>0.40</td>\n",
       "      <td>0.8</td>\n",
       "      <td>0.74</td>\n",
       "      <td>...</td>\n",
       "      <td>Gözde SEZEN</td>\n",
       "      <td>44</td>\n",
       "      <td>ETİ</td>\n",
       "      <td>GIDA</td>\n",
       "      <td>BÜSKİVİ ÇEREZ</td>\n",
       "      <td>BÜSKİVİ</td>\n",
       "      <td>2018-01-23 10:00:41</td>\n",
       "      <td>2018-01-23 10:00:51</td>\n",
       "      <td>K</td>\n",
       "      <td>2018-07-14 02:23:51</td>\n",
       "    </tr>\n",
       "  </tbody>\n",
       "</table>\n",
       "<p>3 rows × 28 columns</p>\n",
       "</div>"
      ],
      "text/plain": [
       "   LOGICALREF  COUNT_     ITEMCODE                       ITEMNAME  \\\n",
       "0     4423612       1  00000003254   F BAKTAT ELMA SIRKESI 500 ML   \n",
       "1     4317047       1  00000000242  ULKER FINGER CIK.BITTER 12 GR   \n",
       "2     2899404       1  00000008222                 ETI FORM 45 GR   \n",
       "\n",
       "            FICHENO      DATE_  AMOUNT  PRICE  LINENETTOTAL  LINENET  ...  \\\n",
       "0  0000000000512603 2018-09-17       1   1.90           1.9     1.76  ...   \n",
       "1  0000000000445655 2018-08-18       4   0.25           1.0     0.93  ...   \n",
       "2  0000000000044173 2018-01-22       2   0.40           0.8     0.74  ...   \n",
       "\n",
       "         CLIENTNAME BRANDCODE      BRAND CATEGORY_NAME1   CATEGORY_NAME2  \\\n",
       "0  Ali Eymen SERDAR        12   F BAKTAT           GIDA   HAZIR YEMEKLER   \n",
       "1    Sedat GÖZÜBERK       146      ÜLKER           GIDA  ÇİKOLATA GOFRET   \n",
       "2       Gözde SEZEN        44        ETİ           GIDA    BÜSKİVİ ÇEREZ   \n",
       "\n",
       "   CATEGORY_NAME3           STARTDATE             ENDDATE SPECODE  \\\n",
       "0       SİRKE SOS 2018-09-18 18:52:35 2018-09-18 18:54:20       E   \n",
       "1            None 2018-08-19 17:33:30 2018-08-19 17:35:31       E   \n",
       "2         BÜSKİVİ 2018-01-23 10:00:41 2018-01-23 10:00:51       K   \n",
       "\n",
       "  CAPIBLOCK_CREADEDDATE  \n",
       "0   2018-07-14 02:19:14  \n",
       "1   2018-07-14 02:06:09  \n",
       "2   2018-07-14 02:23:51  \n",
       "\n",
       "[3 rows x 28 columns]"
      ]
     },
     "execution_count": 4,
     "metadata": {},
     "output_type": "execute_result"
    }
   ],
   "source": [
    "market5.limit(3).toPandas()"
   ]
  },
  {
   "cell_type": "code",
   "execution_count": 5,
   "metadata": {},
   "outputs": [
    {
     "name": "stdout",
     "output_type": "stream",
     "text": [
      "root\n",
      " |-- LOGICALREF: integer (nullable = true)\n",
      " |-- COUNT_: integer (nullable = true)\n",
      " |-- ITEMCODE: string (nullable = true)\n",
      " |-- ITEMNAME: string (nullable = true)\n",
      " |-- FICHENO: string (nullable = true)\n",
      " |-- DATE_: timestamp (nullable = true)\n",
      " |-- AMOUNT: integer (nullable = true)\n",
      " |-- PRICE: float (nullable = true)\n",
      " |-- LINENETTOTAL: float (nullable = true)\n",
      " |-- LINENET: float (nullable = true)\n",
      " |-- BRANCHNR: string (nullable = true)\n",
      " |-- BRANCH: string (nullable = true)\n",
      " |-- SALESMAN: string (nullable = true)\n",
      " |-- CITY: string (nullable = true)\n",
      " |-- REGION: string (nullable = true)\n",
      " |-- LATITUDE: float (nullable = true)\n",
      " |-- LONGITUDE: float (nullable = true)\n",
      " |-- CLIENTCODE: string (nullable = true)\n",
      " |-- CLIENTNAME: string (nullable = true)\n",
      " |-- BRANDCODE: string (nullable = true)\n",
      " |-- BRAND: string (nullable = true)\n",
      " |-- CATEGORY_NAME1: string (nullable = true)\n",
      " |-- CATEGORY_NAME2: string (nullable = true)\n",
      " |-- CATEGORY_NAME3: string (nullable = true)\n",
      " |-- STARTDATE: timestamp (nullable = true)\n",
      " |-- ENDDATE: timestamp (nullable = true)\n",
      " |-- SPECODE: string (nullable = true)\n",
      " |-- CAPIBLOCK_CREADEDDATE: timestamp (nullable = true)\n",
      "\n"
     ]
    }
   ],
   "source": [
    "market5.printSchema()"
   ]
  },
  {
   "cell_type": "markdown",
   "metadata": {},
   "source": [
    "# spark.sql.shuffle.partitions"
   ]
  },
  {
   "cell_type": "code",
   "execution_count": null,
   "metadata": {},
   "outputs": [],
   "source": [
    "# One of the most popular tuning tips\n",
    "# Default number is 200\n",
    "# If too small: GC pressure disk spilling\n",
    "# If to large: Inefficient I/O; scheduler pressure\n",
    "# Hard tune over the whole query plan"
   ]
  },
  {
   "cell_type": "code",
   "execution_count": 7,
   "metadata": {},
   "outputs": [
    {
     "data": {
      "text/plain": [
       "'200'"
      ]
     },
     "execution_count": 7,
     "metadata": {},
     "output_type": "execute_result"
    }
   ],
   "source": [
    "spark.conf.get(\"spark.sql.shuffle.partitions\")"
   ]
  },
  {
   "cell_type": "markdown",
   "metadata": {},
   "source": [
    "## Execute with 8"
   ]
  },
  {
   "cell_type": "code",
   "execution_count": 8,
   "metadata": {},
   "outputs": [],
   "source": [
    "spark.conf.set(\"spark.sql.shuffle.partitions\", 8)"
   ]
  },
  {
   "cell_type": "code",
   "execution_count": 9,
   "metadata": {},
   "outputs": [
    {
     "data": {
      "text/plain": [
       "'8'"
      ]
     },
     "execution_count": 9,
     "metadata": {},
     "output_type": "execute_result"
    }
   ],
   "source": [
    "spark.conf.get(\"spark.sql.shuffle.partitions\")"
   ]
  },
  {
   "cell_type": "code",
   "execution_count": 10,
   "metadata": {},
   "outputs": [
    {
     "name": "stdout",
     "output_type": "stream",
     "text": [
      "----- 19.872991800308228 secs -----\n"
     ]
    }
   ],
   "source": [
    "import time\n",
    "\n",
    "start_time = time.time()\n",
    "\n",
    "market5.groupBy(\"CITY\",\"BRANCH\").agg(F.sum(F.col(\"LINENETTOTAL\")).alias(\"Total\")) \\\n",
    ".orderBy(F.desc(\"Total\")) \\\n",
    ".limit(20) \\\n",
    ".toPandas()\n",
    "\n",
    "\n",
    "\n",
    "print(\"----- %s secs -----\" %(time.time() - start_time))"
   ]
  },
  {
   "cell_type": "markdown",
   "metadata": {},
   "source": [
    "## Execute with 200"
   ]
  },
  {
   "cell_type": "code",
   "execution_count": 11,
   "metadata": {},
   "outputs": [
    {
     "data": {
      "text/plain": [
       "'200'"
      ]
     },
     "execution_count": 11,
     "metadata": {},
     "output_type": "execute_result"
    }
   ],
   "source": [
    "spark.conf.set(\"spark.sql.shuffle.partitions\", 200)\n",
    "spark.conf.get(\"spark.sql.shuffle.partitions\")"
   ]
  },
  {
   "cell_type": "code",
   "execution_count": 12,
   "metadata": {},
   "outputs": [
    {
     "name": "stdout",
     "output_type": "stream",
     "text": [
      "----- 31.6656231880188 secs -----\n"
     ]
    }
   ],
   "source": [
    "import time\n",
    "\n",
    "start_time = time.time()\n",
    "\n",
    "market5.groupBy(\"CITY\",\"BRANCH\").agg(F.sum(F.col(\"LINENETTOTAL\")).alias(\"Total\")) \\\n",
    ".orderBy(F.desc(\"Total\")) \\\n",
    ".limit(20) \\\n",
    ".toPandas()\n",
    "\n",
    "\n",
    "\n",
    "print(\"----- %s secs -----\" %(time.time() - start_time))"
   ]
  },
  {
   "cell_type": "markdown",
   "metadata": {},
   "source": [
    "## Execute with bucketing+partitioning and 8"
   ]
  },
  {
   "cell_type": "code",
   "execution_count": 14,
   "metadata": {},
   "outputs": [
    {
     "data": {
      "text/plain": [
       "'8'"
      ]
     },
     "execution_count": 14,
     "metadata": {},
     "output_type": "execute_result"
    }
   ],
   "source": [
    "spark.conf.set(\"spark.sql.shuffle.partitions\", 8)\n",
    "spark.conf.get(\"spark.sql.shuffle.partitions\")"
   ]
  },
  {
   "cell_type": "code",
   "execution_count": 15,
   "metadata": {},
   "outputs": [],
   "source": [
    "market5_pby_region = spark.sql(\"select * from market5_pby_region\")"
   ]
  },
  {
   "cell_type": "code",
   "execution_count": 16,
   "metadata": {},
   "outputs": [
    {
     "data": {
      "text/html": [
       "<div>\n",
       "<style scoped>\n",
       "    .dataframe tbody tr th:only-of-type {\n",
       "        vertical-align: middle;\n",
       "    }\n",
       "\n",
       "    .dataframe tbody tr th {\n",
       "        vertical-align: top;\n",
       "    }\n",
       "\n",
       "    .dataframe thead th {\n",
       "        text-align: right;\n",
       "    }\n",
       "</style>\n",
       "<table border=\"1\" class=\"dataframe\">\n",
       "  <thead>\n",
       "    <tr style=\"text-align: right;\">\n",
       "      <th></th>\n",
       "      <th>LOGICALREF</th>\n",
       "      <th>COUNT_</th>\n",
       "      <th>ITEMCODE</th>\n",
       "      <th>ITEMNAME</th>\n",
       "      <th>FICHENO</th>\n",
       "      <th>DATE_</th>\n",
       "      <th>AMOUNT</th>\n",
       "      <th>PRICE</th>\n",
       "      <th>LINENETTOTAL</th>\n",
       "      <th>LINENET</th>\n",
       "      <th>...</th>\n",
       "      <th>BRANDCODE</th>\n",
       "      <th>BRAND</th>\n",
       "      <th>CATEGORY_NAME1</th>\n",
       "      <th>CATEGORY_NAME2</th>\n",
       "      <th>CATEGORY_NAME3</th>\n",
       "      <th>STARTDATE</th>\n",
       "      <th>ENDDATE</th>\n",
       "      <th>SPECODE</th>\n",
       "      <th>CAPIBLOCK_CREADEDDATE</th>\n",
       "      <th>REGION</th>\n",
       "    </tr>\n",
       "  </thead>\n",
       "  <tbody>\n",
       "    <tr>\n",
       "      <th>0</th>\n",
       "      <td>4757121</td>\n",
       "      <td>1</td>\n",
       "      <td>00000001903</td>\n",
       "      <td>COCA COLA 2,5 LT. EKO BOY</td>\n",
       "      <td>0000000000617176</td>\n",
       "      <td>2018-12-08</td>\n",
       "      <td>1.0</td>\n",
       "      <td>3.45</td>\n",
       "      <td>3.45</td>\n",
       "      <td>3.19</td>\n",
       "      <td>...</td>\n",
       "      <td>30</td>\n",
       "      <td>COCO COLA</td>\n",
       "      <td>İÇECEK</td>\n",
       "      <td>GAZLI İÇECEK</td>\n",
       "      <td>COLA</td>\n",
       "      <td>2018-12-09 19:48:31</td>\n",
       "      <td>2018-12-09 19:49:11</td>\n",
       "      <td>K</td>\n",
       "      <td>2018-07-14 02:25:02</td>\n",
       "      <td>Marmara</td>\n",
       "    </tr>\n",
       "    <tr>\n",
       "      <th>1</th>\n",
       "      <td>145836</td>\n",
       "      <td>1</td>\n",
       "      <td>00000018920</td>\n",
       "      <td>WINNER SLIMS</td>\n",
       "      <td>0000000000050248</td>\n",
       "      <td>2017-01-26</td>\n",
       "      <td>1.0</td>\n",
       "      <td>5.00</td>\n",
       "      <td>5.00</td>\n",
       "      <td>5.00</td>\n",
       "      <td>...</td>\n",
       "      <td>231</td>\n",
       "      <td>VİGOR</td>\n",
       "      <td>SİGARA</td>\n",
       "      <td>None</td>\n",
       "      <td>None</td>\n",
       "      <td>2017-01-27 14:24:33</td>\n",
       "      <td>2017-01-27 14:24:35</td>\n",
       "      <td>E</td>\n",
       "      <td>2018-07-14 02:24:06</td>\n",
       "      <td>Marmara</td>\n",
       "    </tr>\n",
       "    <tr>\n",
       "      <th>2</th>\n",
       "      <td>2067184</td>\n",
       "      <td>1</td>\n",
       "      <td>00000003117</td>\n",
       "      <td>PINAR MANGAL SUCUK</td>\n",
       "      <td>0000000000497754</td>\n",
       "      <td>2017-09-01</td>\n",
       "      <td>NaN</td>\n",
       "      <td>29.75</td>\n",
       "      <td>3.27</td>\n",
       "      <td>3.03</td>\n",
       "      <td>...</td>\n",
       "      <td>118</td>\n",
       "      <td>PINAR</td>\n",
       "      <td>ET TAVUK</td>\n",
       "      <td>ET ŞARKÜTERİ</td>\n",
       "      <td>SUCUK</td>\n",
       "      <td>2017-09-02 11:03:50</td>\n",
       "      <td>2017-09-02 11:04:27</td>\n",
       "      <td>K</td>\n",
       "      <td>2018-07-14 02:16:24</td>\n",
       "      <td>Marmara</td>\n",
       "    </tr>\n",
       "  </tbody>\n",
       "</table>\n",
       "<p>3 rows × 28 columns</p>\n",
       "</div>"
      ],
      "text/plain": [
       "   LOGICALREF  COUNT_     ITEMCODE                   ITEMNAME  \\\n",
       "0     4757121       1  00000001903  COCA COLA 2,5 LT. EKO BOY   \n",
       "1      145836       1  00000018920               WINNER SLIMS   \n",
       "2     2067184       1  00000003117         PINAR MANGAL SUCUK   \n",
       "\n",
       "            FICHENO      DATE_  AMOUNT  PRICE  LINENETTOTAL  LINENET  ...  \\\n",
       "0  0000000000617176 2018-12-08     1.0   3.45          3.45     3.19  ...   \n",
       "1  0000000000050248 2017-01-26     1.0   5.00          5.00     5.00  ...   \n",
       "2  0000000000497754 2017-09-01     NaN  29.75          3.27     3.03  ...   \n",
       "\n",
       "  BRANDCODE      BRAND CATEGORY_NAME1 CATEGORY_NAME2  CATEGORY_NAME3  \\\n",
       "0        30  COCO COLA         İÇECEK   GAZLI İÇECEK            COLA   \n",
       "1       231      VİGOR         SİGARA           None            None   \n",
       "2       118      PINAR       ET TAVUK   ET ŞARKÜTERİ           SUCUK   \n",
       "\n",
       "            STARTDATE             ENDDATE SPECODE CAPIBLOCK_CREADEDDATE  \\\n",
       "0 2018-12-09 19:48:31 2018-12-09 19:49:11       K   2018-07-14 02:25:02   \n",
       "1 2017-01-27 14:24:33 2017-01-27 14:24:35       E   2018-07-14 02:24:06   \n",
       "2 2017-09-02 11:03:50 2017-09-02 11:04:27       K   2018-07-14 02:16:24   \n",
       "\n",
       "    REGION  \n",
       "0  Marmara  \n",
       "1  Marmara  \n",
       "2  Marmara  \n",
       "\n",
       "[3 rows x 28 columns]"
      ]
     },
     "execution_count": 16,
     "metadata": {},
     "output_type": "execute_result"
    }
   ],
   "source": [
    "market5_pby_region.limit(3).toPandas()"
   ]
  },
  {
   "cell_type": "code",
   "execution_count": 17,
   "metadata": {},
   "outputs": [
    {
     "name": "stdout",
     "output_type": "stream",
     "text": [
      "----- 5.07073187828064 secs -----\n"
     ]
    }
   ],
   "source": [
    "import time\n",
    "\n",
    "start_time = time.time()\n",
    "\n",
    "market5_pby_region.groupBy(\"CITY\",\"BRANCH\").agg(F.sum(F.col(\"LINENETTOTAL\")).alias(\"Total\")) \\\n",
    ".orderBy(F.desc(\"Total\")) \\\n",
    ".limit(20) \\\n",
    ".toPandas()\n",
    "\n",
    "\n",
    "\n",
    "print(\"----- %s secs -----\" %(time.time() - start_time))"
   ]
  },
  {
   "cell_type": "code",
   "execution_count": 18,
   "metadata": {},
   "outputs": [],
   "source": [
    "spark.stop()"
   ]
  },
  {
   "cell_type": "code",
   "execution_count": null,
   "metadata": {},
   "outputs": [],
   "source": []
  }
 ],
 "metadata": {
  "kernelspec": {
   "display_name": "venvspark",
   "language": "python",
   "name": "venvspark"
  },
  "language_info": {
   "codemirror_mode": {
    "name": "ipython",
    "version": 3
   },
   "file_extension": ".py",
   "mimetype": "text/x-python",
   "name": "python",
   "nbconvert_exporter": "python",
   "pygments_lexer": "ipython3",
   "version": "3.8.12"
  }
 },
 "nbformat": 4,
 "nbformat_minor": 4
}
