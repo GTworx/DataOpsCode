{
 "cells": [
  {
   "cell_type": "markdown",
   "metadata": {},
   "source": [
    "<p>Similar to relational databases, the Spark DataFrame and Dataset APIs\n",
    "and Spark SQL offer a series of join transformations: inner joins, outer joins, left\n",
    "joins, right joins, etc. All of these operations trigger a large amount of data movement\n",
    "across Spark executors.</p>\n",
    "\n",
    "<h3>Five join strategiy</h3>\n",
    "<ol>\n",
    "    <li>The broadcast hash join (BHJ)</li>\n",
    "    <li>Shuffle hahs join (SHJ)</li>\n",
    "    <li>Shuffle sort merge join (SMJ)</li>\n",
    "    <li>Broadcast nested loop join (BNLJ)</li>\n",
    "    <li>Shuffle and replicated nested loop join (Castesian product)</li>\n",
    "</ol>"
   ]
  },
  {
   "cell_type": "markdown",
   "metadata": {},
   "source": [
    "# 1. Broadcast Hash Join"
   ]
  },
  {
   "cell_type": "code",
   "execution_count": 1,
   "metadata": {},
   "outputs": [],
   "source": [
    "# By default Spark will use a broadcast join if the smaller data set is less than 10 MB. \n",
    "# This configuration is set in spark.sql.autoBroadcastJoinThreshold;\n",
    "# You can increase this amount if you have enough memory, e.g. 100 MB.\n",
    "# If you set spark.sql.autoBroadcastJoinThreshold to -1 \n",
    "# you close broadcast join and use shuffle sort merge join"
   ]
  },
  {
   "cell_type": "code",
   "execution_count": 2,
   "metadata": {},
   "outputs": [
    {
     "name": "stdout",
     "output_type": "stream",
     "text": [
      "total 180676\n",
      "-rw-rw-r--. 1 train train 42658497 Dec 30 23:32 201508_trip_data.csv\n",
      "-rw-rw-r--. 1 train train  7077973 Dec 12 11:46 AB_NYC_2019.csv\n",
      "-rw-rw-r--. 1 train train     4556 Jul 21  2020 Advertising.csv\n",
      "-rw-rw-r--. 1 train train   674857 Dec 19 12:14 Churn_Modelling.csv\n",
      "drwxr-xr-x. 3 train train       96 Nov 19  2020 churn-telecom\n",
      "-rw-rw-r--. 1 train train  2609524 Jan  6 21:21 dirty_store_transactions.csv\n",
      "-rw-rw-r--. 1 train train      227 Dec 22 21:45 employee.txt\n",
      "-rw-rw-r--. 1 train train 41002480 Jan  1 12:12 Fire_Incidents.csv.gz\n",
      "-rw-rw-r--. 1 train train 46401315 Dec 30 23:34 Hotel_Reviews.csv.gz\n",
      "-rw-rw-r--. 1 train train     4611 Dec 11 12:13 iris.csv\n",
      "-rw-rw-r--. 1 train train 44525776 Jan  2 19:22 market1mil.csv.gz\n",
      "drwxrwxr-x. 2 train train     4096 Jan  2 16:22 market5mil_parquet\n",
      "drwxrwxr-x. 2 train train      133 Jul 23  2020 retail_db\n",
      "-rw-rw-r--. 1 train train      592 Jan  2 11:50 simple_data.csv\n",
      "-rw-rw-r--. 1 train train      913 Dec 25 12:34 tr_il_plaka_kod.csv\n",
      "-rw-rw-r--. 1 train train    11284 Dec 22 21:37 Wine.csv\n"
     ]
    }
   ],
   "source": [
    "! ls -l ~/datasets"
   ]
  },
  {
   "cell_type": "code",
   "execution_count": 1,
   "metadata": {},
   "outputs": [],
   "source": [
    "import findspark\n",
    "findspark.init(\"/opt/manual/spark\")\n",
    "from pyspark.sql import SparkSession, functions as F"
   ]
  },
  {
   "cell_type": "code",
   "execution_count": 2,
   "metadata": {},
   "outputs": [
    {
     "name": "stderr",
     "output_type": "stream",
     "text": [
      "WARNING: An illegal reflective access operation has occurred\n",
      "WARNING: Illegal reflective access by org.apache.spark.unsafe.Platform (file:/opt/manual/spark-3.1.1-bin-hadoop3.2/jars/spark-unsafe_2.12-3.1.1.jar) to constructor java.nio.DirectByteBuffer(long,int)\n",
      "WARNING: Please consider reporting this to the maintainers of org.apache.spark.unsafe.Platform\n",
      "WARNING: Use --illegal-access=warn to enable warnings of further illegal reflective access operations\n",
      "WARNING: All illegal access operations will be denied in a future release\n",
      "2022-09-24 21:50:53,837 WARN util.NativeCodeLoader: Unable to load native-hadoop library for your platform... using builtin-java classes where applicable\n",
      "Setting default log level to \"WARN\".\n",
      "To adjust logging level use sc.setLogLevel(newLevel). For SparkR, use setLogLevel(newLevel).\n"
     ]
    }
   ],
   "source": [
    "spark = (\n",
    "SparkSession.builder\n",
    "    .appName(\"Joins\")\n",
    "    .master(\"local[2]\")\n",
    "    .config(\"spark.driver.memory\",\"3000m\")\n",
    "    .getOrCreate()\n",
    ")"
   ]
  },
  {
   "cell_type": "code",
   "execution_count": 3,
   "metadata": {},
   "outputs": [
    {
     "name": "stderr",
     "output_type": "stream",
     "text": [
      "                                                                                \r"
     ]
    }
   ],
   "source": [
    "order_items = spark.read.format(\"csv\") \\\n",
    ".option(\"header\", True) \\\n",
    ".option(\"inferSchema\", True) \\\n",
    ".option(\"sep\", \",\") \\\n",
    ".load(\"file:///home/train/datasets/retail_db/order_items.csv\")"
   ]
  },
  {
   "cell_type": "code",
   "execution_count": 4,
   "metadata": {},
   "outputs": [
    {
     "name": "stderr",
     "output_type": "stream",
     "text": [
      "                                                                                \r"
     ]
    },
    {
     "data": {
      "text/plain": [
       "172198"
      ]
     },
     "execution_count": 4,
     "metadata": {},
     "output_type": "execute_result"
    }
   ],
   "source": [
    "order_items.count()"
   ]
  },
  {
   "cell_type": "code",
   "execution_count": 5,
   "metadata": {},
   "outputs": [
    {
     "data": {
      "text/html": [
       "<div>\n",
       "<style scoped>\n",
       "    .dataframe tbody tr th:only-of-type {\n",
       "        vertical-align: middle;\n",
       "    }\n",
       "\n",
       "    .dataframe tbody tr th {\n",
       "        vertical-align: top;\n",
       "    }\n",
       "\n",
       "    .dataframe thead th {\n",
       "        text-align: right;\n",
       "    }\n",
       "</style>\n",
       "<table border=\"1\" class=\"dataframe\">\n",
       "  <thead>\n",
       "    <tr style=\"text-align: right;\">\n",
       "      <th></th>\n",
       "      <th>orderItemName</th>\n",
       "      <th>orderItemOrderId</th>\n",
       "      <th>orderItemProductId</th>\n",
       "      <th>orderItemQuantity</th>\n",
       "      <th>orderItemSubTotal</th>\n",
       "      <th>orderItemProductPrice</th>\n",
       "    </tr>\n",
       "  </thead>\n",
       "  <tbody>\n",
       "    <tr>\n",
       "      <th>0</th>\n",
       "      <td>1</td>\n",
       "      <td>1</td>\n",
       "      <td>957</td>\n",
       "      <td>1</td>\n",
       "      <td>299.98</td>\n",
       "      <td>299.98</td>\n",
       "    </tr>\n",
       "    <tr>\n",
       "      <th>1</th>\n",
       "      <td>2</td>\n",
       "      <td>2</td>\n",
       "      <td>1073</td>\n",
       "      <td>1</td>\n",
       "      <td>199.99</td>\n",
       "      <td>199.99</td>\n",
       "    </tr>\n",
       "    <tr>\n",
       "      <th>2</th>\n",
       "      <td>3</td>\n",
       "      <td>2</td>\n",
       "      <td>502</td>\n",
       "      <td>5</td>\n",
       "      <td>250.00</td>\n",
       "      <td>50.00</td>\n",
       "    </tr>\n",
       "  </tbody>\n",
       "</table>\n",
       "</div>"
      ],
      "text/plain": [
       "   orderItemName  orderItemOrderId  orderItemProductId  orderItemQuantity  \\\n",
       "0              1                 1                 957                  1   \n",
       "1              2                 2                1073                  1   \n",
       "2              3                 2                 502                  5   \n",
       "\n",
       "   orderItemSubTotal  orderItemProductPrice  \n",
       "0             299.98                 299.98  \n",
       "1             199.99                 199.99  \n",
       "2             250.00                  50.00  "
      ]
     },
     "execution_count": 5,
     "metadata": {},
     "output_type": "execute_result"
    }
   ],
   "source": [
    "order_items.limit(3).toPandas()"
   ]
  },
  {
   "cell_type": "code",
   "execution_count": 6,
   "metadata": {},
   "outputs": [],
   "source": [
    "products = spark.read.format(\"csv\") \\\n",
    ".option(\"header\", True) \\\n",
    ".option(\"inferSchema\", True) \\\n",
    ".option(\"sep\", \",\") \\\n",
    ".load(\"file:///home/train/datasets/retail_db/products.csv\")"
   ]
  },
  {
   "cell_type": "code",
   "execution_count": 7,
   "metadata": {},
   "outputs": [
    {
     "data": {
      "text/plain": [
       "1345"
      ]
     },
     "execution_count": 7,
     "metadata": {},
     "output_type": "execute_result"
    }
   ],
   "source": [
    "products.count()"
   ]
  },
  {
   "cell_type": "code",
   "execution_count": 8,
   "metadata": {},
   "outputs": [
    {
     "data": {
      "text/html": [
       "<div>\n",
       "<style scoped>\n",
       "    .dataframe tbody tr th:only-of-type {\n",
       "        vertical-align: middle;\n",
       "    }\n",
       "\n",
       "    .dataframe tbody tr th {\n",
       "        vertical-align: top;\n",
       "    }\n",
       "\n",
       "    .dataframe thead th {\n",
       "        text-align: right;\n",
       "    }\n",
       "</style>\n",
       "<table border=\"1\" class=\"dataframe\">\n",
       "  <thead>\n",
       "    <tr style=\"text-align: right;\">\n",
       "      <th></th>\n",
       "      <th>productId</th>\n",
       "      <th>productCategoryId</th>\n",
       "      <th>productName</th>\n",
       "      <th>productDescription</th>\n",
       "      <th>productPrice</th>\n",
       "      <th>productImage</th>\n",
       "    </tr>\n",
       "  </thead>\n",
       "  <tbody>\n",
       "    <tr>\n",
       "      <th>0</th>\n",
       "      <td>1</td>\n",
       "      <td>2</td>\n",
       "      <td>Quest Q64 10 FT. x 10 FT. Slant Leg Instant U</td>\n",
       "      <td>None</td>\n",
       "      <td>59.98</td>\n",
       "      <td>http://images.acmesports.sports/Quest+Q64+10+F...</td>\n",
       "    </tr>\n",
       "    <tr>\n",
       "      <th>1</th>\n",
       "      <td>2</td>\n",
       "      <td>2</td>\n",
       "      <td>Under Armour Men's Highlight MC Football Clea</td>\n",
       "      <td>None</td>\n",
       "      <td>129.99</td>\n",
       "      <td>http://images.acmesports.sports/Under+Armour+M...</td>\n",
       "    </tr>\n",
       "    <tr>\n",
       "      <th>2</th>\n",
       "      <td>3</td>\n",
       "      <td>2</td>\n",
       "      <td>Under Armour Men's Renegade D Mid Football Cl</td>\n",
       "      <td>None</td>\n",
       "      <td>89.99</td>\n",
       "      <td>http://images.acmesports.sports/Under+Armour+M...</td>\n",
       "    </tr>\n",
       "  </tbody>\n",
       "</table>\n",
       "</div>"
      ],
      "text/plain": [
       "   productId  productCategoryId  \\\n",
       "0          1                  2   \n",
       "1          2                  2   \n",
       "2          3                  2   \n",
       "\n",
       "                                     productName productDescription  \\\n",
       "0  Quest Q64 10 FT. x 10 FT. Slant Leg Instant U               None   \n",
       "1  Under Armour Men's Highlight MC Football Clea               None   \n",
       "2  Under Armour Men's Renegade D Mid Football Cl               None   \n",
       "\n",
       "   productPrice                                       productImage  \n",
       "0         59.98  http://images.acmesports.sports/Quest+Q64+10+F...  \n",
       "1        129.99  http://images.acmesports.sports/Under+Armour+M...  \n",
       "2         89.99  http://images.acmesports.sports/Under+Armour+M...  "
      ]
     },
     "execution_count": 8,
     "metadata": {},
     "output_type": "execute_result"
    }
   ],
   "source": [
    "products.limit(3).toPandas()"
   ]
  },
  {
   "cell_type": "code",
   "execution_count": 9,
   "metadata": {},
   "outputs": [],
   "source": [
    "bcast_join_df = order_items.join(products, \n",
    "                                order_items.orderItemProductId == products.productId)"
   ]
  },
  {
   "cell_type": "code",
   "execution_count": 10,
   "metadata": {},
   "outputs": [
    {
     "data": {
      "text/html": [
       "<div>\n",
       "<style scoped>\n",
       "    .dataframe tbody tr th:only-of-type {\n",
       "        vertical-align: middle;\n",
       "    }\n",
       "\n",
       "    .dataframe tbody tr th {\n",
       "        vertical-align: top;\n",
       "    }\n",
       "\n",
       "    .dataframe thead th {\n",
       "        text-align: right;\n",
       "    }\n",
       "</style>\n",
       "<table border=\"1\" class=\"dataframe\">\n",
       "  <thead>\n",
       "    <tr style=\"text-align: right;\">\n",
       "      <th></th>\n",
       "      <th>orderItemName</th>\n",
       "      <th>orderItemOrderId</th>\n",
       "      <th>orderItemProductId</th>\n",
       "      <th>orderItemQuantity</th>\n",
       "      <th>orderItemSubTotal</th>\n",
       "      <th>orderItemProductPrice</th>\n",
       "      <th>productId</th>\n",
       "      <th>productCategoryId</th>\n",
       "      <th>productName</th>\n",
       "      <th>productDescription</th>\n",
       "      <th>productPrice</th>\n",
       "      <th>productImage</th>\n",
       "    </tr>\n",
       "  </thead>\n",
       "  <tbody>\n",
       "    <tr>\n",
       "      <th>0</th>\n",
       "      <td>1</td>\n",
       "      <td>1</td>\n",
       "      <td>957</td>\n",
       "      <td>1</td>\n",
       "      <td>299.98</td>\n",
       "      <td>299.98</td>\n",
       "      <td>957</td>\n",
       "      <td>43</td>\n",
       "      <td>Diamondback Women's Serene Classic Comfort Bi</td>\n",
       "      <td>None</td>\n",
       "      <td>299.98</td>\n",
       "      <td>http://images.acmesports.sports/Diamondback+Wo...</td>\n",
       "    </tr>\n",
       "    <tr>\n",
       "      <th>1</th>\n",
       "      <td>2</td>\n",
       "      <td>2</td>\n",
       "      <td>1073</td>\n",
       "      <td>1</td>\n",
       "      <td>199.99</td>\n",
       "      <td>199.99</td>\n",
       "      <td>1073</td>\n",
       "      <td>48</td>\n",
       "      <td>Pelican Sunstream 100 Kayak</td>\n",
       "      <td>None</td>\n",
       "      <td>199.99</td>\n",
       "      <td>http://images.acmesports.sports/Pelican+Sunstr...</td>\n",
       "    </tr>\n",
       "    <tr>\n",
       "      <th>2</th>\n",
       "      <td>3</td>\n",
       "      <td>2</td>\n",
       "      <td>502</td>\n",
       "      <td>5</td>\n",
       "      <td>250.00</td>\n",
       "      <td>50.00</td>\n",
       "      <td>502</td>\n",
       "      <td>24</td>\n",
       "      <td>Nike Men's Dri-FIT Victory Golf Polo</td>\n",
       "      <td>None</td>\n",
       "      <td>50.00</td>\n",
       "      <td>http://images.acmesports.sports/Nike+Men%27s+D...</td>\n",
       "    </tr>\n",
       "    <tr>\n",
       "      <th>3</th>\n",
       "      <td>4</td>\n",
       "      <td>2</td>\n",
       "      <td>403</td>\n",
       "      <td>1</td>\n",
       "      <td>129.99</td>\n",
       "      <td>129.99</td>\n",
       "      <td>403</td>\n",
       "      <td>18</td>\n",
       "      <td>Nike Men's CJ Elite 2 TD Football Cleat</td>\n",
       "      <td>None</td>\n",
       "      <td>129.99</td>\n",
       "      <td>http://images.acmesports.sports/Nike+Men%27s+C...</td>\n",
       "    </tr>\n",
       "    <tr>\n",
       "      <th>4</th>\n",
       "      <td>5</td>\n",
       "      <td>4</td>\n",
       "      <td>897</td>\n",
       "      <td>2</td>\n",
       "      <td>49.98</td>\n",
       "      <td>24.99</td>\n",
       "      <td>897</td>\n",
       "      <td>40</td>\n",
       "      <td>Team Golf New England Patriots Putter Grip</td>\n",
       "      <td>None</td>\n",
       "      <td>24.99</td>\n",
       "      <td>http://images.acmesports.sports/Team+Golf+New+...</td>\n",
       "    </tr>\n",
       "  </tbody>\n",
       "</table>\n",
       "</div>"
      ],
      "text/plain": [
       "   orderItemName  orderItemOrderId  orderItemProductId  orderItemQuantity  \\\n",
       "0              1                 1                 957                  1   \n",
       "1              2                 2                1073                  1   \n",
       "2              3                 2                 502                  5   \n",
       "3              4                 2                 403                  1   \n",
       "4              5                 4                 897                  2   \n",
       "\n",
       "   orderItemSubTotal  orderItemProductPrice  productId  productCategoryId  \\\n",
       "0             299.98                 299.98        957                 43   \n",
       "1             199.99                 199.99       1073                 48   \n",
       "2             250.00                  50.00        502                 24   \n",
       "3             129.99                 129.99        403                 18   \n",
       "4              49.98                  24.99        897                 40   \n",
       "\n",
       "                                     productName productDescription  \\\n",
       "0  Diamondback Women's Serene Classic Comfort Bi               None   \n",
       "1                    Pelican Sunstream 100 Kayak               None   \n",
       "2           Nike Men's Dri-FIT Victory Golf Polo               None   \n",
       "3        Nike Men's CJ Elite 2 TD Football Cleat               None   \n",
       "4     Team Golf New England Patriots Putter Grip               None   \n",
       "\n",
       "   productPrice                                       productImage  \n",
       "0        299.98  http://images.acmesports.sports/Diamondback+Wo...  \n",
       "1        199.99  http://images.acmesports.sports/Pelican+Sunstr...  \n",
       "2         50.00  http://images.acmesports.sports/Nike+Men%27s+D...  \n",
       "3        129.99  http://images.acmesports.sports/Nike+Men%27s+C...  \n",
       "4         24.99  http://images.acmesports.sports/Team+Golf+New+...  "
      ]
     },
     "execution_count": 10,
     "metadata": {},
     "output_type": "execute_result"
    }
   ],
   "source": [
    "bcast_join_df.limit(5).toPandas()"
   ]
  },
  {
   "cell_type": "markdown",
   "metadata": {},
   "source": [
    "<p>The BHJ is the easiest and fastest join Spark offers, since it does not involve <strong>any shuffle of the data set</strong>; all the data is available locally to the executor after a broadcast. You just have to be sure that you have enough memory both on the Spark driver’s and the executors’ side to hold the smaller data set in memory.</p>"
   ]
  },
  {
   "cell_type": "code",
   "execution_count": 11,
   "metadata": {
    "scrolled": true
   },
   "outputs": [
    {
     "name": "stdout",
     "output_type": "stream",
     "text": [
      "== Physical Plan ==\n",
      "*(2) BroadcastHashJoin [orderItemProductId#18], [productId#61], Inner, BuildRight, false\n",
      ":- *(2) Filter isnotnull(orderItemProductId#18)\n",
      ":  +- FileScan csv [orderItemName#16,orderItemOrderId#17,orderItemProductId#18,orderItemQuantity#19,orderItemSubTotal#20,orderItemProductPrice#21] Batched: false, DataFilters: [isnotnull(orderItemProductId#18)], Format: CSV, Location: InMemoryFileIndex[file:/home/train/datasets/retail_db/order_items.csv], PartitionFilters: [], PushedFilters: [IsNotNull(orderItemProductId)], ReadSchema: struct<orderItemName:int,orderItemOrderId:int,orderItemProductId:int,orderItemQuantity:int,orderI...\n",
      "+- BroadcastExchange HashedRelationBroadcastMode(List(cast(input[0, int, false] as bigint)),false), [id=#152]\n",
      "   +- *(1) Filter isnotnull(productId#61)\n",
      "      +- FileScan csv [productId#61,productCategoryId#62,productName#63,productDescription#64,productPrice#65,productImage#66] Batched: false, DataFilters: [isnotnull(productId#61)], Format: CSV, Location: InMemoryFileIndex[file:/home/train/datasets/retail_db/products.csv], PartitionFilters: [], PushedFilters: [IsNotNull(productId)], ReadSchema: struct<productId:int,productCategoryId:int,productName:string,productDescription:string,productPr...\n",
      "\n",
      "\n"
     ]
    }
   ],
   "source": [
    "bcast_join_df.explain()"
   ]
  },
  {
   "cell_type": "code",
   "execution_count": 12,
   "metadata": {},
   "outputs": [
    {
     "name": "stdout",
     "output_type": "stream",
     "text": [
      "== Optimized Logical Plan ==\n",
      "Join Inner, (orderItemProductId#18 = productId#61), Statistics(sizeInBytes=877.7 GiB)\n",
      ":- Filter isnotnull(orderItemProductId#18), Statistics(sizeInBytes=5.2 MiB)\n",
      ":  +- Relation[orderItemName#16,orderItemOrderId#17,orderItemProductId#18,orderItemQuantity#19,orderItemSubTotal#20,orderItemProductPrice#21] csv, Statistics(sizeInBytes=5.2 MiB)\n",
      "+- Filter isnotnull(productId#61), Statistics(sizeInBytes=170.2 KiB)\n",
      "   +- Relation[productId#61,productCategoryId#62,productName#63,productDescription#64,productPrice#65,productImage#66] csv, Statistics(sizeInBytes=170.2 KiB)\n",
      "\n",
      "== Physical Plan ==\n",
      "*(2) BroadcastHashJoin [orderItemProductId#18], [productId#61], Inner, BuildRight, false\n",
      ":- *(2) Filter isnotnull(orderItemProductId#18)\n",
      ":  +- FileScan csv [orderItemName#16,orderItemOrderId#17,orderItemProductId#18,orderItemQuantity#19,orderItemSubTotal#20,orderItemProductPrice#21] Batched: false, DataFilters: [isnotnull(orderItemProductId#18)], Format: CSV, Location: InMemoryFileIndex[file:/home/train/datasets/retail_db/order_items.csv], PartitionFilters: [], PushedFilters: [IsNotNull(orderItemProductId)], ReadSchema: struct<orderItemName:int,orderItemOrderId:int,orderItemProductId:int,orderItemQuantity:int,orderI...\n",
      "+- BroadcastExchange HashedRelationBroadcastMode(List(cast(input[0, int, false] as bigint)),false), [id=#152]\n",
      "   +- *(1) Filter isnotnull(productId#61)\n",
      "      +- FileScan csv [productId#61,productCategoryId#62,productName#63,productDescription#64,productPrice#65,productImage#66] Batched: false, DataFilters: [isnotnull(productId#61)], Format: CSV, Location: InMemoryFileIndex[file:/home/train/datasets/retail_db/products.csv], PartitionFilters: [], PushedFilters: [IsNotNull(productId)], ReadSchema: struct<productId:int,productCategoryId:int,productName:string,productDescription:string,productPr...\n",
      "\n",
      "\n"
     ]
    }
   ],
   "source": [
    "bcast_join_df.explain('cost')\n",
    "# The modes include 'simple', 'extended', 'codegen', 'cost', and 'formatted'."
   ]
  },
  {
   "cell_type": "markdown",
   "metadata": {},
   "source": [
    "    Use this type of join under the following conditions for maximum benefit:\n",
    "    • When each key within the smaller and larger data sets is hashed to the same partition\n",
    "    by Spark\n",
    "    • When one data set is much smaller than the other (and within the default config\n",
    "    of 10 MB, or more if you have sufficient memory)\n",
    "    • When you only want to perform an equi-join, to combine two data sets based on\n",
    "    matching unsorted keys\n",
    "    • When you are not worried by excessive network bandwidth usage or OOM\n",
    "    errors, because the smaller data set will be broadcast to all Spark executors.\n",
    "    • Specifying a value of -1 in spark.sql.autoBroadcastJoinThreshold will cause\n",
    "    Spark to always resort to a shuffle sort merge join."
   ]
  },
  {
   "cell_type": "markdown",
   "metadata": {},
   "source": [
    "## spark.sql.autoBroadcastJoinThreshold=-1 always closes broadcast hash join."
   ]
  },
  {
   "cell_type": "code",
   "execution_count": 13,
   "metadata": {
    "scrolled": true
   },
   "outputs": [],
   "source": [
    "spark.stop()"
   ]
  },
  {
   "cell_type": "code",
   "execution_count": null,
   "metadata": {},
   "outputs": [],
   "source": []
  }
 ],
 "metadata": {
  "kernelspec": {
   "display_name": "venvspark",
   "language": "python",
   "name": "venvspark"
  },
  "language_info": {
   "codemirror_mode": {
    "name": "ipython",
    "version": 3
   },
   "file_extension": ".py",
   "mimetype": "text/x-python",
   "name": "python",
   "nbconvert_exporter": "python",
   "pygments_lexer": "ipython3",
   "version": "3.8.12"
  }
 },
 "nbformat": 4,
 "nbformat_minor": 4
}
