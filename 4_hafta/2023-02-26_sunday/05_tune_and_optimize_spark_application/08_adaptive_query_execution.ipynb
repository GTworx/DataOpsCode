{
 "cells": [
  {
   "cell_type": "code",
   "execution_count": 1,
   "metadata": {},
   "outputs": [],
   "source": [
    "import findspark\n",
    "findspark.init(\"/opt/manual/spark\")\n",
    "from pyspark.sql import SparkSession, functions as F"
   ]
  },
  {
   "cell_type": "code",
   "execution_count": 2,
   "metadata": {},
   "outputs": [],
   "source": [
    "spark = (SparkSession.builder\n",
    "         .master(\"yarn\")\n",
    "         .appName(\"Adaptive Query Execution\")\n",
    "         .enableHiveSupport()\n",
    "         .getOrCreate())"
   ]
  },
  {
   "cell_type": "markdown",
   "metadata": {},
   "source": [
    "# Read data"
   ]
  },
  {
   "cell_type": "code",
   "execution_count": 3,
   "metadata": {},
   "outputs": [],
   "source": [
    "market5 = spark.read.format(\"parquet\") \\\n",
    ".load(\"/user/train/datasets/market5mil_parquet\") \\\n",
    ".orderBy(F.rand())"
   ]
  },
  {
   "cell_type": "code",
   "execution_count": 4,
   "metadata": {},
   "outputs": [
    {
     "data": {
      "text/html": [
       "<div>\n",
       "<style scoped>\n",
       "    .dataframe tbody tr th:only-of-type {\n",
       "        vertical-align: middle;\n",
       "    }\n",
       "\n",
       "    .dataframe tbody tr th {\n",
       "        vertical-align: top;\n",
       "    }\n",
       "\n",
       "    .dataframe thead th {\n",
       "        text-align: right;\n",
       "    }\n",
       "</style>\n",
       "<table border=\"1\" class=\"dataframe\">\n",
       "  <thead>\n",
       "    <tr style=\"text-align: right;\">\n",
       "      <th></th>\n",
       "      <th>LOGICALREF</th>\n",
       "      <th>COUNT_</th>\n",
       "      <th>ITEMCODE</th>\n",
       "      <th>ITEMNAME</th>\n",
       "      <th>FICHENO</th>\n",
       "      <th>DATE_</th>\n",
       "      <th>AMOUNT</th>\n",
       "      <th>PRICE</th>\n",
       "      <th>LINENETTOTAL</th>\n",
       "      <th>LINENET</th>\n",
       "      <th>...</th>\n",
       "      <th>CLIENTNAME</th>\n",
       "      <th>BRANDCODE</th>\n",
       "      <th>BRAND</th>\n",
       "      <th>CATEGORY_NAME1</th>\n",
       "      <th>CATEGORY_NAME2</th>\n",
       "      <th>CATEGORY_NAME3</th>\n",
       "      <th>STARTDATE</th>\n",
       "      <th>ENDDATE</th>\n",
       "      <th>SPECODE</th>\n",
       "      <th>CAPIBLOCK_CREADEDDATE</th>\n",
       "    </tr>\n",
       "  </thead>\n",
       "  <tbody>\n",
       "    <tr>\n",
       "      <th>0</th>\n",
       "      <td>787487</td>\n",
       "      <td>1</td>\n",
       "      <td>00000020867</td>\n",
       "      <td>YERLI BALDO PIRINC</td>\n",
       "      <td>0000000000199688</td>\n",
       "      <td>2017-04-24</td>\n",
       "      <td>NaN</td>\n",
       "      <td>5.75</td>\n",
       "      <td>5.78</td>\n",
       "      <td>5.35</td>\n",
       "      <td>...</td>\n",
       "      <td>Muhammed Yusuf KENDİR</td>\n",
       "      <td>167</td>\n",
       "      <td>BAKLİYAT</td>\n",
       "      <td>GIDA</td>\n",
       "      <td>BAKLİYAT</td>\n",
       "      <td>AÇIK BAKLİYAT</td>\n",
       "      <td>2017-04-25 13:12:17</td>\n",
       "      <td>2017-04-25 13:12:54</td>\n",
       "      <td>E</td>\n",
       "      <td>2018-07-14 02:21:02</td>\n",
       "    </tr>\n",
       "    <tr>\n",
       "      <th>1</th>\n",
       "      <td>2001083</td>\n",
       "      <td>1</td>\n",
       "      <td>00000006966</td>\n",
       "      <td>ETI BROWNI KAKAO KEK 40GR</td>\n",
       "      <td>0000000000481794</td>\n",
       "      <td>2017-08-28</td>\n",
       "      <td>1.0</td>\n",
       "      <td>0.50</td>\n",
       "      <td>0.50</td>\n",
       "      <td>0.46</td>\n",
       "      <td>...</td>\n",
       "      <td>None</td>\n",
       "      <td>44</td>\n",
       "      <td>ETİ</td>\n",
       "      <td>GIDA</td>\n",
       "      <td>BÜSKİVİ ÇEREZ</td>\n",
       "      <td>KEK</td>\n",
       "      <td>2017-08-29 10:12:21</td>\n",
       "      <td>2017-08-29 10:12:31</td>\n",
       "      <td>None</td>\n",
       "      <td>NaT</td>\n",
       "    </tr>\n",
       "    <tr>\n",
       "      <th>2</th>\n",
       "      <td>1885564</td>\n",
       "      <td>1</td>\n",
       "      <td>00000005705</td>\n",
       "      <td>DOLMALIK BIBER</td>\n",
       "      <td>0000000000454131</td>\n",
       "      <td>2017-08-24</td>\n",
       "      <td>NaN</td>\n",
       "      <td>2.60</td>\n",
       "      <td>1.79</td>\n",
       "      <td>1.66</td>\n",
       "      <td>...</td>\n",
       "      <td>Semra DİLLİ</td>\n",
       "      <td>A25</td>\n",
       "      <td>HAL</td>\n",
       "      <td>MEYVE SEBZE</td>\n",
       "      <td>SEBZE</td>\n",
       "      <td>None</td>\n",
       "      <td>2017-08-25 20:16:57</td>\n",
       "      <td>2017-08-25 20:18:20</td>\n",
       "      <td>K</td>\n",
       "      <td>2018-07-14 02:01:30</td>\n",
       "    </tr>\n",
       "  </tbody>\n",
       "</table>\n",
       "<p>3 rows × 28 columns</p>\n",
       "</div>"
      ],
      "text/plain": [
       "   LOGICALREF  COUNT_     ITEMCODE                   ITEMNAME  \\\n",
       "0      787487       1  00000020867         YERLI BALDO PIRINC   \n",
       "1     2001083       1  00000006966  ETI BROWNI KAKAO KEK 40GR   \n",
       "2     1885564       1  00000005705             DOLMALIK BIBER   \n",
       "\n",
       "            FICHENO      DATE_  AMOUNT  PRICE  LINENETTOTAL  LINENET  ...  \\\n",
       "0  0000000000199688 2017-04-24     NaN   5.75          5.78     5.35  ...   \n",
       "1  0000000000481794 2017-08-28     1.0   0.50          0.50     0.46  ...   \n",
       "2  0000000000454131 2017-08-24     NaN   2.60          1.79     1.66  ...   \n",
       "\n",
       "              CLIENTNAME BRANDCODE     BRAND CATEGORY_NAME1 CATEGORY_NAME2  \\\n",
       "0  Muhammed Yusuf KENDİR       167  BAKLİYAT           GIDA       BAKLİYAT   \n",
       "1                   None        44       ETİ           GIDA  BÜSKİVİ ÇEREZ   \n",
       "2            Semra DİLLİ       A25       HAL    MEYVE SEBZE          SEBZE   \n",
       "\n",
       "   CATEGORY_NAME3           STARTDATE             ENDDATE SPECODE  \\\n",
       "0   AÇIK BAKLİYAT 2017-04-25 13:12:17 2017-04-25 13:12:54       E   \n",
       "1             KEK 2017-08-29 10:12:21 2017-08-29 10:12:31    None   \n",
       "2            None 2017-08-25 20:16:57 2017-08-25 20:18:20       K   \n",
       "\n",
       "  CAPIBLOCK_CREADEDDATE  \n",
       "0   2018-07-14 02:21:02  \n",
       "1                   NaT  \n",
       "2   2018-07-14 02:01:30  \n",
       "\n",
       "[3 rows x 28 columns]"
      ]
     },
     "execution_count": 4,
     "metadata": {},
     "output_type": "execute_result"
    }
   ],
   "source": [
    "market5.limit(3).toPandas()"
   ]
  },
  {
   "cell_type": "code",
   "execution_count": 5,
   "metadata": {},
   "outputs": [
    {
     "name": "stdout",
     "output_type": "stream",
     "text": [
      "root\n",
      " |-- LOGICALREF: integer (nullable = true)\n",
      " |-- COUNT_: integer (nullable = true)\n",
      " |-- ITEMCODE: string (nullable = true)\n",
      " |-- ITEMNAME: string (nullable = true)\n",
      " |-- FICHENO: string (nullable = true)\n",
      " |-- DATE_: timestamp (nullable = true)\n",
      " |-- AMOUNT: integer (nullable = true)\n",
      " |-- PRICE: float (nullable = true)\n",
      " |-- LINENETTOTAL: float (nullable = true)\n",
      " |-- LINENET: float (nullable = true)\n",
      " |-- BRANCHNR: string (nullable = true)\n",
      " |-- BRANCH: string (nullable = true)\n",
      " |-- SALESMAN: string (nullable = true)\n",
      " |-- CITY: string (nullable = true)\n",
      " |-- REGION: string (nullable = true)\n",
      " |-- LATITUDE: float (nullable = true)\n",
      " |-- LONGITUDE: float (nullable = true)\n",
      " |-- CLIENTCODE: string (nullable = true)\n",
      " |-- CLIENTNAME: string (nullable = true)\n",
      " |-- BRANDCODE: string (nullable = true)\n",
      " |-- BRAND: string (nullable = true)\n",
      " |-- CATEGORY_NAME1: string (nullable = true)\n",
      " |-- CATEGORY_NAME2: string (nullable = true)\n",
      " |-- CATEGORY_NAME3: string (nullable = true)\n",
      " |-- STARTDATE: timestamp (nullable = true)\n",
      " |-- ENDDATE: timestamp (nullable = true)\n",
      " |-- SPECODE: string (nullable = true)\n",
      " |-- CAPIBLOCK_CREADEDDATE: timestamp (nullable = true)\n",
      "\n"
     ]
    }
   ],
   "source": [
    "market5.printSchema()"
   ]
  },
  {
   "cell_type": "markdown",
   "metadata": {},
   "source": [
    "# spark.sql.adaptive.enabled"
   ]
  },
  {
   "cell_type": "code",
   "execution_count": 6,
   "metadata": {},
   "outputs": [],
   "source": [
    "# One of the most popular tuning tips\n",
    "# Default number is 200\n",
    "# If too small: GC pressure disk spilling\n",
    "# If to large: Inefficient I/O; scheduler pressure\n",
    "# Hard tune over the whole query plan"
   ]
  },
  {
   "cell_type": "code",
   "execution_count": 6,
   "metadata": {},
   "outputs": [
    {
     "data": {
      "text/plain": [
       "'false'"
      ]
     },
     "execution_count": 6,
     "metadata": {},
     "output_type": "execute_result"
    }
   ],
   "source": [
    "spark.conf.get(\"spark.sql.adaptive.enabled\")"
   ]
  },
  {
   "cell_type": "markdown",
   "metadata": {},
   "source": [
    "## With Adaptive query enabled"
   ]
  },
  {
   "cell_type": "code",
   "execution_count": 7,
   "metadata": {},
   "outputs": [],
   "source": [
    "spark.conf.set(\"spark.sql.adaptive.enabled\", True)"
   ]
  },
  {
   "cell_type": "code",
   "execution_count": 8,
   "metadata": {},
   "outputs": [
    {
     "data": {
      "text/plain": [
       "'true'"
      ]
     },
     "execution_count": 8,
     "metadata": {},
     "output_type": "execute_result"
    }
   ],
   "source": [
    "spark.conf.get(\"spark.sql.adaptive.enabled\")"
   ]
  },
  {
   "cell_type": "code",
   "execution_count": 9,
   "metadata": {},
   "outputs": [
    {
     "name": "stdout",
     "output_type": "stream",
     "text": [
      "----- 23.076776266098022 secs -----\n"
     ]
    }
   ],
   "source": [
    "import time\n",
    "\n",
    "start_time = time.time()\n",
    "\n",
    "market5.groupBy(\"CITY\",\"BRANCH\").agg(F.sum(F.col(\"LINENETTOTAL\")).alias(\"Total\")) \\\n",
    ".orderBy(F.desc(\"Total\")) \\\n",
    ".limit(20) \\\n",
    ".toPandas()\n",
    "\n",
    "\n",
    "\n",
    "print(\"----- %s secs -----\" %(time.time() - start_time))"
   ]
  },
  {
   "cell_type": "markdown",
   "metadata": {},
   "source": [
    "##  Without Adaptive query enabled"
   ]
  },
  {
   "cell_type": "code",
   "execution_count": 10,
   "metadata": {},
   "outputs": [
    {
     "data": {
      "text/plain": [
       "'false'"
      ]
     },
     "execution_count": 10,
     "metadata": {},
     "output_type": "execute_result"
    }
   ],
   "source": [
    "spark.conf.set(\"spark.sql.adaptive.enabled\", False)\n",
    "spark.conf.get(\"spark.sql.adaptive.enabled\")"
   ]
  },
  {
   "cell_type": "code",
   "execution_count": 11,
   "metadata": {},
   "outputs": [
    {
     "name": "stdout",
     "output_type": "stream",
     "text": [
      "----- 31.766934633255005 secs -----\n"
     ]
    }
   ],
   "source": [
    "import time\n",
    "\n",
    "start_time = time.time()\n",
    "\n",
    "market5.groupBy(\"CITY\",\"BRANCH\").agg(F.sum(F.col(\"LINENETTOTAL\")).alias(\"Total\")) \\\n",
    ".orderBy(F.desc(\"Total\")) \\\n",
    ".limit(20) \\\n",
    ".toPandas()\n",
    "\n",
    "\n",
    "\n",
    "print(\"----- %s secs -----\" %(time.time() - start_time))"
   ]
  },
  {
   "cell_type": "markdown",
   "metadata": {},
   "source": [
    "## Execute AQE with bucketing+partitioning and 8"
   ]
  },
  {
   "cell_type": "code",
   "execution_count": 12,
   "metadata": {},
   "outputs": [
    {
     "data": {
      "text/plain": [
       "'true'"
      ]
     },
     "execution_count": 12,
     "metadata": {},
     "output_type": "execute_result"
    }
   ],
   "source": [
    "spark.conf.set(\"spark.sql.adaptive.enabled\", True)\n",
    "spark.conf.get(\"spark.sql.adaptive.enabled\")"
   ]
  },
  {
   "cell_type": "code",
   "execution_count": 13,
   "metadata": {},
   "outputs": [
    {
     "data": {
      "text/plain": [
       "'8'"
      ]
     },
     "execution_count": 13,
     "metadata": {},
     "output_type": "execute_result"
    }
   ],
   "source": [
    "spark.conf.set(\"spark.sql.shuffle.partitions\", 8)\n",
    "spark.conf.get(\"spark.sql.shuffle.partitions\")"
   ]
  },
  {
   "cell_type": "code",
   "execution_count": 14,
   "metadata": {},
   "outputs": [],
   "source": [
    "market5_pby_region = spark.sql(\"select * from market5_pby_region\")"
   ]
  },
  {
   "cell_type": "code",
   "execution_count": 15,
   "metadata": {},
   "outputs": [
    {
     "data": {
      "text/html": [
       "<div>\n",
       "<style scoped>\n",
       "    .dataframe tbody tr th:only-of-type {\n",
       "        vertical-align: middle;\n",
       "    }\n",
       "\n",
       "    .dataframe tbody tr th {\n",
       "        vertical-align: top;\n",
       "    }\n",
       "\n",
       "    .dataframe thead th {\n",
       "        text-align: right;\n",
       "    }\n",
       "</style>\n",
       "<table border=\"1\" class=\"dataframe\">\n",
       "  <thead>\n",
       "    <tr style=\"text-align: right;\">\n",
       "      <th></th>\n",
       "      <th>LOGICALREF</th>\n",
       "      <th>COUNT_</th>\n",
       "      <th>ITEMCODE</th>\n",
       "      <th>ITEMNAME</th>\n",
       "      <th>FICHENO</th>\n",
       "      <th>DATE_</th>\n",
       "      <th>AMOUNT</th>\n",
       "      <th>PRICE</th>\n",
       "      <th>LINENETTOTAL</th>\n",
       "      <th>LINENET</th>\n",
       "      <th>...</th>\n",
       "      <th>BRANDCODE</th>\n",
       "      <th>BRAND</th>\n",
       "      <th>CATEGORY_NAME1</th>\n",
       "      <th>CATEGORY_NAME2</th>\n",
       "      <th>CATEGORY_NAME3</th>\n",
       "      <th>STARTDATE</th>\n",
       "      <th>ENDDATE</th>\n",
       "      <th>SPECODE</th>\n",
       "      <th>CAPIBLOCK_CREADEDDATE</th>\n",
       "      <th>REGION</th>\n",
       "    </tr>\n",
       "  </thead>\n",
       "  <tbody>\n",
       "    <tr>\n",
       "      <th>0</th>\n",
       "      <td>4757121</td>\n",
       "      <td>1</td>\n",
       "      <td>00000001903</td>\n",
       "      <td>COCA COLA 2,5 LT. EKO BOY</td>\n",
       "      <td>0000000000617176</td>\n",
       "      <td>2018-12-08</td>\n",
       "      <td>1.0</td>\n",
       "      <td>3.45</td>\n",
       "      <td>3.45</td>\n",
       "      <td>3.19</td>\n",
       "      <td>...</td>\n",
       "      <td>30</td>\n",
       "      <td>COCO COLA</td>\n",
       "      <td>İÇECEK</td>\n",
       "      <td>GAZLI İÇECEK</td>\n",
       "      <td>COLA</td>\n",
       "      <td>2018-12-09 19:48:31</td>\n",
       "      <td>2018-12-09 19:49:11</td>\n",
       "      <td>K</td>\n",
       "      <td>2018-07-14 02:25:02</td>\n",
       "      <td>Marmara</td>\n",
       "    </tr>\n",
       "    <tr>\n",
       "      <th>1</th>\n",
       "      <td>145836</td>\n",
       "      <td>1</td>\n",
       "      <td>00000018920</td>\n",
       "      <td>WINNER SLIMS</td>\n",
       "      <td>0000000000050248</td>\n",
       "      <td>2017-01-26</td>\n",
       "      <td>1.0</td>\n",
       "      <td>5.00</td>\n",
       "      <td>5.00</td>\n",
       "      <td>5.00</td>\n",
       "      <td>...</td>\n",
       "      <td>231</td>\n",
       "      <td>VİGOR</td>\n",
       "      <td>SİGARA</td>\n",
       "      <td>None</td>\n",
       "      <td>None</td>\n",
       "      <td>2017-01-27 14:24:33</td>\n",
       "      <td>2017-01-27 14:24:35</td>\n",
       "      <td>E</td>\n",
       "      <td>2018-07-14 02:24:06</td>\n",
       "      <td>Marmara</td>\n",
       "    </tr>\n",
       "    <tr>\n",
       "      <th>2</th>\n",
       "      <td>2067184</td>\n",
       "      <td>1</td>\n",
       "      <td>00000003117</td>\n",
       "      <td>PINAR MANGAL SUCUK</td>\n",
       "      <td>0000000000497754</td>\n",
       "      <td>2017-09-01</td>\n",
       "      <td>NaN</td>\n",
       "      <td>29.75</td>\n",
       "      <td>3.27</td>\n",
       "      <td>3.03</td>\n",
       "      <td>...</td>\n",
       "      <td>118</td>\n",
       "      <td>PINAR</td>\n",
       "      <td>ET TAVUK</td>\n",
       "      <td>ET ŞARKÜTERİ</td>\n",
       "      <td>SUCUK</td>\n",
       "      <td>2017-09-02 11:03:50</td>\n",
       "      <td>2017-09-02 11:04:27</td>\n",
       "      <td>K</td>\n",
       "      <td>2018-07-14 02:16:24</td>\n",
       "      <td>Marmara</td>\n",
       "    </tr>\n",
       "  </tbody>\n",
       "</table>\n",
       "<p>3 rows × 28 columns</p>\n",
       "</div>"
      ],
      "text/plain": [
       "   LOGICALREF  COUNT_     ITEMCODE                   ITEMNAME  \\\n",
       "0     4757121       1  00000001903  COCA COLA 2,5 LT. EKO BOY   \n",
       "1      145836       1  00000018920               WINNER SLIMS   \n",
       "2     2067184       1  00000003117         PINAR MANGAL SUCUK   \n",
       "\n",
       "            FICHENO      DATE_  AMOUNT  PRICE  LINENETTOTAL  LINENET  ...  \\\n",
       "0  0000000000617176 2018-12-08     1.0   3.45          3.45     3.19  ...   \n",
       "1  0000000000050248 2017-01-26     1.0   5.00          5.00     5.00  ...   \n",
       "2  0000000000497754 2017-09-01     NaN  29.75          3.27     3.03  ...   \n",
       "\n",
       "  BRANDCODE      BRAND CATEGORY_NAME1 CATEGORY_NAME2  CATEGORY_NAME3  \\\n",
       "0        30  COCO COLA         İÇECEK   GAZLI İÇECEK            COLA   \n",
       "1       231      VİGOR         SİGARA           None            None   \n",
       "2       118      PINAR       ET TAVUK   ET ŞARKÜTERİ           SUCUK   \n",
       "\n",
       "            STARTDATE             ENDDATE SPECODE CAPIBLOCK_CREADEDDATE  \\\n",
       "0 2018-12-09 19:48:31 2018-12-09 19:49:11       K   2018-07-14 02:25:02   \n",
       "1 2017-01-27 14:24:33 2017-01-27 14:24:35       E   2018-07-14 02:24:06   \n",
       "2 2017-09-02 11:03:50 2017-09-02 11:04:27       K   2018-07-14 02:16:24   \n",
       "\n",
       "    REGION  \n",
       "0  Marmara  \n",
       "1  Marmara  \n",
       "2  Marmara  \n",
       "\n",
       "[3 rows x 28 columns]"
      ]
     },
     "execution_count": 15,
     "metadata": {},
     "output_type": "execute_result"
    }
   ],
   "source": [
    "market5_pby_region.limit(3).toPandas()"
   ]
  },
  {
   "cell_type": "code",
   "execution_count": 16,
   "metadata": {},
   "outputs": [
    {
     "name": "stdout",
     "output_type": "stream",
     "text": [
      "----- 5.5244200229644775 secs -----\n"
     ]
    }
   ],
   "source": [
    "import time\n",
    "\n",
    "start_time = time.time()\n",
    "\n",
    "market5_pby_region.groupBy(\"CITY\",\"BRANCH\").agg(F.sum(F.col(\"LINENETTOTAL\")).alias(\"Total\")) \\\n",
    ".orderBy(F.desc(\"Total\")) \\\n",
    ".limit(20) \\\n",
    ".toPandas()\n",
    "\n",
    "\n",
    "\n",
    "print(\"----- %s secs -----\" %(time.time() - start_time))"
   ]
  },
  {
   "cell_type": "code",
   "execution_count": 18,
   "metadata": {},
   "outputs": [],
   "source": [
    "spark.stop()"
   ]
  },
  {
   "cell_type": "code",
   "execution_count": null,
   "metadata": {},
   "outputs": [],
   "source": []
  }
 ],
 "metadata": {
  "kernelspec": {
   "display_name": "venvspark",
   "language": "python",
   "name": "venvspark"
  },
  "language_info": {
   "codemirror_mode": {
    "name": "ipython",
    "version": 3
   },
   "file_extension": ".py",
   "mimetype": "text/x-python",
   "name": "python",
   "nbconvert_exporter": "python",
   "pygments_lexer": "ipython3",
   "version": "3.8.12"
  }
 },
 "nbformat": 4,
 "nbformat_minor": 4
}
