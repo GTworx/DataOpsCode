{
 "cells": [
  {
   "cell_type": "code",
   "execution_count": 1,
   "metadata": {},
   "outputs": [],
   "source": [
    "import findspark\n",
    "findspark.init(\"/opt/manual/spark\")\n",
    "from pyspark.sql import SparkSession, functions as F"
   ]
  },
  {
   "cell_type": "code",
   "execution_count": 2,
   "metadata": {},
   "outputs": [
    {
     "name": "stderr",
     "output_type": "stream",
     "text": [
      "WARNING: An illegal reflective access operation has occurred\n",
      "WARNING: Illegal reflective access by org.apache.spark.unsafe.Platform (file:/opt/manual/spark-3.1.1-bin-hadoop3.2/jars/spark-unsafe_2.12-3.1.1.jar) to constructor java.nio.DirectByteBuffer(long,int)\n",
      "WARNING: Please consider reporting this to the maintainers of org.apache.spark.unsafe.Platform\n",
      "WARNING: Use --illegal-access=warn to enable warnings of further illegal reflective access operations\n",
      "WARNING: All illegal access operations will be denied in a future release\n",
      "2022-09-24 22:34:04,269 WARN util.NativeCodeLoader: Unable to load native-hadoop library for your platform... using builtin-java classes where applicable\n",
      "Setting default log level to \"WARN\".\n",
      "To adjust logging level use sc.setLogLevel(newLevel). For SparkR, use setLogLevel(newLevel).\n",
      "2022-09-24 22:34:10,685 WARN yarn.Client: Neither spark.yarn.jars nor spark.yarn.archive is set, falling back to uploading libraries under SPARK_HOME.\n"
     ]
    }
   ],
   "source": [
    "spark = (SparkSession.builder\n",
    "         .master(\"yarn\")\n",
    "         .appName(\"Spark Partitioning\")\n",
    "         .enableHiveSupport()\n",
    "         .config(\"spark.sql.shuffle.partitions\", 4)\n",
    "         .config(\"spark.serializer\", \"org.apache.spark.serializer.KryoSerializer\")\n",
    "         .config(\"spark.memory.fraction\", \"0.8\")\n",
    "         .config(\"spark.memory.storageFraction\", \"0.1\")\n",
    "         .getOrCreate())"
   ]
  },
  {
   "cell_type": "markdown",
   "metadata": {},
   "source": [
    "# Read data"
   ]
  },
  {
   "cell_type": "code",
   "execution_count": 3,
   "metadata": {},
   "outputs": [
    {
     "name": "stderr",
     "output_type": "stream",
     "text": [
      "                                                                                \r"
     ]
    }
   ],
   "source": [
    "market5 = spark.read.format(\"parquet\") \\\n",
    ".load(\"/user/train/datasets/market5mil_parquet\") \\\n",
    ".orderBy(F.rand())"
   ]
  },
  {
   "cell_type": "code",
   "execution_count": 4,
   "metadata": {},
   "outputs": [
    {
     "name": "stderr",
     "output_type": "stream",
     "text": [
      "2022-09-24 22:35:07,268 WARN util.package: Truncated the string representation of a plan since it was too large. This behavior can be adjusted by setting 'spark.sql.debug.maxToStringFields'.\n",
      "                                                                                \r"
     ]
    },
    {
     "data": {
      "text/html": [
       "<div>\n",
       "<style scoped>\n",
       "    .dataframe tbody tr th:only-of-type {\n",
       "        vertical-align: middle;\n",
       "    }\n",
       "\n",
       "    .dataframe tbody tr th {\n",
       "        vertical-align: top;\n",
       "    }\n",
       "\n",
       "    .dataframe thead th {\n",
       "        text-align: right;\n",
       "    }\n",
       "</style>\n",
       "<table border=\"1\" class=\"dataframe\">\n",
       "  <thead>\n",
       "    <tr style=\"text-align: right;\">\n",
       "      <th></th>\n",
       "      <th>LOGICALREF</th>\n",
       "      <th>COUNT_</th>\n",
       "      <th>ITEMCODE</th>\n",
       "      <th>ITEMNAME</th>\n",
       "      <th>FICHENO</th>\n",
       "      <th>DATE_</th>\n",
       "      <th>AMOUNT</th>\n",
       "      <th>PRICE</th>\n",
       "      <th>LINENETTOTAL</th>\n",
       "      <th>LINENET</th>\n",
       "      <th>...</th>\n",
       "      <th>CLIENTNAME</th>\n",
       "      <th>BRANDCODE</th>\n",
       "      <th>BRAND</th>\n",
       "      <th>CATEGORY_NAME1</th>\n",
       "      <th>CATEGORY_NAME2</th>\n",
       "      <th>CATEGORY_NAME3</th>\n",
       "      <th>STARTDATE</th>\n",
       "      <th>ENDDATE</th>\n",
       "      <th>SPECODE</th>\n",
       "      <th>CAPIBLOCK_CREADEDDATE</th>\n",
       "    </tr>\n",
       "  </thead>\n",
       "  <tbody>\n",
       "    <tr>\n",
       "      <th>0</th>\n",
       "      <td>1785069</td>\n",
       "      <td>1</td>\n",
       "      <td>00000023560</td>\n",
       "      <td>KOSKA KIS HELVASI KAKAOLU 2012</td>\n",
       "      <td>0000000000430203</td>\n",
       "      <td>2017-08-15</td>\n",
       "      <td>NaN</td>\n",
       "      <td>10.95</td>\n",
       "      <td>3.57</td>\n",
       "      <td>3.31</td>\n",
       "      <td>...</td>\n",
       "      <td>Alper ARUKASLAN</td>\n",
       "      <td>83</td>\n",
       "      <td>KOSKA</td>\n",
       "      <td>SÜT KAHVALTILIK</td>\n",
       "      <td>KAHVALTILIK</td>\n",
       "      <td>HELVA</td>\n",
       "      <td>2017-08-16 07:16:51</td>\n",
       "      <td>2017-08-16 07:17:45</td>\n",
       "      <td>E</td>\n",
       "      <td>2018-07-14 01:53:47</td>\n",
       "    </tr>\n",
       "    <tr>\n",
       "      <th>1</th>\n",
       "      <td>3015690</td>\n",
       "      <td>1</td>\n",
       "      <td>00000022628</td>\n",
       "      <td>ULKER HANIMELLER 110 GR.118-</td>\n",
       "      <td>0000000000203778</td>\n",
       "      <td>2018-04-27</td>\n",
       "      <td>1.0</td>\n",
       "      <td>1.00</td>\n",
       "      <td>1.00</td>\n",
       "      <td>0.93</td>\n",
       "      <td>...</td>\n",
       "      <td>Beril AĞBABA</td>\n",
       "      <td>146</td>\n",
       "      <td>ÜLKER</td>\n",
       "      <td>GIDA</td>\n",
       "      <td>BÜSKİVİ ÇEREZ</td>\n",
       "      <td>BÜSKİVİ</td>\n",
       "      <td>2018-04-28 20:00:22</td>\n",
       "      <td>2018-04-28 20:02:12</td>\n",
       "      <td>K</td>\n",
       "      <td>2018-07-14 01:51:48</td>\n",
       "    </tr>\n",
       "    <tr>\n",
       "      <th>2</th>\n",
       "      <td>2023103</td>\n",
       "      <td>1</td>\n",
       "      <td>00000003612</td>\n",
       "      <td>ETI BURCAK 140 GR</td>\n",
       "      <td>0000000000487198</td>\n",
       "      <td>2017-08-30</td>\n",
       "      <td>1.0</td>\n",
       "      <td>1.00</td>\n",
       "      <td>1.00</td>\n",
       "      <td>0.93</td>\n",
       "      <td>...</td>\n",
       "      <td>Resul AKTINAKI</td>\n",
       "      <td>44</td>\n",
       "      <td>ETİ</td>\n",
       "      <td>GIDA</td>\n",
       "      <td>BÜSKİVİ ÇEREZ</td>\n",
       "      <td>BÜSKİVİ</td>\n",
       "      <td>2017-08-31 14:36:18</td>\n",
       "      <td>2017-08-31 14:37:42</td>\n",
       "      <td>E</td>\n",
       "      <td>2018-07-14 02:05:43</td>\n",
       "    </tr>\n",
       "  </tbody>\n",
       "</table>\n",
       "<p>3 rows × 28 columns</p>\n",
       "</div>"
      ],
      "text/plain": [
       "   LOGICALREF  COUNT_     ITEMCODE                        ITEMNAME  \\\n",
       "0     1785069       1  00000023560  KOSKA KIS HELVASI KAKAOLU 2012   \n",
       "1     3015690       1  00000022628    ULKER HANIMELLER 110 GR.118-   \n",
       "2     2023103       1  00000003612               ETI BURCAK 140 GR   \n",
       "\n",
       "            FICHENO      DATE_  AMOUNT  PRICE  LINENETTOTAL  LINENET  ...  \\\n",
       "0  0000000000430203 2017-08-15     NaN  10.95          3.57     3.31  ...   \n",
       "1  0000000000203778 2018-04-27     1.0   1.00          1.00     0.93  ...   \n",
       "2  0000000000487198 2017-08-30     1.0   1.00          1.00     0.93  ...   \n",
       "\n",
       "        CLIENTNAME BRANDCODE  BRAND   CATEGORY_NAME1 CATEGORY_NAME2  \\\n",
       "0  Alper ARUKASLAN        83  KOSKA  SÜT KAHVALTILIK    KAHVALTILIK   \n",
       "1     Beril AĞBABA       146  ÜLKER             GIDA  BÜSKİVİ ÇEREZ   \n",
       "2   Resul AKTINAKI        44    ETİ             GIDA  BÜSKİVİ ÇEREZ   \n",
       "\n",
       "   CATEGORY_NAME3           STARTDATE             ENDDATE SPECODE  \\\n",
       "0           HELVA 2017-08-16 07:16:51 2017-08-16 07:17:45       E   \n",
       "1         BÜSKİVİ 2018-04-28 20:00:22 2018-04-28 20:02:12       K   \n",
       "2         BÜSKİVİ 2017-08-31 14:36:18 2017-08-31 14:37:42       E   \n",
       "\n",
       "  CAPIBLOCK_CREADEDDATE  \n",
       "0   2018-07-14 01:53:47  \n",
       "1   2018-07-14 01:51:48  \n",
       "2   2018-07-14 02:05:43  \n",
       "\n",
       "[3 rows x 28 columns]"
      ]
     },
     "execution_count": 4,
     "metadata": {},
     "output_type": "execute_result"
    }
   ],
   "source": [
    "market5.limit(3).toPandas()"
   ]
  },
  {
   "cell_type": "code",
   "execution_count": 5,
   "metadata": {},
   "outputs": [
    {
     "name": "stdout",
     "output_type": "stream",
     "text": [
      "root\n",
      " |-- LOGICALREF: integer (nullable = true)\n",
      " |-- COUNT_: integer (nullable = true)\n",
      " |-- ITEMCODE: string (nullable = true)\n",
      " |-- ITEMNAME: string (nullable = true)\n",
      " |-- FICHENO: string (nullable = true)\n",
      " |-- DATE_: timestamp (nullable = true)\n",
      " |-- AMOUNT: integer (nullable = true)\n",
      " |-- PRICE: float (nullable = true)\n",
      " |-- LINENETTOTAL: float (nullable = true)\n",
      " |-- LINENET: float (nullable = true)\n",
      " |-- BRANCHNR: string (nullable = true)\n",
      " |-- BRANCH: string (nullable = true)\n",
      " |-- SALESMAN: string (nullable = true)\n",
      " |-- CITY: string (nullable = true)\n",
      " |-- REGION: string (nullable = true)\n",
      " |-- LATITUDE: float (nullable = true)\n",
      " |-- LONGITUDE: float (nullable = true)\n",
      " |-- CLIENTCODE: string (nullable = true)\n",
      " |-- CLIENTNAME: string (nullable = true)\n",
      " |-- BRANDCODE: string (nullable = true)\n",
      " |-- BRAND: string (nullable = true)\n",
      " |-- CATEGORY_NAME1: string (nullable = true)\n",
      " |-- CATEGORY_NAME2: string (nullable = true)\n",
      " |-- CATEGORY_NAME3: string (nullable = true)\n",
      " |-- STARTDATE: timestamp (nullable = true)\n",
      " |-- ENDDATE: timestamp (nullable = true)\n",
      " |-- SPECODE: string (nullable = true)\n",
      " |-- CAPIBLOCK_CREADEDDATE: timestamp (nullable = true)\n",
      "\n"
     ]
    }
   ],
   "source": [
    "market5.printSchema()"
   ]
  },
  {
   "cell_type": "code",
   "execution_count": 6,
   "metadata": {},
   "outputs": [
    {
     "name": "stderr",
     "output_type": "stream",
     "text": [
      "                                                                                \r"
     ]
    },
    {
     "name": "stdout",
     "output_type": "stream",
     "text": [
      "----- 24.290632486343384 secs -----\n"
     ]
    }
   ],
   "source": [
    "# shuffle requiring group by query\n",
    "\n",
    "import time\n",
    "\n",
    "start_time = time.time()\n",
    "\n",
    "market5.groupBy(\"CITY\",\"BRANCH\").agg(F.sum(F.col(\"LINENETTOTAL\")).alias(\"Total\")) \\\n",
    ".orderBy(F.desc(\"Total\")) \\\n",
    ".limit(20) \\\n",
    ".toPandas()\n",
    "\n",
    "\n",
    "\n",
    "print(\"----- %s secs -----\" %(time.time() - start_time))"
   ]
  },
  {
   "cell_type": "markdown",
   "metadata": {},
   "source": [
    "# Write to hive"
   ]
  },
  {
   "cell_type": "code",
   "execution_count": 7,
   "metadata": {},
   "outputs": [
    {
     "name": "stderr",
     "output_type": "stream",
     "text": [
      "2022-09-24 22:36:17,251 WARN conf.HiveConf: HiveConf of name hive.stats.jdbc.timeout does not exist\n",
      "2022-09-24 22:36:17,254 WARN conf.HiveConf: HiveConf of name hive.stats.retries.wait does not exist\n",
      "2022-09-24 22:40:54,378 WARN session.SessionState: METASTORE_FILTER_HOOK will be ignored, since hive.security.authorization.manager is set to instance of HiveAuthorizerFactory.\n",
      "2022-09-24 22:40:56,658 WARN conf.HiveConf: HiveConf of name hive.internal.ss.authz.settings.applied.marker does not exist\n",
      "2022-09-24 22:40:56,658 WARN conf.HiveConf: HiveConf of name hive.stats.jdbc.timeout does not exist\n",
      "2022-09-24 22:40:56,661 WARN conf.HiveConf: HiveConf of name hive.stats.retries.wait does not exist\n",
      "2022-09-24 22:40:59,660 WARN metastore.ObjectStore: Failed to get database global_temp, returning NoSuchObjectException\n"
     ]
    },
    {
     "name": "stdout",
     "output_type": "stream",
     "text": [
      "----- 291.32809805870056 secs -----\n"
     ]
    }
   ],
   "source": [
    "start_time = time.time()\n",
    "\n",
    "market5.orderBy(\"CITY\") \\\n",
    ".write.format(\"parquet\") \\\n",
    ".partitionBy(\"REGION\") \\\n",
    ".bucketBy(8, \"CITY\") \\\n",
    ".mode(\"overwrite\") \\\n",
    ".saveAsTable(\"market5_pby_region\")\n",
    "\n",
    "\n",
    "\n",
    "print(\"----- %s secs -----\" %(time.time() - start_time))"
   ]
  },
  {
   "cell_type": "code",
   "execution_count": 8,
   "metadata": {},
   "outputs": [],
   "source": [
    "market5_pby_region = spark.sql(\"select * from market5_pby_region\")"
   ]
  },
  {
   "cell_type": "code",
   "execution_count": 9,
   "metadata": {},
   "outputs": [
    {
     "name": "stderr",
     "output_type": "stream",
     "text": [
      "                                                                                \r"
     ]
    },
    {
     "data": {
      "text/html": [
       "<div>\n",
       "<style scoped>\n",
       "    .dataframe tbody tr th:only-of-type {\n",
       "        vertical-align: middle;\n",
       "    }\n",
       "\n",
       "    .dataframe tbody tr th {\n",
       "        vertical-align: top;\n",
       "    }\n",
       "\n",
       "    .dataframe thead th {\n",
       "        text-align: right;\n",
       "    }\n",
       "</style>\n",
       "<table border=\"1\" class=\"dataframe\">\n",
       "  <thead>\n",
       "    <tr style=\"text-align: right;\">\n",
       "      <th></th>\n",
       "      <th>LOGICALREF</th>\n",
       "      <th>COUNT_</th>\n",
       "      <th>ITEMCODE</th>\n",
       "      <th>ITEMNAME</th>\n",
       "      <th>FICHENO</th>\n",
       "      <th>DATE_</th>\n",
       "      <th>AMOUNT</th>\n",
       "      <th>PRICE</th>\n",
       "      <th>LINENETTOTAL</th>\n",
       "      <th>LINENET</th>\n",
       "      <th>...</th>\n",
       "      <th>BRANDCODE</th>\n",
       "      <th>BRAND</th>\n",
       "      <th>CATEGORY_NAME1</th>\n",
       "      <th>CATEGORY_NAME2</th>\n",
       "      <th>CATEGORY_NAME3</th>\n",
       "      <th>STARTDATE</th>\n",
       "      <th>ENDDATE</th>\n",
       "      <th>SPECODE</th>\n",
       "      <th>CAPIBLOCK_CREADEDDATE</th>\n",
       "      <th>REGION</th>\n",
       "    </tr>\n",
       "  </thead>\n",
       "  <tbody>\n",
       "    <tr>\n",
       "      <th>0</th>\n",
       "      <td>2133878</td>\n",
       "      <td>1</td>\n",
       "      <td>00000008367</td>\n",
       "      <td>FAMILIA PECETE 100 AD.</td>\n",
       "      <td>0000000000514329</td>\n",
       "      <td>2017-09-18</td>\n",
       "      <td>2</td>\n",
       "      <td>2.25</td>\n",
       "      <td>4.50</td>\n",
       "      <td>3.81</td>\n",
       "      <td>...</td>\n",
       "      <td>226</td>\n",
       "      <td>FAMİLY</td>\n",
       "      <td>KAĞIT</td>\n",
       "      <td>KAĞIT PEÇETELER</td>\n",
       "      <td>None</td>\n",
       "      <td>2017-09-19 19:56:43</td>\n",
       "      <td>2017-09-19 20:00:23</td>\n",
       "      <td>E</td>\n",
       "      <td>2018-07-14 02:20:51</td>\n",
       "      <td>Marmara</td>\n",
       "    </tr>\n",
       "    <tr>\n",
       "      <th>1</th>\n",
       "      <td>145836</td>\n",
       "      <td>1</td>\n",
       "      <td>00000018920</td>\n",
       "      <td>WINNER SLIMS</td>\n",
       "      <td>0000000000050248</td>\n",
       "      <td>2017-01-26</td>\n",
       "      <td>1</td>\n",
       "      <td>5.00</td>\n",
       "      <td>5.00</td>\n",
       "      <td>5.00</td>\n",
       "      <td>...</td>\n",
       "      <td>231</td>\n",
       "      <td>VİGOR</td>\n",
       "      <td>SİGARA</td>\n",
       "      <td>None</td>\n",
       "      <td>None</td>\n",
       "      <td>2017-01-27 14:24:33</td>\n",
       "      <td>2017-01-27 14:24:35</td>\n",
       "      <td>E</td>\n",
       "      <td>2018-07-14 02:24:06</td>\n",
       "      <td>Marmara</td>\n",
       "    </tr>\n",
       "    <tr>\n",
       "      <th>2</th>\n",
       "      <td>4728998</td>\n",
       "      <td>1</td>\n",
       "      <td>00000003130</td>\n",
       "      <td>PINAR PIZZA 4LU EKO PAKET</td>\n",
       "      <td>0000000000614079</td>\n",
       "      <td>2018-12-06</td>\n",
       "      <td>1</td>\n",
       "      <td>12.35</td>\n",
       "      <td>12.35</td>\n",
       "      <td>11.44</td>\n",
       "      <td>...</td>\n",
       "      <td>118</td>\n",
       "      <td>PINAR</td>\n",
       "      <td>GIDA</td>\n",
       "      <td>DONDURULMUŞ GIDA</td>\n",
       "      <td>None</td>\n",
       "      <td>2018-12-07 17:16:33</td>\n",
       "      <td>2018-12-07 17:17:20</td>\n",
       "      <td>E</td>\n",
       "      <td>2018-07-14 02:15:48</td>\n",
       "      <td>Marmara</td>\n",
       "    </tr>\n",
       "  </tbody>\n",
       "</table>\n",
       "<p>3 rows × 28 columns</p>\n",
       "</div>"
      ],
      "text/plain": [
       "   LOGICALREF  COUNT_     ITEMCODE                   ITEMNAME  \\\n",
       "0     2133878       1  00000008367     FAMILIA PECETE 100 AD.   \n",
       "1      145836       1  00000018920               WINNER SLIMS   \n",
       "2     4728998       1  00000003130  PINAR PIZZA 4LU EKO PAKET   \n",
       "\n",
       "            FICHENO      DATE_  AMOUNT  PRICE  LINENETTOTAL  LINENET  ...  \\\n",
       "0  0000000000514329 2017-09-18       2   2.25          4.50     3.81  ...   \n",
       "1  0000000000050248 2017-01-26       1   5.00          5.00     5.00  ...   \n",
       "2  0000000000614079 2018-12-06       1  12.35         12.35    11.44  ...   \n",
       "\n",
       "  BRANDCODE   BRAND CATEGORY_NAME1    CATEGORY_NAME2  CATEGORY_NAME3  \\\n",
       "0       226  FAMİLY          KAĞIT   KAĞIT PEÇETELER            None   \n",
       "1       231   VİGOR         SİGARA              None            None   \n",
       "2       118   PINAR           GIDA  DONDURULMUŞ GIDA            None   \n",
       "\n",
       "            STARTDATE             ENDDATE SPECODE CAPIBLOCK_CREADEDDATE  \\\n",
       "0 2017-09-19 19:56:43 2017-09-19 20:00:23       E   2018-07-14 02:20:51   \n",
       "1 2017-01-27 14:24:33 2017-01-27 14:24:35       E   2018-07-14 02:24:06   \n",
       "2 2018-12-07 17:16:33 2018-12-07 17:17:20       E   2018-07-14 02:15:48   \n",
       "\n",
       "    REGION  \n",
       "0  Marmara  \n",
       "1  Marmara  \n",
       "2  Marmara  \n",
       "\n",
       "[3 rows x 28 columns]"
      ]
     },
     "execution_count": 9,
     "metadata": {},
     "output_type": "execute_result"
    }
   ],
   "source": [
    "market5_pby_region.limit(3).toPandas()"
   ]
  },
  {
   "cell_type": "code",
   "execution_count": 10,
   "metadata": {},
   "outputs": [
    {
     "name": "stderr",
     "output_type": "stream",
     "text": [
      "[Stage 10:==================================================>       (7 + 1) / 8]\r"
     ]
    },
    {
     "name": "stdout",
     "output_type": "stream",
     "text": [
      "----- 14.700294494628906 secs -----\n"
     ]
    },
    {
     "name": "stderr",
     "output_type": "stream",
     "text": [
      "                                                                                \r"
     ]
    }
   ],
   "source": [
    "import time\n",
    "\n",
    "start_time = time.time()\n",
    "\n",
    "market5_pby_region.groupBy(\"CITY\",\"BRANCH\").agg(F.sum(F.col(\"LINENETTOTAL\")).alias(\"Total\")) \\\n",
    ".orderBy(F.desc(\"Total\")) \\\n",
    ".limit(20) \\\n",
    ".toPandas()\n",
    "\n",
    "\n",
    "\n",
    "print(\"----- %s secs -----\" %(time.time() - start_time))"
   ]
  },
  {
   "cell_type": "code",
   "execution_count": 11,
   "metadata": {},
   "outputs": [
    {
     "name": "stdout",
     "output_type": "stream",
     "text": [
      "Found 8 items\n",
      "drwxr-xr-x   - train hive          0 2022-09-24 22:40 /user/hive/warehouse/market5_pby_region/REGION=Akdeniz\n",
      "drwxr-xr-x   - train hive          0 2022-09-24 22:40 /user/hive/warehouse/market5_pby_region/REGION=Doğu Anadolu\n",
      "drwxr-xr-x   - train hive          0 2022-09-24 22:40 /user/hive/warehouse/market5_pby_region/REGION=Ege\n",
      "drwxr-xr-x   - train hive          0 2022-09-24 22:40 /user/hive/warehouse/market5_pby_region/REGION=Güneydoğu Anadolu\n",
      "drwxr-xr-x   - train hive          0 2022-09-24 22:40 /user/hive/warehouse/market5_pby_region/REGION=Karadeniz\n",
      "drwxr-xr-x   - train hive          0 2022-09-24 22:40 /user/hive/warehouse/market5_pby_region/REGION=Marmara\n",
      "drwxr-xr-x   - train hive          0 2022-09-24 22:40 /user/hive/warehouse/market5_pby_region/REGION=İç Anadolu\n",
      "-rw-r--r--   1 train hive          0 2022-09-24 22:40 /user/hive/warehouse/market5_pby_region/_SUCCESS\n"
     ]
    }
   ],
   "source": [
    "! hdfs dfs -ls /user/hive/warehouse/market5_pby_region"
   ]
  },
  {
   "cell_type": "code",
   "execution_count": 12,
   "metadata": {},
   "outputs": [],
   "source": [
    "spark.stop()"
   ]
  },
  {
   "cell_type": "code",
   "execution_count": null,
   "metadata": {},
   "outputs": [],
   "source": []
  }
 ],
 "metadata": {
  "kernelspec": {
   "display_name": "venvspark",
   "language": "python",
   "name": "venvspark"
  },
  "language_info": {
   "codemirror_mode": {
    "name": "ipython",
    "version": 3
   },
   "file_extension": ".py",
   "mimetype": "text/x-python",
   "name": "python",
   "nbconvert_exporter": "python",
   "pygments_lexer": "ipython3",
   "version": "3.8.12"
  }
 },
 "nbformat": 4,
 "nbformat_minor": 4
}
