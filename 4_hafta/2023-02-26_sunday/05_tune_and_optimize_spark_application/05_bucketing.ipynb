{
 "cells": [
  {
   "cell_type": "code",
   "execution_count": 1,
   "metadata": {},
   "outputs": [],
   "source": [
    "import findspark\n",
    "findspark.init(\"/opt/manual/spark\")\n",
    "from pyspark.sql import SparkSession, functions as F\n",
    "from pyspark.sql.types import *"
   ]
  },
  {
   "cell_type": "code",
   "execution_count": 2,
   "metadata": {},
   "outputs": [
    {
     "name": "stderr",
     "output_type": "stream",
     "text": [
      "WARNING: An illegal reflective access operation has occurred\n",
      "WARNING: Illegal reflective access by org.apache.spark.unsafe.Platform (file:/opt/manual/spark-3.1.1-bin-hadoop3.2/jars/spark-unsafe_2.12-3.1.1.jar) to constructor java.nio.DirectByteBuffer(long,int)\n",
      "WARNING: Please consider reporting this to the maintainers of org.apache.spark.unsafe.Platform\n",
      "WARNING: Use --illegal-access=warn to enable warnings of further illegal reflective access operations\n",
      "WARNING: All illegal access operations will be denied in a future release\n",
      "2022-09-24 21:57:19,101 WARN util.NativeCodeLoader: Unable to load native-hadoop library for your platform... using builtin-java classes where applicable\n",
      "Setting default log level to \"WARN\".\n",
      "To adjust logging level use sc.setLogLevel(newLevel). For SparkR, use setLogLevel(newLevel).\n",
      "2022-09-24 21:57:25,687 WARN yarn.Client: Neither spark.yarn.jars nor spark.yarn.archive is set, falling back to uploading libraries under SPARK_HOME.\n"
     ]
    }
   ],
   "source": [
    "spark = (SparkSession.builder\n",
    "         .master(\"yarn\")\n",
    "         .appName(\"Spark Bucketing\")\n",
    "         .enableHiveSupport()\n",
    "         .config(\"spark.sql.shuffle.partitions\", 4)\n",
    "         .config(\"spark.serializer\", \"org.apache.spark.serializer.KryoSerializer\")\n",
    "         .config(\"spark.memory.fraction\", \"0.8\")\n",
    "         .config(\"spark.memory.storageFraction\", \"0.1\")\n",
    "         .getOrCreate())"
   ]
  },
  {
   "cell_type": "markdown",
   "metadata": {},
   "source": [
    "# read market1mil"
   ]
  },
  {
   "cell_type": "code",
   "execution_count": 3,
   "metadata": {},
   "outputs": [],
   "source": [
    "# wget -O /home/train/datasets/market1mil.csv.gz https://github.com/erkansirin78/datasets/raw/master/market1mil.csv.gz\n",
    "\n",
    "# hdfs dfs -put ~/datasets/market1mil.csv.gz /user/train/datasets"
   ]
  },
  {
   "cell_type": "code",
   "execution_count": 5,
   "metadata": {},
   "outputs": [
    {
     "name": "stderr",
     "output_type": "stream",
     "text": [
      "                                                                                \r"
     ]
    }
   ],
   "source": [
    "market1mil = spark.read.format(\"csv\") \\\n",
    ".option(\"header\", True) \\\n",
    ".option(\"inferSchema\", True) \\\n",
    ".option(\"sep\",\";\") \\\n",
    ".load(\"/user/train/datasets/market1mil.csv.gz\") \\\n",
    ".orderBy(F.rand()).withColumn(\"LOGICALREF\", F.col(\"LOGICALREF\").cast(IntegerType()))"
   ]
  },
  {
   "cell_type": "code",
   "execution_count": 6,
   "metadata": {},
   "outputs": [
    {
     "name": "stderr",
     "output_type": "stream",
     "text": [
      "2022-09-24 22:11:47,822 WARN util.package: Truncated the string representation of a plan since it was too large. This behavior can be adjusted by setting 'spark.sql.debug.maxToStringFields'.\n",
      "                                                                                \r"
     ]
    },
    {
     "data": {
      "text/html": [
       "<div>\n",
       "<style scoped>\n",
       "    .dataframe tbody tr th:only-of-type {\n",
       "        vertical-align: middle;\n",
       "    }\n",
       "\n",
       "    .dataframe tbody tr th {\n",
       "        vertical-align: top;\n",
       "    }\n",
       "\n",
       "    .dataframe thead th {\n",
       "        text-align: right;\n",
       "    }\n",
       "</style>\n",
       "<table border=\"1\" class=\"dataframe\">\n",
       "  <thead>\n",
       "    <tr style=\"text-align: right;\">\n",
       "      <th></th>\n",
       "      <th>LOGICALREF</th>\n",
       "      <th>COUNT_</th>\n",
       "      <th>ITEMCODE</th>\n",
       "      <th>ITEMNAME</th>\n",
       "      <th>FICHENO</th>\n",
       "      <th>DATE_</th>\n",
       "      <th>AMOUNT</th>\n",
       "      <th>PRICE</th>\n",
       "      <th>LINENETTOTAL</th>\n",
       "      <th>LINENET</th>\n",
       "      <th>...</th>\n",
       "      <th>CLIENTNAME</th>\n",
       "      <th>BRANDCODE</th>\n",
       "      <th>BRAND</th>\n",
       "      <th>CATEGORY_NAME1</th>\n",
       "      <th>CATEGORY_NAME2</th>\n",
       "      <th>CATEGORY_NAME3</th>\n",
       "      <th>STARTDATE</th>\n",
       "      <th>ENDDATE</th>\n",
       "      <th>SPECODE</th>\n",
       "      <th>CAPIBLOCK_CREADEDDATE</th>\n",
       "    </tr>\n",
       "  </thead>\n",
       "  <tbody>\n",
       "    <tr>\n",
       "      <th>0</th>\n",
       "      <td>980673</td>\n",
       "      <td>1</td>\n",
       "      <td>8121</td>\n",
       "      <td>ORKID ULTRA PLATINUM COMFORT 12AD GECE</td>\n",
       "      <td>245555</td>\n",
       "      <td>21.05.2017 00:00</td>\n",
       "      <td>1</td>\n",
       "      <td>5,95</td>\n",
       "      <td>5,95</td>\n",
       "      <td>5,04</td>\n",
       "      <td>...</td>\n",
       "      <td>Berkay ÇİMENDAĞ</td>\n",
       "      <td>105</td>\n",
       "      <td>ORKİD</td>\n",
       "      <td>KAĞIT</td>\n",
       "      <td>HİJYENİK PEDLER</td>\n",
       "      <td>None</td>\n",
       "      <td>22.05.2017 10:48</td>\n",
       "      <td>22.05.2017 10:49</td>\n",
       "      <td>E</td>\n",
       "      <td>14.07.2018 02:01</td>\n",
       "    </tr>\n",
       "    <tr>\n",
       "      <th>1</th>\n",
       "      <td>33490</td>\n",
       "      <td>1</td>\n",
       "      <td>2865</td>\n",
       "      <td>ETI PETIT BEURRE 400GR.NO:13101</td>\n",
       "      <td>23653</td>\n",
       "      <td>10.01.2017 00:00</td>\n",
       "      <td>1</td>\n",
       "      <td>2,7</td>\n",
       "      <td>2,7</td>\n",
       "      <td>2,51</td>\n",
       "      <td>...</td>\n",
       "      <td>Ebubekir TULUMCU</td>\n",
       "      <td>44</td>\n",
       "      <td>ETİ</td>\n",
       "      <td>GIDA</td>\n",
       "      <td>BÜSKİVİ ÇEREZ</td>\n",
       "      <td>BÜSKİVİ</td>\n",
       "      <td>11.01.2017 12:21</td>\n",
       "      <td>11.01.2017 12:22</td>\n",
       "      <td>E</td>\n",
       "      <td>14.07.2018 01:56</td>\n",
       "    </tr>\n",
       "    <tr>\n",
       "      <th>2</th>\n",
       "      <td>569347</td>\n",
       "      <td>1</td>\n",
       "      <td>3290</td>\n",
       "      <td>F SAFF 6LT BULAŞIK DETERJANI LİMONLU</td>\n",
       "      <td>148417</td>\n",
       "      <td>26.03.2017 00:00</td>\n",
       "      <td>1</td>\n",
       "      <td>8,75</td>\n",
       "      <td>8,75</td>\n",
       "      <td>7,42</td>\n",
       "      <td>...</td>\n",
       "      <td>Ömer Asaf EPİK</td>\n",
       "      <td>50</td>\n",
       "      <td>F SAFF</td>\n",
       "      <td>DETERJAN TEMİZLİK</td>\n",
       "      <td>BULAŞIK YIKAMA</td>\n",
       "      <td>ELDE YIKAMA</td>\n",
       "      <td>27.03.2017 11:51</td>\n",
       "      <td>27.03.2017 11:51</td>\n",
       "      <td>E</td>\n",
       "      <td>14.07.2018 02:19</td>\n",
       "    </tr>\n",
       "  </tbody>\n",
       "</table>\n",
       "<p>3 rows × 28 columns</p>\n",
       "</div>"
      ],
      "text/plain": [
       "   LOGICALREF  COUNT_  ITEMCODE                                ITEMNAME  \\\n",
       "0      980673       1      8121  ORKID ULTRA PLATINUM COMFORT 12AD GECE   \n",
       "1       33490       1      2865         ETI PETIT BEURRE 400GR.NO:13101   \n",
       "2      569347       1      3290    F SAFF 6LT BULAŞIK DETERJANI LİMONLU   \n",
       "\n",
       "   FICHENO             DATE_ AMOUNT PRICE LINENETTOTAL LINENET  ...  \\\n",
       "0   245555  21.05.2017 00:00      1  5,95         5,95    5,04  ...   \n",
       "1    23653  10.01.2017 00:00      1   2,7          2,7    2,51  ...   \n",
       "2   148417  26.03.2017 00:00      1  8,75         8,75    7,42  ...   \n",
       "\n",
       "         CLIENTNAME BRANDCODE    BRAND     CATEGORY_NAME1   CATEGORY_NAME2  \\\n",
       "0   Berkay ÇİMENDAĞ       105    ORKİD              KAĞIT  HİJYENİK PEDLER   \n",
       "1  Ebubekir TULUMCU        44      ETİ               GIDA    BÜSKİVİ ÇEREZ   \n",
       "2    Ömer Asaf EPİK        50   F SAFF  DETERJAN TEMİZLİK   BULAŞIK YIKAMA   \n",
       "\n",
       "  CATEGORY_NAME3         STARTDATE           ENDDATE SPECODE  \\\n",
       "0           None  22.05.2017 10:48  22.05.2017 10:49       E   \n",
       "1        BÜSKİVİ  11.01.2017 12:21  11.01.2017 12:22       E   \n",
       "2    ELDE YIKAMA  27.03.2017 11:51  27.03.2017 11:51       E   \n",
       "\n",
       "  CAPIBLOCK_CREADEDDATE  \n",
       "0      14.07.2018 02:01  \n",
       "1      14.07.2018 01:56  \n",
       "2      14.07.2018 02:19  \n",
       "\n",
       "[3 rows x 28 columns]"
      ]
     },
     "execution_count": 6,
     "metadata": {},
     "output_type": "execute_result"
    }
   ],
   "source": [
    "market1mil.limit(3).toPandas()"
   ]
  },
  {
   "cell_type": "code",
   "execution_count": 7,
   "metadata": {},
   "outputs": [
    {
     "name": "stdout",
     "output_type": "stream",
     "text": [
      "root\n",
      " |-- LOGICALREF: integer (nullable = true)\n",
      " |-- COUNT_: integer (nullable = true)\n",
      " |-- ITEMCODE: integer (nullable = true)\n",
      " |-- ITEMNAME: string (nullable = true)\n",
      " |-- FICHENO: integer (nullable = true)\n",
      " |-- DATE_: string (nullable = true)\n",
      " |-- AMOUNT: string (nullable = true)\n",
      " |-- PRICE: string (nullable = true)\n",
      " |-- LINENETTOTAL: string (nullable = true)\n",
      " |-- LINENET: string (nullable = true)\n",
      " |-- BRANCHNR: integer (nullable = true)\n",
      " |-- BRANCH: string (nullable = true)\n",
      " |-- SALESMAN: string (nullable = true)\n",
      " |-- CITY: string (nullable = true)\n",
      " |-- REGION: string (nullable = true)\n",
      " |-- LATITUDE: string (nullable = true)\n",
      " |-- LONGITUDE: string (nullable = true)\n",
      " |-- CLIENTCODE: string (nullable = true)\n",
      " |-- CLIENTNAME: string (nullable = true)\n",
      " |-- BRANDCODE: string (nullable = true)\n",
      " |-- BRAND: string (nullable = true)\n",
      " |-- CATEGORY_NAME1: string (nullable = true)\n",
      " |-- CATEGORY_NAME2: string (nullable = true)\n",
      " |-- CATEGORY_NAME3: string (nullable = true)\n",
      " |-- STARTDATE: string (nullable = true)\n",
      " |-- ENDDATE: string (nullable = true)\n",
      " |-- SPECODE: string (nullable = true)\n",
      " |-- CAPIBLOCK_CREADEDDATE: string (nullable = true)\n",
      "\n"
     ]
    }
   ],
   "source": [
    "market1mil.printSchema()"
   ]
  },
  {
   "cell_type": "markdown",
   "metadata": {},
   "source": [
    "# read market 5 million dataset"
   ]
  },
  {
   "cell_type": "code",
   "execution_count": 8,
   "metadata": {},
   "outputs": [],
   "source": [
    "# open https://downgit.github.io\n",
    "# paste https://github.com/erkansirin78/datasets/tree/master/market5mil_parquet\n",
    "# cd ~/Downloads/\n",
    "# unzip market5mil_parquet.zip \n",
    "# mv market5mil_parquet ~/datasets/\n",
    "# hdfs dfs -put ~/datasets/market5mil_parquet/ /user/train/datasets"
   ]
  },
  {
   "cell_type": "code",
   "execution_count": 9,
   "metadata": {},
   "outputs": [
    {
     "name": "stderr",
     "output_type": "stream",
     "text": [
      "                                                                                \r"
     ]
    }
   ],
   "source": [
    "market5mil = spark.read.format(\"parquet\") \\\n",
    ".load(\"/user/train/datasets/market5mil_parquet\") \\\n",
    ".orderBy(F.rand())"
   ]
  },
  {
   "cell_type": "code",
   "execution_count": 10,
   "metadata": {},
   "outputs": [
    {
     "name": "stderr",
     "output_type": "stream",
     "text": [
      "                                                                                \r"
     ]
    },
    {
     "data": {
      "text/html": [
       "<div>\n",
       "<style scoped>\n",
       "    .dataframe tbody tr th:only-of-type {\n",
       "        vertical-align: middle;\n",
       "    }\n",
       "\n",
       "    .dataframe tbody tr th {\n",
       "        vertical-align: top;\n",
       "    }\n",
       "\n",
       "    .dataframe thead th {\n",
       "        text-align: right;\n",
       "    }\n",
       "</style>\n",
       "<table border=\"1\" class=\"dataframe\">\n",
       "  <thead>\n",
       "    <tr style=\"text-align: right;\">\n",
       "      <th></th>\n",
       "      <th>LOGICALREF</th>\n",
       "      <th>COUNT_</th>\n",
       "      <th>ITEMCODE</th>\n",
       "      <th>ITEMNAME</th>\n",
       "      <th>FICHENO</th>\n",
       "      <th>DATE_</th>\n",
       "      <th>AMOUNT</th>\n",
       "      <th>PRICE</th>\n",
       "      <th>LINENETTOTAL</th>\n",
       "      <th>LINENET</th>\n",
       "      <th>...</th>\n",
       "      <th>CLIENTNAME</th>\n",
       "      <th>BRANDCODE</th>\n",
       "      <th>BRAND</th>\n",
       "      <th>CATEGORY_NAME1</th>\n",
       "      <th>CATEGORY_NAME2</th>\n",
       "      <th>CATEGORY_NAME3</th>\n",
       "      <th>STARTDATE</th>\n",
       "      <th>ENDDATE</th>\n",
       "      <th>SPECODE</th>\n",
       "      <th>CAPIBLOCK_CREADEDDATE</th>\n",
       "    </tr>\n",
       "  </thead>\n",
       "  <tbody>\n",
       "    <tr>\n",
       "      <th>0</th>\n",
       "      <td>5222006</td>\n",
       "      <td>1</td>\n",
       "      <td>00000008826</td>\n",
       "      <td>BINGOSIL KREM 470ML.AMONYAKLI YENI</td>\n",
       "      <td>0000000000412324</td>\n",
       "      <td>2018-08-10</td>\n",
       "      <td>1</td>\n",
       "      <td>2.35</td>\n",
       "      <td>2.35</td>\n",
       "      <td>1.99</td>\n",
       "      <td>...</td>\n",
       "      <td>Bilal KİRET</td>\n",
       "      <td>224</td>\n",
       "      <td>BİNGO</td>\n",
       "      <td>DETERJAN TEMİZLİK</td>\n",
       "      <td>EV TEMİZLEYİCİ</td>\n",
       "      <td>MUTFAK BANYO TEMİZLEYİCİ</td>\n",
       "      <td>2018-08-11 17:36:00</td>\n",
       "      <td>2018-08-11 17:36:35</td>\n",
       "      <td>E</td>\n",
       "      <td>2018-07-14 01:48:30</td>\n",
       "    </tr>\n",
       "    <tr>\n",
       "      <th>1</th>\n",
       "      <td>1826812</td>\n",
       "      <td>1</td>\n",
       "      <td>00000005362</td>\n",
       "      <td>SİHİRLİ ELLER CİG KÖFTE 200GR</td>\n",
       "      <td>0000000000439922</td>\n",
       "      <td>2017-08-20</td>\n",
       "      <td>1</td>\n",
       "      <td>2.80</td>\n",
       "      <td>2.80</td>\n",
       "      <td>2.59</td>\n",
       "      <td>...</td>\n",
       "      <td>Nuray NURSAL</td>\n",
       "      <td>346</td>\n",
       "      <td>SİHİRLİ ELLER</td>\n",
       "      <td>GIDA</td>\n",
       "      <td>HAZIR YEMEKLER</td>\n",
       "      <td>MEZE</td>\n",
       "      <td>2017-08-21 15:44:27</td>\n",
       "      <td>2017-08-21 15:46:42</td>\n",
       "      <td>K</td>\n",
       "      <td>2018-07-14 01:59:23</td>\n",
       "    </tr>\n",
       "    <tr>\n",
       "      <th>2</th>\n",
       "      <td>1714015</td>\n",
       "      <td>1</td>\n",
       "      <td>00000021313</td>\n",
       "      <td>H.SAKIR SIVI SAB.400ML BADEM</td>\n",
       "      <td>0000000000412373</td>\n",
       "      <td>2017-08-10</td>\n",
       "      <td>1</td>\n",
       "      <td>2.95</td>\n",
       "      <td>2.95</td>\n",
       "      <td>2.50</td>\n",
       "      <td>...</td>\n",
       "      <td>Eslem BOİS</td>\n",
       "      <td>58</td>\n",
       "      <td>H.ŞAKİR</td>\n",
       "      <td>KOZMETİK</td>\n",
       "      <td>DUŞ BANYO</td>\n",
       "      <td>SIVI JEL SABUNLAR</td>\n",
       "      <td>2017-08-11 15:00:07</td>\n",
       "      <td>2017-08-11 15:01:15</td>\n",
       "      <td>K</td>\n",
       "      <td>2018-07-14 02:22:52</td>\n",
       "    </tr>\n",
       "  </tbody>\n",
       "</table>\n",
       "<p>3 rows × 28 columns</p>\n",
       "</div>"
      ],
      "text/plain": [
       "   LOGICALREF  COUNT_     ITEMCODE                            ITEMNAME  \\\n",
       "0     5222006       1  00000008826  BINGOSIL KREM 470ML.AMONYAKLI YENI   \n",
       "1     1826812       1  00000005362       SİHİRLİ ELLER CİG KÖFTE 200GR   \n",
       "2     1714015       1  00000021313        H.SAKIR SIVI SAB.400ML BADEM   \n",
       "\n",
       "            FICHENO      DATE_  AMOUNT  PRICE  LINENETTOTAL  LINENET  ...  \\\n",
       "0  0000000000412324 2018-08-10       1   2.35          2.35     1.99  ...   \n",
       "1  0000000000439922 2017-08-20       1   2.80          2.80     2.59  ...   \n",
       "2  0000000000412373 2017-08-10       1   2.95          2.95     2.50  ...   \n",
       "\n",
       "     CLIENTNAME BRANDCODE          BRAND     CATEGORY_NAME1  CATEGORY_NAME2  \\\n",
       "0   Bilal KİRET       224          BİNGO  DETERJAN TEMİZLİK  EV TEMİZLEYİCİ   \n",
       "1  Nuray NURSAL       346  SİHİRLİ ELLER               GIDA  HAZIR YEMEKLER   \n",
       "2    Eslem BOİS        58        H.ŞAKİR           KOZMETİK       DUŞ BANYO   \n",
       "\n",
       "             CATEGORY_NAME3           STARTDATE             ENDDATE SPECODE  \\\n",
       "0  MUTFAK BANYO TEMİZLEYİCİ 2018-08-11 17:36:00 2018-08-11 17:36:35       E   \n",
       "1                      MEZE 2017-08-21 15:44:27 2017-08-21 15:46:42       K   \n",
       "2         SIVI JEL SABUNLAR 2017-08-11 15:00:07 2017-08-11 15:01:15       K   \n",
       "\n",
       "  CAPIBLOCK_CREADEDDATE  \n",
       "0   2018-07-14 01:48:30  \n",
       "1   2018-07-14 01:59:23  \n",
       "2   2018-07-14 02:22:52  \n",
       "\n",
       "[3 rows x 28 columns]"
      ]
     },
     "execution_count": 10,
     "metadata": {},
     "output_type": "execute_result"
    }
   ],
   "source": [
    "market5mil.limit(3).toPandas()"
   ]
  },
  {
   "cell_type": "code",
   "execution_count": 11,
   "metadata": {},
   "outputs": [
    {
     "name": "stdout",
     "output_type": "stream",
     "text": [
      "root\n",
      " |-- LOGICALREF: integer (nullable = true)\n",
      " |-- COUNT_: integer (nullable = true)\n",
      " |-- ITEMCODE: string (nullable = true)\n",
      " |-- ITEMNAME: string (nullable = true)\n",
      " |-- FICHENO: string (nullable = true)\n",
      " |-- DATE_: timestamp (nullable = true)\n",
      " |-- AMOUNT: integer (nullable = true)\n",
      " |-- PRICE: float (nullable = true)\n",
      " |-- LINENETTOTAL: float (nullable = true)\n",
      " |-- LINENET: float (nullable = true)\n",
      " |-- BRANCHNR: string (nullable = true)\n",
      " |-- BRANCH: string (nullable = true)\n",
      " |-- SALESMAN: string (nullable = true)\n",
      " |-- CITY: string (nullable = true)\n",
      " |-- REGION: string (nullable = true)\n",
      " |-- LATITUDE: float (nullable = true)\n",
      " |-- LONGITUDE: float (nullable = true)\n",
      " |-- CLIENTCODE: string (nullable = true)\n",
      " |-- CLIENTNAME: string (nullable = true)\n",
      " |-- BRANDCODE: string (nullable = true)\n",
      " |-- BRAND: string (nullable = true)\n",
      " |-- CATEGORY_NAME1: string (nullable = true)\n",
      " |-- CATEGORY_NAME2: string (nullable = true)\n",
      " |-- CATEGORY_NAME3: string (nullable = true)\n",
      " |-- STARTDATE: timestamp (nullable = true)\n",
      " |-- ENDDATE: timestamp (nullable = true)\n",
      " |-- SPECODE: string (nullable = true)\n",
      " |-- CAPIBLOCK_CREADEDDATE: timestamp (nullable = true)\n",
      "\n"
     ]
    }
   ],
   "source": [
    "market5mil.printSchema()"
   ]
  },
  {
   "cell_type": "code",
   "execution_count": 12,
   "metadata": {},
   "outputs": [
    {
     "data": {
      "text/plain": [
       "'true'"
      ]
     },
     "execution_count": 12,
     "metadata": {},
     "output_type": "execute_result"
    }
   ],
   "source": [
    "spark.conf.get(\"spark.sql.sources.bucketing.enabled\")"
   ]
  },
  {
   "cell_type": "markdown",
   "metadata": {},
   "source": [
    "# Join"
   ]
  },
  {
   "cell_type": "code",
   "execution_count": 13,
   "metadata": {},
   "outputs": [],
   "source": [
    "spark.conf.set(\"spark.sql.autoBroadcastJoinThreshold\", -1)"
   ]
  },
  {
   "cell_type": "code",
   "execution_count": 14,
   "metadata": {},
   "outputs": [],
   "source": [
    "# join and drop repeated cols from small table\n",
    "\n",
    "joined_df = market1mil.join(market5mil, \"LOGICALREF\") \\\n",
    ".drop(*market1mil.columns)"
   ]
  },
  {
   "cell_type": "code",
   "execution_count": 15,
   "metadata": {},
   "outputs": [
    {
     "name": "stderr",
     "output_type": "stream",
     "text": [
      "[Stage 9:>                                                          (0 + 1) / 1]\r"
     ]
    },
    {
     "name": "stdout",
     "output_type": "stream",
     "text": [
      "--- 16.879558801651 seconds ----\n"
     ]
    },
    {
     "name": "stderr",
     "output_type": "stream",
     "text": [
      "                                                                                \r"
     ]
    }
   ],
   "source": [
    "# Measure the time spend for join\n",
    "\n",
    "import time\n",
    "start_time = time.time()\n",
    "\n",
    "joined_df.limit(5).toPandas()\n",
    "\n",
    "print(\"--- %s seconds ----\" %(time.time() - start_time))"
   ]
  },
  {
   "cell_type": "code",
   "execution_count": 16,
   "metadata": {},
   "outputs": [
    {
     "name": "stdout",
     "output_type": "stream",
     "text": [
      "== Optimized Logical Plan ==\n",
      "Project, Statistics(sizeInBytes=3.5 TiB)\n",
      "+- Join Inner, (LOGICALREF#95 = LOGICALREF#152), Statistics(sizeInBytes=7.0 TiB)\n",
      "   :- Project [cast(LOGICALREF#38 as int) AS LOGICALREF#95], Statistics(sizeInBytes=1035.3 KiB)\n",
      "   :  +- Project [LOGICALREF#38], Statistics(sizeInBytes=2.4 MiB)\n",
      "   :     +- Filter isnotnull(cast(LOGICALREF#38 as int)), Statistics(sizeInBytes=42.5 MiB)\n",
      "   :        +- Relation[LOGICALREF#38,COUNT_#39,ITEMCODE#40,ITEMNAME#41,FICHENO#42,DATE_#43,AMOUNT#44,PRICE#45,LINENETTOTAL#46,LINENET#47,BRANCHNR#48,BRANCH#49,SALESMAN#50,CITY#51,REGION#52,LATITUDE#53,LONGITUDE#54,CLIENTCODE#55,CLIENTNAME#56,BRANDCODE#57,BRAND#58,CATEGORY_NAME1#59,CATEGORY_NAME2#60,CATEGORY_NAME3#61,... 4 more fields] csv, Statistics(sizeInBytes=42.5 MiB)\n",
      "   +- Project [LOGICALREF#152], Statistics(sizeInBytes=7.0 MiB)\n",
      "      +- Filter isnotnull(LOGICALREF#152), Statistics(sizeInBytes=227.0 MiB)\n",
      "         +- Relation[LOGICALREF#152,COUNT_#153,ITEMCODE#154,ITEMNAME#155,FICHENO#156,DATE_#157,AMOUNT#158,PRICE#159,LINENETTOTAL#160,LINENET#161,BRANCHNR#162,BRANCH#163,SALESMAN#164,CITY#165,REGION#166,LATITUDE#167,LONGITUDE#168,CLIENTCODE#169,CLIENTNAME#170,BRANDCODE#171,BRAND#172,CATEGORY_NAME1#173,CATEGORY_NAME2#174,CATEGORY_NAME3#175,... 4 more fields] parquet, Statistics(sizeInBytes=227.0 MiB)\n",
      "\n",
      "== Physical Plan ==\n",
      "*(5) Project\n",
      "+- *(5) SortMergeJoin [LOGICALREF#95], [LOGICALREF#152], Inner\n",
      "   :- *(2) Sort [LOGICALREF#95 ASC NULLS FIRST], false, 0\n",
      "   :  +- Exchange hashpartitioning(LOGICALREF#95, 4), ENSURE_REQUIREMENTS, [id=#174]\n",
      "   :     +- *(1) Project [cast(LOGICALREF#38 as int) AS LOGICALREF#95]\n",
      "   :        +- *(1) Filter isnotnull(cast(LOGICALREF#38 as int))\n",
      "   :           +- FileScan csv [LOGICALREF#38] Batched: false, DataFilters: [isnotnull(cast(LOGICALREF#38 as int))], Format: CSV, Location: InMemoryFileIndex[hdfs://localhost:9000/user/train/datasets/market1mil.csv.gz], PartitionFilters: [], PushedFilters: [], ReadSchema: struct<LOGICALREF:string>\n",
      "   +- *(4) Sort [LOGICALREF#152 ASC NULLS FIRST], false, 0\n",
      "      +- Exchange hashpartitioning(LOGICALREF#152, 4), ENSURE_REQUIREMENTS, [id=#183]\n",
      "         +- *(3) Filter isnotnull(LOGICALREF#152)\n",
      "            +- *(3) ColumnarToRow\n",
      "               +- FileScan parquet [LOGICALREF#152] Batched: true, DataFilters: [isnotnull(LOGICALREF#152)], Format: Parquet, Location: InMemoryFileIndex[hdfs://localhost:9000/user/train/datasets/market5mil_parquet], PartitionFilters: [], PushedFilters: [IsNotNull(LOGICALREF)], ReadSchema: struct<LOGICALREF:int>\n",
      "\n",
      "\n"
     ]
    }
   ],
   "source": [
    "joined_df.explain(\"cost\")"
   ]
  },
  {
   "cell_type": "markdown",
   "metadata": {},
   "source": [
    "# Write hive with buckets"
   ]
  },
  {
   "cell_type": "markdown",
   "metadata": {},
   "source": [
    "### write market1mil"
   ]
  },
  {
   "cell_type": "code",
   "execution_count": 17,
   "metadata": {},
   "outputs": [
    {
     "name": "stderr",
     "output_type": "stream",
     "text": [
      "2022-09-24 22:14:36,453 WARN conf.HiveConf: HiveConf of name hive.stats.jdbc.timeout does not exist\n",
      "2022-09-24 22:14:36,456 WARN conf.HiveConf: HiveConf of name hive.stats.retries.wait does not exist\n",
      "2022-09-24 22:16:11,126 WARN session.SessionState: METASTORE_FILTER_HOOK will be ignored, since hive.security.authorization.manager is set to instance of HiveAuthorizerFactory.\n",
      "2022-09-24 22:16:11,417 WARN conf.HiveConf: HiveConf of name hive.internal.ss.authz.settings.applied.marker does not exist\n",
      "2022-09-24 22:16:11,417 WARN conf.HiveConf: HiveConf of name hive.stats.jdbc.timeout does not exist\n",
      "2022-09-24 22:16:11,420 WARN conf.HiveConf: HiveConf of name hive.stats.retries.wait does not exist\n"
     ]
    },
    {
     "name": "stdout",
     "output_type": "stream",
     "text": [
      "--- 99.7611038684845 seconds ----\n"
     ]
    }
   ],
   "source": [
    "# note .bucketBy(8, \"LOGICALREF\") \n",
    "# And the time spend for writing\n",
    "\n",
    "import time\n",
    "start_time = time.time()\n",
    "\n",
    "market1mil.orderBy(F.asc(\"LOGICALREF\")) \\\n",
    ".write.format(\"parquet\") \\\n",
    ".mode(\"overwrite\") \\\n",
    ".bucketBy(8, \"LOGICALREF\") \\\n",
    ".saveAsTable(\"market1mil_tbl\")\n",
    "\n",
    "print(\"--- %s seconds ----\" %(time.time() - start_time))"
   ]
  },
  {
   "cell_type": "markdown",
   "metadata": {},
   "source": [
    "### write market5mil"
   ]
  },
  {
   "cell_type": "code",
   "execution_count": 18,
   "metadata": {},
   "outputs": [
    {
     "name": "stderr",
     "output_type": "stream",
     "text": [
      "                                                                                \r"
     ]
    },
    {
     "name": "stdout",
     "output_type": "stream",
     "text": [
      "--- 197.21966433525085 seconds ----\n"
     ]
    }
   ],
   "source": [
    "import time\n",
    "start_time = time.time()\n",
    "\n",
    "market5mil.orderBy(F.asc(\"LOGICALREF\")) \\\n",
    ".write.format(\"parquet\") \\\n",
    ".mode(\"overwrite\") \\\n",
    ".bucketBy(8, \"LOGICALREF\") \\\n",
    ".saveAsTable(\"market5mil_tbl\")\n",
    "\n",
    "print(\"--- %s seconds ----\" %(time.time() - start_time))"
   ]
  },
  {
   "cell_type": "code",
   "execution_count": 19,
   "metadata": {},
   "outputs": [
    {
     "name": "stderr",
     "output_type": "stream",
     "text": [
      "2022-09-24 22:19:29,999 WARN metastore.ObjectStore: Failed to get database global_temp, returning NoSuchObjectException\n"
     ]
    },
    {
     "name": "stdout",
     "output_type": "stream",
     "text": [
      "+--------+---------------+-----------+\n",
      "|database|      tableName|isTemporary|\n",
      "+--------+---------------+-----------+\n",
      "| default|    advertising|      false|\n",
      "| default|   iris_parquet|      false|\n",
      "| default| market1mil_tbl|      false|\n",
      "| default| market5mil_tbl|      false|\n",
      "| default|order_items_tbl|      false|\n",
      "| default|     orders_tbl|      false|\n",
      "+--------+---------------+-----------+\n",
      "\n"
     ]
    }
   ],
   "source": [
    "spark.sql(\"show tables\").show()"
   ]
  },
  {
   "cell_type": "markdown",
   "metadata": {},
   "source": [
    "# Join bucketed dataframes"
   ]
  },
  {
   "cell_type": "code",
   "execution_count": 20,
   "metadata": {},
   "outputs": [],
   "source": [
    "# stop spark, restart notebook, create sparksession then continue from here"
   ]
  },
  {
   "cell_type": "code",
   "execution_count": 21,
   "metadata": {},
   "outputs": [],
   "source": [
    "market1mil_tbl = spark.sql(\"select * from market1mil_tbl\")"
   ]
  },
  {
   "cell_type": "code",
   "execution_count": 22,
   "metadata": {},
   "outputs": [
    {
     "data": {
      "text/html": [
       "<div>\n",
       "<style scoped>\n",
       "    .dataframe tbody tr th:only-of-type {\n",
       "        vertical-align: middle;\n",
       "    }\n",
       "\n",
       "    .dataframe tbody tr th {\n",
       "        vertical-align: top;\n",
       "    }\n",
       "\n",
       "    .dataframe thead th {\n",
       "        text-align: right;\n",
       "    }\n",
       "</style>\n",
       "<table border=\"1\" class=\"dataframe\">\n",
       "  <thead>\n",
       "    <tr style=\"text-align: right;\">\n",
       "      <th></th>\n",
       "      <th>LOGICALREF</th>\n",
       "      <th>COUNT_</th>\n",
       "      <th>ITEMCODE</th>\n",
       "      <th>ITEMNAME</th>\n",
       "      <th>FICHENO</th>\n",
       "      <th>DATE_</th>\n",
       "      <th>AMOUNT</th>\n",
       "      <th>PRICE</th>\n",
       "      <th>LINENETTOTAL</th>\n",
       "      <th>LINENET</th>\n",
       "      <th>...</th>\n",
       "      <th>CLIENTNAME</th>\n",
       "      <th>BRANDCODE</th>\n",
       "      <th>BRAND</th>\n",
       "      <th>CATEGORY_NAME1</th>\n",
       "      <th>CATEGORY_NAME2</th>\n",
       "      <th>CATEGORY_NAME3</th>\n",
       "      <th>STARTDATE</th>\n",
       "      <th>ENDDATE</th>\n",
       "      <th>SPECODE</th>\n",
       "      <th>CAPIBLOCK_CREADEDDATE</th>\n",
       "    </tr>\n",
       "  </thead>\n",
       "  <tbody>\n",
       "    <tr>\n",
       "      <th>0</th>\n",
       "      <td>503303</td>\n",
       "      <td>1</td>\n",
       "      <td>904</td>\n",
       "      <td>ICIM SUT 1LT SISE SUT</td>\n",
       "      <td>132731</td>\n",
       "      <td>17.03.2017 00:00</td>\n",
       "      <td>1</td>\n",
       "      <td>2,6</td>\n",
       "      <td>2,6</td>\n",
       "      <td>2,41</td>\n",
       "      <td>...</td>\n",
       "      <td>Necdet KİREMİT</td>\n",
       "      <td>67</td>\n",
       "      <td>İÇİM SEHER</td>\n",
       "      <td>SÜT KAHVALTILIK</td>\n",
       "      <td>SÜT</td>\n",
       "      <td>PASTÖRİZE SÜT</td>\n",
       "      <td>18.03.2017 16:51</td>\n",
       "      <td>18.03.2017 16:59</td>\n",
       "      <td>E</td>\n",
       "      <td>14.07.2018 01:56</td>\n",
       "    </tr>\n",
       "    <tr>\n",
       "      <th>1</th>\n",
       "      <td>503305</td>\n",
       "      <td>1</td>\n",
       "      <td>904</td>\n",
       "      <td>ICIM SUT 1LT SISE SUT</td>\n",
       "      <td>132731</td>\n",
       "      <td>17.03.2017 00:00</td>\n",
       "      <td>1</td>\n",
       "      <td>2,6</td>\n",
       "      <td>2,6</td>\n",
       "      <td>2,41</td>\n",
       "      <td>...</td>\n",
       "      <td>Necdet KİREMİT</td>\n",
       "      <td>67</td>\n",
       "      <td>İÇİM SEHER</td>\n",
       "      <td>SÜT KAHVALTILIK</td>\n",
       "      <td>SÜT</td>\n",
       "      <td>PASTÖRİZE SÜT</td>\n",
       "      <td>18.03.2017 16:51</td>\n",
       "      <td>18.03.2017 16:59</td>\n",
       "      <td>E</td>\n",
       "      <td>14.07.2018 01:56</td>\n",
       "    </tr>\n",
       "    <tr>\n",
       "      <th>2</th>\n",
       "      <td>503313</td>\n",
       "      <td>1</td>\n",
       "      <td>5701</td>\n",
       "      <td>PORTAKAL</td>\n",
       "      <td>132731</td>\n",
       "      <td>17.03.2017 00:00</td>\n",
       "      <td>1,845</td>\n",
       "      <td>1,95</td>\n",
       "      <td>3,6</td>\n",
       "      <td>3,33</td>\n",
       "      <td>...</td>\n",
       "      <td>Necdet KİREMİT</td>\n",
       "      <td>A25</td>\n",
       "      <td>HAL</td>\n",
       "      <td>MEYVE SEBZE</td>\n",
       "      <td>MEYVE</td>\n",
       "      <td>None</td>\n",
       "      <td>18.03.2017 16:51</td>\n",
       "      <td>18.03.2017 16:59</td>\n",
       "      <td>E</td>\n",
       "      <td>14.07.2018 01:56</td>\n",
       "    </tr>\n",
       "    <tr>\n",
       "      <th>3</th>\n",
       "      <td>503319</td>\n",
       "      <td>1</td>\n",
       "      <td>21666</td>\n",
       "      <td>TUZSUZ FISTIK</td>\n",
       "      <td>132731</td>\n",
       "      <td>17.03.2017 00:00</td>\n",
       "      <td>0,21</td>\n",
       "      <td>12,9</td>\n",
       "      <td>2,71</td>\n",
       "      <td>2,51</td>\n",
       "      <td>...</td>\n",
       "      <td>Necdet KİREMİT</td>\n",
       "      <td>8</td>\n",
       "      <td>ARMONİ</td>\n",
       "      <td>GIDA</td>\n",
       "      <td>BÜSKİVİ ÇEREZ</td>\n",
       "      <td>KURUYEMİŞ</td>\n",
       "      <td>18.03.2017 16:51</td>\n",
       "      <td>18.03.2017 16:59</td>\n",
       "      <td>E</td>\n",
       "      <td>14.07.2018 01:56</td>\n",
       "    </tr>\n",
       "    <tr>\n",
       "      <th>4</th>\n",
       "      <td>503321</td>\n",
       "      <td>1</td>\n",
       "      <td>5715</td>\n",
       "      <td>PATATES</td>\n",
       "      <td>132731</td>\n",
       "      <td>17.03.2017 00:00</td>\n",
       "      <td>4,09</td>\n",
       "      <td>2,59</td>\n",
       "      <td>10,59</td>\n",
       "      <td>9,81</td>\n",
       "      <td>...</td>\n",
       "      <td>Necdet KİREMİT</td>\n",
       "      <td>A25</td>\n",
       "      <td>HAL</td>\n",
       "      <td>MEYVE SEBZE</td>\n",
       "      <td>SEBZE</td>\n",
       "      <td>None</td>\n",
       "      <td>18.03.2017 16:51</td>\n",
       "      <td>18.03.2017 16:59</td>\n",
       "      <td>E</td>\n",
       "      <td>14.07.2018 01:56</td>\n",
       "    </tr>\n",
       "  </tbody>\n",
       "</table>\n",
       "<p>5 rows × 28 columns</p>\n",
       "</div>"
      ],
      "text/plain": [
       "   LOGICALREF  COUNT_  ITEMCODE               ITEMNAME  FICHENO  \\\n",
       "0      503303       1       904  ICIM SUT 1LT SISE SUT   132731   \n",
       "1      503305       1       904  ICIM SUT 1LT SISE SUT   132731   \n",
       "2      503313       1      5701               PORTAKAL   132731   \n",
       "3      503319       1     21666          TUZSUZ FISTIK   132731   \n",
       "4      503321       1      5715                PATATES   132731   \n",
       "\n",
       "              DATE_ AMOUNT PRICE LINENETTOTAL LINENET  ...      CLIENTNAME  \\\n",
       "0  17.03.2017 00:00      1   2,6          2,6    2,41  ...  Necdet KİREMİT   \n",
       "1  17.03.2017 00:00      1   2,6          2,6    2,41  ...  Necdet KİREMİT   \n",
       "2  17.03.2017 00:00  1,845  1,95          3,6    3,33  ...  Necdet KİREMİT   \n",
       "3  17.03.2017 00:00   0,21  12,9         2,71    2,51  ...  Necdet KİREMİT   \n",
       "4  17.03.2017 00:00   4,09  2,59        10,59    9,81  ...  Necdet KİREMİT   \n",
       "\n",
       "  BRANDCODE       BRAND   CATEGORY_NAME1 CATEGORY_NAME2 CATEGORY_NAME3  \\\n",
       "0        67  İÇİM SEHER  SÜT KAHVALTILIK            SÜT  PASTÖRİZE SÜT   \n",
       "1        67  İÇİM SEHER  SÜT KAHVALTILIK            SÜT  PASTÖRİZE SÜT   \n",
       "2       A25         HAL      MEYVE SEBZE          MEYVE           None   \n",
       "3         8     ARMONİ              GIDA  BÜSKİVİ ÇEREZ      KURUYEMİŞ   \n",
       "4       A25         HAL      MEYVE SEBZE          SEBZE           None   \n",
       "\n",
       "          STARTDATE           ENDDATE SPECODE CAPIBLOCK_CREADEDDATE  \n",
       "0  18.03.2017 16:51  18.03.2017 16:59       E      14.07.2018 01:56  \n",
       "1  18.03.2017 16:51  18.03.2017 16:59       E      14.07.2018 01:56  \n",
       "2  18.03.2017 16:51  18.03.2017 16:59       E      14.07.2018 01:56  \n",
       "3  18.03.2017 16:51  18.03.2017 16:59       E      14.07.2018 01:56  \n",
       "4  18.03.2017 16:51  18.03.2017 16:59       E      14.07.2018 01:56  \n",
       "\n",
       "[5 rows x 28 columns]"
      ]
     },
     "execution_count": 22,
     "metadata": {},
     "output_type": "execute_result"
    }
   ],
   "source": [
    "market1mil_tbl.limit(5).toPandas()"
   ]
  },
  {
   "cell_type": "code",
   "execution_count": 23,
   "metadata": {},
   "outputs": [],
   "source": [
    "market5mil_tbl = spark.sql(\"select * from market5mil_tbl\")"
   ]
  },
  {
   "cell_type": "code",
   "execution_count": 24,
   "metadata": {},
   "outputs": [
    {
     "data": {
      "text/html": [
       "<div>\n",
       "<style scoped>\n",
       "    .dataframe tbody tr th:only-of-type {\n",
       "        vertical-align: middle;\n",
       "    }\n",
       "\n",
       "    .dataframe tbody tr th {\n",
       "        vertical-align: top;\n",
       "    }\n",
       "\n",
       "    .dataframe thead th {\n",
       "        text-align: right;\n",
       "    }\n",
       "</style>\n",
       "<table border=\"1\" class=\"dataframe\">\n",
       "  <thead>\n",
       "    <tr style=\"text-align: right;\">\n",
       "      <th></th>\n",
       "      <th>LOGICALREF</th>\n",
       "      <th>COUNT_</th>\n",
       "      <th>ITEMCODE</th>\n",
       "      <th>ITEMNAME</th>\n",
       "      <th>FICHENO</th>\n",
       "      <th>DATE_</th>\n",
       "      <th>AMOUNT</th>\n",
       "      <th>PRICE</th>\n",
       "      <th>LINENETTOTAL</th>\n",
       "      <th>LINENET</th>\n",
       "      <th>...</th>\n",
       "      <th>CLIENTNAME</th>\n",
       "      <th>BRANDCODE</th>\n",
       "      <th>BRAND</th>\n",
       "      <th>CATEGORY_NAME1</th>\n",
       "      <th>CATEGORY_NAME2</th>\n",
       "      <th>CATEGORY_NAME3</th>\n",
       "      <th>STARTDATE</th>\n",
       "      <th>ENDDATE</th>\n",
       "      <th>SPECODE</th>\n",
       "      <th>CAPIBLOCK_CREADEDDATE</th>\n",
       "    </tr>\n",
       "  </thead>\n",
       "  <tbody>\n",
       "    <tr>\n",
       "      <th>0</th>\n",
       "      <td>5067166</td>\n",
       "      <td>1</td>\n",
       "      <td>00000005692</td>\n",
       "      <td>KARPUZ</td>\n",
       "      <td>0000000000296319</td>\n",
       "      <td>2018-06-17</td>\n",
       "      <td>NaN</td>\n",
       "      <td>0.70</td>\n",
       "      <td>4.42</td>\n",
       "      <td>4.09</td>\n",
       "      <td>...</td>\n",
       "      <td>Berra ÇIKLAİPLİKÇİ</td>\n",
       "      <td>A25</td>\n",
       "      <td>HAL</td>\n",
       "      <td>MEYVE SEBZE</td>\n",
       "      <td>MEYVE</td>\n",
       "      <td>None</td>\n",
       "      <td>2018-06-18 14:00:26</td>\n",
       "      <td>2018-06-18 14:00:46</td>\n",
       "      <td>K</td>\n",
       "      <td>2018-07-14 01:51:02</td>\n",
       "    </tr>\n",
       "    <tr>\n",
       "      <th>1</th>\n",
       "      <td>4018570</td>\n",
       "      <td>1</td>\n",
       "      <td>00000019100</td>\n",
       "      <td>TMO OSMANCIK PIRINC 2 KG</td>\n",
       "      <td>0000000000321461</td>\n",
       "      <td>2018-06-30</td>\n",
       "      <td>1.0</td>\n",
       "      <td>5.80</td>\n",
       "      <td>5.80</td>\n",
       "      <td>5.37</td>\n",
       "      <td>...</td>\n",
       "      <td>Turgay OZGUREL</td>\n",
       "      <td>49</td>\n",
       "      <td>F NEFFİS</td>\n",
       "      <td>GIDA</td>\n",
       "      <td>BAKLİYAT</td>\n",
       "      <td>PAKET BAKLİYAT</td>\n",
       "      <td>2018-07-01 13:33:51</td>\n",
       "      <td>2018-07-01 13:34:29</td>\n",
       "      <td>E</td>\n",
       "      <td>2018-07-14 01:52:04</td>\n",
       "    </tr>\n",
       "    <tr>\n",
       "      <th>2</th>\n",
       "      <td>5067172</td>\n",
       "      <td>1</td>\n",
       "      <td>00000002080</td>\n",
       "      <td>ERIKLI DOGAL MEMBA SU 5 LT</td>\n",
       "      <td>0000000000296323</td>\n",
       "      <td>2018-06-17</td>\n",
       "      <td>1.0</td>\n",
       "      <td>2.25</td>\n",
       "      <td>2.25</td>\n",
       "      <td>2.09</td>\n",
       "      <td>...</td>\n",
       "      <td>Cafer SANTUR</td>\n",
       "      <td>43</td>\n",
       "      <td>ERİKLİ</td>\n",
       "      <td>İÇECEK</td>\n",
       "      <td>SU MADENSUYU</td>\n",
       "      <td>SU</td>\n",
       "      <td>2018-06-18 14:27:02</td>\n",
       "      <td>2018-06-18 14:27:26</td>\n",
       "      <td>E</td>\n",
       "      <td>2018-07-14 02:05:33</td>\n",
       "    </tr>\n",
       "    <tr>\n",
       "      <th>3</th>\n",
       "      <td>4018575</td>\n",
       "      <td>1</td>\n",
       "      <td>00000009928</td>\n",
       "      <td>HELEN H. KANATLI UZUN 16 AD</td>\n",
       "      <td>0000000000266131</td>\n",
       "      <td>2018-06-01</td>\n",
       "      <td>1.0</td>\n",
       "      <td>2.50</td>\n",
       "      <td>2.50</td>\n",
       "      <td>2.12</td>\n",
       "      <td>...</td>\n",
       "      <td>Elif su KURBANOVA</td>\n",
       "      <td>26</td>\n",
       "      <td>CANLEYDİ</td>\n",
       "      <td>KAĞIT</td>\n",
       "      <td>HİJYENİK PEDLER</td>\n",
       "      <td>None</td>\n",
       "      <td>2018-06-02 17:27:14</td>\n",
       "      <td>2018-06-02 17:27:25</td>\n",
       "      <td>K</td>\n",
       "      <td>2018-07-14 02:15:46</td>\n",
       "    </tr>\n",
       "    <tr>\n",
       "      <th>4</th>\n",
       "      <td>5067193</td>\n",
       "      <td>1</td>\n",
       "      <td>00000002079</td>\n",
       "      <td>ERIKLI DOGAL MEMBA SU 500ML</td>\n",
       "      <td>0000000000296333</td>\n",
       "      <td>2018-06-17</td>\n",
       "      <td>1.0</td>\n",
       "      <td>0.40</td>\n",
       "      <td>0.40</td>\n",
       "      <td>0.37</td>\n",
       "      <td>...</td>\n",
       "      <td>Muhammed Emir DOMRUL</td>\n",
       "      <td>43</td>\n",
       "      <td>ERİKLİ</td>\n",
       "      <td>İÇECEK</td>\n",
       "      <td>SU MADENSUYU</td>\n",
       "      <td>SU</td>\n",
       "      <td>2018-06-18 15:15:33</td>\n",
       "      <td>2018-06-18 15:16:12</td>\n",
       "      <td>E</td>\n",
       "      <td>2018-07-14 02:07:16</td>\n",
       "    </tr>\n",
       "  </tbody>\n",
       "</table>\n",
       "<p>5 rows × 28 columns</p>\n",
       "</div>"
      ],
      "text/plain": [
       "   LOGICALREF  COUNT_     ITEMCODE                     ITEMNAME  \\\n",
       "0     5067166       1  00000005692                       KARPUZ   \n",
       "1     4018570       1  00000019100     TMO OSMANCIK PIRINC 2 KG   \n",
       "2     5067172       1  00000002080   ERIKLI DOGAL MEMBA SU 5 LT   \n",
       "3     4018575       1  00000009928  HELEN H. KANATLI UZUN 16 AD   \n",
       "4     5067193       1  00000002079  ERIKLI DOGAL MEMBA SU 500ML   \n",
       "\n",
       "            FICHENO      DATE_  AMOUNT  PRICE  LINENETTOTAL  LINENET  ...  \\\n",
       "0  0000000000296319 2018-06-17     NaN   0.70          4.42     4.09  ...   \n",
       "1  0000000000321461 2018-06-30     1.0   5.80          5.80     5.37  ...   \n",
       "2  0000000000296323 2018-06-17     1.0   2.25          2.25     2.09  ...   \n",
       "3  0000000000266131 2018-06-01     1.0   2.50          2.50     2.12  ...   \n",
       "4  0000000000296333 2018-06-17     1.0   0.40          0.40     0.37  ...   \n",
       "\n",
       "             CLIENTNAME BRANDCODE      BRAND CATEGORY_NAME1   CATEGORY_NAME2  \\\n",
       "0    Berra ÇIKLAİPLİKÇİ       A25        HAL    MEYVE SEBZE            MEYVE   \n",
       "1        Turgay OZGUREL        49   F NEFFİS           GIDA         BAKLİYAT   \n",
       "2          Cafer SANTUR        43     ERİKLİ         İÇECEK     SU MADENSUYU   \n",
       "3     Elif su KURBANOVA        26   CANLEYDİ          KAĞIT  HİJYENİK PEDLER   \n",
       "4  Muhammed Emir DOMRUL        43     ERİKLİ         İÇECEK     SU MADENSUYU   \n",
       "\n",
       "   CATEGORY_NAME3           STARTDATE             ENDDATE SPECODE  \\\n",
       "0            None 2018-06-18 14:00:26 2018-06-18 14:00:46       K   \n",
       "1  PAKET BAKLİYAT 2018-07-01 13:33:51 2018-07-01 13:34:29       E   \n",
       "2              SU 2018-06-18 14:27:02 2018-06-18 14:27:26       E   \n",
       "3            None 2018-06-02 17:27:14 2018-06-02 17:27:25       K   \n",
       "4              SU 2018-06-18 15:15:33 2018-06-18 15:16:12       E   \n",
       "\n",
       "  CAPIBLOCK_CREADEDDATE  \n",
       "0   2018-07-14 01:51:02  \n",
       "1   2018-07-14 01:52:04  \n",
       "2   2018-07-14 02:05:33  \n",
       "3   2018-07-14 02:15:46  \n",
       "4   2018-07-14 02:07:16  \n",
       "\n",
       "[5 rows x 28 columns]"
      ]
     },
     "execution_count": 24,
     "metadata": {},
     "output_type": "execute_result"
    }
   ],
   "source": [
    "market5mil_tbl.limit(5).toPandas()"
   ]
  },
  {
   "cell_type": "code",
   "execution_count": 25,
   "metadata": {},
   "outputs": [],
   "source": [
    "joined_df2 = market1mil_tbl.join(market5mil_tbl, \"LOGICALREF\") \\\n",
    ".drop(*market1mil_tbl.columns)"
   ]
  },
  {
   "cell_type": "code",
   "execution_count": 26,
   "metadata": {},
   "outputs": [
    {
     "name": "stderr",
     "output_type": "stream",
     "text": [
      "[Stage 18:>                                                         (0 + 1) / 1]\r"
     ]
    },
    {
     "name": "stdout",
     "output_type": "stream",
     "text": [
      "--- 2.2843732833862305 seconds ----\n"
     ]
    },
    {
     "name": "stderr",
     "output_type": "stream",
     "text": [
      "                                                                                \r"
     ]
    }
   ],
   "source": [
    "import time\n",
    "start_time = time.time()\n",
    "\n",
    "joined_df2.limit(5).toPandas()\n",
    "\n",
    "print(\"--- %s seconds ----\" %(time.time() - start_time))"
   ]
  },
  {
   "cell_type": "code",
   "execution_count": 27,
   "metadata": {},
   "outputs": [
    {
     "name": "stdout",
     "output_type": "stream",
     "text": [
      "== Optimized Logical Plan ==\n",
      "Project, Statistics(sizeInBytes=5.0 TiB)\n",
      "+- Join Inner, (LOGICALREF#381 = LOGICALREF#437), Statistics(sizeInBytes=10.0 TiB)\n",
      "   :- Project [LOGICALREF#381], Statistics(sizeInBytes=1247.7 KiB)\n",
      "   :  +- Filter isnotnull(LOGICALREF#381), Statistics(sizeInBytes=49.5 MiB)\n",
      "   :     +- Relation[LOGICALREF#381,COUNT_#382,ITEMCODE#383,ITEMNAME#384,FICHENO#385,DATE_#386,AMOUNT#387,PRICE#388,LINENETTOTAL#389,LINENET#390,BRANCHNR#391,BRANCH#392,SALESMAN#393,CITY#394,REGION#395,LATITUDE#396,LONGITUDE#397,CLIENTCODE#398,CLIENTNAME#399,BRANDCODE#400,BRAND#401,CATEGORY_NAME1#402,CATEGORY_NAME2#403,CATEGORY_NAME3#404,... 4 more fields] parquet, Statistics(sizeInBytes=49.5 MiB)\n",
      "   +- Project [LOGICALREF#437], Statistics(sizeInBytes=8.2 MiB)\n",
      "      +- Filter isnotnull(LOGICALREF#437), Statistics(sizeInBytes=267.5 MiB)\n",
      "         +- Relation[LOGICALREF#437,COUNT_#438,ITEMCODE#439,ITEMNAME#440,FICHENO#441,DATE_#442,AMOUNT#443,PRICE#444,LINENETTOTAL#445,LINENET#446,BRANCHNR#447,BRANCH#448,SALESMAN#449,CITY#450,REGION#451,LATITUDE#452,LONGITUDE#453,CLIENTCODE#454,CLIENTNAME#455,BRANDCODE#456,BRAND#457,CATEGORY_NAME1#458,CATEGORY_NAME2#459,CATEGORY_NAME3#460,... 4 more fields] parquet, Statistics(sizeInBytes=267.5 MiB)\n",
      "\n",
      "== Physical Plan ==\n",
      "*(3) Project\n",
      "+- *(3) SortMergeJoin [LOGICALREF#381], [LOGICALREF#437], Inner\n",
      "   :- *(1) Sort [LOGICALREF#381 ASC NULLS FIRST], false, 0\n",
      "   :  +- *(1) Filter isnotnull(LOGICALREF#381)\n",
      "   :     +- *(1) ColumnarToRow\n",
      "   :        +- FileScan parquet default.market1mil_tbl[LOGICALREF#381] Batched: true, DataFilters: [isnotnull(LOGICALREF#381)], Format: Parquet, Location: InMemoryFileIndex[hdfs://localhost:9000/user/hive/warehouse/market1mil_tbl], PartitionFilters: [], PushedFilters: [IsNotNull(LOGICALREF)], ReadSchema: struct<LOGICALREF:int>, SelectedBucketsCount: 8 out of 8\n",
      "   +- *(2) Sort [LOGICALREF#437 ASC NULLS FIRST], false, 0\n",
      "      +- *(2) Filter isnotnull(LOGICALREF#437)\n",
      "         +- *(2) ColumnarToRow\n",
      "            +- FileScan parquet default.market5mil_tbl[LOGICALREF#437] Batched: true, DataFilters: [isnotnull(LOGICALREF#437)], Format: Parquet, Location: InMemoryFileIndex[hdfs://localhost:9000/user/hive/warehouse/market5mil_tbl], PartitionFilters: [], PushedFilters: [IsNotNull(LOGICALREF)], ReadSchema: struct<LOGICALREF:int>, SelectedBucketsCount: 8 out of 8\n",
      "\n",
      "\n"
     ]
    }
   ],
   "source": [
    "joined_df2.explain(\"cost\")"
   ]
  },
  {
   "cell_type": "code",
   "execution_count": 28,
   "metadata": {},
   "outputs": [],
   "source": [
    "# It is expected to shorter time for join operation with bucketed tables"
   ]
  },
  {
   "cell_type": "code",
   "execution_count": 12,
   "metadata": {},
   "outputs": [],
   "source": [
    "spark.stop()"
   ]
  },
  {
   "cell_type": "code",
   "execution_count": null,
   "metadata": {},
   "outputs": [],
   "source": []
  }
 ],
 "metadata": {
  "kernelspec": {
   "display_name": "venvspark",
   "language": "python",
   "name": "venvspark"
  },
  "language_info": {
   "codemirror_mode": {
    "name": "ipython",
    "version": 3
   },
   "file_extension": ".py",
   "mimetype": "text/x-python",
   "name": "python",
   "nbconvert_exporter": "python",
   "pygments_lexer": "ipython3",
   "version": "3.8.12"
  }
 },
 "nbformat": 4,
 "nbformat_minor": 4
}
