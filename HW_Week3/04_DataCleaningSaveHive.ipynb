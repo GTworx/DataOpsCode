{
 "cells": [
  {
   "cell_type": "code",
   "execution_count": 1,
   "id": "9197d4c7-b066-4b9e-876f-6c6085a68bba",
   "metadata": {
    "tags": []
   },
   "outputs": [],
   "source": [
    "import findspark\n",
    "findspark.init(\"/opt/manual/spark/\")"
   ]
  },
  {
   "cell_type": "code",
   "execution_count": 1,
   "id": "9c7dd2a2-2231-4b2f-95d1-2aa8c1d6a4ab",
   "metadata": {},
   "outputs": [],
   "source": [
    "from pyspark.sql import SparkSession, functions as F\n",
    "from pyspark.sql.types import StructType, StructField, DoubleType, StringType, IntegerType, DateType, ArrayType, FloatType"
   ]
  },
  {
   "cell_type": "code",
   "execution_count": 2,
   "id": "9b6a50af-4586-4865-9068-2f2388e111b1",
   "metadata": {
    "tags": []
   },
   "outputs": [
    {
     "name": "stderr",
     "output_type": "stream",
     "text": [
      "WARNING: An illegal reflective access operation has occurred\n",
      "WARNING: Illegal reflective access by org.apache.spark.unsafe.Platform (file:/opt/manual/spark-3.1.1-bin-hadoop3.2/jars/spark-unsafe_2.12-3.1.1.jar) to constructor java.nio.DirectByteBuffer(long,int)\n",
      "WARNING: Please consider reporting this to the maintainers of org.apache.spark.unsafe.Platform\n",
      "WARNING: Use --illegal-access=warn to enable warnings of further illegal reflective access operations\n",
      "WARNING: All illegal access operations will be denied in a future release\n",
      "2023-02-22 17:01:29,206 WARN util.NativeCodeLoader: Unable to load native-hadoop library for your platform... using builtin-java classes where applicable\n",
      "Setting default log level to \"WARN\".\n",
      "To adjust logging level use sc.setLogLevel(newLevel). For SparkR, use setLogLevel(newLevel).\n",
      "2023-02-22 17:01:34,631 WARN yarn.Client: Neither spark.yarn.jars nor spark.yarn.archive is set, falling back to uploading libraries under SPARK_HOME.\n"
     ]
    }
   ],
   "source": [
    "spark = SparkSession.builder \\\n",
    ".master(\"yarn\") \\\n",
    ".enableHiveSupport() \\\n",
    ".appName(\"CleanDataSaveToHive\") \\\n",
    ".getOrCreate()"
   ]
  },
  {
   "cell_type": "markdown",
   "id": "6c67a752-24dd-4a30-8d49-cea0b1125ef3",
   "metadata": {},
   "source": [
    "# Read Data"
   ]
  },
  {
   "cell_type": "code",
   "execution_count": 4,
   "id": "85de4959-2a22-4b0d-a0e4-7d84a6755a4b",
   "metadata": {
    "tags": []
   },
   "outputs": [],
   "source": [
    "#! wget -P /home/train/datasets/ \\\n",
    "#https://github.com/erkansirin78/datasets/raw/master/dirty_store_transactions.csv"
   ]
  },
  {
   "cell_type": "code",
   "execution_count": 3,
   "id": "b17203da-879d-4aa3-a2d6-470bf4bb0e42",
   "metadata": {
    "tags": []
   },
   "outputs": [
    {
     "name": "stderr",
     "output_type": "stream",
     "text": [
      "                                                                                \r"
     ]
    }
   ],
   "source": [
    "df = spark.read \\\n",
    ".format(\"csv\") \\\n",
    ".option(\"header\", True) \\\n",
    ".option(\"sep\", \",\") \\\n",
    ".option(\"inferSchema\", True) \\\n",
    ".load(\"file:///home/train/datasets/dirty_store_transactions.csv\")"
   ]
  },
  {
   "cell_type": "markdown",
   "id": "0c866a83-082c-4cd1-aeda-33f7d5c0d443",
   "metadata": {},
   "source": [
    "# Clean Data"
   ]
  },
  {
   "cell_type": "code",
   "execution_count": 4,
   "id": "bf12aa14-c0b8-4be8-b471-7b6af95d5d7c",
   "metadata": {},
   "outputs": [],
   "source": [
    "df1=df.withColumn(\"Date\", F.to_date(\"Date\", \"y-M-d\")) \\\n",
    ".withColumn(\"CP\", F.translate(\"CP\", \"$\", \"\").cast(DoubleType())) \\\n",
    ".withColumn(\"DISCOUNT\",  F.translate(\"DISCOUNT\", \"$\", \"\").cast(FloatType())) \\\n",
    ".withColumn(\"SP\",  F.translate(\"SP\", \"$\", \"\").cast(FloatType())) \\\n",
    ".withColumn(\"MRP\",  F.translate(\"MRP\", \"$\", \"\").cast(IntegerType())) \\\n",
    ".withColumn(\"STORE_LOCATION\", F.regexp_replace(F.col(\"STORE_LOCATION\"), \"[^a-zA-Z0-9]\", \"\")) \\\n",
    ".withColumn(\"PRODUCT_ID\", F.regexp_replace(F.col(\"PRODUCT_ID\"), \"[^0-9]\", \"\"))"
   ]
  },
  {
   "cell_type": "code",
   "execution_count": 5,
   "id": "a0200608-f43c-4aca-8c61-6796a7cb7ab7",
   "metadata": {
    "tags": []
   },
   "outputs": [
    {
     "name": "stdout",
     "output_type": "stream",
     "text": [
      "root\n",
      " |-- STORE_ID: string (nullable = true)\n",
      " |-- STORE_LOCATION: string (nullable = true)\n",
      " |-- PRODUCT_CATEGORY: string (nullable = true)\n",
      " |-- PRODUCT_ID: string (nullable = true)\n",
      " |-- MRP: integer (nullable = true)\n",
      " |-- CP: double (nullable = true)\n",
      " |-- DISCOUNT: float (nullable = true)\n",
      " |-- SP: float (nullable = true)\n",
      " |-- Date: date (nullable = true)\n",
      "\n"
     ]
    }
   ],
   "source": [
    "df1.printSchema()"
   ]
  },
  {
   "cell_type": "code",
   "execution_count": 23,
   "id": "2ad85ef9-bf30-4e0b-b26e-fc415284c4ef",
   "metadata": {
    "tags": []
   },
   "outputs": [],
   "source": [
    "hive_df=df1.select([F.col(x).alias(x.lower()) for x in df1.columns])"
   ]
  },
  {
   "cell_type": "code",
   "execution_count": 24,
   "id": "7983b428-f617-4cb5-92cd-d080dfaf3044",
   "metadata": {
    "tags": []
   },
   "outputs": [
    {
     "name": "stdout",
     "output_type": "stream",
     "text": [
      "root\n",
      " |-- store_id: string (nullable = true)\n",
      " |-- store_location: string (nullable = true)\n",
      " |-- product_category: string (nullable = true)\n",
      " |-- product_id: string (nullable = true)\n",
      " |-- mrp: integer (nullable = true)\n",
      " |-- cp: double (nullable = true)\n",
      " |-- discount: float (nullable = true)\n",
      " |-- sp: float (nullable = true)\n",
      " |-- date: date (nullable = true)\n",
      "\n"
     ]
    }
   ],
   "source": [
    "hive_df.printSchema()"
   ]
  },
  {
   "cell_type": "code",
   "execution_count": 25,
   "id": "1b11a5cf-b308-4017-849a-f131f415c827",
   "metadata": {
    "tags": []
   },
   "outputs": [
    {
     "name": "stdout",
     "output_type": "stream",
     "text": [
      "+--------+--------------+----------------+----------+---+-----+--------+-----+----------+\n",
      "|store_id|store_location|product_category|product_id|mrp|   cp|discount|   sp|      date|\n",
      "+--------+--------------+----------------+----------+---+-----+--------+-----+----------+\n",
      "|  YR7220|       NewYork|     Electronics|  12254943| 31|20.77|    1.86|29.14|2019-11-26|\n",
      "|  YR7220|       NewYork|       Furniture|  72619323| 15| 9.75|     1.5| 13.5|2019-11-26|\n",
      "|  YR7220|       NewYork|     Electronics|  34161682| 88|62.48|     4.4| 83.6|2019-11-26|\n",
      "|  YR7220|       NewYork|         Kitchen|  79411621| 91|58.24|    3.64|87.36|2019-11-26|\n",
      "|  YR7220|       NewYork|         Fashion|  39520263| 85| 51.0|    2.55|82.45|2019-11-26|\n",
      "|  YR7220|       NewYork|         Kitchen|  93809204| 37|24.05|    0.74|36.26|2019-11-26|\n",
      "|  YR7220|       NewYork|       Cosmetics|  86610412| 80| 48.8|     6.4| 73.6|2019-11-26|\n",
      "|  YR7220|       NewYork|         Kitchen|  52503356| 71| 42.6|    5.68|65.32|2019-11-26|\n",
      "|  YR7220|       NewYork|         Kitchen|  77516479| 92|56.12|    3.68|88.32|2019-11-26|\n",
      "|  YR7220|       NewYork|       Cosmetics|  47334289| 16|10.72|    0.96|15.04|2019-11-26|\n",
      "|  YR7220|       NewYork|       Cosmetics|  87566223| 38|23.18|    2.66|35.34|2019-11-26|\n",
      "|  YR7220|       NewYork|     Electronics|  54074401| 26|17.68|    0.52|25.48|2019-11-26|\n",
      "|  YR7220|       NewYork|         Fashion|  24246520| 45|30.15|    1.35|43.65|2019-11-26|\n",
      "|  YR7220|       NewYork|       Cosmetics|  61138610| 83|57.27|    1.66|81.34|2019-11-26|\n",
      "|  YR7220|       NewYork|         Kitchen|  69018554| 55| 37.4|    1.65|53.35|2019-11-26|\n",
      "|  YR7220|       NewYork|       Groceries|  11950073| 13| 7.93|    0.39|12.61|2019-11-26|\n",
      "|  YR7220|       NewYork|         Fashion|  86404418| 69| 48.3|    4.83|64.17|2019-11-26|\n",
      "|  YR7220|       NewYork|         Fashion|  91763000| 18| 11.7|    0.36|17.64|2019-11-26|\n",
      "|  YR7220|       NewYork|       Groceries|  53648681| 52|36.92|    1.04|50.96|2019-11-26|\n",
      "|  YR7220|       NewYork|       Groceries|  15652465| 29|18.85|    2.03|26.97|2019-11-26|\n",
      "+--------+--------------+----------------+----------+---+-----+--------+-----+----------+\n",
      "only showing top 20 rows\n",
      "\n"
     ]
    }
   ],
   "source": [
    "hive_df.show()"
   ]
  },
  {
   "cell_type": "code",
   "execution_count": 26,
   "id": "b01393be-f6a0-445e-aba5-bc3f1f0ca20d",
   "metadata": {
    "tags": []
   },
   "outputs": [
    {
     "data": {
      "text/plain": [
       "37853"
      ]
     },
     "execution_count": 26,
     "metadata": {},
     "output_type": "execute_result"
    }
   ],
   "source": [
    "hive_df.count()"
   ]
  },
  {
   "cell_type": "markdown",
   "id": "562ee8fe-cfae-4a7e-a246-85162e321dcf",
   "metadata": {},
   "source": [
    "# Save data to Hive"
   ]
  },
  {
   "cell_type": "code",
   "execution_count": null,
   "id": "996be3ef-d3d4-48d1-bf6a-5906f0675e3e",
   "metadata": {
    "tags": []
   },
   "outputs": [],
   "source": [
    "spark.sql(\"CREATE DATABASE IF NOT EXISTS test1\")"
   ]
  },
  {
   "cell_type": "code",
   "execution_count": 27,
   "id": "1971b4e4-9f5b-4f31-9dc7-7dce766a76cf",
   "metadata": {
    "tags": []
   },
   "outputs": [
    {
     "name": "stdout",
     "output_type": "stream",
     "text": [
      "+---------+\n",
      "|namespace|\n",
      "+---------+\n",
      "|  company|\n",
      "|  default|\n",
      "|hive_odev|\n",
      "|    test1|\n",
      "+---------+\n",
      "\n"
     ]
    }
   ],
   "source": [
    "spark.sql(\"show databases\").show()"
   ]
  },
  {
   "cell_type": "markdown",
   "id": "8f270c8a-5f11-44c6-aaf3-c7e5536159d1",
   "metadata": {
    "tags": []
   },
   "source": [
    "# ORC Format"
   ]
  },
  {
   "cell_type": "code",
   "execution_count": 36,
   "id": "a47f45c4-afdb-431b-b5e5-efb72bf1cc14",
   "metadata": {},
   "outputs": [
    {
     "name": "stderr",
     "output_type": "stream",
     "text": [
      "                                                                                \r"
     ]
    }
   ],
   "source": [
    "hive_df.write.format(\"orc\") \\\n",
    ".mode(\"overwrite\") \\\n",
    ".saveAsTable(\"test1.clean_transactions1\")"
   ]
  },
  {
   "cell_type": "code",
   "execution_count": 48,
   "id": "ae936c40-39c5-4a2e-87cf-7b1b7cdf84b3",
   "metadata": {
    "tags": []
   },
   "outputs": [
    {
     "name": "stdout",
     "output_type": "stream",
     "text": [
      "Found 2 items\n",
      "-rw-r--r--   1 train hive          0 2023-02-22 17:04 /user/hive/warehouse/test1.db/clean_transactions/_SUCCESS\n",
      "-rw-r--r--   1 train hive     194855 2023-02-22 17:04 /user/hive/warehouse/test1.db/clean_transactions/part-00000-9551138c-6532-401d-9b35-4682cb104196-c000.snappy.orc\n"
     ]
    }
   ],
   "source": [
    "!hdfs dfs -ls /user/hive/warehouse/test1.db/clean_transactions"
   ]
  },
  {
   "cell_type": "markdown",
   "id": "da150e90-82ce-4b63-934b-86eefed4a9b9",
   "metadata": {},
   "source": [
    "# Default Format Parquet"
   ]
  },
  {
   "cell_type": "code",
   "execution_count": 37,
   "id": "bcfc61a3-2f54-4f39-8937-569cffa33be4",
   "metadata": {
    "tags": []
   },
   "outputs": [
    {
     "name": "stderr",
     "output_type": "stream",
     "text": [
      "                                                                                \r"
     ]
    }
   ],
   "source": [
    "hive_df.write. \\\n",
    ".mode(\"overwrite\") \\\n",
    ".saveAsTable(\"test1.clean_transactions_default\")"
   ]
  },
  {
   "cell_type": "code",
   "execution_count": 49,
   "id": "230a511c-5609-4caa-a3c0-4c4217a6f619",
   "metadata": {
    "tags": []
   },
   "outputs": [
    {
     "name": "stdout",
     "output_type": "stream",
     "text": [
      "Found 2 items\n",
      "-rw-r--r--   1 train hive          0 2023-02-22 17:12 /user/hive/warehouse/test1.db/clean_transactions_default/_SUCCESS\n",
      "-rw-r--r--   1 train hive     241687 2023-02-22 17:12 /user/hive/warehouse/test1.db/clean_transactions_default/part-00000-02df1282-0e19-4ade-8131-f140819ff36f-c000.snappy.parquet\n"
     ]
    }
   ],
   "source": [
    "!hdfs dfs -ls /user/hive/warehouse/test1.db/clean_transactions_default"
   ]
  },
  {
   "cell_type": "markdown",
   "id": "45a8392d-479e-46bd-ba1c-2cd919c12263",
   "metadata": {},
   "source": [
    "# Txt Format"
   ]
  },
  {
   "cell_type": "code",
   "execution_count": 47,
   "id": "9586611c-6ac2-4c91-93df-7abfd67c5c40",
   "metadata": {
    "tags": []
   },
   "outputs": [
    {
     "name": "stderr",
     "output_type": "stream",
     "text": [
      "                                                                                \r"
     ]
    }
   ],
   "source": [
    "hive_df.write \\\n",
    ".mode(\"overwrite\") \\\n",
    ".option(\"fileFormat\", \"textfile\") \\\n",
    ".saveAsTable(\"test1.clean_transactions_text\")"
   ]
  },
  {
   "cell_type": "code",
   "execution_count": 51,
   "id": "2db956f8-f977-4536-990d-97d80cd61c38",
   "metadata": {
    "tags": []
   },
   "outputs": [
    {
     "name": "stdout",
     "output_type": "stream",
     "text": [
      "Found 2 items\n",
      "-rw-r--r--   1 train hive          0 2023-02-22 17:26 /user/hive/warehouse/test1.db/clean_transactions_text/_SUCCESS\n",
      "-rw-r--r--   1 train hive     241687 2023-02-22 17:26 /user/hive/warehouse/test1.db/clean_transactions_text/part-00000-67abe4ad-345a-4b78-a80e-4731b710bcc4-c000.snappy.parquet\n"
     ]
    }
   ],
   "source": [
    "!hdfs dfs -ls /user/hive/warehouse/test1.db/clean_transactions_text"
   ]
  },
  {
   "cell_type": "markdown",
   "id": "59ef461d-86a1-4f66-b708-750050463487",
   "metadata": {},
   "source": [
    "# Read data from Hive"
   ]
  },
  {
   "cell_type": "code",
   "execution_count": 30,
   "id": "7baf9422-6621-415a-b8ae-d3bfa6bac790",
   "metadata": {
    "tags": []
   },
   "outputs": [],
   "source": [
    "df_read1 = spark.read.table(\"test1.clean_transactions1\")"
   ]
  },
  {
   "cell_type": "code",
   "execution_count": 31,
   "id": "5dc6929d-21e5-418f-b2c2-3b9850a63eec",
   "metadata": {
    "tags": []
   },
   "outputs": [
    {
     "name": "stdout",
     "output_type": "stream",
     "text": [
      "+--------+--------------+----------------+----------+---+-----+--------+-----+----------+\n",
      "|store_id|store_location|product_category|product_id|mrp|   cp|discount|   sp|      date|\n",
      "+--------+--------------+----------------+----------+---+-----+--------+-----+----------+\n",
      "|  YR7220|       NewYork|     Electronics|  12254943| 31|20.77|    1.86|29.14|2019-11-26|\n",
      "|  YR7220|       NewYork|       Furniture|  72619323| 15| 9.75|     1.5| 13.5|2019-11-26|\n",
      "|  YR7220|       NewYork|     Electronics|  34161682| 88|62.48|     4.4| 83.6|2019-11-26|\n",
      "|  YR7220|       NewYork|         Kitchen|  79411621| 91|58.24|    3.64|87.36|2019-11-26|\n",
      "|  YR7220|       NewYork|         Fashion|  39520263| 85| 51.0|    2.55|82.45|2019-11-26|\n",
      "|  YR7220|       NewYork|         Kitchen|  93809204| 37|24.05|    0.74|36.26|2019-11-26|\n",
      "|  YR7220|       NewYork|       Cosmetics|  86610412| 80| 48.8|     6.4| 73.6|2019-11-26|\n",
      "|  YR7220|       NewYork|         Kitchen|  52503356| 71| 42.6|    5.68|65.32|2019-11-26|\n",
      "|  YR7220|       NewYork|         Kitchen|  77516479| 92|56.12|    3.68|88.32|2019-11-26|\n",
      "|  YR7220|       NewYork|       Cosmetics|  47334289| 16|10.72|    0.96|15.04|2019-11-26|\n",
      "|  YR7220|       NewYork|       Cosmetics|  87566223| 38|23.18|    2.66|35.34|2019-11-26|\n",
      "|  YR7220|       NewYork|     Electronics|  54074401| 26|17.68|    0.52|25.48|2019-11-26|\n",
      "|  YR7220|       NewYork|         Fashion|  24246520| 45|30.15|    1.35|43.65|2019-11-26|\n",
      "|  YR7220|       NewYork|       Cosmetics|  61138610| 83|57.27|    1.66|81.34|2019-11-26|\n",
      "|  YR7220|       NewYork|         Kitchen|  69018554| 55| 37.4|    1.65|53.35|2019-11-26|\n",
      "|  YR7220|       NewYork|       Groceries|  11950073| 13| 7.93|    0.39|12.61|2019-11-26|\n",
      "|  YR7220|       NewYork|         Fashion|  86404418| 69| 48.3|    4.83|64.17|2019-11-26|\n",
      "|  YR7220|       NewYork|         Fashion|  91763000| 18| 11.7|    0.36|17.64|2019-11-26|\n",
      "|  YR7220|       NewYork|       Groceries|  53648681| 52|36.92|    1.04|50.96|2019-11-26|\n",
      "|  YR7220|       NewYork|       Groceries|  15652465| 29|18.85|    2.03|26.97|2019-11-26|\n",
      "+--------+--------------+----------------+----------+---+-----+--------+-----+----------+\n",
      "only showing top 20 rows\n",
      "\n"
     ]
    }
   ],
   "source": [
    "df_read1.show()"
   ]
  },
  {
   "cell_type": "code",
   "execution_count": 32,
   "id": "c5c91e9e-a46f-4e99-97a6-7ca0c94193a3",
   "metadata": {
    "tags": []
   },
   "outputs": [],
   "source": [
    "df_read2 = spark.sql(\"select distinct store_location from test1.clean_transactions1\")"
   ]
  },
  {
   "cell_type": "code",
   "execution_count": 33,
   "id": "a0cd7595-cefe-47c9-b836-ba287d5422bd",
   "metadata": {},
   "outputs": [
    {
     "name": "stderr",
     "output_type": "stream",
     "text": [
      "[Stage 44:===============================================>        (63 + 3) / 75]\r"
     ]
    },
    {
     "name": "stdout",
     "output_type": "stream",
     "text": [
      "+--------------+\n",
      "|store_location|\n",
      "+--------------+\n",
      "|    Washington|\n",
      "|       Houston|\n",
      "|       NewYork|\n",
      "|         Miami|\n",
      "|        Denver|\n",
      "+--------------+\n",
      "\n"
     ]
    },
    {
     "name": "stderr",
     "output_type": "stream",
     "text": [
      "                                                                                \r"
     ]
    }
   ],
   "source": [
    "df_read2.show()"
   ]
  },
  {
   "cell_type": "code",
   "execution_count": 34,
   "id": "69f11943-3da3-48b1-b7a0-1cb510a69084",
   "metadata": {},
   "outputs": [],
   "source": [
    "df_read3 = spark.sql(\"select * from test1.clean_transactions_default limit 2\")"
   ]
  },
  {
   "cell_type": "code",
   "execution_count": 35,
   "id": "b8f5005c-2231-43f5-88e9-26dd7f5618e7",
   "metadata": {},
   "outputs": [
    {
     "name": "stdout",
     "output_type": "stream",
     "text": [
      "+--------+--------------+----------------+----------+---+-----+--------+-----+----------+\n",
      "|store_id|store_location|product_category|product_id|mrp|   cp|discount|   sp|      date|\n",
      "+--------+--------------+----------------+----------+---+-----+--------+-----+----------+\n",
      "|  YR7220|       NewYork|     Electronics|  12254943| 31|20.77|    1.86|29.14|2019-11-26|\n",
      "|  YR7220|       NewYork|       Furniture|  72619323| 15| 9.75|     1.5| 13.5|2019-11-26|\n",
      "+--------+--------------+----------------+----------+---+-----+--------+-----+----------+\n",
      "\n"
     ]
    },
    {
     "name": "stderr",
     "output_type": "stream",
     "text": [
      "                                                                                \r"
     ]
    }
   ],
   "source": [
    "df_read3.show()"
   ]
  },
  {
   "cell_type": "code",
   "execution_count": null,
   "id": "c0b87922-70d0-4c04-aca8-0bfe1ad23cc1",
   "metadata": {},
   "outputs": [],
   "source": [
    "spark.stop()"
   ]
  },
  {
   "cell_type": "code",
   "execution_count": null,
   "id": "787cc3e3-9221-4654-a90c-da35d724f02f",
   "metadata": {},
   "outputs": [],
   "source": []
  },
  {
   "cell_type": "code",
   "execution_count": null,
   "id": "dc94f059-2dbf-4cc8-b183-216dc741fbc3",
   "metadata": {},
   "outputs": [],
   "source": []
  }
 ],
 "metadata": {
  "kernelspec": {
   "display_name": "Python 3",
   "language": "python",
   "name": "python3"
  },
  "language_info": {
   "codemirror_mode": {
    "name": "ipython",
    "version": 3
   },
   "file_extension": ".py",
   "mimetype": "text/x-python",
   "name": "python",
   "nbconvert_exporter": "python",
   "pygments_lexer": "ipython3",
   "version": "3.7.8"
  },
  "vscode": {
   "interpreter": {
    "hash": "0a54084e6b208ee8d1ce3989ffc20924477a5f55f5a43e22e699a6741623861e"
   }
  }
 },
 "nbformat": 4,
 "nbformat_minor": 5
}
