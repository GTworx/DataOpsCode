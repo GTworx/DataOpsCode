{
 "cells": [
  {
   "cell_type": "code",
   "execution_count": 1,
   "id": "9c7dd2a2-2231-4b2f-95d1-2aa8c1d6a4ab",
   "metadata": {},
   "outputs": [],
   "source": [
    "from pyspark.sql import SparkSession, functions as F\n",
    "from pyspark.sql.types import StructType, StructField, DoubleType, StringType, IntegerType, DateType, ArrayType, FloatType"
   ]
  },
  {
   "cell_type": "code",
   "execution_count": 2,
   "id": "9b6a50af-4586-4865-9068-2f2388e111b1",
   "metadata": {
    "tags": []
   },
   "outputs": [
    {
     "name": "stderr",
     "output_type": "stream",
     "text": [
      "WARNING: An illegal reflective access operation has occurred\n",
      "WARNING: Illegal reflective access by org.apache.spark.unsafe.Platform (file:/opt/manual/spark-3.1.1-bin-hadoop3.2/jars/spark-unsafe_2.12-3.1.1.jar) to constructor java.nio.DirectByteBuffer(long,int)\n",
      "WARNING: Please consider reporting this to the maintainers of org.apache.spark.unsafe.Platform\n",
      "WARNING: Use --illegal-access=warn to enable warnings of further illegal reflective access operations\n",
      "WARNING: All illegal access operations will be denied in a future release\n",
      "2023-02-22 16:39:55,745 WARN util.NativeCodeLoader: Unable to load native-hadoop library for your platform... using builtin-java classes where applicable\n",
      "Setting default log level to \"WARN\".\n",
      "To adjust logging level use sc.setLogLevel(newLevel). For SparkR, use setLogLevel(newLevel).\n"
     ]
    }
   ],
   "source": [
    "spark = SparkSession.builder \\\n",
    ".master(\"local[2]\") \\\n",
    ".appName(\"CleanDataStepByStep\") \\\n",
    ".getOrCreate()"
   ]
  },
  {
   "cell_type": "code",
   "execution_count": 3,
   "id": "85de4959-2a22-4b0d-a0e4-7d84a6755a4b",
   "metadata": {
    "tags": []
   },
   "outputs": [
    {
     "name": "stdout",
     "output_type": "stream",
     "text": [
      "--2023-02-20 19:48:02--  https://github.com/erkansirin78/datasets/raw/master/dirty_store_transactions.csv\n",
      "Resolving github.com (github.com)... 140.82.121.4\n",
      "Connecting to github.com (github.com)|140.82.121.4|:443... connected.\n",
      "HTTP request sent, awaiting response... 302 Found\n",
      "Location: https://raw.githubusercontent.com/erkansirin78/datasets/master/dirty_store_transactions.csv [following]\n",
      "--2023-02-20 19:48:02--  https://raw.githubusercontent.com/erkansirin78/datasets/master/dirty_store_transactions.csv\n",
      "Resolving raw.githubusercontent.com (raw.githubusercontent.com)... 185.199.111.133, 185.199.109.133, 185.199.108.133, ...\n",
      "Connecting to raw.githubusercontent.com (raw.githubusercontent.com)|185.199.111.133|:443... connected.\n",
      "HTTP request sent, awaiting response... 200 OK\n",
      "Length: 2609524 (2.5M) [text/plain]\n",
      "Saving to: ‘/home/train/datasets/dirty_store_transactions.csv’\n",
      "\n",
      "100%[======================================>] 2,609,524   3.56MB/s   in 0.7s   \n",
      "\n",
      "2023-02-20 19:48:04 (3.56 MB/s) - ‘/home/train/datasets/dirty_store_transactions.csv’ saved [2609524/2609524]\n",
      "\n"
     ]
    }
   ],
   "source": [
    "#! wget -P /home/train/datasets/ \\\n",
    "#https://github.com/erkansirin78/datasets/raw/master/dirty_store_transactions.csv"
   ]
  },
  {
   "cell_type": "code",
   "execution_count": 3,
   "id": "b17203da-879d-4aa3-a2d6-470bf4bb0e42",
   "metadata": {
    "tags": []
   },
   "outputs": [
    {
     "name": "stderr",
     "output_type": "stream",
     "text": [
      "                                                                                \r"
     ]
    }
   ],
   "source": [
    "df = spark.read \\\n",
    ".format(\"csv\") \\\n",
    ".option(\"header\", True) \\\n",
    ".option(\"sep\", \",\") \\\n",
    ".option(\"inferSchema\", True) \\\n",
    ".load(\"file:///home/train/datasets/dirty_store_transactions.csv\")"
   ]
  },
  {
   "cell_type": "code",
   "execution_count": 4,
   "id": "c1c8d05f-9625-47fa-b462-9fe309aceb21",
   "metadata": {
    "tags": []
   },
   "outputs": [
    {
     "name": "stdout",
     "output_type": "stream",
     "text": [
      "+--------+--------------+----------------+----------+---+------+--------+------+----------+\n",
      "|STORE_ID|STORE_LOCATION|PRODUCT_CATEGORY|PRODUCT_ID|MRP|    CP|DISCOUNT|    SP|      Date|\n",
      "+--------+--------------+----------------+----------+---+------+--------+------+----------+\n",
      "|  YR7220|     New York(|     Electronics|  12254943|$31|$20.77|   $1.86|$29.14|2019-11-26|\n",
      "|  YR7220|     New York+|       Furniture| 72619323C|$15| $9.75|    $1.5| $13.5|2019-11-26|\n",
      "|  YR7220|     New York |     Electronics| 34161682B|$88|$62.48|    $4.4| $83.6|2019-11-26|\n",
      "|  YR7220|     New York!|         Kitchen|  79411621|$91|$58.24|   $3.64|$87.36|2019-11-26|\n",
      "|  YR7220|      New York|         Fashion| 39520263T|$85|   $51|   $2.55|$82.45|2019-11-26|\n",
      "|  YR7220|      New York|         Kitchen|  93809204|$37|$24.05|   $0.74|$36.26|2019-11-26|\n",
      "|  YR7220|      New York|       Cosmetics| 86610412D|$80| $48.8|    $6.4| $73.6|2019-11-26|\n",
      "|  YR7220|     New York$|         Kitchen| 52503356^|$71| $42.6|   $5.68|$65.32|2019-11-26|\n",
      "|  YR7220|      New York|         Kitchen|  77516479|$92|$56.12|   $3.68|$88.32|2019-11-26|\n",
      "|  YR7220|     New York!|       Cosmetics|  47334289|$16|$10.72|   $0.96|$15.04|2019-11-26|\n",
      "|  YR7220|    New York\"\"|       Cosmetics| 87566223^|$38|$23.18|   $2.66|$35.34|2019-11-26|\n",
      "|  YR7220|      New York|     Electronics| 54074401^|$26|$17.68|   $0.52|$25.48|2019-11-26|\n",
      "|  YR7220|      New York|         Fashion| 24246520G|$45|$30.15|   $1.35|$43.65|2019-11-26|\n",
      "|  YR7220|      New York|       Cosmetics|  61138610|$83|$57.27|   $1.66|$81.34|2019-11-26|\n",
      "|  YR7220|      New York|         Kitchen|  69018554|$55| $37.4|   $1.65|$53.35|2019-11-26|\n",
      "|  YR7220|      New York|       Groceries| 11950073P|$13| $7.93|   $0.39|$12.61|2019-11-26|\n",
      "|  YR7220|      New York|         Fashion|  86404418|$69| $48.3|   $4.83|$64.17|2019-11-26|\n",
      "|  YR7220|     New York+|         Fashion|  91763000|$18| $11.7|   $0.36|$17.64|2019-11-26|\n",
      "|  YR7220|      New York|       Groceries|  53648681|$52|$36.92|   $1.04|$50.96|2019-11-26|\n",
      "|  YR7220|      New York|       Groceries| 15652465T|$29|$18.85|   $2.03|$26.97|2019-11-26|\n",
      "+--------+--------------+----------------+----------+---+------+--------+------+----------+\n",
      "only showing top 20 rows\n",
      "\n"
     ]
    }
   ],
   "source": [
    "df.show()"
   ]
  },
  {
   "cell_type": "code",
   "execution_count": 5,
   "id": "8123a7b7-f173-487f-adbb-9d0a00fabae1",
   "metadata": {
    "tags": []
   },
   "outputs": [
    {
     "name": "stdout",
     "output_type": "stream",
     "text": [
      "root\n",
      " |-- STORE_ID: string (nullable = true)\n",
      " |-- STORE_LOCATION: string (nullable = true)\n",
      " |-- PRODUCT_CATEGORY: string (nullable = true)\n",
      " |-- PRODUCT_ID: string (nullable = true)\n",
      " |-- MRP: string (nullable = true)\n",
      " |-- CP: string (nullable = true)\n",
      " |-- DISCOUNT: string (nullable = true)\n",
      " |-- SP: string (nullable = true)\n",
      " |-- Date: string (nullable = true)\n",
      "\n"
     ]
    }
   ],
   "source": [
    "df.printSchema()"
   ]
  },
  {
   "cell_type": "code",
   "execution_count": 6,
   "id": "2a1cf140-491b-47ab-a055-5e1dc361df24",
   "metadata": {
    "tags": []
   },
   "outputs": [],
   "source": [
    "df1=df.withColumn(\"Date\", F.to_date(\"Date\", \"y-M-d\"))"
   ]
  },
  {
   "cell_type": "code",
   "execution_count": 7,
   "id": "cc2a86f3-1cbb-40d5-b26c-fa49cf88fd15",
   "metadata": {
    "tags": []
   },
   "outputs": [
    {
     "name": "stdout",
     "output_type": "stream",
     "text": [
      "+--------+--------------+----------------+----------+---+------+--------+------+----------+\n",
      "|STORE_ID|STORE_LOCATION|PRODUCT_CATEGORY|PRODUCT_ID|MRP|    CP|DISCOUNT|    SP|      Date|\n",
      "+--------+--------------+----------------+----------+---+------+--------+------+----------+\n",
      "|  YR7220|     New York(|     Electronics|  12254943|$31|$20.77|   $1.86|$29.14|2019-11-26|\n",
      "|  YR7220|     New York+|       Furniture| 72619323C|$15| $9.75|    $1.5| $13.5|2019-11-26|\n",
      "|  YR7220|     New York |     Electronics| 34161682B|$88|$62.48|    $4.4| $83.6|2019-11-26|\n",
      "|  YR7220|     New York!|         Kitchen|  79411621|$91|$58.24|   $3.64|$87.36|2019-11-26|\n",
      "|  YR7220|      New York|         Fashion| 39520263T|$85|   $51|   $2.55|$82.45|2019-11-26|\n",
      "|  YR7220|      New York|         Kitchen|  93809204|$37|$24.05|   $0.74|$36.26|2019-11-26|\n",
      "|  YR7220|      New York|       Cosmetics| 86610412D|$80| $48.8|    $6.4| $73.6|2019-11-26|\n",
      "|  YR7220|     New York$|         Kitchen| 52503356^|$71| $42.6|   $5.68|$65.32|2019-11-26|\n",
      "|  YR7220|      New York|         Kitchen|  77516479|$92|$56.12|   $3.68|$88.32|2019-11-26|\n",
      "|  YR7220|     New York!|       Cosmetics|  47334289|$16|$10.72|   $0.96|$15.04|2019-11-26|\n",
      "|  YR7220|    New York\"\"|       Cosmetics| 87566223^|$38|$23.18|   $2.66|$35.34|2019-11-26|\n",
      "|  YR7220|      New York|     Electronics| 54074401^|$26|$17.68|   $0.52|$25.48|2019-11-26|\n",
      "|  YR7220|      New York|         Fashion| 24246520G|$45|$30.15|   $1.35|$43.65|2019-11-26|\n",
      "|  YR7220|      New York|       Cosmetics|  61138610|$83|$57.27|   $1.66|$81.34|2019-11-26|\n",
      "|  YR7220|      New York|         Kitchen|  69018554|$55| $37.4|   $1.65|$53.35|2019-11-26|\n",
      "|  YR7220|      New York|       Groceries| 11950073P|$13| $7.93|   $0.39|$12.61|2019-11-26|\n",
      "|  YR7220|      New York|         Fashion|  86404418|$69| $48.3|   $4.83|$64.17|2019-11-26|\n",
      "|  YR7220|     New York+|         Fashion|  91763000|$18| $11.7|   $0.36|$17.64|2019-11-26|\n",
      "|  YR7220|      New York|       Groceries|  53648681|$52|$36.92|   $1.04|$50.96|2019-11-26|\n",
      "|  YR7220|      New York|       Groceries| 15652465T|$29|$18.85|   $2.03|$26.97|2019-11-26|\n",
      "+--------+--------------+----------------+----------+---+------+--------+------+----------+\n",
      "only showing top 20 rows\n",
      "\n"
     ]
    }
   ],
   "source": [
    "df1.show()"
   ]
  },
  {
   "cell_type": "code",
   "execution_count": 8,
   "id": "ac1cafca-b39c-4b5d-a801-754b4d6b953b",
   "metadata": {
    "tags": []
   },
   "outputs": [
    {
     "name": "stdout",
     "output_type": "stream",
     "text": [
      "root\n",
      " |-- STORE_ID: string (nullable = true)\n",
      " |-- STORE_LOCATION: string (nullable = true)\n",
      " |-- PRODUCT_CATEGORY: string (nullable = true)\n",
      " |-- PRODUCT_ID: string (nullable = true)\n",
      " |-- MRP: string (nullable = true)\n",
      " |-- CP: string (nullable = true)\n",
      " |-- DISCOUNT: string (nullable = true)\n",
      " |-- SP: string (nullable = true)\n",
      " |-- Date: date (nullable = true)\n",
      "\n"
     ]
    }
   ],
   "source": [
    "df1.printSchema()"
   ]
  },
  {
   "cell_type": "code",
   "execution_count": 9,
   "id": "8ad26065-82df-463c-91a5-bdf199bc1fb3",
   "metadata": {
    "tags": []
   },
   "outputs": [],
   "source": [
    "df2=df1.withColumn(\"CP\", F.translate(\"CP\", \"$\", \" \")) \\\n",
    ".withColumn(\"DISCOUNT\",  F.translate(\"DISCOUNT\", \"$\", \" \")) \\\n",
    ".withColumn(\"SP\",  F.translate(\"SP\", \"$\", \" \")) \\\n",
    ".withColumn(\"MRP\",  F.translate(\"MRP\", \"$\", \" \"))"
   ]
  },
  {
   "cell_type": "code",
   "execution_count": 10,
   "id": "18f482cf-d538-4c7f-b7fd-b1ec5c0c9049",
   "metadata": {
    "tags": []
   },
   "outputs": [
    {
     "name": "stdout",
     "output_type": "stream",
     "text": [
      "+--------+--------------+----------------+----------+---+------+--------+------+----------+\n",
      "|STORE_ID|STORE_LOCATION|PRODUCT_CATEGORY|PRODUCT_ID|MRP|    CP|DISCOUNT|    SP|      Date|\n",
      "+--------+--------------+----------------+----------+---+------+--------+------+----------+\n",
      "|  YR7220|     New York(|     Electronics|  12254943| 31| 20.77|    1.86| 29.14|2019-11-26|\n",
      "|  YR7220|     New York+|       Furniture| 72619323C| 15|  9.75|     1.5|  13.5|2019-11-26|\n",
      "|  YR7220|     New York |     Electronics| 34161682B| 88| 62.48|     4.4|  83.6|2019-11-26|\n",
      "|  YR7220|     New York!|         Kitchen|  79411621| 91| 58.24|    3.64| 87.36|2019-11-26|\n",
      "|  YR7220|      New York|         Fashion| 39520263T| 85|    51|    2.55| 82.45|2019-11-26|\n",
      "|  YR7220|      New York|         Kitchen|  93809204| 37| 24.05|    0.74| 36.26|2019-11-26|\n",
      "|  YR7220|      New York|       Cosmetics| 86610412D| 80|  48.8|     6.4|  73.6|2019-11-26|\n",
      "|  YR7220|     New York$|         Kitchen| 52503356^| 71|  42.6|    5.68| 65.32|2019-11-26|\n",
      "|  YR7220|      New York|         Kitchen|  77516479| 92| 56.12|    3.68| 88.32|2019-11-26|\n",
      "|  YR7220|     New York!|       Cosmetics|  47334289| 16| 10.72|    0.96| 15.04|2019-11-26|\n",
      "|  YR7220|    New York\"\"|       Cosmetics| 87566223^| 38| 23.18|    2.66| 35.34|2019-11-26|\n",
      "|  YR7220|      New York|     Electronics| 54074401^| 26| 17.68|    0.52| 25.48|2019-11-26|\n",
      "|  YR7220|      New York|         Fashion| 24246520G| 45| 30.15|    1.35| 43.65|2019-11-26|\n",
      "|  YR7220|      New York|       Cosmetics|  61138610| 83| 57.27|    1.66| 81.34|2019-11-26|\n",
      "|  YR7220|      New York|         Kitchen|  69018554| 55|  37.4|    1.65| 53.35|2019-11-26|\n",
      "|  YR7220|      New York|       Groceries| 11950073P| 13|  7.93|    0.39| 12.61|2019-11-26|\n",
      "|  YR7220|      New York|         Fashion|  86404418| 69|  48.3|    4.83| 64.17|2019-11-26|\n",
      "|  YR7220|     New York+|         Fashion|  91763000| 18|  11.7|    0.36| 17.64|2019-11-26|\n",
      "|  YR7220|      New York|       Groceries|  53648681| 52| 36.92|    1.04| 50.96|2019-11-26|\n",
      "|  YR7220|      New York|       Groceries| 15652465T| 29| 18.85|    2.03| 26.97|2019-11-26|\n",
      "+--------+--------------+----------------+----------+---+------+--------+------+----------+\n",
      "only showing top 20 rows\n",
      "\n"
     ]
    }
   ],
   "source": [
    "df2.show()"
   ]
  },
  {
   "cell_type": "code",
   "execution_count": 11,
   "id": "6e34a1cc-03f4-400c-bce3-217d44e8bb2f",
   "metadata": {
    "tags": []
   },
   "outputs": [],
   "source": [
    "df3=df2.withColumn(\"CP\", F.col(\"CP\").cast(FloatType())) \\\n",
    ".withColumn(\"DISCOUNT\",  F.col(\"DISCOUNT\").cast(FloatType())) \\\n",
    ".withColumn(\"SP\",  F.col(\"SP\").cast(FloatType())) \\\n",
    ".withColumn(\"MRP\",  F.col(\"MRP\").cast(IntegerType())) "
   ]
  },
  {
   "cell_type": "code",
   "execution_count": 12,
   "id": "922c46d7-2e41-4952-9395-3207e1da9b22",
   "metadata": {
    "tags": []
   },
   "outputs": [
    {
     "name": "stdout",
     "output_type": "stream",
     "text": [
      "root\n",
      " |-- STORE_ID: string (nullable = true)\n",
      " |-- STORE_LOCATION: string (nullable = true)\n",
      " |-- PRODUCT_CATEGORY: string (nullable = true)\n",
      " |-- PRODUCT_ID: string (nullable = true)\n",
      " |-- MRP: integer (nullable = true)\n",
      " |-- CP: float (nullable = true)\n",
      " |-- DISCOUNT: float (nullable = true)\n",
      " |-- SP: float (nullable = true)\n",
      " |-- Date: date (nullable = true)\n",
      "\n"
     ]
    }
   ],
   "source": [
    "df3.printSchema()"
   ]
  },
  {
   "cell_type": "code",
   "execution_count": 13,
   "id": "b6db09a2-6558-4a29-9cef-4e0e82cdc9e8",
   "metadata": {
    "tags": []
   },
   "outputs": [
    {
     "name": "stdout",
     "output_type": "stream",
     "text": [
      "+--------+--------------+----------------+----------+---+-----+--------+-----+----------+\n",
      "|STORE_ID|STORE_LOCATION|PRODUCT_CATEGORY|PRODUCT_ID|MRP|   CP|DISCOUNT|   SP|      Date|\n",
      "+--------+--------------+----------------+----------+---+-----+--------+-----+----------+\n",
      "|  YR7220|     New York(|     Electronics|  12254943| 31|20.77|    1.86|29.14|2019-11-26|\n",
      "|  YR7220|     New York+|       Furniture| 72619323C| 15| 9.75|     1.5| 13.5|2019-11-26|\n",
      "|  YR7220|     New York |     Electronics| 34161682B| 88|62.48|     4.4| 83.6|2019-11-26|\n",
      "|  YR7220|     New York!|         Kitchen|  79411621| 91|58.24|    3.64|87.36|2019-11-26|\n",
      "|  YR7220|      New York|         Fashion| 39520263T| 85| 51.0|    2.55|82.45|2019-11-26|\n",
      "|  YR7220|      New York|         Kitchen|  93809204| 37|24.05|    0.74|36.26|2019-11-26|\n",
      "|  YR7220|      New York|       Cosmetics| 86610412D| 80| 48.8|     6.4| 73.6|2019-11-26|\n",
      "|  YR7220|     New York$|         Kitchen| 52503356^| 71| 42.6|    5.68|65.32|2019-11-26|\n",
      "|  YR7220|      New York|         Kitchen|  77516479| 92|56.12|    3.68|88.32|2019-11-26|\n",
      "|  YR7220|     New York!|       Cosmetics|  47334289| 16|10.72|    0.96|15.04|2019-11-26|\n",
      "|  YR7220|    New York\"\"|       Cosmetics| 87566223^| 38|23.18|    2.66|35.34|2019-11-26|\n",
      "|  YR7220|      New York|     Electronics| 54074401^| 26|17.68|    0.52|25.48|2019-11-26|\n",
      "|  YR7220|      New York|         Fashion| 24246520G| 45|30.15|    1.35|43.65|2019-11-26|\n",
      "|  YR7220|      New York|       Cosmetics|  61138610| 83|57.27|    1.66|81.34|2019-11-26|\n",
      "|  YR7220|      New York|         Kitchen|  69018554| 55| 37.4|    1.65|53.35|2019-11-26|\n",
      "|  YR7220|      New York|       Groceries| 11950073P| 13| 7.93|    0.39|12.61|2019-11-26|\n",
      "|  YR7220|      New York|         Fashion|  86404418| 69| 48.3|    4.83|64.17|2019-11-26|\n",
      "|  YR7220|     New York+|         Fashion|  91763000| 18| 11.7|    0.36|17.64|2019-11-26|\n",
      "|  YR7220|      New York|       Groceries|  53648681| 52|36.92|    1.04|50.96|2019-11-26|\n",
      "|  YR7220|      New York|       Groceries| 15652465T| 29|18.85|    2.03|26.97|2019-11-26|\n",
      "+--------+--------------+----------------+----------+---+-----+--------+-----+----------+\n",
      "only showing top 20 rows\n",
      "\n"
     ]
    }
   ],
   "source": [
    "df3.show()"
   ]
  },
  {
   "cell_type": "code",
   "execution_count": 14,
   "id": "f63fce3e-f712-4ea3-a93e-0a375ad8cdfa",
   "metadata": {},
   "outputs": [],
   "source": [
    "df4=df3.withColumn(\"STORE_LOCATION\", F.regexp_replace(F.col(\"STORE_LOCATION\"), \"[^a-zA-Z0-9]\", \"\")) \\\n",
    ".withColumn(\"PRODUCT_ID\", F.regexp_replace(F.col(\"PRODUCT_ID\"), \"[^a-zA-Z0-9]\", \"\"))"
   ]
  },
  {
   "cell_type": "code",
   "execution_count": 15,
   "id": "1b11a5cf-b308-4017-849a-f131f415c827",
   "metadata": {
    "tags": []
   },
   "outputs": [
    {
     "name": "stdout",
     "output_type": "stream",
     "text": [
      "+--------+--------------+----------------+----------+---+-----+--------+-----+----------+\n",
      "|STORE_ID|STORE_LOCATION|PRODUCT_CATEGORY|PRODUCT_ID|MRP|   CP|DISCOUNT|   SP|      Date|\n",
      "+--------+--------------+----------------+----------+---+-----+--------+-----+----------+\n",
      "|  YR7220|       NewYork|     Electronics|  12254943| 31|20.77|    1.86|29.14|2019-11-26|\n",
      "|  YR7220|       NewYork|       Furniture| 72619323C| 15| 9.75|     1.5| 13.5|2019-11-26|\n",
      "|  YR7220|       NewYork|     Electronics| 34161682B| 88|62.48|     4.4| 83.6|2019-11-26|\n",
      "|  YR7220|       NewYork|         Kitchen|  79411621| 91|58.24|    3.64|87.36|2019-11-26|\n",
      "|  YR7220|       NewYork|         Fashion| 39520263T| 85| 51.0|    2.55|82.45|2019-11-26|\n",
      "|  YR7220|       NewYork|         Kitchen|  93809204| 37|24.05|    0.74|36.26|2019-11-26|\n",
      "|  YR7220|       NewYork|       Cosmetics| 86610412D| 80| 48.8|     6.4| 73.6|2019-11-26|\n",
      "|  YR7220|       NewYork|         Kitchen|  52503356| 71| 42.6|    5.68|65.32|2019-11-26|\n",
      "|  YR7220|       NewYork|         Kitchen|  77516479| 92|56.12|    3.68|88.32|2019-11-26|\n",
      "|  YR7220|       NewYork|       Cosmetics|  47334289| 16|10.72|    0.96|15.04|2019-11-26|\n",
      "|  YR7220|       NewYork|       Cosmetics|  87566223| 38|23.18|    2.66|35.34|2019-11-26|\n",
      "|  YR7220|       NewYork|     Electronics|  54074401| 26|17.68|    0.52|25.48|2019-11-26|\n",
      "|  YR7220|       NewYork|         Fashion| 24246520G| 45|30.15|    1.35|43.65|2019-11-26|\n",
      "|  YR7220|       NewYork|       Cosmetics|  61138610| 83|57.27|    1.66|81.34|2019-11-26|\n",
      "|  YR7220|       NewYork|         Kitchen|  69018554| 55| 37.4|    1.65|53.35|2019-11-26|\n",
      "|  YR7220|       NewYork|       Groceries| 11950073P| 13| 7.93|    0.39|12.61|2019-11-26|\n",
      "|  YR7220|       NewYork|         Fashion|  86404418| 69| 48.3|    4.83|64.17|2019-11-26|\n",
      "|  YR7220|       NewYork|         Fashion|  91763000| 18| 11.7|    0.36|17.64|2019-11-26|\n",
      "|  YR7220|       NewYork|       Groceries|  53648681| 52|36.92|    1.04|50.96|2019-11-26|\n",
      "|  YR7220|       NewYork|       Groceries| 15652465T| 29|18.85|    2.03|26.97|2019-11-26|\n",
      "+--------+--------------+----------------+----------+---+-----+--------+-----+----------+\n",
      "only showing top 20 rows\n",
      "\n"
     ]
    }
   ],
   "source": [
    "df4.show()"
   ]
  },
  {
   "cell_type": "code",
   "execution_count": 16,
   "id": "3a2c95c5-f143-46a2-aaef-0c2ddd620a54",
   "metadata": {
    "tags": []
   },
   "outputs": [],
   "source": [
    "df5=df4.select([F.col(x).alias(x.lower()) for x in df1.columns])"
   ]
  },
  {
   "cell_type": "code",
   "execution_count": 18,
   "id": "f889f769-d877-4585-94f3-adc025ce7888",
   "metadata": {
    "tags": []
   },
   "outputs": [
    {
     "name": "stdout",
     "output_type": "stream",
     "text": [
      "root\n",
      " |-- store_id: string (nullable = true)\n",
      " |-- store_location: string (nullable = true)\n",
      " |-- product_category: string (nullable = true)\n",
      " |-- product_id: string (nullable = true)\n",
      " |-- mrp: integer (nullable = true)\n",
      " |-- cp: float (nullable = true)\n",
      " |-- discount: float (nullable = true)\n",
      " |-- sp: float (nullable = true)\n",
      " |-- date: date (nullable = true)\n",
      "\n"
     ]
    }
   ],
   "source": [
    "df5.printSchema()"
   ]
  },
  {
   "cell_type": "code",
   "execution_count": 17,
   "id": "5df73003-5fbe-4c97-9db4-c055822ca07c",
   "metadata": {
    "tags": []
   },
   "outputs": [
    {
     "name": "stdout",
     "output_type": "stream",
     "text": [
      "+--------+--------------+----------------+----------+---+-----+--------+-----+----------+\n",
      "|store_id|store_location|product_category|product_id|mrp|   cp|discount|   sp|      date|\n",
      "+--------+--------------+----------------+----------+---+-----+--------+-----+----------+\n",
      "|  YR7220|       NewYork|     Electronics|  12254943| 31|20.77|    1.86|29.14|2019-11-26|\n",
      "|  YR7220|       NewYork|       Furniture| 72619323C| 15| 9.75|     1.5| 13.5|2019-11-26|\n",
      "|  YR7220|       NewYork|     Electronics| 34161682B| 88|62.48|     4.4| 83.6|2019-11-26|\n",
      "|  YR7220|       NewYork|         Kitchen|  79411621| 91|58.24|    3.64|87.36|2019-11-26|\n",
      "|  YR7220|       NewYork|         Fashion| 39520263T| 85| 51.0|    2.55|82.45|2019-11-26|\n",
      "|  YR7220|       NewYork|         Kitchen|  93809204| 37|24.05|    0.74|36.26|2019-11-26|\n",
      "|  YR7220|       NewYork|       Cosmetics| 86610412D| 80| 48.8|     6.4| 73.6|2019-11-26|\n",
      "|  YR7220|       NewYork|         Kitchen|  52503356| 71| 42.6|    5.68|65.32|2019-11-26|\n",
      "|  YR7220|       NewYork|         Kitchen|  77516479| 92|56.12|    3.68|88.32|2019-11-26|\n",
      "|  YR7220|       NewYork|       Cosmetics|  47334289| 16|10.72|    0.96|15.04|2019-11-26|\n",
      "|  YR7220|       NewYork|       Cosmetics|  87566223| 38|23.18|    2.66|35.34|2019-11-26|\n",
      "|  YR7220|       NewYork|     Electronics|  54074401| 26|17.68|    0.52|25.48|2019-11-26|\n",
      "|  YR7220|       NewYork|         Fashion| 24246520G| 45|30.15|    1.35|43.65|2019-11-26|\n",
      "|  YR7220|       NewYork|       Cosmetics|  61138610| 83|57.27|    1.66|81.34|2019-11-26|\n",
      "|  YR7220|       NewYork|         Kitchen|  69018554| 55| 37.4|    1.65|53.35|2019-11-26|\n",
      "|  YR7220|       NewYork|       Groceries| 11950073P| 13| 7.93|    0.39|12.61|2019-11-26|\n",
      "|  YR7220|       NewYork|         Fashion|  86404418| 69| 48.3|    4.83|64.17|2019-11-26|\n",
      "|  YR7220|       NewYork|         Fashion|  91763000| 18| 11.7|    0.36|17.64|2019-11-26|\n",
      "|  YR7220|       NewYork|       Groceries|  53648681| 52|36.92|    1.04|50.96|2019-11-26|\n",
      "|  YR7220|       NewYork|       Groceries| 15652465T| 29|18.85|    2.03|26.97|2019-11-26|\n",
      "+--------+--------------+----------------+----------+---+-----+--------+-----+----------+\n",
      "only showing top 20 rows\n",
      "\n"
     ]
    }
   ],
   "source": [
    "df5.show()"
   ]
  },
  {
   "cell_type": "code",
   "execution_count": null,
   "id": "c0b87922-70d0-4c04-aca8-0bfe1ad23cc1",
   "metadata": {},
   "outputs": [],
   "source": [
    "spark.stop()"
   ]
  }
 ],
 "metadata": {
  "kernelspec": {
   "display_name": "venvspark",
   "language": "python",
   "name": "venvspark"
  },
  "language_info": {
   "codemirror_mode": {
    "name": "ipython",
    "version": 3
   },
   "file_extension": ".py",
   "mimetype": "text/x-python",
   "name": "python",
   "nbconvert_exporter": "python",
   "pygments_lexer": "ipython3",
   "version": "3.8.12"
  }
 },
 "nbformat": 4,
 "nbformat_minor": 5
}
