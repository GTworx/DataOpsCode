{
 "cells": [
  {
   "cell_type": "markdown",
   "id": "10e4253f-c27f-4e16-b19c-d35c5955506a",
   "metadata": {},
   "source": [
    "# HW3 SPARK"
   ]
  },
  {
   "cell_type": "code",
   "execution_count": 1,
   "id": "a5f835c3-e3cb-4bf6-9770-61d1a386a393",
   "metadata": {
    "tags": []
   },
   "outputs": [],
   "source": [
    "from pyspark.sql import SparkSession, functions as F\n",
    "from pyspark.sql.types import StructType, StructField, DoubleType, StringType, IntegerType, DateType, ArrayType, FloatType"
   ]
  },
  {
   "cell_type": "code",
   "execution_count": 2,
   "id": "7a33354b-aee1-4066-8dcf-2290cf99a915",
   "metadata": {
    "tags": []
   },
   "outputs": [
    {
     "name": "stderr",
     "output_type": "stream",
     "text": [
      "WARNING: An illegal reflective access operation has occurred\n",
      "WARNING: Illegal reflective access by org.apache.spark.unsafe.Platform (file:/opt/manual/spark-3.1.1-bin-hadoop3.2/jars/spark-unsafe_2.12-3.1.1.jar) to constructor java.nio.DirectByteBuffer(long,int)\n",
      "WARNING: Please consider reporting this to the maintainers of org.apache.spark.unsafe.Platform\n",
      "WARNING: Use --illegal-access=warn to enable warnings of further illegal reflective access operations\n",
      "WARNING: All illegal access operations will be denied in a future release\n",
      "2023-02-22 23:40:35,106 WARN util.NativeCodeLoader: Unable to load native-hadoop library for your platform... using builtin-java classes where applicable\n",
      "Setting default log level to \"WARN\".\n",
      "To adjust logging level use sc.setLogLevel(newLevel). For SparkR, use setLogLevel(newLevel).\n",
      "2023-02-22 23:40:36,015 WARN util.Utils: Service 'SparkUI' could not bind on port 4040. Attempting port 4041.\n"
     ]
    }
   ],
   "source": [
    "spark = SparkSession.builder \\\n",
    ".master(\"local[2]\") \\\n",
    ".appName(\"CleanDataStepByStep\") \\\n",
    ".getOrCreate()"
   ]
  },
  {
   "cell_type": "markdown",
   "id": "44219f71-5730-4a61-b925-35b6039387c7",
   "metadata": {},
   "source": [
    "## Download Data"
   ]
  },
  {
   "cell_type": "code",
   "execution_count": 3,
   "id": "fb3107a6-9d23-4738-aa42-e31b52cc5801",
   "metadata": {
    "tags": []
   },
   "outputs": [
    {
     "name": "stdout",
     "output_type": "stream",
     "text": [
      "--2023-02-22 23:44:03--  https://github.com/erkansirin78/datasets/raw/master/dirty_store_transactions.csv\n",
      "Resolving github.com (github.com)... 140.82.121.4\n",
      "Connecting to github.com (github.com)|140.82.121.4|:443... connected.\n",
      "HTTP request sent, awaiting response... 302 Found\n",
      "Location: https://raw.githubusercontent.com/erkansirin78/datasets/master/dirty_store_transactions.csv [following]\n",
      "--2023-02-22 23:44:04--  https://raw.githubusercontent.com/erkansirin78/datasets/master/dirty_store_transactions.csv\n",
      "Resolving raw.githubusercontent.com (raw.githubusercontent.com)... 185.199.109.133, 185.199.110.133, 185.199.111.133, ...\n",
      "Connecting to raw.githubusercontent.com (raw.githubusercontent.com)|185.199.109.133|:443... connected.\n",
      "HTTP request sent, awaiting response... 200 OK\n",
      "Length: 2609524 (2.5M) [text/plain]\n",
      "Saving to: ‘/home/train/datasets/dirty_store_transactions.csv’\n",
      "\n",
      "100%[======================================>] 2,609,524   5.90MB/s   in 0.4s   \n",
      "\n",
      "2023-02-22 23:44:06 (5.90 MB/s) - ‘/home/train/datasets/dirty_store_transactions.csv’ saved [2609524/2609524]\n",
      "\n"
     ]
    }
   ],
   "source": [
    "! wget -P /home/train/datasets/ \\\n",
    "https://github.com/erkansirin78/datasets/raw/master/dirty_store_transactions.csv"
   ]
  },
  {
   "cell_type": "markdown",
   "id": "5744d1e0-5399-4e1e-86e8-930be3579b3e",
   "metadata": {},
   "source": [
    "## Data Cleaning Preps"
   ]
  },
  {
   "cell_type": "code",
   "execution_count": 4,
   "id": "75e1564e-a613-4bf0-86cf-7c33c941711d",
   "metadata": {
    "tags": []
   },
   "outputs": [],
   "source": [
    "df = spark.read \\\n",
    ".format(\"csv\") \\\n",
    ".option(\"header\", True) \\\n",
    ".option(\"sep\", \",\") \\\n",
    ".option(\"inferSchema\", True) \\\n",
    ".load(\"file:///home/train/datasets/dirty_store_transactions.csv\")"
   ]
  },
  {
   "cell_type": "code",
   "execution_count": 5,
   "id": "ce7cec2a-f927-4e8a-bbf2-221c1d9f41bd",
   "metadata": {
    "tags": []
   },
   "outputs": [
    {
     "name": "stdout",
     "output_type": "stream",
     "text": [
      "+--------+--------------+----------------+----------+---+------+--------+------+----------+\n",
      "|STORE_ID|STORE_LOCATION|PRODUCT_CATEGORY|PRODUCT_ID|MRP|    CP|DISCOUNT|    SP|      Date|\n",
      "+--------+--------------+----------------+----------+---+------+--------+------+----------+\n",
      "|  YR7220|     New York(|     Electronics|  12254943|$31|$20.77|   $1.86|$29.14|2019-11-26|\n",
      "|  YR7220|     New York+|       Furniture| 72619323C|$15| $9.75|    $1.5| $13.5|2019-11-26|\n",
      "|  YR7220|     New York |     Electronics| 34161682B|$88|$62.48|    $4.4| $83.6|2019-11-26|\n",
      "|  YR7220|     New York!|         Kitchen|  79411621|$91|$58.24|   $3.64|$87.36|2019-11-26|\n",
      "|  YR7220|      New York|         Fashion| 39520263T|$85|   $51|   $2.55|$82.45|2019-11-26|\n",
      "|  YR7220|      New York|         Kitchen|  93809204|$37|$24.05|   $0.74|$36.26|2019-11-26|\n",
      "|  YR7220|      New York|       Cosmetics| 86610412D|$80| $48.8|    $6.4| $73.6|2019-11-26|\n",
      "|  YR7220|     New York$|         Kitchen| 52503356^|$71| $42.6|   $5.68|$65.32|2019-11-26|\n",
      "|  YR7220|      New York|         Kitchen|  77516479|$92|$56.12|   $3.68|$88.32|2019-11-26|\n",
      "|  YR7220|     New York!|       Cosmetics|  47334289|$16|$10.72|   $0.96|$15.04|2019-11-26|\n",
      "|  YR7220|    New York\"\"|       Cosmetics| 87566223^|$38|$23.18|   $2.66|$35.34|2019-11-26|\n",
      "|  YR7220|      New York|     Electronics| 54074401^|$26|$17.68|   $0.52|$25.48|2019-11-26|\n",
      "|  YR7220|      New York|         Fashion| 24246520G|$45|$30.15|   $1.35|$43.65|2019-11-26|\n",
      "|  YR7220|      New York|       Cosmetics|  61138610|$83|$57.27|   $1.66|$81.34|2019-11-26|\n",
      "|  YR7220|      New York|         Kitchen|  69018554|$55| $37.4|   $1.65|$53.35|2019-11-26|\n",
      "|  YR7220|      New York|       Groceries| 11950073P|$13| $7.93|   $0.39|$12.61|2019-11-26|\n",
      "|  YR7220|      New York|         Fashion|  86404418|$69| $48.3|   $4.83|$64.17|2019-11-26|\n",
      "|  YR7220|     New York+|         Fashion|  91763000|$18| $11.7|   $0.36|$17.64|2019-11-26|\n",
      "|  YR7220|      New York|       Groceries|  53648681|$52|$36.92|   $1.04|$50.96|2019-11-26|\n",
      "|  YR7220|      New York|       Groceries| 15652465T|$29|$18.85|   $2.03|$26.97|2019-11-26|\n",
      "+--------+--------------+----------------+----------+---+------+--------+------+----------+\n",
      "only showing top 20 rows\n",
      "\n"
     ]
    }
   ],
   "source": [
    "df.show()"
   ]
  },
  {
   "cell_type": "code",
   "execution_count": 6,
   "id": "55e3f797-6416-4344-acd3-36d7fbab1936",
   "metadata": {
    "tags": []
   },
   "outputs": [
    {
     "name": "stdout",
     "output_type": "stream",
     "text": [
      "root\n",
      " |-- STORE_ID: string (nullable = true)\n",
      " |-- STORE_LOCATION: string (nullable = true)\n",
      " |-- PRODUCT_CATEGORY: string (nullable = true)\n",
      " |-- PRODUCT_ID: string (nullable = true)\n",
      " |-- MRP: string (nullable = true)\n",
      " |-- CP: string (nullable = true)\n",
      " |-- DISCOUNT: string (nullable = true)\n",
      " |-- SP: string (nullable = true)\n",
      " |-- Date: string (nullable = true)\n",
      "\n"
     ]
    }
   ],
   "source": [
    "df.printSchema()"
   ]
  },
  {
   "cell_type": "code",
   "execution_count": 7,
   "id": "98a988db-a454-449a-99cd-8997e41b528b",
   "metadata": {
    "tags": []
   },
   "outputs": [],
   "source": [
    "df1=df.withColumn(\"Date\", F.to_date(\"Date\", \"y-M-d\"))"
   ]
  },
  {
   "cell_type": "code",
   "execution_count": 8,
   "id": "1d2de98e-b412-44b1-be8c-6ec889c90dda",
   "metadata": {
    "tags": []
   },
   "outputs": [
    {
     "name": "stdout",
     "output_type": "stream",
     "text": [
      "+--------+--------------+----------------+----------+---+------+--------+------+----------+\n",
      "|STORE_ID|STORE_LOCATION|PRODUCT_CATEGORY|PRODUCT_ID|MRP|    CP|DISCOUNT|    SP|      Date|\n",
      "+--------+--------------+----------------+----------+---+------+--------+------+----------+\n",
      "|  YR7220|     New York(|     Electronics|  12254943|$31|$20.77|   $1.86|$29.14|2019-11-26|\n",
      "|  YR7220|     New York+|       Furniture| 72619323C|$15| $9.75|    $1.5| $13.5|2019-11-26|\n",
      "|  YR7220|     New York |     Electronics| 34161682B|$88|$62.48|    $4.4| $83.6|2019-11-26|\n",
      "|  YR7220|     New York!|         Kitchen|  79411621|$91|$58.24|   $3.64|$87.36|2019-11-26|\n",
      "|  YR7220|      New York|         Fashion| 39520263T|$85|   $51|   $2.55|$82.45|2019-11-26|\n",
      "|  YR7220|      New York|         Kitchen|  93809204|$37|$24.05|   $0.74|$36.26|2019-11-26|\n",
      "|  YR7220|      New York|       Cosmetics| 86610412D|$80| $48.8|    $6.4| $73.6|2019-11-26|\n",
      "|  YR7220|     New York$|         Kitchen| 52503356^|$71| $42.6|   $5.68|$65.32|2019-11-26|\n",
      "|  YR7220|      New York|         Kitchen|  77516479|$92|$56.12|   $3.68|$88.32|2019-11-26|\n",
      "|  YR7220|     New York!|       Cosmetics|  47334289|$16|$10.72|   $0.96|$15.04|2019-11-26|\n",
      "|  YR7220|    New York\"\"|       Cosmetics| 87566223^|$38|$23.18|   $2.66|$35.34|2019-11-26|\n",
      "|  YR7220|      New York|     Electronics| 54074401^|$26|$17.68|   $0.52|$25.48|2019-11-26|\n",
      "|  YR7220|      New York|         Fashion| 24246520G|$45|$30.15|   $1.35|$43.65|2019-11-26|\n",
      "|  YR7220|      New York|       Cosmetics|  61138610|$83|$57.27|   $1.66|$81.34|2019-11-26|\n",
      "|  YR7220|      New York|         Kitchen|  69018554|$55| $37.4|   $1.65|$53.35|2019-11-26|\n",
      "|  YR7220|      New York|       Groceries| 11950073P|$13| $7.93|   $0.39|$12.61|2019-11-26|\n",
      "|  YR7220|      New York|         Fashion|  86404418|$69| $48.3|   $4.83|$64.17|2019-11-26|\n",
      "|  YR7220|     New York+|         Fashion|  91763000|$18| $11.7|   $0.36|$17.64|2019-11-26|\n",
      "|  YR7220|      New York|       Groceries|  53648681|$52|$36.92|   $1.04|$50.96|2019-11-26|\n",
      "|  YR7220|      New York|       Groceries| 15652465T|$29|$18.85|   $2.03|$26.97|2019-11-26|\n",
      "+--------+--------------+----------------+----------+---+------+--------+------+----------+\n",
      "only showing top 20 rows\n",
      "\n"
     ]
    }
   ],
   "source": [
    "df1.show()"
   ]
  },
  {
   "cell_type": "code",
   "execution_count": 9,
   "id": "e44bfc47-5bc4-4113-8655-38193fcd8a04",
   "metadata": {
    "tags": []
   },
   "outputs": [
    {
     "name": "stdout",
     "output_type": "stream",
     "text": [
      "root\n",
      " |-- STORE_ID: string (nullable = true)\n",
      " |-- STORE_LOCATION: string (nullable = true)\n",
      " |-- PRODUCT_CATEGORY: string (nullable = true)\n",
      " |-- PRODUCT_ID: string (nullable = true)\n",
      " |-- MRP: string (nullable = true)\n",
      " |-- CP: string (nullable = true)\n",
      " |-- DISCOUNT: string (nullable = true)\n",
      " |-- SP: string (nullable = true)\n",
      " |-- Date: date (nullable = true)\n",
      "\n"
     ]
    }
   ],
   "source": [
    "df1.printSchema()"
   ]
  },
  {
   "cell_type": "code",
   "execution_count": 10,
   "id": "9abd9dcb-1acd-499a-9b58-fe2422499eef",
   "metadata": {
    "tags": []
   },
   "outputs": [],
   "source": [
    "df2=df1.withColumn(\"CP\", F.translate(\"CP\", \"$\", \" \")) \\\n",
    ".withColumn(\"DISCOUNT\",  F.translate(\"DISCOUNT\", \"$\", \" \")) \\\n",
    ".withColumn(\"SP\",  F.translate(\"SP\", \"$\", \" \")) \\\n",
    ".withColumn(\"MRP\",  F.translate(\"MRP\", \"$\", \" \"))"
   ]
  },
  {
   "cell_type": "code",
   "execution_count": 11,
   "id": "e99ef6cd-a6af-4d3c-b915-cadb753c0f36",
   "metadata": {
    "tags": []
   },
   "outputs": [
    {
     "name": "stdout",
     "output_type": "stream",
     "text": [
      "+--------+--------------+----------------+----------+---+------+--------+------+----------+\n",
      "|STORE_ID|STORE_LOCATION|PRODUCT_CATEGORY|PRODUCT_ID|MRP|    CP|DISCOUNT|    SP|      Date|\n",
      "+--------+--------------+----------------+----------+---+------+--------+------+----------+\n",
      "|  YR7220|     New York(|     Electronics|  12254943| 31| 20.77|    1.86| 29.14|2019-11-26|\n",
      "|  YR7220|     New York+|       Furniture| 72619323C| 15|  9.75|     1.5|  13.5|2019-11-26|\n",
      "|  YR7220|     New York |     Electronics| 34161682B| 88| 62.48|     4.4|  83.6|2019-11-26|\n",
      "|  YR7220|     New York!|         Kitchen|  79411621| 91| 58.24|    3.64| 87.36|2019-11-26|\n",
      "|  YR7220|      New York|         Fashion| 39520263T| 85|    51|    2.55| 82.45|2019-11-26|\n",
      "|  YR7220|      New York|         Kitchen|  93809204| 37| 24.05|    0.74| 36.26|2019-11-26|\n",
      "|  YR7220|      New York|       Cosmetics| 86610412D| 80|  48.8|     6.4|  73.6|2019-11-26|\n",
      "|  YR7220|     New York$|         Kitchen| 52503356^| 71|  42.6|    5.68| 65.32|2019-11-26|\n",
      "|  YR7220|      New York|         Kitchen|  77516479| 92| 56.12|    3.68| 88.32|2019-11-26|\n",
      "|  YR7220|     New York!|       Cosmetics|  47334289| 16| 10.72|    0.96| 15.04|2019-11-26|\n",
      "|  YR7220|    New York\"\"|       Cosmetics| 87566223^| 38| 23.18|    2.66| 35.34|2019-11-26|\n",
      "|  YR7220|      New York|     Electronics| 54074401^| 26| 17.68|    0.52| 25.48|2019-11-26|\n",
      "|  YR7220|      New York|         Fashion| 24246520G| 45| 30.15|    1.35| 43.65|2019-11-26|\n",
      "|  YR7220|      New York|       Cosmetics|  61138610| 83| 57.27|    1.66| 81.34|2019-11-26|\n",
      "|  YR7220|      New York|         Kitchen|  69018554| 55|  37.4|    1.65| 53.35|2019-11-26|\n",
      "|  YR7220|      New York|       Groceries| 11950073P| 13|  7.93|    0.39| 12.61|2019-11-26|\n",
      "|  YR7220|      New York|         Fashion|  86404418| 69|  48.3|    4.83| 64.17|2019-11-26|\n",
      "|  YR7220|     New York+|         Fashion|  91763000| 18|  11.7|    0.36| 17.64|2019-11-26|\n",
      "|  YR7220|      New York|       Groceries|  53648681| 52| 36.92|    1.04| 50.96|2019-11-26|\n",
      "|  YR7220|      New York|       Groceries| 15652465T| 29| 18.85|    2.03| 26.97|2019-11-26|\n",
      "+--------+--------------+----------------+----------+---+------+--------+------+----------+\n",
      "only showing top 20 rows\n",
      "\n"
     ]
    }
   ],
   "source": [
    "df2.show()"
   ]
  },
  {
   "cell_type": "code",
   "execution_count": 12,
   "id": "bffdf066-5645-4952-b857-d8da0d3fe400",
   "metadata": {
    "tags": []
   },
   "outputs": [],
   "source": [
    "df3=df2.withColumn(\"CP\", F.col(\"CP\").cast(FloatType())) \\\n",
    ".withColumn(\"DISCOUNT\",  F.col(\"DISCOUNT\").cast(FloatType())) \\\n",
    ".withColumn(\"SP\",  F.col(\"SP\").cast(FloatType())) \\\n",
    ".withColumn(\"MRP\",  F.col(\"MRP\").cast(IntegerType())) "
   ]
  },
  {
   "cell_type": "code",
   "execution_count": 13,
   "id": "b6c0186f-866a-4815-9c7d-b7016bbe4a0a",
   "metadata": {
    "tags": []
   },
   "outputs": [
    {
     "name": "stdout",
     "output_type": "stream",
     "text": [
      "root\n",
      " |-- STORE_ID: string (nullable = true)\n",
      " |-- STORE_LOCATION: string (nullable = true)\n",
      " |-- PRODUCT_CATEGORY: string (nullable = true)\n",
      " |-- PRODUCT_ID: string (nullable = true)\n",
      " |-- MRP: integer (nullable = true)\n",
      " |-- CP: float (nullable = true)\n",
      " |-- DISCOUNT: float (nullable = true)\n",
      " |-- SP: float (nullable = true)\n",
      " |-- Date: date (nullable = true)\n",
      "\n"
     ]
    }
   ],
   "source": [
    "df3.printSchema()"
   ]
  },
  {
   "cell_type": "code",
   "execution_count": 14,
   "id": "ff793229-59d2-47f4-839f-accb289bbc56",
   "metadata": {
    "tags": []
   },
   "outputs": [
    {
     "name": "stdout",
     "output_type": "stream",
     "text": [
      "+--------+--------------+----------------+----------+---+-----+--------+-----+----------+\n",
      "|STORE_ID|STORE_LOCATION|PRODUCT_CATEGORY|PRODUCT_ID|MRP|   CP|DISCOUNT|   SP|      Date|\n",
      "+--------+--------------+----------------+----------+---+-----+--------+-----+----------+\n",
      "|  YR7220|     New York(|     Electronics|  12254943| 31|20.77|    1.86|29.14|2019-11-26|\n",
      "|  YR7220|     New York+|       Furniture| 72619323C| 15| 9.75|     1.5| 13.5|2019-11-26|\n",
      "|  YR7220|     New York |     Electronics| 34161682B| 88|62.48|     4.4| 83.6|2019-11-26|\n",
      "|  YR7220|     New York!|         Kitchen|  79411621| 91|58.24|    3.64|87.36|2019-11-26|\n",
      "|  YR7220|      New York|         Fashion| 39520263T| 85| 51.0|    2.55|82.45|2019-11-26|\n",
      "|  YR7220|      New York|         Kitchen|  93809204| 37|24.05|    0.74|36.26|2019-11-26|\n",
      "|  YR7220|      New York|       Cosmetics| 86610412D| 80| 48.8|     6.4| 73.6|2019-11-26|\n",
      "|  YR7220|     New York$|         Kitchen| 52503356^| 71| 42.6|    5.68|65.32|2019-11-26|\n",
      "|  YR7220|      New York|         Kitchen|  77516479| 92|56.12|    3.68|88.32|2019-11-26|\n",
      "|  YR7220|     New York!|       Cosmetics|  47334289| 16|10.72|    0.96|15.04|2019-11-26|\n",
      "|  YR7220|    New York\"\"|       Cosmetics| 87566223^| 38|23.18|    2.66|35.34|2019-11-26|\n",
      "|  YR7220|      New York|     Electronics| 54074401^| 26|17.68|    0.52|25.48|2019-11-26|\n",
      "|  YR7220|      New York|         Fashion| 24246520G| 45|30.15|    1.35|43.65|2019-11-26|\n",
      "|  YR7220|      New York|       Cosmetics|  61138610| 83|57.27|    1.66|81.34|2019-11-26|\n",
      "|  YR7220|      New York|         Kitchen|  69018554| 55| 37.4|    1.65|53.35|2019-11-26|\n",
      "|  YR7220|      New York|       Groceries| 11950073P| 13| 7.93|    0.39|12.61|2019-11-26|\n",
      "|  YR7220|      New York|         Fashion|  86404418| 69| 48.3|    4.83|64.17|2019-11-26|\n",
      "|  YR7220|     New York+|         Fashion|  91763000| 18| 11.7|    0.36|17.64|2019-11-26|\n",
      "|  YR7220|      New York|       Groceries|  53648681| 52|36.92|    1.04|50.96|2019-11-26|\n",
      "|  YR7220|      New York|       Groceries| 15652465T| 29|18.85|    2.03|26.97|2019-11-26|\n",
      "+--------+--------------+----------------+----------+---+-----+--------+-----+----------+\n",
      "only showing top 20 rows\n",
      "\n"
     ]
    }
   ],
   "source": [
    "df3.show()"
   ]
  },
  {
   "cell_type": "code",
   "execution_count": 15,
   "id": "0a659d60-4232-4231-b3d5-bc0a7d1b849f",
   "metadata": {
    "tags": []
   },
   "outputs": [],
   "source": [
    "df4=df3.withColumn(\"STORE_LOCATION\", F.regexp_replace(F.col(\"STORE_LOCATION\"), \"[^a-zA-Z0-9]\", \"\")) \\\n",
    ".withColumn(\"PRODUCT_ID\", F.regexp_replace(F.col(\"PRODUCT_ID\"), \"[^a-zA-Z0-9]\", \"\"))"
   ]
  },
  {
   "attachments": {},
   "cell_type": "markdown",
   "id": "dbe6db3f",
   "metadata": {},
   "source": [
    "regexp_replace(\"STORE_LOCATION\", \"[^0-9a-zA-Z_\\-]+\", \"\").alias('STORE_LOCATION')"
   ]
  },
  {
   "cell_type": "code",
   "execution_count": 16,
   "id": "7503f8ce-7144-49ba-8f45-f5684995ac3d",
   "metadata": {
    "tags": []
   },
   "outputs": [
    {
     "name": "stdout",
     "output_type": "stream",
     "text": [
      "+--------+--------------+----------------+----------+---+-----+--------+-----+----------+\n",
      "|STORE_ID|STORE_LOCATION|PRODUCT_CATEGORY|PRODUCT_ID|MRP|   CP|DISCOUNT|   SP|      Date|\n",
      "+--------+--------------+----------------+----------+---+-----+--------+-----+----------+\n",
      "|  YR7220|       NewYork|     Electronics|  12254943| 31|20.77|    1.86|29.14|2019-11-26|\n",
      "|  YR7220|       NewYork|       Furniture| 72619323C| 15| 9.75|     1.5| 13.5|2019-11-26|\n",
      "|  YR7220|       NewYork|     Electronics| 34161682B| 88|62.48|     4.4| 83.6|2019-11-26|\n",
      "|  YR7220|       NewYork|         Kitchen|  79411621| 91|58.24|    3.64|87.36|2019-11-26|\n",
      "|  YR7220|       NewYork|         Fashion| 39520263T| 85| 51.0|    2.55|82.45|2019-11-26|\n",
      "|  YR7220|       NewYork|         Kitchen|  93809204| 37|24.05|    0.74|36.26|2019-11-26|\n",
      "|  YR7220|       NewYork|       Cosmetics| 86610412D| 80| 48.8|     6.4| 73.6|2019-11-26|\n",
      "|  YR7220|       NewYork|         Kitchen|  52503356| 71| 42.6|    5.68|65.32|2019-11-26|\n",
      "|  YR7220|       NewYork|         Kitchen|  77516479| 92|56.12|    3.68|88.32|2019-11-26|\n",
      "|  YR7220|       NewYork|       Cosmetics|  47334289| 16|10.72|    0.96|15.04|2019-11-26|\n",
      "|  YR7220|       NewYork|       Cosmetics|  87566223| 38|23.18|    2.66|35.34|2019-11-26|\n",
      "|  YR7220|       NewYork|     Electronics|  54074401| 26|17.68|    0.52|25.48|2019-11-26|\n",
      "|  YR7220|       NewYork|         Fashion| 24246520G| 45|30.15|    1.35|43.65|2019-11-26|\n",
      "|  YR7220|       NewYork|       Cosmetics|  61138610| 83|57.27|    1.66|81.34|2019-11-26|\n",
      "|  YR7220|       NewYork|         Kitchen|  69018554| 55| 37.4|    1.65|53.35|2019-11-26|\n",
      "|  YR7220|       NewYork|       Groceries| 11950073P| 13| 7.93|    0.39|12.61|2019-11-26|\n",
      "|  YR7220|       NewYork|         Fashion|  86404418| 69| 48.3|    4.83|64.17|2019-11-26|\n",
      "|  YR7220|       NewYork|         Fashion|  91763000| 18| 11.7|    0.36|17.64|2019-11-26|\n",
      "|  YR7220|       NewYork|       Groceries|  53648681| 52|36.92|    1.04|50.96|2019-11-26|\n",
      "|  YR7220|       NewYork|       Groceries| 15652465T| 29|18.85|    2.03|26.97|2019-11-26|\n",
      "+--------+--------------+----------------+----------+---+-----+--------+-----+----------+\n",
      "only showing top 20 rows\n",
      "\n"
     ]
    }
   ],
   "source": [
    "df4.show()"
   ]
  },
  {
   "cell_type": "code",
   "execution_count": 17,
   "id": "7498724a-1976-471c-9efe-83205042554f",
   "metadata": {
    "tags": []
   },
   "outputs": [],
   "source": [
    "df5=df4.select([F.col(x).alias(x.lower()) for x in df1.columns])"
   ]
  },
  {
   "cell_type": "code",
   "execution_count": 18,
   "id": "393c55e6-0573-436f-8f94-3150c86ddb0b",
   "metadata": {
    "tags": []
   },
   "outputs": [
    {
     "name": "stdout",
     "output_type": "stream",
     "text": [
      "root\n",
      " |-- store_id: string (nullable = true)\n",
      " |-- store_location: string (nullable = true)\n",
      " |-- product_category: string (nullable = true)\n",
      " |-- product_id: string (nullable = true)\n",
      " |-- mrp: integer (nullable = true)\n",
      " |-- cp: float (nullable = true)\n",
      " |-- discount: float (nullable = true)\n",
      " |-- sp: float (nullable = true)\n",
      " |-- date: date (nullable = true)\n",
      "\n"
     ]
    }
   ],
   "source": [
    "df5.printSchema()"
   ]
  },
  {
   "cell_type": "markdown",
   "id": "9c737430-e706-4c3a-b322-940e5ba5dd3f",
   "metadata": {},
   "source": [
    "## Data Cleaning"
   ]
  },
  {
   "cell_type": "code",
   "execution_count": 19,
   "id": "216e5e94-5726-4ac2-b6d4-3e0d4d4b9724",
   "metadata": {
    "tags": []
   },
   "outputs": [],
   "source": [
    "import findspark\n",
    "findspark.init(\"/opt/manual/spark/\")"
   ]
  },
  {
   "cell_type": "code",
   "execution_count": 20,
   "id": "7c664422-8a4f-428d-b384-c5a074e6e7e4",
   "metadata": {
    "tags": []
   },
   "outputs": [],
   "source": [
    "from pyspark.sql import SparkSession, functions as F\n",
    "from pyspark.sql.types import StructType, StructField, DoubleType, StringType, IntegerType, DateType, ArrayType, FloatType"
   ]
  },
  {
   "cell_type": "code",
   "execution_count": null,
   "id": "60ce0287-9823-49b6-9f30-9564b2f20c63",
   "metadata": {},
   "outputs": [],
   "source": [
    "spark = SparkSession.builder \\\n",
    ".master(\"local[2]\") \\\n",
    ".enableHiveSupport() \\\n",
    ".appName(\"CleanData\") \\\n",
    ".getOrCreate()"
   ]
  },
  {
   "cell_type": "code",
   "execution_count": null,
   "id": "8098f4e6-0e80-400e-93b9-0a6a294f951a",
   "metadata": {},
   "outputs": [],
   "source": [
    "! wget -P /home/train/datasets/ \\\n",
    "https://github.com/erkansirin78/datasets/raw/master/dirty_store_transactions.csv"
   ]
  },
  {
   "cell_type": "code",
   "execution_count": null,
   "id": "e7005e46-31da-4ad6-b3f2-07d90d55f72a",
   "metadata": {},
   "outputs": [],
   "source": [
    "df = spark.read \\\n",
    ".format(\"csv\") \\\n",
    ".option(\"header\", True) \\\n",
    ".option(\"sep\", \",\") \\\n",
    ".option(\"inferSchema\", True) \\\n",
    ".load(\"file:///home/train/datasets/dirty_store_transactions.csv\")"
   ]
  },
  {
   "cell_type": "code",
   "execution_count": 21,
   "id": "33f1263d-282a-46df-ba4a-76cbecfdc2c4",
   "metadata": {
    "tags": []
   },
   "outputs": [],
   "source": [
    "df1=df.withColumn(\"Date\", F.to_date(\"Date\", \"y-M-d\")) \\\n",
    ".withColumn(\"CP\", F.translate(\"CP\", \"$\", \"\").cast(DoubleType())) \\\n",
    ".withColumn(\"DISCOUNT\",  F.translate(\"DISCOUNT\", \"$\", \"\").cast(FloatType())) \\\n",
    ".withColumn(\"SP\",  F.translate(\"SP\", \"$\", \"\").cast(FloatType())) \\\n",
    ".withColumn(\"MRP\",  F.translate(\"MRP\", \"$\", \"\").cast(IntegerType())) \\\n",
    ".withColumn(\"STORE_LOCATION\", F.regexp_replace(F.col(\"STORE_LOCATION\"), \"[^a-zA-Z0-9]\", \"\")) \\\n",
    ".withColumn(\"PRODUCT_ID\", F.regexp_replace(F.col(\"PRODUCT_ID\"), \"[^0-9]\", \"\"))"
   ]
  },
  {
   "cell_type": "code",
   "execution_count": 22,
   "id": "8acbe27a-379d-4331-9275-b521aec9c222",
   "metadata": {
    "tags": []
   },
   "outputs": [
    {
     "name": "stdout",
     "output_type": "stream",
     "text": [
      "root\n",
      " |-- STORE_ID: string (nullable = true)\n",
      " |-- STORE_LOCATION: string (nullable = true)\n",
      " |-- PRODUCT_CATEGORY: string (nullable = true)\n",
      " |-- PRODUCT_ID: string (nullable = true)\n",
      " |-- MRP: integer (nullable = true)\n",
      " |-- CP: double (nullable = true)\n",
      " |-- DISCOUNT: float (nullable = true)\n",
      " |-- SP: float (nullable = true)\n",
      " |-- Date: date (nullable = true)\n",
      "\n"
     ]
    }
   ],
   "source": [
    "df1.printSchema()"
   ]
  },
  {
   "cell_type": "code",
   "execution_count": 23,
   "id": "7d056353-68c4-4ab6-9fac-7a34f2a1c71d",
   "metadata": {
    "tags": []
   },
   "outputs": [
    {
     "name": "stdout",
     "output_type": "stream",
     "text": [
      "+--------+--------------+----------------+----------+---+-----+--------+-----+----------+\n",
      "|STORE_ID|STORE_LOCATION|PRODUCT_CATEGORY|PRODUCT_ID|MRP|   CP|DISCOUNT|   SP|      Date|\n",
      "+--------+--------------+----------------+----------+---+-----+--------+-----+----------+\n",
      "|  YR7220|       NewYork|     Electronics|  12254943| 31|20.77|    1.86|29.14|2019-11-26|\n",
      "|  YR7220|       NewYork|       Furniture|  72619323| 15| 9.75|     1.5| 13.5|2019-11-26|\n",
      "|  YR7220|       NewYork|     Electronics|  34161682| 88|62.48|     4.4| 83.6|2019-11-26|\n",
      "|  YR7220|       NewYork|         Kitchen|  79411621| 91|58.24|    3.64|87.36|2019-11-26|\n",
      "|  YR7220|       NewYork|         Fashion|  39520263| 85| 51.0|    2.55|82.45|2019-11-26|\n",
      "|  YR7220|       NewYork|         Kitchen|  93809204| 37|24.05|    0.74|36.26|2019-11-26|\n",
      "|  YR7220|       NewYork|       Cosmetics|  86610412| 80| 48.8|     6.4| 73.6|2019-11-26|\n",
      "|  YR7220|       NewYork|         Kitchen|  52503356| 71| 42.6|    5.68|65.32|2019-11-26|\n",
      "|  YR7220|       NewYork|         Kitchen|  77516479| 92|56.12|    3.68|88.32|2019-11-26|\n",
      "|  YR7220|       NewYork|       Cosmetics|  47334289| 16|10.72|    0.96|15.04|2019-11-26|\n",
      "|  YR7220|       NewYork|       Cosmetics|  87566223| 38|23.18|    2.66|35.34|2019-11-26|\n",
      "|  YR7220|       NewYork|     Electronics|  54074401| 26|17.68|    0.52|25.48|2019-11-26|\n",
      "|  YR7220|       NewYork|         Fashion|  24246520| 45|30.15|    1.35|43.65|2019-11-26|\n",
      "|  YR7220|       NewYork|       Cosmetics|  61138610| 83|57.27|    1.66|81.34|2019-11-26|\n",
      "|  YR7220|       NewYork|         Kitchen|  69018554| 55| 37.4|    1.65|53.35|2019-11-26|\n",
      "|  YR7220|       NewYork|       Groceries|  11950073| 13| 7.93|    0.39|12.61|2019-11-26|\n",
      "|  YR7220|       NewYork|         Fashion|  86404418| 69| 48.3|    4.83|64.17|2019-11-26|\n",
      "|  YR7220|       NewYork|         Fashion|  91763000| 18| 11.7|    0.36|17.64|2019-11-26|\n",
      "|  YR7220|       NewYork|       Groceries|  53648681| 52|36.92|    1.04|50.96|2019-11-26|\n",
      "|  YR7220|       NewYork|       Groceries|  15652465| 29|18.85|    2.03|26.97|2019-11-26|\n",
      "+--------+--------------+----------------+----------+---+-----+--------+-----+----------+\n",
      "only showing top 20 rows\n",
      "\n"
     ]
    }
   ],
   "source": [
    "df1.show()"
   ]
  },
  {
   "cell_type": "code",
   "execution_count": 24,
   "id": "9f078d03-3fda-42a2-8587-4318700b3324",
   "metadata": {
    "tags": []
   },
   "outputs": [],
   "source": [
    "df2=df1.select([F.col(x).alias(x.lower()) for x in df1.columns])"
   ]
  },
  {
   "cell_type": "code",
   "execution_count": 25,
   "id": "f619892e-372e-40e5-935c-00744ef1f68a",
   "metadata": {
    "tags": []
   },
   "outputs": [
    {
     "name": "stdout",
     "output_type": "stream",
     "text": [
      "+--------+--------------+----------------+----------+---+-----+--------+-----+----------+\n",
      "|store_id|store_location|product_category|product_id|mrp|   cp|discount|   sp|      date|\n",
      "+--------+--------------+----------------+----------+---+-----+--------+-----+----------+\n",
      "|  YR7220|       NewYork|     Electronics|  12254943| 31|20.77|    1.86|29.14|2019-11-26|\n",
      "|  YR7220|       NewYork|       Furniture|  72619323| 15| 9.75|     1.5| 13.5|2019-11-26|\n",
      "|  YR7220|       NewYork|     Electronics|  34161682| 88|62.48|     4.4| 83.6|2019-11-26|\n",
      "|  YR7220|       NewYork|         Kitchen|  79411621| 91|58.24|    3.64|87.36|2019-11-26|\n",
      "|  YR7220|       NewYork|         Fashion|  39520263| 85| 51.0|    2.55|82.45|2019-11-26|\n",
      "|  YR7220|       NewYork|         Kitchen|  93809204| 37|24.05|    0.74|36.26|2019-11-26|\n",
      "|  YR7220|       NewYork|       Cosmetics|  86610412| 80| 48.8|     6.4| 73.6|2019-11-26|\n",
      "|  YR7220|       NewYork|         Kitchen|  52503356| 71| 42.6|    5.68|65.32|2019-11-26|\n",
      "|  YR7220|       NewYork|         Kitchen|  77516479| 92|56.12|    3.68|88.32|2019-11-26|\n",
      "|  YR7220|       NewYork|       Cosmetics|  47334289| 16|10.72|    0.96|15.04|2019-11-26|\n",
      "|  YR7220|       NewYork|       Cosmetics|  87566223| 38|23.18|    2.66|35.34|2019-11-26|\n",
      "|  YR7220|       NewYork|     Electronics|  54074401| 26|17.68|    0.52|25.48|2019-11-26|\n",
      "|  YR7220|       NewYork|         Fashion|  24246520| 45|30.15|    1.35|43.65|2019-11-26|\n",
      "|  YR7220|       NewYork|       Cosmetics|  61138610| 83|57.27|    1.66|81.34|2019-11-26|\n",
      "|  YR7220|       NewYork|         Kitchen|  69018554| 55| 37.4|    1.65|53.35|2019-11-26|\n",
      "|  YR7220|       NewYork|       Groceries|  11950073| 13| 7.93|    0.39|12.61|2019-11-26|\n",
      "|  YR7220|       NewYork|         Fashion|  86404418| 69| 48.3|    4.83|64.17|2019-11-26|\n",
      "|  YR7220|       NewYork|         Fashion|  91763000| 18| 11.7|    0.36|17.64|2019-11-26|\n",
      "|  YR7220|       NewYork|       Groceries|  53648681| 52|36.92|    1.04|50.96|2019-11-26|\n",
      "|  YR7220|       NewYork|       Groceries|  15652465| 29|18.85|    2.03|26.97|2019-11-26|\n",
      "+--------+--------------+----------------+----------+---+-----+--------+-----+----------+\n",
      "only showing top 20 rows\n",
      "\n"
     ]
    }
   ],
   "source": [
    "df2.show()"
   ]
  },
  {
   "cell_type": "code",
   "execution_count": 27,
   "id": "784a762a-8330-4647-a942-cd5b0890ff21",
   "metadata": {
    "tags": []
   },
   "outputs": [],
   "source": [
    "df2.createOrReplaceTempView(\"data_temp\")"
   ]
  },
  {
   "cell_type": "code",
   "execution_count": 28,
   "id": "bedfef0f-493b-4b5d-9718-5ef893666bad",
   "metadata": {
    "tags": []
   },
   "outputs": [],
   "source": [
    "df_check = spark.sql(\"\"\"\n",
    "    \n",
    "    \n",
    "    SELECT STORE_LOCATION, SUM(CP), SUM(DISCOUNT), SUM(SP)\n",
    "    FROM data_temp \n",
    "    GROUP BY STORE_LOCATION;\n",
    "\n",
    "\"\"\")"
   ]
  },
  {
   "cell_type": "code",
   "execution_count": 29,
   "id": "df1111c5-69e1-4a39-8a5a-f489c42f1010",
   "metadata": {
    "tags": []
   },
   "outputs": [
    {
     "name": "stderr",
     "output_type": "stream",
     "text": [
      "                                                                                \r"
     ]
    },
    {
     "name": "stdout",
     "output_type": "stream",
     "text": [
      "+--------------+------------------+------------------+------------------+\n",
      "|STORE_LOCATION|           sum(CP)|     sum(DISCOUNT)|           sum(SP)|\n",
      "+--------------+------------------+------------------+------------------+\n",
      "|    Washington|324520.73999999854| 29375.87996855378|450798.11982536316|\n",
      "|       Houston| 278819.5199999993| 24945.19997137785|388271.79981708527|\n",
      "|       NewYork| 298466.4899999972| 26283.11000086367| 415423.8898162842|\n",
      "|         Miami|267729.23999999836|24296.639976918697|371295.35949897766|\n",
      "|        Denver|244569.53999999826|21501.479988992214| 340802.5197200775|\n",
      "+--------------+------------------+------------------+------------------+\n",
      "\n"
     ]
    }
   ],
   "source": [
    "df_check.show()"
   ]
  },
  {
   "cell_type": "code",
   "execution_count": 30,
   "id": "c7114730-7780-4972-8ccf-ff24a041681b",
   "metadata": {
    "tags": []
   },
   "outputs": [
    {
     "data": {
      "text/plain": [
       "37853"
      ]
     },
     "execution_count": 30,
     "metadata": {},
     "output_type": "execute_result"
    }
   ],
   "source": [
    "df.count()"
   ]
  },
  {
   "cell_type": "markdown",
   "id": "7a5b51b3-007d-4ba2-9618-6b1cbf7fb7ff",
   "metadata": {},
   "source": [
    "## Write Clean Data into Hive"
   ]
  },
  {
   "cell_type": "code",
   "execution_count": 31,
   "id": "0fe0f5c9-f62e-4d85-baa9-3491c61deb56",
   "metadata": {
    "tags": []
   },
   "outputs": [],
   "source": [
    "hive_df=df1.select([F.col(x).alias(x.lower()) for x in df1.columns])"
   ]
  },
  {
   "cell_type": "code",
   "execution_count": 32,
   "id": "d0135029-0acc-4cc8-bf12-0344c9893b33",
   "metadata": {
    "tags": []
   },
   "outputs": [
    {
     "name": "stdout",
     "output_type": "stream",
     "text": [
      "root\n",
      " |-- store_id: string (nullable = true)\n",
      " |-- store_location: string (nullable = true)\n",
      " |-- product_category: string (nullable = true)\n",
      " |-- product_id: string (nullable = true)\n",
      " |-- mrp: integer (nullable = true)\n",
      " |-- cp: double (nullable = true)\n",
      " |-- discount: float (nullable = true)\n",
      " |-- sp: float (nullable = true)\n",
      " |-- date: date (nullable = true)\n",
      "\n"
     ]
    }
   ],
   "source": [
    "hive_df.printSchema()"
   ]
  },
  {
   "cell_type": "code",
   "execution_count": 33,
   "id": "8bcdf569-5ec8-4770-949d-144ba91e2fc8",
   "metadata": {
    "tags": []
   },
   "outputs": [
    {
     "name": "stdout",
     "output_type": "stream",
     "text": [
      "+--------+--------------+----------------+----------+---+-----+--------+-----+----------+\n",
      "|store_id|store_location|product_category|product_id|mrp|   cp|discount|   sp|      date|\n",
      "+--------+--------------+----------------+----------+---+-----+--------+-----+----------+\n",
      "|  YR7220|       NewYork|     Electronics|  12254943| 31|20.77|    1.86|29.14|2019-11-26|\n",
      "|  YR7220|       NewYork|       Furniture|  72619323| 15| 9.75|     1.5| 13.5|2019-11-26|\n",
      "|  YR7220|       NewYork|     Electronics|  34161682| 88|62.48|     4.4| 83.6|2019-11-26|\n",
      "|  YR7220|       NewYork|         Kitchen|  79411621| 91|58.24|    3.64|87.36|2019-11-26|\n",
      "|  YR7220|       NewYork|         Fashion|  39520263| 85| 51.0|    2.55|82.45|2019-11-26|\n",
      "|  YR7220|       NewYork|         Kitchen|  93809204| 37|24.05|    0.74|36.26|2019-11-26|\n",
      "|  YR7220|       NewYork|       Cosmetics|  86610412| 80| 48.8|     6.4| 73.6|2019-11-26|\n",
      "|  YR7220|       NewYork|         Kitchen|  52503356| 71| 42.6|    5.68|65.32|2019-11-26|\n",
      "|  YR7220|       NewYork|         Kitchen|  77516479| 92|56.12|    3.68|88.32|2019-11-26|\n",
      "|  YR7220|       NewYork|       Cosmetics|  47334289| 16|10.72|    0.96|15.04|2019-11-26|\n",
      "|  YR7220|       NewYork|       Cosmetics|  87566223| 38|23.18|    2.66|35.34|2019-11-26|\n",
      "|  YR7220|       NewYork|     Electronics|  54074401| 26|17.68|    0.52|25.48|2019-11-26|\n",
      "|  YR7220|       NewYork|         Fashion|  24246520| 45|30.15|    1.35|43.65|2019-11-26|\n",
      "|  YR7220|       NewYork|       Cosmetics|  61138610| 83|57.27|    1.66|81.34|2019-11-26|\n",
      "|  YR7220|       NewYork|         Kitchen|  69018554| 55| 37.4|    1.65|53.35|2019-11-26|\n",
      "|  YR7220|       NewYork|       Groceries|  11950073| 13| 7.93|    0.39|12.61|2019-11-26|\n",
      "|  YR7220|       NewYork|         Fashion|  86404418| 69| 48.3|    4.83|64.17|2019-11-26|\n",
      "|  YR7220|       NewYork|         Fashion|  91763000| 18| 11.7|    0.36|17.64|2019-11-26|\n",
      "|  YR7220|       NewYork|       Groceries|  53648681| 52|36.92|    1.04|50.96|2019-11-26|\n",
      "|  YR7220|       NewYork|       Groceries|  15652465| 29|18.85|    2.03|26.97|2019-11-26|\n",
      "+--------+--------------+----------------+----------+---+-----+--------+-----+----------+\n",
      "only showing top 20 rows\n",
      "\n"
     ]
    }
   ],
   "source": [
    "hive_df.show()"
   ]
  },
  {
   "cell_type": "code",
   "execution_count": 34,
   "id": "2bc4a080-70a3-4769-8771-0d2b26359140",
   "metadata": {
    "tags": []
   },
   "outputs": [
    {
     "data": {
      "text/plain": [
       "37853"
      ]
     },
     "execution_count": 34,
     "metadata": {},
     "output_type": "execute_result"
    }
   ],
   "source": [
    "hive_df.count()"
   ]
  },
  {
   "cell_type": "code",
   "execution_count": 35,
   "id": "2c4fb103-44c6-4868-8552-7d42f1129b35",
   "metadata": {
    "tags": []
   },
   "outputs": [
    {
     "data": {
      "text/plain": [
       "DataFrame[]"
      ]
     },
     "execution_count": 35,
     "metadata": {},
     "output_type": "execute_result"
    }
   ],
   "source": [
    "spark.sql(\"CREATE DATABASE IF NOT EXISTS test1\")"
   ]
  },
  {
   "cell_type": "code",
   "execution_count": 36,
   "id": "894be5b5-970c-48fa-a070-62a9a1a872de",
   "metadata": {
    "tags": []
   },
   "outputs": [
    {
     "name": "stdout",
     "output_type": "stream",
     "text": [
      "+---------+\n",
      "|namespace|\n",
      "+---------+\n",
      "|  default|\n",
      "|    test1|\n",
      "+---------+\n",
      "\n"
     ]
    }
   ],
   "source": [
    "spark.sql(\"show databases\").show()"
   ]
  },
  {
   "cell_type": "markdown",
   "id": "aba420c4-205f-4fb4-8c13-b1ae2217b70b",
   "metadata": {},
   "source": [
    "### ORC Format"
   ]
  },
  {
   "cell_type": "code",
   "execution_count": 37,
   "id": "37a75e3c-b98a-4fe5-a2d7-4e012e2d298e",
   "metadata": {
    "tags": []
   },
   "outputs": [
    {
     "name": "stderr",
     "output_type": "stream",
     "text": [
      "                                                                                \r"
     ]
    }
   ],
   "source": [
    "hive_df.write.format(\"orc\") \\\n",
    ".mode(\"overwrite\") \\\n",
    ".saveAsTable(\"test1.clean_transactions1\")"
   ]
  },
  {
   "cell_type": "code",
   "execution_count": 38,
   "id": "1a27a320-7762-44a4-b23b-8fb972cba1e1",
   "metadata": {
    "tags": []
   },
   "outputs": [
    {
     "name": "stdout",
     "output_type": "stream",
     "text": [
      "Found 2 items\n",
      "-rw-r--r--   1 train hive          0 2023-02-23 00:11 /user/hive/warehouse/test1.db/clean_transactions1/_SUCCESS\n",
      "-rw-r--r--   1 train hive     194855 2023-02-23 00:11 /user/hive/warehouse/test1.db/clean_transactions1/part-00000-3a888059-3bb5-495b-9e9c-a06b10ded976-c000.snappy.orc\n"
     ]
    }
   ],
   "source": [
    "!hdfs dfs -ls /user/hive/warehouse/test1.db/clean_transactions1"
   ]
  },
  {
   "cell_type": "markdown",
   "id": "b131c098-a9da-423b-8b46-a2e5de06afb6",
   "metadata": {},
   "source": [
    "### Default Format: Parquet"
   ]
  },
  {
   "cell_type": "code",
   "execution_count": 40,
   "id": "6e6fcb31-3bff-4ef4-91ea-80a1be49a06a",
   "metadata": {
    "tags": []
   },
   "outputs": [
    {
     "name": "stderr",
     "output_type": "stream",
     "text": [
      "                                                                                \r"
     ]
    }
   ],
   "source": [
    "hive_df.write \\\n",
    ".mode(\"overwrite\") \\\n",
    ".saveAsTable(\"test1.clean_transactions_default\")"
   ]
  },
  {
   "cell_type": "code",
   "execution_count": 41,
   "id": "39b99f3a-b925-4996-82bf-f26627ee70ea",
   "metadata": {
    "tags": []
   },
   "outputs": [
    {
     "name": "stdout",
     "output_type": "stream",
     "text": [
      "Found 2 items\n",
      "-rw-r--r--   1 train hive          0 2023-02-23 00:13 /user/hive/warehouse/test1.db/clean_transactions_default/_SUCCESS\n",
      "-rw-r--r--   1 train hive     241687 2023-02-23 00:13 /user/hive/warehouse/test1.db/clean_transactions_default/part-00000-0607339a-45a7-493d-84bd-a94258d409eb-c000.snappy.parquet\n"
     ]
    }
   ],
   "source": [
    "!hdfs dfs -ls /user/hive/warehouse/test1.db/clean_transactions_default"
   ]
  },
  {
   "cell_type": "markdown",
   "id": "c4a0e240-4787-4126-9cfc-0a410e6029ef",
   "metadata": {},
   "source": [
    "### TXT Format"
   ]
  },
  {
   "cell_type": "code",
   "execution_count": 42,
   "id": "92c7181e-1d8f-4c50-831a-02e2438beff0",
   "metadata": {
    "tags": []
   },
   "outputs": [
    {
     "name": "stderr",
     "output_type": "stream",
     "text": [
      "                                                                                \r"
     ]
    }
   ],
   "source": [
    "hive_df.write \\\n",
    ".mode(\"overwrite\") \\\n",
    ".option(\"fileFormat\", \"textfile\") \\\n",
    ".saveAsTable(\"test1.clean_transactions_text\")"
   ]
  },
  {
   "cell_type": "code",
   "execution_count": 43,
   "id": "421e6294-a6c4-4254-8966-1671932f995e",
   "metadata": {
    "tags": []
   },
   "outputs": [
    {
     "name": "stdout",
     "output_type": "stream",
     "text": [
      "Found 2 items\n",
      "-rw-r--r--   1 train hive          0 2023-02-23 00:14 /user/hive/warehouse/test1.db/clean_transactions_text/_SUCCESS\n",
      "-rw-r--r--   1 train hive     241687 2023-02-23 00:14 /user/hive/warehouse/test1.db/clean_transactions_text/part-00000-aba641d1-2ab4-4cce-967c-a191f1b82843-c000.snappy.parquet\n"
     ]
    }
   ],
   "source": [
    "!hdfs dfs -ls /user/hive/warehouse/test1.db/clean_transactions_text"
   ]
  },
  {
   "cell_type": "markdown",
   "id": "90c586b3-f33d-4bbe-b54b-6b7d3c1d7b5f",
   "metadata": {},
   "source": [
    "## Read Data from Hive"
   ]
  },
  {
   "cell_type": "code",
   "execution_count": 44,
   "id": "f66aa145-cb11-419f-a39e-c342e990f627",
   "metadata": {
    "tags": []
   },
   "outputs": [],
   "source": [
    "df_read1 = spark.read.table(\"test1.clean_transactions1\")"
   ]
  },
  {
   "cell_type": "code",
   "execution_count": 45,
   "id": "a9723813-87fc-4a40-9fd2-8b07f5f8a946",
   "metadata": {
    "tags": []
   },
   "outputs": [
    {
     "name": "stdout",
     "output_type": "stream",
     "text": [
      "+--------+--------------+----------------+----------+---+-----+--------+-----+----------+\n",
      "|store_id|store_location|product_category|product_id|mrp|   cp|discount|   sp|      date|\n",
      "+--------+--------------+----------------+----------+---+-----+--------+-----+----------+\n",
      "|  YR7220|       NewYork|     Electronics|  12254943| 31|20.77|    1.86|29.14|2019-11-26|\n",
      "|  YR7220|       NewYork|       Furniture|  72619323| 15| 9.75|     1.5| 13.5|2019-11-26|\n",
      "|  YR7220|       NewYork|     Electronics|  34161682| 88|62.48|     4.4| 83.6|2019-11-26|\n",
      "|  YR7220|       NewYork|         Kitchen|  79411621| 91|58.24|    3.64|87.36|2019-11-26|\n",
      "|  YR7220|       NewYork|         Fashion|  39520263| 85| 51.0|    2.55|82.45|2019-11-26|\n",
      "|  YR7220|       NewYork|         Kitchen|  93809204| 37|24.05|    0.74|36.26|2019-11-26|\n",
      "|  YR7220|       NewYork|       Cosmetics|  86610412| 80| 48.8|     6.4| 73.6|2019-11-26|\n",
      "|  YR7220|       NewYork|         Kitchen|  52503356| 71| 42.6|    5.68|65.32|2019-11-26|\n",
      "|  YR7220|       NewYork|         Kitchen|  77516479| 92|56.12|    3.68|88.32|2019-11-26|\n",
      "|  YR7220|       NewYork|       Cosmetics|  47334289| 16|10.72|    0.96|15.04|2019-11-26|\n",
      "|  YR7220|       NewYork|       Cosmetics|  87566223| 38|23.18|    2.66|35.34|2019-11-26|\n",
      "|  YR7220|       NewYork|     Electronics|  54074401| 26|17.68|    0.52|25.48|2019-11-26|\n",
      "|  YR7220|       NewYork|         Fashion|  24246520| 45|30.15|    1.35|43.65|2019-11-26|\n",
      "|  YR7220|       NewYork|       Cosmetics|  61138610| 83|57.27|    1.66|81.34|2019-11-26|\n",
      "|  YR7220|       NewYork|         Kitchen|  69018554| 55| 37.4|    1.65|53.35|2019-11-26|\n",
      "|  YR7220|       NewYork|       Groceries|  11950073| 13| 7.93|    0.39|12.61|2019-11-26|\n",
      "|  YR7220|       NewYork|         Fashion|  86404418| 69| 48.3|    4.83|64.17|2019-11-26|\n",
      "|  YR7220|       NewYork|         Fashion|  91763000| 18| 11.7|    0.36|17.64|2019-11-26|\n",
      "|  YR7220|       NewYork|       Groceries|  53648681| 52|36.92|    1.04|50.96|2019-11-26|\n",
      "|  YR7220|       NewYork|       Groceries|  15652465| 29|18.85|    2.03|26.97|2019-11-26|\n",
      "+--------+--------------+----------------+----------+---+-----+--------+-----+----------+\n",
      "only showing top 20 rows\n",
      "\n"
     ]
    }
   ],
   "source": [
    "df_read1.show()"
   ]
  },
  {
   "cell_type": "code",
   "execution_count": 46,
   "id": "dd01fb82-2671-4730-a9fb-f4cfd26f0fa1",
   "metadata": {
    "tags": []
   },
   "outputs": [],
   "source": [
    "df_read2 = spark.sql(\"select distinct store_location from test1.clean_transactions1\")"
   ]
  },
  {
   "cell_type": "code",
   "execution_count": 47,
   "id": "1f1197af-fca5-4f37-80c9-0243c663959d",
   "metadata": {
    "tags": []
   },
   "outputs": [
    {
     "name": "stdout",
     "output_type": "stream",
     "text": [
      "+--------------+\n",
      "|store_location|\n",
      "+--------------+\n",
      "|    Washington|\n",
      "|       Houston|\n",
      "|       NewYork|\n",
      "|         Miami|\n",
      "|        Denver|\n",
      "+--------------+\n",
      "\n"
     ]
    }
   ],
   "source": [
    "df_read2.show()"
   ]
  },
  {
   "cell_type": "code",
   "execution_count": 48,
   "id": "632b3261-45dc-4a54-9289-cd54511f057c",
   "metadata": {
    "tags": []
   },
   "outputs": [],
   "source": [
    "df_read3 = spark.sql(\"select * from test1.clean_transactions_default limit 2\")"
   ]
  },
  {
   "cell_type": "code",
   "execution_count": 49,
   "id": "ddd7bf00-ed71-4a19-80e5-eec33e0e9ddb",
   "metadata": {
    "tags": []
   },
   "outputs": [
    {
     "name": "stdout",
     "output_type": "stream",
     "text": [
      "+--------+--------------+----------------+----------+---+-----+--------+-----+----------+\n",
      "|store_id|store_location|product_category|product_id|mrp|   cp|discount|   sp|      date|\n",
      "+--------+--------------+----------------+----------+---+-----+--------+-----+----------+\n",
      "|  YR7220|       NewYork|     Electronics|  12254943| 31|20.77|    1.86|29.14|2019-11-26|\n",
      "|  YR7220|       NewYork|       Furniture|  72619323| 15| 9.75|     1.5| 13.5|2019-11-26|\n",
      "+--------+--------------+----------------+----------+---+-----+--------+-----+----------+\n",
      "\n"
     ]
    }
   ],
   "source": [
    "df_read3.show()"
   ]
  },
  {
   "cell_type": "markdown",
   "id": "2c4651a3-531d-4c22-b4a9-8c46e6d89476",
   "metadata": {},
   "source": [
    "## Write Clean Data into PostgreSql"
   ]
  },
  {
   "cell_type": "markdown",
   "id": "a1d9cd78-54a0-4470-aef1-4f95ce9ea9b6",
   "metadata": {},
   "source": [
    "on linux prompt:\n",
    "[sudo] password for train:\n",
    "[train@trainvm ~]$ cat /opt/db_conn\n",
    "[DB]\n",
    "user_name=train\n",
    "password=Ankara06\n",
    "db_ip=127.0.0.1\n",
    "[train@trainvm ~]$"
   ]
  },
  {
   "cell_type": "code",
   "execution_count": 50,
   "id": "c313d786-66ed-45d2-b542-750665374810",
   "metadata": {
    "tags": []
   },
   "outputs": [],
   "source": [
    "import configparser"
   ]
  },
  {
   "cell_type": "code",
   "execution_count": 53,
   "id": "cc2134b1-ac4f-4c21-9028-a1cca0c3c586",
   "metadata": {
    "tags": []
   },
   "outputs": [],
   "source": [
    "config = configparser.RawConfigParser()\n",
    "\n",
    "config.read('/opt/db_conn')\n",
    "user_name = config.get('DB', 'user_name')\n",
    "password = config.get('DB', 'password')\n",
    "db_ip = config.get('DB', 'db_ip')"
   ]
  },
  {
   "cell_type": "code",
   "execution_count": 54,
   "id": "92d0b589-a557-4c2d-b893-bb3d1663bc45",
   "metadata": {
    "tags": []
   },
   "outputs": [
    {
     "data": {
      "text/plain": [
       "'train'"
      ]
     },
     "execution_count": 54,
     "metadata": {},
     "output_type": "execute_result"
    }
   ],
   "source": [
    "user_name"
   ]
  },
  {
   "cell_type": "code",
   "execution_count": 55,
   "id": "044c0f08-a013-4237-bb37-29b5495a7aee",
   "metadata": {
    "tags": []
   },
   "outputs": [
    {
     "name": "stdout",
     "output_type": "stream",
     "text": [
      "+--------+--------------+----------------+----------+---+-----+--------+-----+----------+\n",
      "|store_id|store_location|product_category|product_id|mrp|   cp|discount|   sp|      date|\n",
      "+--------+--------------+----------------+----------+---+-----+--------+-----+----------+\n",
      "|  YR7220|       NewYork|     Electronics|  12254943| 31|20.77|    1.86|29.14|2019-11-26|\n",
      "|  YR7220|       NewYork|       Furniture|  72619323| 15| 9.75|     1.5| 13.5|2019-11-26|\n",
      "|  YR7220|       NewYork|     Electronics|  34161682| 88|62.48|     4.4| 83.6|2019-11-26|\n",
      "|  YR7220|       NewYork|         Kitchen|  79411621| 91|58.24|    3.64|87.36|2019-11-26|\n",
      "|  YR7220|       NewYork|         Fashion|  39520263| 85| 51.0|    2.55|82.45|2019-11-26|\n",
      "|  YR7220|       NewYork|         Kitchen|  93809204| 37|24.05|    0.74|36.26|2019-11-26|\n",
      "|  YR7220|       NewYork|       Cosmetics|  86610412| 80| 48.8|     6.4| 73.6|2019-11-26|\n",
      "|  YR7220|       NewYork|         Kitchen|  52503356| 71| 42.6|    5.68|65.32|2019-11-26|\n",
      "|  YR7220|       NewYork|         Kitchen|  77516479| 92|56.12|    3.68|88.32|2019-11-26|\n",
      "|  YR7220|       NewYork|       Cosmetics|  47334289| 16|10.72|    0.96|15.04|2019-11-26|\n",
      "|  YR7220|       NewYork|       Cosmetics|  87566223| 38|23.18|    2.66|35.34|2019-11-26|\n",
      "|  YR7220|       NewYork|     Electronics|  54074401| 26|17.68|    0.52|25.48|2019-11-26|\n",
      "|  YR7220|       NewYork|         Fashion|  24246520| 45|30.15|    1.35|43.65|2019-11-26|\n",
      "|  YR7220|       NewYork|       Cosmetics|  61138610| 83|57.27|    1.66|81.34|2019-11-26|\n",
      "|  YR7220|       NewYork|         Kitchen|  69018554| 55| 37.4|    1.65|53.35|2019-11-26|\n",
      "|  YR7220|       NewYork|       Groceries|  11950073| 13| 7.93|    0.39|12.61|2019-11-26|\n",
      "|  YR7220|       NewYork|         Fashion|  86404418| 69| 48.3|    4.83|64.17|2019-11-26|\n",
      "|  YR7220|       NewYork|         Fashion|  91763000| 18| 11.7|    0.36|17.64|2019-11-26|\n",
      "|  YR7220|       NewYork|       Groceries|  53648681| 52|36.92|    1.04|50.96|2019-11-26|\n",
      "|  YR7220|       NewYork|       Groceries|  15652465| 29|18.85|    2.03|26.97|2019-11-26|\n",
      "+--------+--------------+----------------+----------+---+-----+--------+-----+----------+\n",
      "only showing top 20 rows\n",
      "\n"
     ]
    }
   ],
   "source": [
    "df2.show()"
   ]
  },
  {
   "cell_type": "code",
   "execution_count": 56,
   "id": "27a5749c-3438-4ffd-ac62-8224564de9db",
   "metadata": {
    "tags": []
   },
   "outputs": [
    {
     "name": "stdout",
     "output_type": "stream",
     "text": [
      "root\n",
      " |-- store_id: string (nullable = true)\n",
      " |-- store_location: string (nullable = true)\n",
      " |-- product_category: string (nullable = true)\n",
      " |-- product_id: string (nullable = true)\n",
      " |-- mrp: integer (nullable = true)\n",
      " |-- cp: double (nullable = true)\n",
      " |-- discount: float (nullable = true)\n",
      " |-- sp: float (nullable = true)\n",
      " |-- date: date (nullable = true)\n",
      "\n"
     ]
    }
   ],
   "source": [
    "df2.printSchema()"
   ]
  },
  {
   "cell_type": "code",
   "execution_count": 57,
   "id": "a5425caf-ad70-4e2d-aeb0-7747d6b12d0c",
   "metadata": {
    "tags": []
   },
   "outputs": [
    {
     "name": "stderr",
     "output_type": "stream",
     "text": [
      "                                                                                \r"
     ]
    }
   ],
   "source": [
    "(df2\n",
    ".write.format(\"jdbc\")\n",
    ".mode(\"overwrite\")\n",
    ".option(\"driver\", \"org.postgresql.Driver\")\n",
    ".option(\"url\", f\"jdbc:postgresql://{db_ip}:5432/traindb\")\n",
    ".option(\"dbtable\", \"clean_transactions\")\n",
    ".option(\"user\", user_name)\n",
    ".option(\"password\", password)\n",
    ".save())"
   ]
  },
  {
   "cell_type": "code",
   "execution_count": 58,
   "id": "ef461f78-8aa5-4f65-9ad2-f7f6900819e5",
   "metadata": {
    "tags": []
   },
   "outputs": [],
   "source": [
    "df_analysis_query = (spark.read.format(\"jdbc\")\n",
    ".option(\"driver\", \"org.postgresql.Driver\")\n",
    ".option(\"url\", f\"jdbc:postgresql://{db_ip}:5432/traindb\")\n",
    ".option(\"query\", \"select store_location, avg(cp) as avg_cp, avg(discount) AS avg_discount from clean_transactions group by store_location\")\n",
    ".option(\"user\", user_name)\n",
    ".option(\"password\", password)\n",
    ".load())"
   ]
  },
  {
   "cell_type": "code",
   "execution_count": 59,
   "id": "fda0f5ab-d645-493b-acf4-979b8b429fd5",
   "metadata": {
    "tags": []
   },
   "outputs": [
    {
     "name": "stdout",
     "output_type": "stream",
     "text": [
      "+--------------+------------------+------------------+\n",
      "|store_location|            avg_cp|      avg_discount|\n",
      "+--------------+------------------+------------------+\n",
      "|       Houston|37.754843601895644| 3.377819901337556|\n",
      "|    Washington|37.717426778242505| 3.414211990766362|\n",
      "|       NewYork| 37.01221354166632|3.2593142362182133|\n",
      "|        Denver|37.361677360219716|3.2846746087675243|\n",
      "|         Miami|  36.9078081058724| 3.349412734617962|\n",
      "+--------------+------------------+------------------+\n",
      "\n"
     ]
    }
   ],
   "source": [
    "df_analysis_query.show()"
   ]
  },
  {
   "cell_type": "markdown",
   "id": "9a9eb63d-3f8e-4221-8a8a-77b1c9eb6cc4",
   "metadata": {},
   "source": [
    "## Write Data into HDFS"
   ]
  },
  {
   "cell_type": "code",
   "execution_count": 60,
   "id": "43adc730-8bb4-437a-8842-9a884063906b",
   "metadata": {
    "tags": []
   },
   "outputs": [],
   "source": [
    "(df2\n",
    ".write.format(\"parquet\")\n",
    ".mode(\"overwrite\")\n",
    ".save(\"/user/train/spark_odev_transaction\"))"
   ]
  },
  {
   "cell_type": "code",
   "execution_count": 61,
   "id": "d278f39c-e2ac-451d-bb52-638d7e6111d6",
   "metadata": {
    "tags": []
   },
   "outputs": [
    {
     "name": "stdout",
     "output_type": "stream",
     "text": [
      "Found 2 items\n",
      "-rw-r--r--   1 train supergroup          0 2023-02-23 00:31 /user/train/spark_odev_transaction/_SUCCESS\n",
      "-rw-r--r--   1 train supergroup     241687 2023-02-23 00:31 /user/train/spark_odev_transaction/part-00000-47e03f24-47cb-4ecb-9aa9-c26e11467ec6-c000.snappy.parquet\n"
     ]
    }
   ],
   "source": [
    "!hdfs dfs -ls -t /user/train/spark_odev_transaction"
   ]
  },
  {
   "cell_type": "code",
   "execution_count": 62,
   "id": "37b28b40-7ca7-4adf-873f-7aabc4c54628",
   "metadata": {
    "tags": []
   },
   "outputs": [],
   "source": [
    "df_read = (spark.read.format(\"parquet\").load(\"hdfs://localhost:9000/user/train/spark_odev_transaction\"))"
   ]
  },
  {
   "cell_type": "code",
   "execution_count": 63,
   "id": "66b5e325-ec68-425c-a66b-7465c3a38bf8",
   "metadata": {
    "tags": []
   },
   "outputs": [
    {
     "name": "stdout",
     "output_type": "stream",
     "text": [
      "+--------+--------------+----------------+----------+---+-----+--------+-----+----------+\n",
      "|store_id|store_location|product_category|product_id|mrp|   cp|discount|   sp|      date|\n",
      "+--------+--------------+----------------+----------+---+-----+--------+-----+----------+\n",
      "|  YR7220|       NewYork|     Electronics|  12254943| 31|20.77|    1.86|29.14|2019-11-26|\n",
      "|  YR7220|       NewYork|       Furniture|  72619323| 15| 9.75|     1.5| 13.5|2019-11-26|\n",
      "|  YR7220|       NewYork|     Electronics|  34161682| 88|62.48|     4.4| 83.6|2019-11-26|\n",
      "|  YR7220|       NewYork|         Kitchen|  79411621| 91|58.24|    3.64|87.36|2019-11-26|\n",
      "|  YR7220|       NewYork|         Fashion|  39520263| 85| 51.0|    2.55|82.45|2019-11-26|\n",
      "|  YR7220|       NewYork|         Kitchen|  93809204| 37|24.05|    0.74|36.26|2019-11-26|\n",
      "|  YR7220|       NewYork|       Cosmetics|  86610412| 80| 48.8|     6.4| 73.6|2019-11-26|\n",
      "|  YR7220|       NewYork|         Kitchen|  52503356| 71| 42.6|    5.68|65.32|2019-11-26|\n",
      "|  YR7220|       NewYork|         Kitchen|  77516479| 92|56.12|    3.68|88.32|2019-11-26|\n",
      "|  YR7220|       NewYork|       Cosmetics|  47334289| 16|10.72|    0.96|15.04|2019-11-26|\n",
      "|  YR7220|       NewYork|       Cosmetics|  87566223| 38|23.18|    2.66|35.34|2019-11-26|\n",
      "|  YR7220|       NewYork|     Electronics|  54074401| 26|17.68|    0.52|25.48|2019-11-26|\n",
      "|  YR7220|       NewYork|         Fashion|  24246520| 45|30.15|    1.35|43.65|2019-11-26|\n",
      "|  YR7220|       NewYork|       Cosmetics|  61138610| 83|57.27|    1.66|81.34|2019-11-26|\n",
      "|  YR7220|       NewYork|         Kitchen|  69018554| 55| 37.4|    1.65|53.35|2019-11-26|\n",
      "|  YR7220|       NewYork|       Groceries|  11950073| 13| 7.93|    0.39|12.61|2019-11-26|\n",
      "|  YR7220|       NewYork|         Fashion|  86404418| 69| 48.3|    4.83|64.17|2019-11-26|\n",
      "|  YR7220|       NewYork|         Fashion|  91763000| 18| 11.7|    0.36|17.64|2019-11-26|\n",
      "|  YR7220|       NewYork|       Groceries|  53648681| 52|36.92|    1.04|50.96|2019-11-26|\n",
      "|  YR7220|       NewYork|       Groceries|  15652465| 29|18.85|    2.03|26.97|2019-11-26|\n",
      "+--------+--------------+----------------+----------+---+-----+--------+-----+----------+\n",
      "only showing top 20 rows\n",
      "\n"
     ]
    }
   ],
   "source": [
    "df_read.show()"
   ]
  },
  {
   "cell_type": "code",
   "execution_count": 64,
   "id": "c6332f24-25ff-49f8-9307-ba147216bb44",
   "metadata": {
    "tags": []
   },
   "outputs": [],
   "source": [
    "spark.stop()"
   ]
  },
  {
   "cell_type": "code",
   "execution_count": null,
   "id": "bdec3b31-5674-440f-b6c5-abfb0c19015d",
   "metadata": {},
   "outputs": [],
   "source": []
  }
 ],
 "metadata": {
  "kernelspec": {
   "display_name": "Python 3",
   "language": "python",
   "name": "python3"
  },
  "language_info": {
   "codemirror_mode": {
    "name": "ipython",
    "version": 3
   },
   "file_extension": ".py",
   "mimetype": "text/x-python",
   "name": "python",
   "nbconvert_exporter": "python",
   "pygments_lexer": "ipython3",
   "version": "3.7.8"
  },
  "vscode": {
   "interpreter": {
    "hash": "0a54084e6b208ee8d1ce3989ffc20924477a5f55f5a43e22e699a6741623861e"
   }
  }
 },
 "nbformat": 4,
 "nbformat_minor": 5
}
