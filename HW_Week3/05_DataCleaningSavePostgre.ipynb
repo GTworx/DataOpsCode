{
 "cells": [
  {
   "cell_type": "code",
   "execution_count": 2,
   "id": "9197d4c7-b066-4b9e-876f-6c6085a68bba",
   "metadata": {
    "tags": []
   },
   "outputs": [],
   "source": [
    "import findspark\n",
    "findspark.init(\"/opt/manual/spark/\")"
   ]
  },
  {
   "cell_type": "code",
   "execution_count": 3,
   "id": "9c7dd2a2-2231-4b2f-95d1-2aa8c1d6a4ab",
   "metadata": {},
   "outputs": [],
   "source": [
    "from pyspark.sql import SparkSession, functions as F\n",
    "from pyspark.sql.types import StructType, StructField, DoubleType, StringType, IntegerType, DateType, ArrayType, FloatType"
   ]
  },
  {
   "cell_type": "code",
   "execution_count": 4,
   "id": "1ae1beff-fec7-4493-8ed4-a8a00f014bed",
   "metadata": {},
   "outputs": [],
   "source": [
    "import configparser"
   ]
  },
  {
   "cell_type": "code",
   "execution_count": 5,
   "id": "9b6a50af-4586-4865-9068-2f2388e111b1",
   "metadata": {
    "tags": []
   },
   "outputs": [
    {
     "name": "stderr",
     "output_type": "stream",
     "text": [
      "WARNING: An illegal reflective access operation has occurred\n",
      "WARNING: Illegal reflective access by org.apache.spark.unsafe.Platform (file:/opt/manual/spark-3.1.1-bin-hadoop3.2/jars/spark-unsafe_2.12-3.1.1.jar) to constructor java.nio.DirectByteBuffer(long,int)\n",
      "WARNING: Please consider reporting this to the maintainers of org.apache.spark.unsafe.Platform\n",
      "WARNING: Use --illegal-access=warn to enable warnings of further illegal reflective access operations\n",
      "WARNING: All illegal access operations will be denied in a future release\n",
      "2023-02-22 16:12:53,102 WARN util.NativeCodeLoader: Unable to load native-hadoop library for your platform... using builtin-java classes where applicable\n",
      "Setting default log level to \"WARN\".\n",
      "To adjust logging level use sc.setLogLevel(newLevel). For SparkR, use setLogLevel(newLevel).\n"
     ]
    }
   ],
   "source": [
    "spark = SparkSession.builder \\\n",
    ".master(\"local[2]\") \\\n",
    ".appName(\"CleanDataSaveToPostGre\") \\\n",
    ".getOrCreate()"
   ]
  },
  {
   "cell_type": "code",
   "execution_count": 6,
   "id": "e9de39f1-0a3c-444b-ab98-36a2cfd6af69",
   "metadata": {
    "tags": []
   },
   "outputs": [],
   "source": [
    "config = configparser.RawConfigParser()\n",
    "\n",
    "config.read('/opt/db_conn')\n",
    "user_name = config.get('DB', 'user_name')\n",
    "password = config.get('DB', 'password')\n",
    "db_ip = config.get('DB', 'db_ip')"
   ]
  },
  {
   "cell_type": "markdown",
   "id": "4d0b3e4f-5db8-4d1f-9e92-346f33cb29d4",
   "metadata": {},
   "source": [
    "# Read Data"
   ]
  },
  {
   "cell_type": "code",
   "execution_count": null,
   "id": "85de4959-2a22-4b0d-a0e4-7d84a6755a4b",
   "metadata": {
    "tags": []
   },
   "outputs": [],
   "source": [
    "#! wget -P /home/train/datasets/ \\\n",
    "#https://github.com/erkansirin78/datasets/raw/master/dirty_store_transactions.csv"
   ]
  },
  {
   "cell_type": "code",
   "execution_count": 26,
   "id": "b17203da-879d-4aa3-a2d6-470bf4bb0e42",
   "metadata": {
    "tags": []
   },
   "outputs": [],
   "source": [
    "df = spark.read \\\n",
    ".format(\"csv\") \\\n",
    ".option(\"header\", True) \\\n",
    ".option(\"sep\", \",\") \\\n",
    ".option(\"inferSchema\", True) \\\n",
    ".load(\"file:///home/train/datasets/dirty_store_transactions.csv\")"
   ]
  },
  {
   "cell_type": "markdown",
   "id": "6281f676-ae01-4768-96a5-1d393e77102c",
   "metadata": {},
   "source": [
    "# Clean Data"
   ]
  },
  {
   "cell_type": "code",
   "execution_count": 8,
   "id": "bf12aa14-c0b8-4be8-b471-7b6af95d5d7c",
   "metadata": {},
   "outputs": [],
   "source": [
    "df1=df.withColumn(\"Date\", F.to_date(\"Date\", \"y-M-d\")) \\\n",
    ".withColumn(\"CP\", F.translate(\"CP\", \"$\", \"\").cast(DoubleType())) \\\n",
    ".withColumn(\"DISCOUNT\",  F.translate(\"DISCOUNT\", \"$\", \"\").cast(FloatType())) \\\n",
    ".withColumn(\"SP\",  F.translate(\"SP\", \"$\", \"\").cast(FloatType())) \\\n",
    ".withColumn(\"MRP\",  F.translate(\"MRP\", \"$\", \"\").cast(IntegerType())) \\\n",
    ".withColumn(\"STORE_LOCATION\", F.regexp_replace(F.col(\"STORE_LOCATION\"), \"[^a-zA-Z0-9]\", \"\")) \\\n",
    ".withColumn(\"PRODUCT_ID\", F.regexp_replace(F.col(\"PRODUCT_ID\"), \"[^0-9]\", \"\"))"
   ]
  },
  {
   "cell_type": "code",
   "execution_count": 11,
   "id": "a0200608-f43c-4aca-8c61-6796a7cb7ab7",
   "metadata": {
    "tags": []
   },
   "outputs": [
    {
     "name": "stdout",
     "output_type": "stream",
     "text": [
      "root\n",
      " |-- STORE_ID: string (nullable = true)\n",
      " |-- STORE_LOCATION: string (nullable = true)\n",
      " |-- PRODUCT_CATEGORY: string (nullable = true)\n",
      " |-- PRODUCT_ID: string (nullable = true)\n",
      " |-- MRP: integer (nullable = true)\n",
      " |-- CP: double (nullable = true)\n",
      " |-- DISCOUNT: float (nullable = true)\n",
      " |-- SP: float (nullable = true)\n",
      " |-- Date: date (nullable = true)\n",
      "\n"
     ]
    }
   ],
   "source": [
    "df1.printSchema()"
   ]
  },
  {
   "cell_type": "code",
   "execution_count": 12,
   "id": "56bf1de4-a026-48e5-b4ef-0e8477fa8ec8",
   "metadata": {
    "tags": []
   },
   "outputs": [
    {
     "name": "stdout",
     "output_type": "stream",
     "text": [
      "+--------+--------------+----------------+----------+---+-----+--------+-----+----------+\n",
      "|STORE_ID|STORE_LOCATION|PRODUCT_CATEGORY|PRODUCT_ID|MRP|   CP|DISCOUNT|   SP|      Date|\n",
      "+--------+--------------+----------------+----------+---+-----+--------+-----+----------+\n",
      "|  YR7220|       NewYork|     Electronics|  12254943| 31|20.77|    1.86|29.14|2019-11-26|\n",
      "|  YR7220|       NewYork|       Furniture|  72619323| 15| 9.75|     1.5| 13.5|2019-11-26|\n",
      "|  YR7220|       NewYork|     Electronics|  34161682| 88|62.48|     4.4| 83.6|2019-11-26|\n",
      "|  YR7220|       NewYork|         Kitchen|  79411621| 91|58.24|    3.64|87.36|2019-11-26|\n",
      "|  YR7220|       NewYork|         Fashion|  39520263| 85| 51.0|    2.55|82.45|2019-11-26|\n",
      "|  YR7220|       NewYork|         Kitchen|  93809204| 37|24.05|    0.74|36.26|2019-11-26|\n",
      "|  YR7220|       NewYork|       Cosmetics|  86610412| 80| 48.8|     6.4| 73.6|2019-11-26|\n",
      "|  YR7220|       NewYork|         Kitchen|  52503356| 71| 42.6|    5.68|65.32|2019-11-26|\n",
      "|  YR7220|       NewYork|         Kitchen|  77516479| 92|56.12|    3.68|88.32|2019-11-26|\n",
      "|  YR7220|       NewYork|       Cosmetics|  47334289| 16|10.72|    0.96|15.04|2019-11-26|\n",
      "|  YR7220|       NewYork|       Cosmetics|  87566223| 38|23.18|    2.66|35.34|2019-11-26|\n",
      "|  YR7220|       NewYork|     Electronics|  54074401| 26|17.68|    0.52|25.48|2019-11-26|\n",
      "|  YR7220|       NewYork|         Fashion|  24246520| 45|30.15|    1.35|43.65|2019-11-26|\n",
      "|  YR7220|       NewYork|       Cosmetics|  61138610| 83|57.27|    1.66|81.34|2019-11-26|\n",
      "|  YR7220|       NewYork|         Kitchen|  69018554| 55| 37.4|    1.65|53.35|2019-11-26|\n",
      "|  YR7220|       NewYork|       Groceries|  11950073| 13| 7.93|    0.39|12.61|2019-11-26|\n",
      "|  YR7220|       NewYork|         Fashion|  86404418| 69| 48.3|    4.83|64.17|2019-11-26|\n",
      "|  YR7220|       NewYork|         Fashion|  91763000| 18| 11.7|    0.36|17.64|2019-11-26|\n",
      "|  YR7220|       NewYork|       Groceries|  53648681| 52|36.92|    1.04|50.96|2019-11-26|\n",
      "|  YR7220|       NewYork|       Groceries|  15652465| 29|18.85|    2.03|26.97|2019-11-26|\n",
      "+--------+--------------+----------------+----------+---+-----+--------+-----+----------+\n",
      "only showing top 20 rows\n",
      "\n"
     ]
    }
   ],
   "source": [
    "df1.show()"
   ]
  },
  {
   "cell_type": "code",
   "execution_count": 16,
   "id": "688d9c07-db48-4f50-adb3-f12b53fbf7a1",
   "metadata": {
    "tags": []
   },
   "outputs": [],
   "source": [
    "df2=df1.select([F.col(x).alias(x.lower()) for x in df1.columns])"
   ]
  },
  {
   "cell_type": "code",
   "execution_count": 14,
   "id": "011cf15c-5bb1-43e8-a8e5-10884a3b46fb",
   "metadata": {
    "tags": []
   },
   "outputs": [
    {
     "name": "stdout",
     "output_type": "stream",
     "text": [
      "root\n",
      " |-- store_id: string (nullable = true)\n",
      " |-- store_location: string (nullable = true)\n",
      " |-- product_category: string (nullable = true)\n",
      " |-- product_id: string (nullable = true)\n",
      " |-- mrp: integer (nullable = true)\n",
      " |-- cp: double (nullable = true)\n",
      " |-- discount: float (nullable = true)\n",
      " |-- sp: float (nullable = true)\n",
      " |-- date: date (nullable = true)\n",
      "\n"
     ]
    }
   ],
   "source": [
    "df2.printSchema()"
   ]
  },
  {
   "cell_type": "markdown",
   "id": "f354adc1-35ec-4c03-9d90-272ac970f0bd",
   "metadata": {},
   "source": [
    "# Save Data to PostGre"
   ]
  },
  {
   "cell_type": "code",
   "execution_count": 20,
   "id": "47c21947-1140-4f1c-b5c3-8a02d6c95d28",
   "metadata": {},
   "outputs": [
    {
     "name": "stderr",
     "output_type": "stream",
     "text": [
      "                                                                                \r"
     ]
    }
   ],
   "source": [
    "(df2\n",
    ".write.format(\"jdbc\")\n",
    ".mode(\"overwrite\")\n",
    ".option(\"driver\", \"org.postgresql.Driver\")\n",
    ".option(\"url\", f\"jdbc:postgresql://{db_ip}:5432/traindb\")\n",
    ".option(\"dbtable\", \"clean_transactions\")\n",
    ".option(\"user\", user_name)\n",
    ".option(\"password\", password)\n",
    ".save())"
   ]
  },
  {
   "cell_type": "code",
   "execution_count": 11,
   "id": "06ee2b98-788c-435b-ace6-4dac22889d20",
   "metadata": {},
   "outputs": [
    {
     "name": "stderr",
     "output_type": "stream",
     "text": [
      "                                                                                \r"
     ]
    }
   ],
   "source": [
    "#(df1\n",
    "#.write.format(\"jdbc\")\n",
    "#.mode(\"overwrite\")\n",
    "#.option(\"driver\", \"org.postgresql.Driver\")\n",
    "#.option(\"url\", \"jdbc:postgresql://127.0.0.1:5432/traindb\")\n",
    "#.option(\"dbtable\", \"clean_transactions\")\n",
    "#.option(\"user\", \"train\")\n",
    "#.option(\"password\", \"Ankara06\")\n",
    "#.save())"
   ]
  },
  {
   "cell_type": "markdown",
   "id": "62a26d0d-95f1-496e-9efb-c090acf04443",
   "metadata": {},
   "source": [
    "# Read Data from PostGre "
   ]
  },
  {
   "cell_type": "code",
   "execution_count": 24,
   "id": "8a9018bf-a06a-4944-be13-875a38cf23cb",
   "metadata": {
    "tags": []
   },
   "outputs": [],
   "source": [
    "df_analysis_query = (spark.read.format(\"jdbc\")\n",
    ".option(\"driver\", \"org.postgresql.Driver\")\n",
    ".option(\"url\", f\"jdbc:postgresql://{db_ip}:5432/traindb\")\n",
    ".option(\"query\", \"select store_location, avg(cp) as avg_cp, avg(discount) AS avg_discount from clean_transactions group by store_location\")\n",
    ".option(\"user\", user_name)\n",
    ".option(\"password\", password)\n",
    ".load())"
   ]
  },
  {
   "cell_type": "code",
   "execution_count": 25,
   "id": "fe4efbec-1555-4c43-847c-21860cdfb1d2",
   "metadata": {
    "tags": []
   },
   "outputs": [
    {
     "name": "stdout",
     "output_type": "stream",
     "text": [
      "+--------------+------------------+------------------+\n",
      "|store_location|            avg_cp|      avg_discount|\n",
      "+--------------+------------------+------------------+\n",
      "|    Washington|37.717426778242505| 3.414211990766362|\n",
      "|       Houston|37.754843601895644| 3.377819901337556|\n",
      "|        Denver|37.361677360219716|3.2846746087675243|\n",
      "|         Miami|  36.9078081058724| 3.349412734617962|\n",
      "|       NewYork| 37.01221354166632|3.2593142362182133|\n",
      "+--------------+------------------+------------------+\n",
      "\n"
     ]
    }
   ],
   "source": [
    "df_analysis_query.show()"
   ]
  },
  {
   "cell_type": "code",
   "execution_count": null,
   "id": "c0b87922-70d0-4c04-aca8-0bfe1ad23cc1",
   "metadata": {},
   "outputs": [],
   "source": [
    "#spark.stop()"
   ]
  },
  {
   "cell_type": "code",
   "execution_count": null,
   "id": "787cc3e3-9221-4654-a90c-da35d724f02f",
   "metadata": {},
   "outputs": [],
   "source": []
  },
  {
   "cell_type": "code",
   "execution_count": null,
   "id": "dc94f059-2dbf-4cc8-b183-216dc741fbc3",
   "metadata": {},
   "outputs": [],
   "source": []
  }
 ],
 "metadata": {
  "kernelspec": {
   "display_name": "Python 3",
   "language": "python",
   "name": "python3"
  },
  "language_info": {
   "codemirror_mode": {
    "name": "ipython",
    "version": 3
   },
   "file_extension": ".py",
   "mimetype": "text/x-python",
   "name": "python",
   "nbconvert_exporter": "python",
   "pygments_lexer": "ipython3",
   "version": "3.7.8"
  },
  "toc-autonumbering": true,
  "vscode": {
   "interpreter": {
    "hash": "0a54084e6b208ee8d1ce3989ffc20924477a5f55f5a43e22e699a6741623861e"
   }
  }
 },
 "nbformat": 4,
 "nbformat_minor": 5
}
